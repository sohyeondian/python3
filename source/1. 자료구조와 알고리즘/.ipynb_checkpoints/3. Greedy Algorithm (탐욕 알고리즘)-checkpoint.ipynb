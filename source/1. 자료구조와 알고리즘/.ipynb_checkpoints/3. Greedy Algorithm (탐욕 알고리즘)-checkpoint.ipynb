{
 "cells": [
  {
   "cell_type": "markdown",
   "metadata": {},
   "source": [
    "### 0. 탐욕 알고리즘\n",
    "- Greedy Algorithm 이라고 부름\n",
    "- 최적의 해에 가까운 값을 구하기 위해 사용되는 알고리즘\n",
    "- 여러 경우의 선택 중에서 하나를 선택해야 하는 순간마다 최적이라고 생각되는 경우를 선택하는 방식"
   ]
  },
  {
   "cell_type": "markdown",
   "metadata": {},
   "source": [
    "동전문제\n",
    "\n",
    "지불금액 - 4720원\n",
    "\n",
    "동전 : 1원, 50원, 100원, 500원\n",
    "\n",
    "동전의 수가 가장 적게 지불되는 방식\n",
    "\n",
    "동전 중 가장 큰 동전부터 최대로 지불해야하는 방식"
   ]
  },
  {
   "cell_type": "code",
   "execution_count": 9,
   "metadata": {},
   "outputs": [
    {
     "name": "stdout",
     "output_type": "stream",
     "text": [
      "[10, 100, 50, 500]\n",
      "[500, 100, 50, 10]\n"
     ]
    }
   ],
   "source": [
    "coin_list = [10, 100, 50, 500]\n",
    "print(coin_list)\n",
    "\n",
    "coin_list.sort(reverse = True)\n",
    "print(coin_list)"
   ]
  },
  {
   "cell_type": "code",
   "execution_count": 24,
   "metadata": {},
   "outputs": [],
   "source": [
    "def min_coin_count(value, coin_list):\n",
    "    # 총 동전의 수를 카운팅 하는 변수\n",
    "    total_coin_count = 0\n",
    "    details = list()\n",
    "    \n",
    "    coin_list.sort(reverse = True)\n",
    "    \n",
    "    for coin in coin_list:\n",
    "        coin_num = value // coin\n",
    "        total_coin_count += coin_num\n",
    "        value -= coin_num * coin\n",
    "        details.append([coin, coin_num])\n",
    "            \n",
    "    return total_coin_count, details"
   ]
  },
  {
   "cell_type": "code",
   "execution_count": 25,
   "metadata": {},
   "outputs": [
    {
     "name": "stdout",
     "output_type": "stream",
     "text": [
      "13 [[500, 9], [100, 2], [50, 0], [10, 2]]\n"
     ]
    }
   ],
   "source": [
    "total, details = min_coin_count(4720, coin_list)\n",
    "print(total, details)"
   ]
  },
  {
   "cell_type": "markdown",
   "metadata": {},
   "source": [
    "### 1. 부분 배낭 문제(Fractional Knapsack Problem)\n",
    "- 무게 제한이 k인 배낭에 최대 가치를 가지도록 물건을 넣는 문제\n",
    "- 각 물건은 무게(w)와 가치(v)로 표현\n",
    "- 물건은 쪼갤 수 있으므로 물건의 일부분이 배낭에 넣어질 수 있다.\n",
    "- 반대 : 0/1 Knapsack Problem"
   ]
  },
  {
   "cell_type": "code",
   "execution_count": 33,
   "metadata": {},
   "outputs": [],
   "source": [
    "# 데이터 : 물건 5개, 무게와 가치\n",
    "data_list = [(10, 10), (15, 12), (20, 10), (25, 8), (30, 5)]\n",
    "\n",
    "# 무게 30KG, 가장 가치가 높은 물건을 담아서 처리하도록 구현\n",
    "# 출력 : 물건 전체의 무게, 각 물건이 배낭에 담겨진 개수\n",
    "\n",
    "def get_max_value(data_list, capacity):\n",
    "    # 가치에 따른 정렬을 수행\n",
    "    data_list = sorted(data_list, key = lambda x:x[1]/x[0], reverse = True)\n",
    "    #print(data_list)\n",
    "    \n",
    "    # 최대 가치를 담기 위한 변수\n",
    "    total_value = 0\n",
    "    details = list()\n",
    "    \n",
    "    # 최대수용할 수 있는 무게를 기준으로 정렬된 물건들을 채우는 작업을 반복\n",
    "    for weight, value in data_list:\n",
    "        if capacity - weight >= 0:\n",
    "            capacity -= weight\n",
    "            total_value += value\n",
    "            details.append([weight, value, 1])\n",
    "        else:\n",
    "            # 나눠서 담나내는 작업\n",
    "            fraction = capacity / weight\n",
    "            total_value += value * fraction\n",
    "            details.append([weight, value, fraction])\n",
    "            break\n",
    "            \n",
    "    return total_value, details"
   ]
  },
  {
   "cell_type": "code",
   "execution_count": 34,
   "metadata": {},
   "outputs": [
    {
     "name": "stdout",
     "output_type": "stream",
     "text": [
      "(24.5, [[10, 10, 1], [15, 12, 1], [20, 10, 0.25]])\n"
     ]
    }
   ],
   "source": [
    "print(get_max_value(data_list, 30))"
   ]
  },
  {
   "cell_type": "code",
   "execution_count": 37,
   "metadata": {},
   "outputs": [
    {
     "name": "stdout",
     "output_type": "stream",
     "text": [
      "출장비 : 1937420\n",
      "{50000: 38, 10000: 3, 5000: 1, 1000: 2, 500: 0, 100: 4, 50: 0, 10: 2}\n"
     ]
    }
   ],
   "source": [
    "# 화폐매수구하기\n",
    "# 출장비를 입력받아 화폐매수를 구하는 프로그램을 기술하시오.\n",
    "# 단, 화폐는 50000, 10000, 5000, 1000, 500, 100, 50, 10 / 최소 매수\n",
    "\n",
    "money_list = [50000, 10000, 5000, 1000, 500, 100, 50, 10]\n",
    "\n",
    "business = input(\"출장비 : \")\n",
    "if business.isdecimal():\n",
    "    business = int(business)\n",
    "    \n",
    "    detail = {}\n",
    "    for money in money_list:\n",
    "        detail[money] = business // money\n",
    "        business -= money * detail[money]\n",
    "    \n",
    "    print(detail)\n",
    "else:\n",
    "    print('출장비를 잘못입력하셨습니다.')\n",
    "\n"
   ]
  },
  {
   "cell_type": "code",
   "execution_count": null,
   "metadata": {},
   "outputs": [],
   "source": []
  }
 ],
 "metadata": {
  "kernelspec": {
   "display_name": "Python 3",
   "language": "python",
   "name": "python3"
  },
  "language_info": {
   "codemirror_mode": {
    "name": "ipython",
    "version": 3
   },
   "file_extension": ".py",
   "mimetype": "text/x-python",
   "name": "python",
   "nbconvert_exporter": "python",
   "pygments_lexer": "ipython3",
   "version": "3.7.3"
  }
 },
 "nbformat": 4,
 "nbformat_minor": 2
}
