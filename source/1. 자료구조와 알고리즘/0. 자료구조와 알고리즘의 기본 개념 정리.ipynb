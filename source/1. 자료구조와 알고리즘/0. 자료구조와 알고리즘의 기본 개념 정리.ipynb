{
 "cells": [
  {
   "cell_type": "markdown",
   "metadata": {},
   "source": [
    "## 0. 데이터구조 (Data Structure)와 알고리즘(Algorithm)\n",
    "#### Data Structure\n",
    "- 대량의 데이터를 효율적으로 관리할 수 있는 데이터 구조 즉, 자료구조\n",
    "- 효율적인 데이터 처리를 위해, 데이터의 특성에 따라 체계적으로 데이터를 구조화 하는 것을 말한다.\n",
    "\n",
    "#### Algorithm\n",
    "- 어떤 문제를 풀기위한 절차나 방법\n",
    "- 어떤 문제에 대해 특정한 '입력'이 들어오면, 원하는 결과를 '출력'할 수 있도록 만드는 프로그래밍"
   ]
  },
  {
   "cell_type": "code",
   "execution_count": null,
   "metadata": {},
   "outputs": [],
   "source": [
    "# 알고리즘 예제 : 김치찌개 만들기\n",
    "def create_food(kimchi):\n",
    "    clean_pot()            # 1. 재료준비과정\n",
    "    prepare_pot(kimchi)    # 2. 냄비에 재료를 넣는 과정\n",
    "    heat_pot()             # 3. 끓이기\n",
    "    add_others(seasoning)  # 4. 각종양념넣기\n",
    "\n",
    "kimchi_stew = create_food(kimchi)\n",
    "eat(kimchi_stew)"
   ]
  },
  {
   "cell_type": "markdown",
   "metadata": {},
   "source": [
    "### 1. 알고리즘 성능 표기법\n",
    "#### 1. Big O(빅오) 표기법 : O(n) - 알고리즘 최악의 실행시간 표기\n",
    "- O(입력) : O(1), O(logn), O(n), O(nlogn), O(n^2), O(2^n), O(n!) 등\n",
    "\n",
    "#### 2. Ω(오메가) 표기법 : Ω(n) - 알고리즘의 최상의 실행시간 표기\n",
    "#### 3. Θ(세타) 표기법 : 알고리즘 평균 실행시간 표기"
   ]
  },
  {
   "cell_type": "code",
   "execution_count": null,
   "metadata": {},
   "outputs": [],
   "source": [
    "# 1부터 N까지의 합을 계산하는 알고리즘\n",
    "def sum_all(n):\n",
    "    total = 0\n",
    "    for num in range(1, n + 1):\n",
    "        total += num\n",
    "        \n",
    "    return total"
   ]
  },
  {
   "cell_type": "code",
   "execution_count": null,
   "metadata": {},
   "outputs": [],
   "source": [
    "sum_all(100)"
   ]
  },
  {
   "cell_type": "code",
   "execution_count": null,
   "metadata": {},
   "outputs": [],
   "source": [
    "def sum_all(n):\n",
    "    return int(n * (n + 1)/2)"
   ]
  },
  {
   "cell_type": "code",
   "execution_count": null,
   "metadata": {},
   "outputs": [],
   "source": [
    "sum_all(100)"
   ]
  },
  {
   "cell_type": "markdown",
   "metadata": {},
   "source": [
    "### 2. 대표적인 자료구조 : 배열(Array)\n",
    "- 동질의 데이터를 하나의 이름으로 묶어서 관리하는 자료구조\n",
    "- 기억장소의 낭비를 줄이고 연속된 공간에 데이터가 담기기 때문에 처리속도가 빠르다는 장점을 가지고 있다.\n",
    "- 파이썬에서 리스트 타입이 배열 기능을 제공한다."
   ]
  },
  {
   "cell_type": "code",
   "execution_count": null,
   "metadata": {},
   "outputs": [],
   "source": [
    "# 1차원 배열 : 리스트로 배열을 표현한다.\n",
    "data = [1, 2, 3, 4, 5]\n",
    "print(data)"
   ]
  },
  {
   "cell_type": "code",
   "execution_count": null,
   "metadata": {},
   "outputs": [],
   "source": [
    "# 2차원 배열\n",
    "data = [[1, 2, 3], [4, 5, 6], [7, 8, 9]]\n",
    "print(data)"
   ]
  },
  {
   "cell_type": "markdown",
   "metadata": {},
   "source": [
    "### 3. 스택(Stack)\n",
    "- 한쪽으로만 자료의 삽입과 삭제가 이루어지는 자료구조\n",
    "- LIFO(Last In First Out), 후입선출기법\n",
    "- 주요기능 : push(), pop()\n",
    "- 주요용어 : Top = Stack Point, Bottom"
   ]
  },
  {
   "cell_type": "code",
   "execution_count": null,
   "metadata": {},
   "outputs": [],
   "source": [
    "stack_memory = list()\n",
    "\n",
    "stack_memory.append('A')\n",
    "stack_memory.append('B')\n",
    "stack_memory.append('C')\n",
    "\n",
    "print(stack_memory)"
   ]
  },
  {
   "cell_type": "code",
   "execution_count": null,
   "metadata": {},
   "outputs": [],
   "source": [
    "print(stack_memory.pop())\n",
    "print(stack_memory.pop())\n",
    "print(stack_memory.pop())"
   ]
  },
  {
   "cell_type": "code",
   "execution_count": null,
   "metadata": {},
   "outputs": [],
   "source": [
    "stack_list = list()\n",
    "\n",
    "def push(data):\n",
    "    stack_list.append(data)\n",
    "\n",
    "def pop():\n",
    "    # 스택메모리에 마지막위치의 값을 찾는다.\n",
    "    data = stack_list[-1]\n",
    "    # 마지막 위치의 저장된 값을 제거하는 작업\n",
    "    del stack_list[-1]\n",
    "    return data\n",
    "\n",
    "for index in range(10):\n",
    "    push(index)"
   ]
  },
  {
   "cell_type": "markdown",
   "metadata": {},
   "source": [
    "### 4. 큐(Queue)\n",
    "- 한쪽에서 입력이 반대쪽에서 출력이 이루어지는 자료구조\n",
    "- 가장 먼저 넣은 데이터를 가장 먼저 꺼낼 수 있는 구조\n",
    "- 섭입선출(FIFO, First In First Out)\n",
    "- OS(운영체제)가 작업을 수행하는 대표적인 방법\n",
    "- 파이썬에서 queue 라이브러리를 활용하여 큐 자료구조를 운영한다."
   ]
  },
  {
   "cell_type": "code",
   "execution_count": null,
   "metadata": {},
   "outputs": [],
   "source": [
    "# 모듈 로딩\n",
    "import queue\n",
    "\n",
    "data_queue = queue.Queue()\n",
    "# put():삽입, get():삭제, qsize()\n",
    "data_queue.put('fun')\n",
    "data_queue.put(1)\n",
    "\n",
    "print(data_queue.qsize())"
   ]
  },
  {
   "cell_type": "code",
   "execution_count": null,
   "metadata": {},
   "outputs": [],
   "source": [
    "data_queue.get()"
   ]
  },
  {
   "cell_type": "code",
   "execution_count": null,
   "metadata": {},
   "outputs": [],
   "source": [
    "data_queue.get()"
   ]
  },
  {
   "cell_type": "code",
   "execution_count": null,
   "metadata": {},
   "outputs": [],
   "source": [
    "print(data_queue.qsize())"
   ]
  },
  {
   "cell_type": "code",
   "execution_count": null,
   "metadata": {},
   "outputs": [],
   "source": [
    "# 리스트를 이용해서 Queue를 구현하는 프로그래밍을 작성하시오.\n",
    "queue_list = list()\n",
    "\n",
    "def put(data):\n",
    "    queue_list.append()\n",
    "\n",
    "def get():\n",
    "    data = stack_list[0]\n",
    "    del stack_list[0]\n",
    "    return data"
   ]
  },
  {
   "cell_type": "markdown",
   "metadata": {},
   "source": [
    "### 5. 링크드리스트(LinkedList)\n",
    "- 연결 리스트라고 표현함\n",
    "- 배열은 순차적으로 연결된 공간에 데이터를 담는 구조인 것과 달리 링크드 리스트는 떨어진 곳에 존재하는 데이터를 연결해서 관리하는 구조\n",
    "- 기본 용어와 구조\n",
    "    * 노드(Node) - 데이터와 다음에 연결된 주소\n",
    "    * 포인터(Pointer) - 다음이나 이전에 연결할 주소"
   ]
  },
  {
   "cell_type": "code",
   "execution_count": null,
   "metadata": {},
   "outputs": [],
   "source": [
    "class Node:\n",
    "    def __init__(self,data,link = None):\n",
    "        self.data = data\n",
    "        self.link = link"
   ]
  },
  {
   "cell_type": "code",
   "execution_count": null,
   "metadata": {},
   "outputs": [],
   "source": [
    "node1 = Node('A')\n",
    "node2 = Node('B')\n",
    "node1.next = node2\n",
    "# head : 링크드리스트의 시작위치값을 가지고 있는 포인터\n",
    "head = node1"
   ]
  },
  {
   "cell_type": "code",
   "execution_count": null,
   "metadata": {},
   "outputs": [],
   "source": [
    "class Node:\n",
    "    def __init__(self, data, link = None):\n",
    "        self.data = data\n",
    "        self.next = link\n",
    "    \n",
    "    def add(self, data):\n",
    "        node = head\n",
    "        while node.next:\n",
    "            node = node.next\n",
    "        node.next = Node(data)"
   ]
  },
  {
   "cell_type": "code",
   "execution_count": null,
   "metadata": {},
   "outputs": [],
   "source": [
    "node1 = Node(1)\n",
    "head = node1\n",
    "\n",
    "for index in range(2, 10):\n",
    "    head.add(index)\n",
    "\n",
    "node = head\n",
    "while node.next:\n",
    "    print(node.data, end = \" \")\n",
    "    node = node.next\n",
    "print(node.data)"
   ]
  },
  {
   "cell_type": "code",
   "execution_count": null,
   "metadata": {},
   "outputs": [],
   "source": [
    "# 링크드리스트 사이에 데이터를 추가하는 작업\n",
    "new_data = Node(1.5)"
   ]
  },
  {
   "cell_type": "code",
   "execution_count": null,
   "metadata": {},
   "outputs": [],
   "source": [
    "node = head\n",
    "\n",
    "# 반복을 제어할 변수\n",
    "search = True\n",
    "\n",
    "while search:\n",
    "    if node.data == 1:\n",
    "        search = False\n",
    "    else:\n",
    "        node = node.next\n",
    "\n",
    "# node의 링크에 새롭게 추가한 노드의 주소를 담는다.\n",
    "# 새롭게 추가된 노드의 주소에 node.next 주소를 담는다.\n",
    "new_data.next = node.next\n",
    "node.next = new_data\n",
    "\n",
    "node = head\n",
    "while node.next:\n",
    "    print(node.data, end = \" \")\n",
    "    node = node.next\n",
    "print(node.data)"
   ]
  },
  {
   "cell_type": "code",
   "execution_count": null,
   "metadata": {},
   "outputs": [],
   "source": [
    "# 데이터 클래스 : 단순히 데이터를 담아서 관리할 목적의 클래스"
   ]
  },
  {
   "cell_type": "code",
   "execution_count": 3,
   "metadata": {},
   "outputs": [],
   "source": [
    "class Node:\n",
    "    def __init__(self, data, link = None):\n",
    "        self.data = data\n",
    "        self.link = link"
   ]
  },
  {
   "cell_type": "code",
   "execution_count": null,
   "metadata": {},
   "outputs": [],
   "source": [
    "# 제어클래스 or 핸들러 클래스"
   ]
  },
  {
   "cell_type": "code",
   "execution_count": 22,
   "metadata": {},
   "outputs": [],
   "source": [
    "class Handle:\n",
    "    # 생성자 메서드 : 노드를 생성하는 작업\n",
    "    def __init__(self, data):\n",
    "        self.head = Node(data)\n",
    "    \n",
    "    # 새로운 노드를 추가하는 작업\n",
    "    def add(self, data):\n",
    "        if self.head == None:\n",
    "            self.head = Node(data)\n",
    "        else:\n",
    "            node = self.head\n",
    "            while node.link:\n",
    "                node = node.link\n",
    "            node.link = Node(data)\n",
    "            \n",
    "    def delete(self, data):\n",
    "        if self.head == None:\n",
    "            print('노드가 존재하지 않습니다.')\n",
    "            return\n",
    "        if self.head.data == data:\n",
    "            tmp = self.head\n",
    "            self.head = self.head.link\n",
    "            del tmp\n",
    "        else:\n",
    "            node = self.head\n",
    "            while node.link: # 마지막노드까지 반복처리\n",
    "                # 마지막 노드는 link가 비어있음(None)\n",
    "                if node.link.data == data:\n",
    "                    tmp = node.link\n",
    "                    node.link = node.link.link\n",
    "                    del tmp\n",
    "                    return\n",
    "                else:\n",
    "                    node = node.link\n",
    "    def search(self, data):\n",
    "        if self.head == None:\n",
    "            print('노드가 존재하지 않습니다.')\n",
    "            return None\n",
    "        node = self.head\n",
    "        while node:\n",
    "            if node.data == data:\n",
    "                return node\n",
    "            node = node.link\n",
    "        print('노드가 존재하지 않습니다.')\n",
    "        return None\n",
    "        \n",
    "            \n",
    "    def disp(self):\n",
    "        if self.head == None:\n",
    "            print('노드가 존재하지 않습니다.')\n",
    "        else:\n",
    "            node = self.head\n",
    "            while node:\n",
    "                print(node.data, end = \" \")\n",
    "                node = node.link\n",
    "            print()"
   ]
  },
  {
   "cell_type": "code",
   "execution_count": 12,
   "metadata": {},
   "outputs": [
    {
     "name": "stdout",
     "output_type": "stream",
     "text": [
      "0 \n"
     ]
    }
   ],
   "source": [
    "linkedlist = Handle(0)\n",
    "linkedlist.disp()"
   ]
  },
  {
   "cell_type": "code",
   "execution_count": 7,
   "metadata": {},
   "outputs": [
    {
     "name": "stdout",
     "output_type": "stream",
     "text": [
      "0 1 2 3 4 5 6 7 8 9 \n"
     ]
    }
   ],
   "source": [
    "for data in range(1, 10):\n",
    "    linkedlist.add(data)\n",
    "\n",
    "linkedlist.disp()"
   ]
  },
  {
   "cell_type": "code",
   "execution_count": 17,
   "metadata": {},
   "outputs": [
    {
     "name": "stdout",
     "output_type": "stream",
     "text": [
      "0 \n"
     ]
    }
   ],
   "source": [
    "linkedlist1 = Handle(0)\n",
    "linkedlist1.disp()"
   ]
  },
  {
   "cell_type": "code",
   "execution_count": 18,
   "metadata": {},
   "outputs": [
    {
     "name": "stdout",
     "output_type": "stream",
     "text": [
      "노드가 존재하지 않습니다.\n"
     ]
    }
   ],
   "source": [
    "linkedlist1.delete(0)\n",
    "linkedlist1.disp()"
   ]
  },
  {
   "cell_type": "code",
   "execution_count": null,
   "metadata": {},
   "outputs": [],
   "source": [
    "for data in range(1, 10):\n",
    "    linkedlist1.add(data)\n",
    "\n",
    "linkedlist1.disp()"
   ]
  },
  {
   "cell_type": "code",
   "execution_count": null,
   "metadata": {},
   "outputs": [],
   "source": [
    "linkedlist1.delete(9)\n",
    "linkedlist1.disp()"
   ]
  },
  {
   "cell_type": "code",
   "execution_count": 19,
   "metadata": {},
   "outputs": [
    {
     "name": "stdout",
     "output_type": "stream",
     "text": [
      "10 \n"
     ]
    }
   ],
   "source": [
    "linkedlist1.add(10)\n",
    "linkedlist1.disp()"
   ]
  },
  {
   "cell_type": "code",
   "execution_count": 25,
   "metadata": {},
   "outputs": [
    {
     "name": "stdout",
     "output_type": "stream",
     "text": [
      "0 1 2 3 4 5 6 7 8 9 \n",
      "4\n"
     ]
    }
   ],
   "source": [
    "# 특정 데이터가 저장된 노드를 찾아 출력하는 작업을 수행\n",
    "\n",
    "find_node = Handle(0)\n",
    "for data in range(1, 10):\n",
    "    find_node.add(data)\n",
    "\n",
    "find_node.disp()\n",
    "node = find_node.search(4)\n",
    "print(node.data)"
   ]
  },
  {
   "cell_type": "markdown",
   "metadata": {},
   "source": [
    "### 6. 이중 연결 리스트 (Double Linked List)\n",
    "- 하나의 노드에 두 개의 연결점을 가지고 있는 연결리스트\n",
    "- 양방향으로 탐색이 가능하다.\n"
   ]
  },
  {
   "cell_type": "code",
   "execution_count": 26,
   "metadata": {},
   "outputs": [],
   "source": [
    "class Node:\n",
    "    def __init__(self, data, prev = None, link = None):\n",
    "        self.prev = prev\n",
    "        self.data = data\n",
    "        self.link = link"
   ]
  },
  {
   "cell_type": "code",
   "execution_count": 71,
   "metadata": {},
   "outputs": [],
   "source": [
    "class NodeMgmt:\n",
    "    def __init__(self, data):\n",
    "        self.head = Node(data)\n",
    "        # head, tail\n",
    "        self.tail = self.head\n",
    "    \n",
    "    def insert(self, data):\n",
    "        if self.head == None:\n",
    "            self.head = Node(data)\n",
    "            self.tail = self.head\n",
    "        else:\n",
    "            node = self.tail\n",
    "            \n",
    "#             # 마지막 노드의 위치를 찾아가는 작업\n",
    "#             node = self.head\n",
    "#             while node.link:\n",
    "#                 node = node.link\n",
    "            \n",
    "            new = Node(data)\n",
    "            node.link = new\n",
    "            new.prev = node\n",
    "            self.tail = new\n",
    "    \n",
    "    def disp(self):\n",
    "        if self.head == None:\n",
    "            print('노드가 존재하지 않습니다.')\n",
    "            return\n",
    "        node = self.head\n",
    "        while node:\n",
    "            print(node.data, end = \" \")\n",
    "            node = node.link\n",
    "        print()\n",
    "    \n",
    "    # head 이용해서 특정 data 찾는 작업\n",
    "    def fromhead(self, data):\n",
    "        if self.head == None:\n",
    "            print('노드가 없습니다.')\n",
    "            return False\n",
    "        \n",
    "        node = self.head\n",
    "        while node:\n",
    "            if node.data == data:\n",
    "                return node\n",
    "            node = node.link\n",
    "        # 탐색하려는 데이터가 없는 경우\n",
    "        print('해당 데이터는 존재하지 않습니다.')\n",
    "        return False\n",
    "    \n",
    "    # tail 이용해서 특정 data 찾는 작업\n",
    "    def fromtail(self, data):\n",
    "        if self.head == None:\n",
    "            print('노드가 없습니다.')\n",
    "            return False\n",
    "        \n",
    "        node = self.tail\n",
    "        while node:\n",
    "            if node.data == data:\n",
    "                return node\n",
    "            node = node.prev\n",
    "        # 탐색하려는 데이터가 없는 경우\n",
    "        print('해당 데이터는 존재하지 않습니다.')\n",
    "        return False\n",
    "    \n",
    "    def insert_after(self, data, after_data):\n",
    "        if self.head == None:\n",
    "            self.head = Node(data)\n",
    "            self.tail = self.head\n",
    "            return False\n",
    "        node = self.fromhead(after_data)\n",
    "        if node:\n",
    "            new = Node(data)\n",
    "            new.link = node.link\n",
    "            node.link = new\n",
    "            new.prev = node\n",
    "            node.link.prev = new\n",
    "            return new\n",
    "        return False\n",
    "    \n",
    "    # 특정 data를 찾아 그 앞에 node 삽입\n",
    "    def insert_before(self, data, before_data): # 1.5, 1\n",
    "        if self.head == None:\n",
    "            self.head = Node(data)\n",
    "            self.tail = self.head\n",
    "            return False\n",
    "        node = self.fromtail(before_data)\n",
    "        if node:\n",
    "            new = Node(data)\n",
    "            node.prev.link = new\n",
    "            new.prev = node.prev\n",
    "            node.prev = new\n",
    "            new.link = node\n",
    "            return new\n",
    "        return False"
   ]
  },
  {
   "cell_type": "code",
   "execution_count": 76,
   "metadata": {},
   "outputs": [
    {
     "name": "stdout",
     "output_type": "stream",
     "text": [
      "0 \n"
     ]
    }
   ],
   "source": [
    "double_linkedlist = NodeMgmt(0)\n",
    "double_linkedlist.disp()"
   ]
  },
  {
   "cell_type": "code",
   "execution_count": 77,
   "metadata": {},
   "outputs": [
    {
     "name": "stdout",
     "output_type": "stream",
     "text": [
      "0 1 2 3 4 5 6 7 8 9 \n"
     ]
    }
   ],
   "source": [
    "for data in range(1, 10):\n",
    "    double_linkedlist.insert(data)\n",
    "    \n",
    "double_linkedlist.disp()"
   ]
  },
  {
   "cell_type": "code",
   "execution_count": 78,
   "metadata": {},
   "outputs": [
    {
     "name": "stdout",
     "output_type": "stream",
     "text": [
      "1.5\n",
      "2.5\n"
     ]
    }
   ],
   "source": [
    "# 특정 데이터를 가지고 있는 노드 앞에 데이터를 추가하는 작업\n",
    "# 데이터값이 2인 노드 앞에  1.5라는 데이터를 갖는 노드 추가\n",
    "# 더블 링크드리스트의 tail\n",
    "print(double_linkedlist.insert_before(1.5, 2).data)\n",
    "print(double_linkedlist.insert_after(2.5, 2).data)"
   ]
  },
  {
   "cell_type": "code",
   "execution_count": 79,
   "metadata": {},
   "outputs": [
    {
     "name": "stdout",
     "output_type": "stream",
     "text": [
      "0 1 1.5 2 2.5 3 4 5 6 7 8 9 \n"
     ]
    }
   ],
   "source": [
    "double_linkedlist.disp()"
   ]
  },
  {
   "cell_type": "code",
   "execution_count": null,
   "metadata": {},
   "outputs": [],
   "source": []
  }
 ],
 "metadata": {
  "kernelspec": {
   "display_name": "Python 3",
   "language": "python",
   "name": "python3"
  },
  "language_info": {
   "codemirror_mode": {
    "name": "ipython",
    "version": 3
   },
   "file_extension": ".py",
   "mimetype": "text/x-python",
   "name": "python",
   "nbconvert_exporter": "python",
   "pygments_lexer": "ipython3",
   "version": "3.7.3"
  }
 },
 "nbformat": 4,
 "nbformat_minor": 2
}
