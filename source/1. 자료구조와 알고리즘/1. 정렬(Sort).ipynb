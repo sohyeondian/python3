{
 "cells": [
  {
   "cell_type": "markdown",
   "metadata": {},
   "source": [
    "### 0. 정렬(Sorting)\n",
    "- 어떤 데이터가 주어졌을 때 이름 순서대로 나열하는 것\n",
    "- 정렬은 프로그램 작성 시 빈번하게 사용됨\n",
    "- 다양한 알고리즘이 고안되어있으며, 알고리즘 학습에 필수"
   ]
  },
  {
   "cell_type": "markdown",
   "metadata": {},
   "source": [
    "### 1. 선택정렬(Selection Sort)\n",
    "- 하나의 키 값을 선택한 후 나머지 값들과 순차적으로 비교하는 정렬"
   ]
  },
  {
   "cell_type": "code",
   "execution_count": 9,
   "metadata": {},
   "outputs": [],
   "source": [
    "def selection_sort(data):\n",
    "    for index in range(len(data)-1):\n",
    "        lower = index\n",
    "        for index2 in range(index, len(data)):\n",
    "            if data[lower] > data[index2]:\n",
    "                lower = index2\n",
    "        data[index], data[lower] = data[lower], data[index]\n",
    "    return data"
   ]
  },
  {
   "cell_type": "code",
   "execution_count": 18,
   "metadata": {},
   "outputs": [
    {
     "name": "stdout",
     "output_type": "stream",
     "text": [
      "[68, 71, 77, 40, 86, 65, 84, 66, 89, 38]\n"
     ]
    }
   ],
   "source": [
    "import random\n",
    "\n",
    "data_list = random.sample(range(100), 10)\n",
    "print(data_list)"
   ]
  },
  {
   "cell_type": "code",
   "execution_count": 11,
   "metadata": {},
   "outputs": [
    {
     "name": "stdout",
     "output_type": "stream",
     "text": [
      "[4, 5, 9, 11, 15, 30, 57, 79, 85, 98]\n"
     ]
    }
   ],
   "source": [
    "print(selection_sort(data_list))"
   ]
  },
  {
   "cell_type": "markdown",
   "metadata": {},
   "source": [
    "### 2. 삽입정렬(Insertion Sort)\n",
    "- 임의의 키 값을 삽입한 후 삽입된 키 값과 기억공간에 저장된 키 값을 비교하는 정렬"
   ]
  },
  {
   "cell_type": "code",
   "execution_count": 23,
   "metadata": {},
   "outputs": [],
   "source": [
    "def insertion_sort(data):\n",
    "    for index in range(len(data)):\n",
    "        for index2 in range(index, 0, -1):\n",
    "            if data[index2 - 1] > data[index2]:\n",
    "                data[index2 - 1], data[index2] = data[index2], data[index2 - 1]\n",
    "            else:\n",
    "                break\n",
    "    \n",
    "    return data"
   ]
  },
  {
   "cell_type": "code",
   "execution_count": 24,
   "metadata": {},
   "outputs": [
    {
     "name": "stdout",
     "output_type": "stream",
     "text": [
      "[46, 59, 50, 94, 70, 72, 15, 62, 23, 45]\n"
     ]
    }
   ],
   "source": [
    "from random import *\n",
    "\n",
    "rand_data_list = list()\n",
    "\n",
    "for num in range(10):\n",
    "    rand_data_list.append(randint(1, 100))\n",
    "print(rand_data_list)"
   ]
  },
  {
   "cell_type": "code",
   "execution_count": 25,
   "metadata": {},
   "outputs": [
    {
     "name": "stdout",
     "output_type": "stream",
     "text": [
      "[15, 23, 45, 46, 50, 59, 62, 70, 72, 94]\n"
     ]
    }
   ],
   "source": [
    "print(insertion_sort(rand_data_list))"
   ]
  },
  {
   "cell_type": "code",
   "execution_count": 35,
   "metadata": {},
   "outputs": [
    {
     "name": "stdout",
     "output_type": "stream",
     "text": [
      "[28, 11, 49, 9, 82, 46, 42, 20, 13, 48]\n"
     ]
    }
   ],
   "source": [
    "import random\n",
    "data_list = random.sample(range(100), 10)\n",
    "print(data_list)"
   ]
  },
  {
   "cell_type": "markdown",
   "metadata": {},
   "source": [
    "### 3. 버블정렬(Bubble Sort)\n",
    "- 이웃하는 키 값을 비교하여 자리바꿈을 이용하는 정렬"
   ]
  },
  {
   "cell_type": "code",
   "execution_count": 34,
   "metadata": {},
   "outputs": [],
   "source": [
    "def bubble_sort(data):\n",
    "    for index in range(len(data)):\n",
    "        swap = 0 # 자리 교환 여부를 체크하는 스위칭 변수\n",
    "        for index2 in range(len(data) - 1 - index):\n",
    "            if data[index2] > data[index2 + 1]:\n",
    "                data[index2], data[index2 + 1] = data[index2 + 1], data[index2]\n",
    "                swap = 1\n",
    "        if swap == 0:\n",
    "            break\n",
    "            \n",
    "    return data"
   ]
  },
  {
   "cell_type": "code",
   "execution_count": 36,
   "metadata": {},
   "outputs": [
    {
     "name": "stdout",
     "output_type": "stream",
     "text": [
      "[9, 11, 13, 20, 28, 42, 46, 48, 49, 82]\n"
     ]
    }
   ],
   "source": [
    "print(bubble_sort(data_list))"
   ]
  },
  {
   "cell_type": "markdown",
   "metadata": {},
   "source": [
    "### 4. 퀵정렬(Quick Sort)\n",
    "- 기준점(pivot)을 정해서, 기준점보다 작은 데이터는 왼쪽(left), 큰 데이터는 오른쪽(right)으로 모으는 작업을 수행하여 정렬하는 함수\n",
    "- 재귀용법을 통해 작업 수행"
   ]
  },
  {
   "cell_type": "code",
   "execution_count": 49,
   "metadata": {},
   "outputs": [
    {
     "name": "stdout",
     "output_type": "stream",
     "text": [
      "[29, 61, 44, 84, 19, 9, 30, 87, 3, 37]\n"
     ]
    }
   ],
   "source": [
    "import random\n",
    "data_list = random.sample(range(100), 10)\n",
    "print(data_list)"
   ]
  },
  {
   "cell_type": "code",
   "execution_count": 40,
   "metadata": {},
   "outputs": [],
   "source": [
    "def quick_sort(data):\n",
    "    if len(data) <= 1:\n",
    "        return data\n",
    "    \n",
    "    # 병합정렬의 기반이 된다.\n",
    "    left, right = list(), list()\n",
    "    pivot = data[0]\n",
    "    \n",
    "    # pivot을 기준으로 작은 데이터는 left, 큰 데이터는 right\n",
    "    for index in range(1, len(data)):\n",
    "        if pivot > data[index]:\n",
    "            left.append(data[index])\n",
    "        else:\n",
    "            right.append(data[index])\n",
    "            \n",
    "    return quick_sort(left) + [pivot] + quick_sort(right)"
   ]
  },
  {
   "cell_type": "code",
   "execution_count": 42,
   "metadata": {},
   "outputs": [
    {
     "name": "stdout",
     "output_type": "stream",
     "text": [
      "[7, 31, 44, 49, 53, 63, 71, 79, 86, 89]\n"
     ]
    }
   ],
   "source": [
    "print(quick_sort(data_list))"
   ]
  },
  {
   "cell_type": "code",
   "execution_count": 48,
   "metadata": {},
   "outputs": [],
   "source": [
    "def quick_sort2(data):\n",
    "    if len(data) <= 1:\n",
    "        return data\n",
    "    \n",
    "    # 병합정렬의 기반이 된다.\n",
    "    pivot = data[0]\n",
    "    tail = data[1:]\n",
    "    \n",
    "    # pivot을 기준으로 작은 데이터는 left, 큰 데이터는 right\n",
    "    left = [x for x in tail if pivot > x]\n",
    "    right = [x for x in tail if pivot <= x]\n",
    "            \n",
    "    return quick_sort2(left) + [pivot] + quick_sort2(right)"
   ]
  },
  {
   "cell_type": "code",
   "execution_count": 50,
   "metadata": {},
   "outputs": [
    {
     "name": "stdout",
     "output_type": "stream",
     "text": [
      "[3, 9, 19, 29, 30, 37, 44, 61, 84, 87]\n"
     ]
    }
   ],
   "source": [
    "print(quick_sort2(data_list))"
   ]
  },
  {
   "cell_type": "markdown",
   "metadata": {},
   "source": [
    "### 5. 이진탐색(Binary Search)\n",
    "- 탐색할 자료를 둘로 나누어 해당 데이터가 있을만한 곳을 탐색하는 방법\n",
    "- 선행조건 : 반드시 정렬되어있어야한다.\n",
    "- 구현방법 : 중앙수 = (시작 + 마지막) / 2\n",
    "- 중앙에 위치한 값과 찾고자하는 값을 비교하는 작업을 수행\n",
    "- 중앙 값이 찾고자 하는 값보다 크면 마지막값 = 중앙값 - 1\n",
    "- 중앙 값이 찾고자 하는 값보다 작다면 시작값 = 중앙값 + 1"
   ]
  },
  {
   "cell_type": "code",
   "execution_count": 69,
   "metadata": {},
   "outputs": [],
   "source": [
    "def binary_search(data, search):\n",
    "    if len(data) == 1:\n",
    "        if data[0] == search:\n",
    "            return True\n",
    "        else:\n",
    "            return False\n",
    "    \n",
    "    if len(data) == 0:\n",
    "        return False\n",
    "    \n",
    "    # 중앙값\n",
    "    mid = len(data) // 2\n",
    "    \n",
    "    if search == data[mid]:\n",
    "        return True\n",
    "    if search > data[mid]:\n",
    "        return binary_search(data[mid + 1:], search)\n",
    "    return binary_search(data[:mid], search)"
   ]
  },
  {
   "cell_type": "code",
   "execution_count": 59,
   "metadata": {},
   "outputs": [
    {
     "name": "stdout",
     "output_type": "stream",
     "text": [
      "[14, 19, 53, 55, 63, 75, 85, 87, 94, 97, 99]\n"
     ]
    }
   ],
   "source": [
    "data_list = random.sample(range(100), 11)\n",
    "data_list.sort()\n",
    "print(data_list)"
   ]
  },
  {
   "cell_type": "code",
   "execution_count": 70,
   "metadata": {},
   "outputs": [
    {
     "name": "stdout",
     "output_type": "stream",
     "text": [
      "True\n"
     ]
    }
   ],
   "source": [
    "print(binary_search(data_list, 97))"
   ]
  },
  {
   "cell_type": "code",
   "execution_count": 71,
   "metadata": {},
   "outputs": [],
   "source": [
    "# 사용자로부터 데이터의 개수, 찾고자 하는 값, 데이터 입력받아 해당 값의 위치를 출력 BinarySearch\n",
    "\n",
    "def binary_search2(data, search, start, end):\n",
    "    if start > end:\n",
    "        return None\n",
    "    \n",
    "    # 중앙값\n",
    "    mid = (start + end) // 2\n",
    "    \n",
    "    if search == data[mid]:\n",
    "        return mid\n",
    "    if search > data[mid]:\n",
    "        return binary_search2(data, search, mid + 1, end)\n",
    "    return binary_search2(data, search, start, mid - 1)"
   ]
  },
  {
   "cell_type": "code",
   "execution_count": 79,
   "metadata": {},
   "outputs": [
    {
     "name": "stdout",
     "output_type": "stream",
     "text": [
      "10 8\n",
      "1 3 4 5 7 9 6 10 33 52\n",
      "찾는 값이 존재하지 않습니다.\n"
     ]
    }
   ],
   "source": [
    "# 키보드를 통해 입력할 데이터의 개수와 찾을 값을 받아서 처리\n",
    "n, search = list(map(int, input().split()))\n",
    "# 데이터 개수만큼 입력받는 작업\n",
    "data = list(map(int, input().split()))\n",
    "if len(data) > n:\n",
    "    print(f'{len(data)}개 입력하셨습니다.{n}개까지의 숫자만 이용하겠습니다.')\n",
    "    print(data[:n])\n",
    "\n",
    "# 이진탐색 수행\n",
    "data.sort()\n",
    "result = binary_search2(data, search, 0, n - 1)\n",
    "if result == None:\n",
    "    print('찾는 값이 존재하지 않습니다.')\n",
    "else:\n",
    "    print(result + 1)"
   ]
  },
  {
   "cell_type": "code",
   "execution_count": 80,
   "metadata": {},
   "outputs": [
    {
     "name": "stdout",
     "output_type": "stream",
     "text": [
      "선택정렬 성능 측정 값 : 6.587097644805908\n"
     ]
    }
   ],
   "source": [
    "# 선택정렬과 내장함수(sort())를 이용한 수행시간 비교\n",
    "from random import randint\n",
    "import time\n",
    "\n",
    "data = []\n",
    "# list 안에 10,000개의 정수 삽입\n",
    "for _ in range(10000):\n",
    "    # 1 ~ 100 사이의 정수\n",
    "    data.append(randint(1, 100))\n",
    "\n",
    "# 선택정렬 프로그램 성능 측정(시간복잡도)\n",
    "start_time = time.time()\n",
    "\n",
    "# 선택정렬을 통해 데이터를 정렬하는 코드\n",
    "for i in range(len(data)):\n",
    "    min_index = i\n",
    "    for j in range(i + 1, len(data)):\n",
    "        if data[min_index] > data[j]:\n",
    "            min_index = j\n",
    "    data[i], data[min_index] = data[min_index], data[i]\n",
    "    \n",
    "end_time = time.time()\n",
    "\n",
    "# 수행 시간 출력\n",
    "print('선택정렬 성능 측정 값 :', end_time - start_time)"
   ]
  },
  {
   "cell_type": "code",
   "execution_count": 81,
   "metadata": {},
   "outputs": [
    {
     "name": "stdout",
     "output_type": "stream",
     "text": [
      "기본 정렬 라이브러리 sort() 성능 측정 값 : 0.0010020732879638672\n"
     ]
    }
   ],
   "source": [
    "data = []\n",
    "# list 안에 10,000개의 정수 삽입\n",
    "for _ in range(10000):\n",
    "    # 1 ~ 100 사이의 정수\n",
    "    data.append(randint(1, 100))\n",
    "\n",
    "# 기본라이브러리(sort()) 프로그램 성능 측정(시간복잡도)\n",
    "start_time = time.time()\n",
    "\n",
    "# 선택정렬을 통해 데이터를 정렬하는 코드\n",
    "data.sort()\n",
    "    \n",
    "end_time = time.time()\n",
    "\n",
    "# 수행 시간 출력\n",
    "print('기본 정렬 라이브러리 sort() 성능 측정 값 :', end_time - start_time)"
   ]
  },
  {
   "cell_type": "code",
   "execution_count": null,
   "metadata": {},
   "outputs": [],
   "source": []
  }
 ],
 "metadata": {
  "kernelspec": {
   "display_name": "Python 3",
   "language": "python",
   "name": "python3"
  },
  "language_info": {
   "codemirror_mode": {
    "name": "ipython",
    "version": 3
   },
   "file_extension": ".py",
   "mimetype": "text/x-python",
   "name": "python",
   "nbconvert_exporter": "python",
   "pygments_lexer": "ipython3",
   "version": "3.7.3"
  }
 },
 "nbformat": 4,
 "nbformat_minor": 2
}
