{
 "cells": [
  {
   "cell_type": "markdown",
   "metadata": {},
   "source": [
    "### 0. 정렬(Sorting)\n",
    "- 어떤 데이터가 주어졌을 때 이름 순서대로 나열하는 것\n",
    "- 정렬은 프로그램 작성 시 빈번하게 사용됨\n",
    "- 다양한 알고리즘이 고안되어있으며, 알고리즘 학습에 필수"
   ]
  },
  {
   "cell_type": "markdown",
   "metadata": {},
   "source": [
    "### 1. 선택정렬(Selection Sort)\n",
    "- 하나의 키 값을 선택한 후 나머지 값들과 순차적으로 비교하는 정렬\n",
    "\n",
    "### 2. 삽입정렬(Insertion Sort)\n",
    "- 임의의 키 값을 삽입한 후 삽입된 키 값과 기억공간에 저장된 키 값을 비교하는 정렬\n",
    "\n",
    "### 3. 버블정렬(Bubble Sort)\n",
    "- 이웃하는 키 값을 비교하여 자리바꿈을 이용하는 정렬"
   ]
  },
  {
   "cell_type": "code",
   "execution_count": null,
   "metadata": {},
   "outputs": [],
   "source": []
  }
 ],
 "metadata": {
  "kernelspec": {
   "display_name": "Python 3",
   "language": "python",
   "name": "python3"
  },
  "language_info": {
   "codemirror_mode": {
    "name": "ipython",
    "version": 3
   },
   "file_extension": ".py",
   "mimetype": "text/x-python",
   "name": "python",
   "nbconvert_exporter": "python",
   "pygments_lexer": "ipython3",
   "version": "3.7.3"
  }
 },
 "nbformat": 4,
 "nbformat_minor": 2
}
