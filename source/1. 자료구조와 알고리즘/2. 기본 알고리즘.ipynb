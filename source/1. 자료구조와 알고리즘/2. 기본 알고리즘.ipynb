{
 "cells": [
  {
   "cell_type": "markdown",
   "metadata": {},
   "source": [
    "### 0. 소수(Prime Number)\n",
    "- 1과 자기 자신을 제외한 자연수로 나누어 떨어지지 않는 수 "
   ]
  },
  {
   "cell_type": "code",
   "execution_count": 10,
   "metadata": {},
   "outputs": [
    {
     "name": "stdout",
     "output_type": "stream",
     "text": [
      "숫자 : 126\n",
      "소수가 아닙니다.\n"
     ]
    }
   ],
   "source": [
    "# 하나의 정수를 입력받아 소수인지 판단하는 프로그램을 구현하시오.\n",
    "\n",
    "def is_prime_number(x):\n",
    "    for num in range(2, x):\n",
    "        if x % num == 0:\n",
    "            return False\n",
    "    return True\n",
    "\n",
    "n = input('숫자 : ')\n",
    "\n",
    "if is_prime_number(int(n)):\n",
    "    print('소수입니다.')\n",
    "else:\n",
    "    print('소수가 아닙니다.')"
   ]
  },
  {
   "cell_type": "markdown",
   "metadata": {},
   "source": [
    "* 약수의 성질 : 좌우에 있는 숫자와 대칭을 이룬다. (제곱근까지만 확인해도 됨)"
   ]
  },
  {
   "cell_type": "code",
   "execution_count": 11,
   "metadata": {},
   "outputs": [],
   "source": [
    "# sqrt() : 제곱근\n",
    "import math\n",
    "\n",
    "def isPrime(x):\n",
    "    for num in range(2, int(math.sqrt(x)) + 1):\n",
    "        if x % num == 0:\n",
    "            return False\n",
    "    return True"
   ]
  },
  {
   "cell_type": "code",
   "execution_count": 14,
   "metadata": {},
   "outputs": [
    {
     "name": "stdout",
     "output_type": "stream",
     "text": [
      "숫자 : 131\n",
      "소수입니다.\n"
     ]
    }
   ],
   "source": [
    "n = input('숫자 : ')\n",
    "\n",
    "if isPrime(int(n)):\n",
    "    print('소수입니다.')\n",
    "else:\n",
    "    print('소수가 아닙니다.')"
   ]
  },
  {
   "cell_type": "markdown",
   "metadata": {},
   "source": [
    "1부터 100까지의 자연수 중 소수에 해당하는 수를 찾아서 출력하는 프로그램"
   ]
  },
  {
   "cell_type": "code",
   "execution_count": 16,
   "metadata": {},
   "outputs": [
    {
     "name": "stdout",
     "output_type": "stream",
     "text": [
      "1 2 3 5 7 11 13 17 19 23 29 31 37 41 43 47 53 59 61 67 71 73 79 83 89 97 "
     ]
    }
   ],
   "source": [
    "for i in range(1, 101):\n",
    "    if isPrime(i):\n",
    "        print(i, end = \" \")"
   ]
  },
  {
   "cell_type": "markdown",
   "metadata": {},
   "source": [
    "### 1. 에라토스테네스의 체 알고리즘\n",
    "- 다수의 자연수에 대하여 소수 여부를 판별할 때 까지 사용하는 대표적인 알고리즘\n",
    "- N보다 작거나 같은 모든 소수를 찾을 때 사용\n",
    "\n",
    "##### 동작방법\n",
    "- 2 부터 N 까지의 모든 자연수를 나열한다.\n",
    "- 남은 수 중에서 아직 처리하지 않은 가장 작은 수(i)를 찾는다.\n",
    "- 남은 수 중에서 i의 배수를 모두 제거\n",
    "- 더이상 반복할 수 없을 때까지 2와 3의 과정을 반복한다."
   ]
  },
  {
   "cell_type": "code",
   "execution_count": 18,
   "metadata": {},
   "outputs": [
    {
     "name": "stdout",
     "output_type": "stream",
     "text": [
      "2 3 5 7 11 13 17 19 23 29 31 37 41 43 47 53 59 61 67 71 73 79 83 89 97 101 103 107 109 113 127 131 137 139 149 151 157 163 167 173 179 181 191 193 197 199 211 223 227 229 233 239 241 251 257 263 269 271 277 281 283 293 307 311 313 317 331 337 347 349 353 359 367 373 379 383 389 397 401 409 419 421 431 433 439 443 449 457 461 463 467 479 487 491 499 503 509 521 523 541 547 557 563 569 571 577 587 593 599 601 607 613 617 619 631 641 643 647 653 659 661 673 677 683 691 701 709 719 727 733 739 743 751 757 761 769 773 787 797 809 811 821 823 827 829 839 853 857 859 863 877 881 883 887 907 911 919 929 937 941 947 953 967 971 977 983 991 997 "
     ]
    }
   ],
   "source": [
    "import math\n",
    "\n",
    "n = 1000\n",
    "\n",
    "array = [True for i in range(n + 1)]\n",
    "\n",
    "# 에레토스테네스의 체 알고리즘 수행\n",
    "for i in range(2, int(math.sqrt(n)) + 1):\n",
    "    if array[i] == True:\n",
    "        # i를 제외한 i의 배수를 지우는 작업\n",
    "        j = 2\n",
    "        while i * j <= n:\n",
    "            array[i * j] = False\n",
    "            j += 1\n",
    "\n",
    "# 소수를 출력\n",
    "for i in range(2, n + 1):\n",
    "    if array[i]:\n",
    "        print(i, end = \" \")"
   ]
  },
  {
   "cell_type": "code",
   "execution_count": null,
   "metadata": {},
   "outputs": [],
   "source": []
  }
 ],
 "metadata": {
  "kernelspec": {
   "display_name": "Python 3",
   "language": "python",
   "name": "python3"
  },
  "language_info": {
   "codemirror_mode": {
    "name": "ipython",
    "version": 3
   },
   "file_extension": ".py",
   "mimetype": "text/x-python",
   "name": "python",
   "nbconvert_exporter": "python",
   "pygments_lexer": "ipython3",
   "version": "3.7.3"
  }
 },
 "nbformat": 4,
 "nbformat_minor": 2
}
