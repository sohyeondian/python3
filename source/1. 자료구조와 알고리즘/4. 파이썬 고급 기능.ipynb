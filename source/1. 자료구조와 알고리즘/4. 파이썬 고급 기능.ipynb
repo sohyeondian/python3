{
 "cells": [
  {
   "cell_type": "markdown",
   "metadata": {},
   "source": [
    "### 0. 중첩함수(Nested Fuction)\n",
    "- 함수 내부에 정의된 또 다른 함수\n",
    "- 중첩함수는 해당 함수가 정의된 함수 내에서 호출 및 반환 가능\n",
    "- 함수 안에 선언된 변수는 함수 안에서만 사용 가능"
   ]
  },
  {
   "cell_type": "code",
   "execution_count": 2,
   "metadata": {},
   "outputs": [],
   "source": [
    "def outer_func():\n",
    "    print('called OUTER FUCNTION')\n",
    "    \n",
    "    # 중첩 함수 정의\n",
    "    def inner_func():\n",
    "        return 'called INNER FUCTION'\n",
    "    \n",
    "    # 중첩 함수 호출\n",
    "    print(inner_func())"
   ]
  },
  {
   "cell_type": "code",
   "execution_count": 3,
   "metadata": {},
   "outputs": [
    {
     "name": "stdout",
     "output_type": "stream",
     "text": [
      "called OUTER FUCNTION\n",
      "called INNER FUCTION\n"
     ]
    }
   ],
   "source": [
    "outer_func()\n",
    "# 중첩 함수는 외부에서 호출이 불가능하다."
   ]
  },
  {
   "cell_type": "code",
   "execution_count": 4,
   "metadata": {},
   "outputs": [
    {
     "name": "stdout",
     "output_type": "stream",
     "text": [
      "10\n",
      "You've called Inner fuction\n"
     ]
    }
   ],
   "source": [
    "def outer(num):\n",
    "    # 중첩 함수는 외부 함수의 변수에 접근 가능\n",
    "    def inner():\n",
    "        print(num)\n",
    "        return \"You've called Inner fuction\"\n",
    "    \n",
    "    return inner\n",
    "\n",
    "fn = outer(10)    # First-class Function\n",
    "print(fn())       # Closer 호출"
   ]
  },
  {
   "cell_type": "markdown",
   "metadata": {},
   "source": [
    "### 1. First-class Function\n",
    "- 함수 자체를 인자로 다른 함수에 전달\n",
    "- 다른 함수의 결과값으로 리턴\n",
    "- 함수를 변수에 할당할 수 있는 함수\n",
    "\n",
    "-> 파이썬은 모든 것을 객체로 간주"
   ]
  },
  {
   "cell_type": "code",
   "execution_count": 5,
   "metadata": {},
   "outputs": [],
   "source": [
    "def calc(num):\n",
    "    return num * num"
   ]
  },
  {
   "cell_type": "code",
   "execution_count": 6,
   "metadata": {},
   "outputs": [
    {
     "data": {
      "text/plain": [
       "4"
      ]
     },
     "execution_count": 6,
     "metadata": {},
     "output_type": "execute_result"
    }
   ],
   "source": [
    "calc(2)"
   ]
  },
  {
   "cell_type": "code",
   "execution_count": 9,
   "metadata": {},
   "outputs": [
    {
     "name": "stdout",
     "output_type": "stream",
     "text": [
      "<function calc at 0x00000171BA3458C8>\n",
      "25\n"
     ]
    }
   ],
   "source": [
    "# 파이썬은 모든 것을 객체로 간주한다.\n",
    "func1 = calc # 주소값 넘겨줌\n",
    "print(func1) # 주소값 출력\n",
    "print(func1(5))"
   ]
  },
  {
   "cell_type": "code",
   "execution_count": 12,
   "metadata": {},
   "outputs": [
    {
     "name": "stdout",
     "output_type": "stream",
     "text": [
      "HI\n"
     ]
    }
   ],
   "source": [
    "class MyClass:\n",
    "    def my_class(self):\n",
    "        print('HI')\n",
    "        pass\n",
    "    \n",
    "# 클래스에 인스턴스 객체 생성\n",
    "obj = MyClass()\n",
    "#obj.my_class() # normal way\n",
    "func = obj.my_class\n",
    "func()"
   ]
  },
  {
   "cell_type": "code",
   "execution_count": 13,
   "metadata": {},
   "outputs": [],
   "source": [
    "# 함수를 다른 함수의 매개변수자리에도 넣을 수 있다.\n",
    "def multiply(num):\n",
    "    return num * num\n",
    "\n",
    "def plus(num):\n",
    "    return num + num\n",
    "\n",
    "def quad(num):\n",
    "    return multiply(num) * multiply(num)    "
   ]
  },
  {
   "cell_type": "code",
   "execution_count": 14,
   "metadata": {},
   "outputs": [],
   "source": [
    "def list_square(function, digit_list):\n",
    "    result = list()\n",
    "    for digit in digit_list:\n",
    "        result.append(function(digit))\n",
    "    print(result)"
   ]
  },
  {
   "cell_type": "code",
   "execution_count": 17,
   "metadata": {},
   "outputs": [
    {
     "name": "stdout",
     "output_type": "stream",
     "text": [
      "[1, 4, 9, 16, 25]\n",
      "[2, 4, 6, 8, 10]\n",
      "[1, 16, 81, 256, 625]\n"
     ]
    }
   ],
   "source": [
    "num_list = [1, 2, 3, 4, 5]\n",
    "list_square(multiply, num_list)\n",
    "list_square(plus, num_list)\n",
    "list_square(quad, num_list)"
   ]
  },
  {
   "cell_type": "code",
   "execution_count": 18,
   "metadata": {},
   "outputs": [],
   "source": [
    "# 함수의 결과값으로 함수를 리턴할 수도 있다.\n",
    "def logger(msg):\n",
    "    message = msg\n",
    "    \n",
    "    def msg_creator():\n",
    "        print('고급기능 :', message)\n",
    "    \n",
    "    return msg_creator"
   ]
  },
  {
   "cell_type": "code",
   "execution_count": 21,
   "metadata": {},
   "outputs": [
    {
     "name": "stdout",
     "output_type": "stream",
     "text": [
      "고급기능 : log-in\n"
     ]
    }
   ],
   "source": [
    "log = logger('log-in')\n",
    "log()"
   ]
  },
  {
   "cell_type": "code",
   "execution_count": 22,
   "metadata": {},
   "outputs": [],
   "source": [
    "del logger"
   ]
  },
  {
   "cell_type": "code",
   "execution_count": 23,
   "metadata": {},
   "outputs": [
    {
     "name": "stdout",
     "output_type": "stream",
     "text": [
      "고급기능 : log-in\n"
     ]
    }
   ],
   "source": [
    "log()"
   ]
  },
  {
   "cell_type": "markdown",
   "metadata": {},
   "source": [
    "### 2.  데코레이터(Decorator)\n",
    "- 함수 앞 뒤에 기능을 추가해서 손쉽게  함수를 활용할 수 있는 기법\n",
    "- 사용하는 함수 : Closer Function"
   ]
  },
  {
   "cell_type": "code",
   "execution_count": 24,
   "metadata": {},
   "outputs": [
    {
     "ename": "NameError",
     "evalue": "name 'decorator_func' is not defined",
     "output_type": "error",
     "traceback": [
      "\u001b[1;31m---------------------------------------------------------------------------\u001b[0m",
      "\u001b[1;31mNameError\u001b[0m                                 Traceback (most recent call last)",
      "\u001b[1;32m<ipython-input-24-8c875291ec27>\u001b[0m in \u001b[0;36m<module>\u001b[1;34m\u001b[0m\n\u001b[1;32m----> 1\u001b[1;33m \u001b[1;33m@\u001b[0m\u001b[0mdecorator_func\u001b[0m\u001b[1;33m\u001b[0m\u001b[1;33m\u001b[0m\u001b[0m\n\u001b[0m\u001b[0;32m      2\u001b[0m \u001b[1;32mdef\u001b[0m \u001b[0mfunction\u001b[0m\u001b[1;33m(\u001b[0m\u001b[1;33m)\u001b[0m\u001b[1;33m:\u001b[0m\u001b[1;33m\u001b[0m\u001b[1;33m\u001b[0m\u001b[0m\n\u001b[0;32m      3\u001b[0m     \u001b[0mprint\u001b[0m\u001b[1;33m(\u001b[0m\u001b[1;34m'이게 데코레이터라고?'\u001b[0m\u001b[1;33m)\u001b[0m\u001b[1;33m\u001b[0m\u001b[1;33m\u001b[0m\u001b[0m\n",
      "\u001b[1;31mNameError\u001b[0m: name 'decorator_func' is not defined"
     ]
    }
   ],
   "source": [
    "@decorator_func\n",
    "def function():\n",
    "    print('이게 데코레이터라고?')"
   ]
  },
  {
   "cell_type": "code",
   "execution_count": 25,
   "metadata": {},
   "outputs": [],
   "source": [
    "def trace(func):\n",
    "    def wrapper():\n",
    "        # __name__ 함수이름리턴\n",
    "        print(func.__name__, '함수 시작')\n",
    "        func()\n",
    "        print(func.__name__, '함수 끝')\n",
    "    return wrapper\n",
    "\n",
    "@trace\n",
    "def hello():\n",
    "    print('HELLO')\n",
    "    \n",
    "@trace\n",
    "def world():\n",
    "    print('WORLD')"
   ]
  },
  {
   "cell_type": "code",
   "execution_count": 26,
   "metadata": {},
   "outputs": [
    {
     "name": "stdout",
     "output_type": "stream",
     "text": [
      "hello 함수 시작\n",
      "HELLO\n",
      "hello 함수 끝\n"
     ]
    }
   ],
   "source": [
    "hello()"
   ]
  },
  {
   "cell_type": "code",
   "execution_count": 27,
   "metadata": {},
   "outputs": [
    {
     "name": "stdout",
     "output_type": "stream",
     "text": [
      "world 함수 시작\n",
      "WORLD\n",
      "world 함수 끝\n"
     ]
    }
   ],
   "source": [
    "world()"
   ]
  },
  {
   "cell_type": "code",
   "execution_count": null,
   "metadata": {},
   "outputs": [],
   "source": []
  }
 ],
 "metadata": {
  "kernelspec": {
   "display_name": "Python 3",
   "language": "python",
   "name": "python3"
  },
  "language_info": {
   "codemirror_mode": {
    "name": "ipython",
    "version": 3
   },
   "file_extension": ".py",
   "mimetype": "text/x-python",
   "name": "python",
   "nbconvert_exporter": "python",
   "pygments_lexer": "ipython3",
   "version": "3.7.3"
  }
 },
 "nbformat": 4,
 "nbformat_minor": 2
}
