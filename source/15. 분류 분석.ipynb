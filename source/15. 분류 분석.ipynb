{
 "cells": [
  {
   "cell_type": "markdown",
   "metadata": {},
   "source": [
    "### 분류(Classification)와 군집화(Clustering)\n",
    "- 분류\n",
    "    - 주어진 데이터 집합을 이미 정의된 몇 개의 클래스로 구분하는 것\n",
    "    - 문제 지도학습(Supervised Leaning) 숫자 인식, 얼굴인식 등 \n",
    "    - Bayes classifier, k-Nearest Neighbor, Support Vector Machine 등\n",
    "- 군집\n",
    "    - 입력 데이터의 분포 특성(입력값의 유사성)을 분석하여 임의의 복수 개의 그룹으로 나누는 것 \n",
    "    - 비지도학습(Unsupervised Leaning), 영상분리 K-means clustering, Leaning Vector Quantization, SOM 등"
   ]
  },
  {
   "cell_type": "markdown",
   "metadata": {},
   "source": [
    "#### 표준라이브러리로딩"
   ]
  },
  {
   "cell_type": "code",
   "execution_count": 1,
   "metadata": {},
   "outputs": [],
   "source": [
    "%matplotlib inline\n",
    "\n",
    "import numpy as np\n",
    "import pandas as pd\n",
    "import matplotlib.pyplot as plt\n",
    "import seaborn as sns\n",
    "\n",
    "import warnings\n",
    "warnings.filterwarnings('ignore')"
   ]
  },
  {
   "cell_type": "markdown",
   "metadata": {},
   "source": [
    "### 데이터 로딩"
   ]
  },
  {
   "cell_type": "code",
   "execution_count": 2,
   "metadata": {},
   "outputs": [
    {
     "data": {
      "text/html": [
       "<div>\n",
       "<style scoped>\n",
       "    .dataframe tbody tr th:only-of-type {\n",
       "        vertical-align: middle;\n",
       "    }\n",
       "\n",
       "    .dataframe tbody tr th {\n",
       "        vertical-align: top;\n",
       "    }\n",
       "\n",
       "    .dataframe thead th {\n",
       "        text-align: right;\n",
       "    }\n",
       "</style>\n",
       "<table border=\"1\" class=\"dataframe\">\n",
       "  <thead>\n",
       "    <tr style=\"text-align: right;\">\n",
       "      <th></th>\n",
       "      <th>pclass</th>\n",
       "      <th>survived</th>\n",
       "      <th>name</th>\n",
       "      <th>sex</th>\n",
       "      <th>age</th>\n",
       "      <th>sibsp</th>\n",
       "      <th>parch</th>\n",
       "      <th>ticket</th>\n",
       "      <th>fare</th>\n",
       "      <th>cabin</th>\n",
       "      <th>embarked</th>\n",
       "      <th>body</th>\n",
       "      <th>home.dest</th>\n",
       "    </tr>\n",
       "  </thead>\n",
       "  <tbody>\n",
       "    <tr>\n",
       "      <th>0</th>\n",
       "      <td>2</td>\n",
       "      <td>1</td>\n",
       "      <td>Mellinger, Miss. Madeleine Violet</td>\n",
       "      <td>female</td>\n",
       "      <td>13.0</td>\n",
       "      <td>0</td>\n",
       "      <td>1</td>\n",
       "      <td>250644</td>\n",
       "      <td>19.5000</td>\n",
       "      <td>NaN</td>\n",
       "      <td>S</td>\n",
       "      <td>NaN</td>\n",
       "      <td>England / Bennington, VT</td>\n",
       "    </tr>\n",
       "    <tr>\n",
       "      <th>1</th>\n",
       "      <td>2</td>\n",
       "      <td>1</td>\n",
       "      <td>Wells, Miss. Joan</td>\n",
       "      <td>female</td>\n",
       "      <td>4.0</td>\n",
       "      <td>1</td>\n",
       "      <td>1</td>\n",
       "      <td>29103</td>\n",
       "      <td>23.0000</td>\n",
       "      <td>NaN</td>\n",
       "      <td>S</td>\n",
       "      <td>NaN</td>\n",
       "      <td>Cornwall / Akron, OH</td>\n",
       "    </tr>\n",
       "    <tr>\n",
       "      <th>2</th>\n",
       "      <td>2</td>\n",
       "      <td>1</td>\n",
       "      <td>Duran y More, Miss. Florentina</td>\n",
       "      <td>female</td>\n",
       "      <td>30.0</td>\n",
       "      <td>1</td>\n",
       "      <td>0</td>\n",
       "      <td>SC/PARIS 2148</td>\n",
       "      <td>13.8583</td>\n",
       "      <td>NaN</td>\n",
       "      <td>C</td>\n",
       "      <td>NaN</td>\n",
       "      <td>Barcelona, Spain / Havana, Cuba</td>\n",
       "    </tr>\n",
       "    <tr>\n",
       "      <th>3</th>\n",
       "      <td>3</td>\n",
       "      <td>0</td>\n",
       "      <td>Scanlan, Mr. James</td>\n",
       "      <td>male</td>\n",
       "      <td>NaN</td>\n",
       "      <td>0</td>\n",
       "      <td>0</td>\n",
       "      <td>36209</td>\n",
       "      <td>7.7250</td>\n",
       "      <td>NaN</td>\n",
       "      <td>Q</td>\n",
       "      <td>NaN</td>\n",
       "      <td>NaN</td>\n",
       "    </tr>\n",
       "    <tr>\n",
       "      <th>4</th>\n",
       "      <td>3</td>\n",
       "      <td>1</td>\n",
       "      <td>Bradley, Miss. Bridget Delia</td>\n",
       "      <td>female</td>\n",
       "      <td>22.0</td>\n",
       "      <td>0</td>\n",
       "      <td>0</td>\n",
       "      <td>334914</td>\n",
       "      <td>7.7250</td>\n",
       "      <td>NaN</td>\n",
       "      <td>Q</td>\n",
       "      <td>NaN</td>\n",
       "      <td>Kingwilliamstown, Co Cork, Ireland Glens Falls...</td>\n",
       "    </tr>\n",
       "  </tbody>\n",
       "</table>\n",
       "</div>"
      ],
      "text/plain": [
       "   pclass  survived                               name     sex   age  sibsp  \\\n",
       "0       2         1  Mellinger, Miss. Madeleine Violet  female  13.0      0   \n",
       "1       2         1                  Wells, Miss. Joan  female   4.0      1   \n",
       "2       2         1     Duran y More, Miss. Florentina  female  30.0      1   \n",
       "3       3         0                 Scanlan, Mr. James    male   NaN      0   \n",
       "4       3         1       Bradley, Miss. Bridget Delia  female  22.0      0   \n",
       "\n",
       "   parch         ticket     fare cabin embarked  body  \\\n",
       "0      1         250644  19.5000   NaN        S   NaN   \n",
       "1      1          29103  23.0000   NaN        S   NaN   \n",
       "2      0  SC/PARIS 2148  13.8583   NaN        C   NaN   \n",
       "3      0          36209   7.7250   NaN        Q   NaN   \n",
       "4      0         334914   7.7250   NaN        Q   NaN   \n",
       "\n",
       "                                           home.dest  \n",
       "0                           England / Bennington, VT  \n",
       "1                               Cornwall / Akron, OH  \n",
       "2                    Barcelona, Spain / Havana, Cuba  \n",
       "3                                                NaN  \n",
       "4  Kingwilliamstown, Co Cork, Ireland Glens Falls...  "
      ]
     },
     "execution_count": 2,
     "metadata": {},
     "output_type": "execute_result"
    }
   ],
   "source": [
    "train = pd.read_csv('../data/titanic_train.csv')\n",
    "test = pd.read_csv('../data/titanic_test.csv')\n",
    "train.head()"
   ]
  },
  {
   "cell_type": "markdown",
   "metadata": {},
   "source": [
    "### 데이터 셋의 피처\n",
    "|피처 이름|설명|\n",
    "|---|---|\n",
    "pclass|Passenger Class, 승객 등급\n",
    "survived|생존여부(생존 1, 사망 0)\n",
    "name|승객 이름\n",
    "sex|승객 성별\n",
    "age|승객 나이\n",
    "sibsp|동승한 형제 또는 배우자 수\n",
    "parch|동승한 부모 또는 자녀 수\n",
    "ticket|티켓번호\n",
    "fare|승객지불요금\n",
    "cabin|선실 이름\n",
    "embarked|승선항(C-쉘부르크, Q-퀸즈, S-사우스햄튼)\n",
    "body|사망자확인번호\n",
    "home.dest|고향/목적지"
   ]
  },
  {
   "cell_type": "code",
   "execution_count": 3,
   "metadata": {},
   "outputs": [
    {
     "name": "stdout",
     "output_type": "stream",
     "text": [
      "<class 'pandas.core.frame.DataFrame'>\n",
      "RangeIndex: 916 entries, 0 to 915\n",
      "Data columns (total 13 columns):\n",
      "pclass       916 non-null int64\n",
      "survived     916 non-null int64\n",
      "name         916 non-null object\n",
      "sex          916 non-null object\n",
      "age          741 non-null float64\n",
      "sibsp        916 non-null int64\n",
      "parch        916 non-null int64\n",
      "ticket       916 non-null object\n",
      "fare         916 non-null float64\n",
      "cabin        214 non-null object\n",
      "embarked     914 non-null object\n",
      "body         85 non-null float64\n",
      "home.dest    527 non-null object\n",
      "dtypes: float64(3), int64(4), object(6)\n",
      "memory usage: 93.1+ KB\n"
     ]
    }
   ],
   "source": [
    "train.info()"
   ]
  },
  {
   "cell_type": "code",
   "execution_count": 4,
   "metadata": {},
   "outputs": [],
   "source": [
    "# 불필요한 피처를 제거하는 작업\n",
    "train = train.drop(['name', 'ticket', 'body', 'cabin', 'home.dest'], axis=1)\n",
    "test = test.drop(['name', 'ticket', 'body', 'cabin', 'home.dest'], axis=1)"
   ]
  },
  {
   "cell_type": "markdown",
   "metadata": {},
   "source": [
    "### 데이터 탐색과 시각화"
   ]
  },
  {
   "cell_type": "code",
   "execution_count": 5,
   "metadata": {},
   "outputs": [
    {
     "data": {
      "text/plain": [
       "<matplotlib.axes._subplots.AxesSubplot at 0x2700a478630>"
      ]
     },
     "execution_count": 5,
     "metadata": {},
     "output_type": "execute_result"
    },
    {
     "data": {
      "image/png": "[encoded data removed]",
      "text/plain": [
       "<Figure size 432x288 with 1 Axes>"
      ]
     },
     "metadata": {
      "needs_background": "light"
     },
     "output_type": "display_data"
    }
   ],
   "source": [
    "train['survived'].value_counts().plot.bar()"
   ]
  },
  {
   "cell_type": "markdown",
   "metadata": {},
   "source": [
    "#### 전체 데이터의 분포를 시각화(Pie Chart)\n",
    "- sex\n",
    "- pclass\n",
    "- embarked"
   ]
  },
  {
   "cell_type": "code",
   "execution_count": 35,
   "metadata": {},
   "outputs": [],
   "source": [
    "def pie_chart(feature):\n",
    "    feature_ratio = train[feature].value_counts(sort=False)\n",
    "    feature_size = feature_ratio.size\n",
    "    survived = train[train['survived'] == 1][feature].value_counts()\n",
    "    dead = train[train['survived'] == 0][feature].value_counts()\n",
    "    feature_index = feature_ratio.index\n",
    "    \n",
    "    plt.plot(aspect='auto')\n",
    "    plt.pie(feature_ratio, labels=feature_index, autopct='%1.1f%%')\n",
    "    plt.title(feature+\"\\'s ratio in total\")\n",
    "    plt.show()\n",
    "    \n",
    "    for i, index in enumerate(feature_index):\n",
    "        plt.subplot(1, feature_size + 1, i + 1, aspect='equal')\n",
    "        plt.pie([survived[index], dead[index]],\n",
    "                labels=['Survived', 'Dead'], autopct='%1.1f%%')\n",
    "        plt.title(str(index) + \"\\'s ratio\" )\n",
    "        \n",
    "    plt.show()"
   ]
  },
  {
   "cell_type": "code",
   "execution_count": 36,
   "metadata": {},
   "outputs": [
    {
     "data": {
      "image/png": "[encoded data removed]",
      "text/plain": [
       "<Figure size 432x288 with 1 Axes>"
      ]
     },
     "metadata": {},
     "output_type": "display_data"
    },
    {
     "data": {
      "image/png": "[encoded data removed]",
      "text/plain": [
       "<Figure size 432x288 with 2 Axes>"
      ]
     },
     "metadata": {},
     "output_type": "display_data"
    }
   ],
   "source": [
    "pie_chart('sex')"
   ]
  },
  {
   "cell_type": "code",
   "execution_count": 37,
   "metadata": {},
   "outputs": [
    {
     "data": {
      "image/png": "[encoded data removed]",
      "text/plain": [
       "<Figure size 432x288 with 1 Axes>"
      ]
     },
     "metadata": {},
     "output_type": "display_data"
    },
    {
     "data": {
      "image/png": "[encoded data removed]",
      "text/plain": [
       "<Figure size 432x288 with 3 Axes>"
      ]
     },
     "metadata": {},
     "output_type": "display_data"
    }
   ],
   "source": [
    "pie_chart('pclass')"
   ]
  },
  {
   "cell_type": "code",
   "execution_count": 38,
   "metadata": {},
   "outputs": [
    {
     "data": {
      "image/png": "[encoded data removed]",
      "text/plain": [
       "<Figure size 432x288 with 1 Axes>"
      ]
     },
     "metadata": {},
     "output_type": "display_data"
    },
    {
     "data": {
      "image/png": "[encoded data removed]",
      "text/plain": [
       "<Figure size 432x288 with 3 Axes>"
      ]
     },
     "metadata": {},
     "output_type": "display_data"
    }
   ],
   "source": [
    "pie_chart('embarked')"
   ]
  },
  {
   "cell_type": "code",
   "execution_count": null,
   "metadata": {},
   "outputs": [],
   "source": [
    "def bar_chart(feature):\n",
    "    survived = train[train['survived'] == 1][feature].value_counts()\n",
    "    dead = train[train['survived'] == 0][feature].value_counts()\n",
    "    feature_index = feature_ratio.index\n",
    "\n",
    "    df = pd.DataFrame([survived, dead])\n",
    "    df.index = ['Survived', 'Dead']\n",
    "    "
   ]
  },
  {
   "cell_type": "code",
   "execution_count": null,
   "metadata": {},
   "outputs": [],
   "source": []
  },
  {
   "cell_type": "markdown",
   "metadata": {},
   "source": [
    "### 데이터 전처리 및 특성 추출"
   ]
  },
  {
   "cell_type": "code",
   "execution_count": 39,
   "metadata": {},
   "outputs": [
    {
     "data": {
      "text/html": [
       "<div>\n",
       "<style scoped>\n",
       "    .dataframe tbody tr th:only-of-type {\n",
       "        vertical-align: middle;\n",
       "    }\n",
       "\n",
       "    .dataframe tbody tr th {\n",
       "        vertical-align: top;\n",
       "    }\n",
       "\n",
       "    .dataframe thead th {\n",
       "        text-align: right;\n",
       "    }\n",
       "</style>\n",
       "<table border=\"1\" class=\"dataframe\">\n",
       "  <thead>\n",
       "    <tr style=\"text-align: right;\">\n",
       "      <th></th>\n",
       "      <th>pclass</th>\n",
       "      <th>survived</th>\n",
       "      <th>age</th>\n",
       "      <th>sibsp</th>\n",
       "      <th>parch</th>\n",
       "      <th>fare</th>\n",
       "    </tr>\n",
       "  </thead>\n",
       "  <tbody>\n",
       "    <tr>\n",
       "      <th>count</th>\n",
       "      <td>916.000000</td>\n",
       "      <td>916.000000</td>\n",
       "      <td>741.000000</td>\n",
       "      <td>916.000000</td>\n",
       "      <td>916.000000</td>\n",
       "      <td>916.000000</td>\n",
       "    </tr>\n",
       "    <tr>\n",
       "      <th>mean</th>\n",
       "      <td>2.292576</td>\n",
       "      <td>0.385371</td>\n",
       "      <td>30.231444</td>\n",
       "      <td>0.532751</td>\n",
       "      <td>0.371179</td>\n",
       "      <td>32.532050</td>\n",
       "    </tr>\n",
       "    <tr>\n",
       "      <th>std</th>\n",
       "      <td>0.842576</td>\n",
       "      <td>0.486949</td>\n",
       "      <td>13.934240</td>\n",
       "      <td>1.125957</td>\n",
       "      <td>0.837508</td>\n",
       "      <td>47.416524</td>\n",
       "    </tr>\n",
       "    <tr>\n",
       "      <th>min</th>\n",
       "      <td>1.000000</td>\n",
       "      <td>0.000000</td>\n",
       "      <td>0.170000</td>\n",
       "      <td>0.000000</td>\n",
       "      <td>0.000000</td>\n",
       "      <td>0.000000</td>\n",
       "    </tr>\n",
       "    <tr>\n",
       "      <th>25%</th>\n",
       "      <td>1.000000</td>\n",
       "      <td>0.000000</td>\n",
       "      <td>21.000000</td>\n",
       "      <td>0.000000</td>\n",
       "      <td>0.000000</td>\n",
       "      <td>7.895800</td>\n",
       "    </tr>\n",
       "    <tr>\n",
       "      <th>50%</th>\n",
       "      <td>3.000000</td>\n",
       "      <td>0.000000</td>\n",
       "      <td>28.000000</td>\n",
       "      <td>0.000000</td>\n",
       "      <td>0.000000</td>\n",
       "      <td>14.454200</td>\n",
       "    </tr>\n",
       "    <tr>\n",
       "      <th>75%</th>\n",
       "      <td>3.000000</td>\n",
       "      <td>1.000000</td>\n",
       "      <td>39.000000</td>\n",
       "      <td>1.000000</td>\n",
       "      <td>0.000000</td>\n",
       "      <td>31.275000</td>\n",
       "    </tr>\n",
       "    <tr>\n",
       "      <th>max</th>\n",
       "      <td>3.000000</td>\n",
       "      <td>1.000000</td>\n",
       "      <td>74.000000</td>\n",
       "      <td>8.000000</td>\n",
       "      <td>9.000000</td>\n",
       "      <td>512.329200</td>\n",
       "    </tr>\n",
       "  </tbody>\n",
       "</table>\n",
       "</div>"
      ],
      "text/plain": [
       "           pclass    survived         age       sibsp       parch        fare\n",
       "count  916.000000  916.000000  741.000000  916.000000  916.000000  916.000000\n",
       "mean     2.292576    0.385371   30.231444    0.532751    0.371179   32.532050\n",
       "std      0.842576    0.486949   13.934240    1.125957    0.837508   47.416524\n",
       "min      1.000000    0.000000    0.170000    0.000000    0.000000    0.000000\n",
       "25%      1.000000    0.000000   21.000000    0.000000    0.000000    7.895800\n",
       "50%      3.000000    0.000000   28.000000    0.000000    0.000000   14.454200\n",
       "75%      3.000000    1.000000   39.000000    1.000000    0.000000   31.275000\n",
       "max      3.000000    1.000000   74.000000    8.000000    9.000000  512.329200"
      ]
     },
     "execution_count": 39,
     "metadata": {},
     "output_type": "execute_result"
    }
   ],
   "source": [
    "train.describe()"
   ]
  },
  {
   "cell_type": "markdown",
   "metadata": {},
   "source": [
    "### age, sibsp 수치형 피처 탐색\n",
    "- 두 그룹 간의 분포를 시각화\n",
    "- 두 그룹 각각의 표준편차\n",
    "- 두 그룹간의 T-test검정(전제: 정규분포에 따라야한다)\n",
    "- 정규분포 검정 : Shapiro-wilk 검정"
   ]
  },
  {
   "cell_type": "code",
   "execution_count": 46,
   "metadata": {},
   "outputs": [],
   "source": [
    "from scipy import stats\n",
    "\n",
    "# 두 집단의 작업을 자동화(유효성 검사)하는 함수 구현\n",
    "def valid_features(df, col_name, distribution_check=True):\n",
    "    \n",
    "    # 분포의 시각화(survived=1, servived=0)\n",
    "    g = sns.FacetGrid(df, col='survived')\n",
    "    g.map(plt.hist, col_name, bins=30)\n",
    "    \n",
    "    # 표준편차\n",
    "    titanic_survived = df[df['survived'] == 1]\n",
    "    titanic_survived_static = np.array(titanic_survived[col_name])\n",
    "    print(f'data std is {np.std(titanic_survived_static):.2f}')\n",
    "    \n",
    "    titanic_dead = df[df['survived'] == 0]\n",
    "    titanic_dead_static = np.array(titanic_dead[col_name])\n",
    "    print(f'data std is {np.std(titanic_dead_static):.2f}')\n",
    "    \n",
    "    # T-test: 평균차이를 검정\n",
    "    tTestResult = stats.ttest_ind(titanic_survived[col_name],\n",
    "                                  titanic_dead[col_name], equal_var=False)\n",
    "    tTestResultDiffVar = stats.ttest_ind(titanic_survived[col_name],\n",
    "                                  titanic_dead[col_name], equal_var=False)\n",
    "    print('T-test 통계량 %.3f and p-value %.3f' % (tTestResult))\n",
    "    print('T-test 통계량 %.3f and p-value %.3f' % (tTestResultDiffVar))\n",
    "    \n",
    "    if distribution_check:\n",
    "        #Shapiro-wilk 검정\n",
    "        print('Shapiro-wilk 통계량 %.3f and p-value %.3f' % (stats.shapiro(titanic_survived[col_name])))\n",
    "        print('Shapiro-wilk 통계량 %.3f and p-value %.3f' % (stats.shapiro(titanic_dead[col_name])))"
   ]
  },
  {
   "cell_type": "code",
   "execution_count": 47,
   "metadata": {},
   "outputs": [
    {
     "name": "stdout",
     "output_type": "stream",
     "text": [
      "data std is 0.64\n",
      "data std is 1.34\n",
      "T-test 통계량 -2.446 and p-value 0.015\n",
      "T-test 통계량 -2.446 and p-value 0.015\n",
      "Shapiro-wilk 통계량 0.656 and p-value 0.000\n",
      "Shapiro-wilk 통계량 0.492 and p-value 0.000\n"
     ]
    },
    {
     "data": {
      "image/png": "[encoded data removed]",
      "text/plain": [
       "<Figure size 432x216 with 2 Axes>"
      ]
     },
     "metadata": {
      "needs_background": "light"
     },
     "output_type": "display_data"
    }
   ],
   "source": [
    "valid_features(train, 'sibsp', distribution_check=True)"
   ]
  },
  {
   "cell_type": "markdown",
   "metadata": {},
   "source": [
    "#### age feature\n",
    "- 결측값 처리 : 제거, 대체(평균, 최빈값)\n",
    "- 연령대"
   ]
  },
  {
   "cell_type": "code",
   "execution_count": 48,
   "metadata": {},
   "outputs": [],
   "source": [
    "replace_mean = train[train['age']>0]['age'].mean()\n",
    "train['age'] = train['age'].fillna(replace_mean)\n",
    "test['age'] = test['age'].fillna(replace_mean)"
   ]
  },
  {
   "cell_type": "markdown",
   "metadata": {},
   "source": [
    "### embark feature\n",
    "- 최빈값"
   ]
  },
  {
   "cell_type": "code",
   "execution_count": 49,
   "metadata": {},
   "outputs": [],
   "source": [
    "emberked_mode = train['embarked'].value_counts().index[0]\n",
    "train['embarked'] = train['embarked'].fillna(emberked_mode)\n",
    "test['embarked'] = test['embarked'].fillna(emberked_mode)"
   ]
  },
  {
   "cell_type": "markdown",
   "metadata": {},
   "source": [
    "#### One-hot encoding(원-핫 인코딩)\n",
    "- 범주형 변수를 변환\n",
    "- sex, embarked"
   ]
  },
  {
   "cell_type": "code",
   "execution_count": 50,
   "metadata": {},
   "outputs": [
    {
     "data": {
      "text/html": [
       "<div>\n",
       "<style scoped>\n",
       "    .dataframe tbody tr th:only-of-type {\n",
       "        vertical-align: middle;\n",
       "    }\n",
       "\n",
       "    .dataframe tbody tr th {\n",
       "        vertical-align: top;\n",
       "    }\n",
       "\n",
       "    .dataframe thead th {\n",
       "        text-align: right;\n",
       "    }\n",
       "</style>\n",
       "<table border=\"1\" class=\"dataframe\">\n",
       "  <thead>\n",
       "    <tr style=\"text-align: right;\">\n",
       "      <th></th>\n",
       "      <th>pclass</th>\n",
       "      <th>survived</th>\n",
       "      <th>age</th>\n",
       "      <th>sibsp</th>\n",
       "      <th>parch</th>\n",
       "      <th>fare</th>\n",
       "      <th>sex_female</th>\n",
       "      <th>sex_male</th>\n",
       "      <th>embarked_C</th>\n",
       "      <th>embarked_Q</th>\n",
       "      <th>embarked_S</th>\n",
       "    </tr>\n",
       "  </thead>\n",
       "  <tbody>\n",
       "    <tr>\n",
       "      <th>0</th>\n",
       "      <td>2</td>\n",
       "      <td>1</td>\n",
       "      <td>13.000000</td>\n",
       "      <td>0</td>\n",
       "      <td>1</td>\n",
       "      <td>19.5000</td>\n",
       "      <td>1</td>\n",
       "      <td>0</td>\n",
       "      <td>0</td>\n",
       "      <td>0</td>\n",
       "      <td>1</td>\n",
       "    </tr>\n",
       "    <tr>\n",
       "      <th>1</th>\n",
       "      <td>2</td>\n",
       "      <td>1</td>\n",
       "      <td>4.000000</td>\n",
       "      <td>1</td>\n",
       "      <td>1</td>\n",
       "      <td>23.0000</td>\n",
       "      <td>1</td>\n",
       "      <td>0</td>\n",
       "      <td>0</td>\n",
       "      <td>0</td>\n",
       "      <td>1</td>\n",
       "    </tr>\n",
       "    <tr>\n",
       "      <th>2</th>\n",
       "      <td>2</td>\n",
       "      <td>1</td>\n",
       "      <td>30.000000</td>\n",
       "      <td>1</td>\n",
       "      <td>0</td>\n",
       "      <td>13.8583</td>\n",
       "      <td>1</td>\n",
       "      <td>0</td>\n",
       "      <td>1</td>\n",
       "      <td>0</td>\n",
       "      <td>0</td>\n",
       "    </tr>\n",
       "    <tr>\n",
       "      <th>3</th>\n",
       "      <td>3</td>\n",
       "      <td>0</td>\n",
       "      <td>30.231444</td>\n",
       "      <td>0</td>\n",
       "      <td>0</td>\n",
       "      <td>7.7250</td>\n",
       "      <td>0</td>\n",
       "      <td>1</td>\n",
       "      <td>0</td>\n",
       "      <td>1</td>\n",
       "      <td>0</td>\n",
       "    </tr>\n",
       "    <tr>\n",
       "      <th>4</th>\n",
       "      <td>3</td>\n",
       "      <td>1</td>\n",
       "      <td>22.000000</td>\n",
       "      <td>0</td>\n",
       "      <td>0</td>\n",
       "      <td>7.7250</td>\n",
       "      <td>1</td>\n",
       "      <td>0</td>\n",
       "      <td>0</td>\n",
       "      <td>1</td>\n",
       "      <td>0</td>\n",
       "    </tr>\n",
       "  </tbody>\n",
       "</table>\n",
       "</div>"
      ],
      "text/plain": [
       "   pclass  survived        age  sibsp  parch     fare  sex_female  sex_male  \\\n",
       "0       2         1  13.000000      0      1  19.5000           1         0   \n",
       "1       2         1   4.000000      1      1  23.0000           1         0   \n",
       "2       2         1  30.000000      1      0  13.8583           1         0   \n",
       "3       3         0  30.231444      0      0   7.7250           0         1   \n",
       "4       3         1  22.000000      0      0   7.7250           1         0   \n",
       "\n",
       "   embarked_C  embarked_Q  embarked_S  \n",
       "0           0           0           1  \n",
       "1           0           0           1  \n",
       "2           1           0           0  \n",
       "3           0           1           0  \n",
       "4           0           1           0  "
      ]
     },
     "execution_count": 50,
     "metadata": {},
     "output_type": "execute_result"
    }
   ],
   "source": [
    "# 현재 데이터셋 = train data + test data\n",
    "whole_df = train.append(test)\n",
    "train_idx_num = len(train)\n",
    "\n",
    "whole_df_encoded = pd.get_dummies(whole_df)\n",
    "train = whole_df_encoded[:train_idx_num]\n",
    "test = whole_df_encoded[train_idx_num:]\n",
    "\n",
    "train.head()"
   ]
  },
  {
   "cell_type": "markdown",
   "metadata": {},
   "source": [
    "### 로지스틱 회귀분석 모델링\n",
    "- Logistic Regression\n",
    "- https://nittaku.tistory.com/478\n",
    "- 어떤 사전이 발생할지에 대한 직접예측이 아니라 그 사건이 발생할 확률을 예측하는 것\n",
    "- 두개의 값만을 가지는 종속변수와 독립변수들 간의 인과관계를 로지스틱함수를 이용하여 추정하는 통계기법"
   ]
  },
  {
   "cell_type": "code",
   "execution_count": 51,
   "metadata": {},
   "outputs": [],
   "source": [
    "from sklearn.linear_model import LogisticRegression\n",
    "from sklearn.metrics import accuracy_score, precision_score, recall_score, f1_score"
   ]
  },
  {
   "cell_type": "markdown",
   "metadata": {},
   "source": [
    "### 분류 모델의 평가 지표\n",
    "- Confusion Matrix(교차분할표) or 분류 정확도를 이용하여 모델을 평가\n",
    "- 교차분할행렬에 예측값(predicted class)와 실측값(actual class)으로 구성\n",
    "- 정확도(Accuracy) : TP+TN / TP+TN+FP+FN\n",
    "- 정밀도(Precision) : TP/TP+FP\n",
    "- 재현도(Recall) : TP/TP+FN\n",
    "- f1_score : 정밀도, 재현도(민감도)의 조화 평균값, 두 값을 동시에 고려할 때 사용하는 지표"
   ]
  },
  {
   "cell_type": "code",
   "execution_count": 53,
   "metadata": {},
   "outputs": [],
   "source": [
    "# 데이터를 학습데이터와 테스트 데이터로 분류\n",
    "X_train, y_train = train.loc[:, train.columns != 'survived'].values, train['survived'].values\n",
    "X_test, y_test = test.loc[:, test.columns != 'survived'].values, test['survived'].values"
   ]
  },
  {
   "cell_type": "code",
   "execution_count": 54,
   "metadata": {},
   "outputs": [
    {
     "data": {
      "text/plain": [
       "LogisticRegression(C=1.0, class_weight=None, dual=False, fit_intercept=True,\n",
       "          intercept_scaling=1, max_iter=100, multi_class='warn',\n",
       "          n_jobs=None, penalty='l2', random_state=0, solver='warn',\n",
       "          tol=0.0001, verbose=0, warm_start=False)"
      ]
     },
     "execution_count": 54,
     "metadata": {},
     "output_type": "execute_result"
    }
   ],
   "source": [
    "# 로지스틱 회귀 모델 학습\n",
    "lr = LogisticRegression(random_state=0)\n",
    "lr.fit(X_train, y_train)"
   ]
  },
  {
   "cell_type": "code",
   "execution_count": 55,
   "metadata": {},
   "outputs": [],
   "source": [
    "# 학습 모델의 테스트 데이터셋에 대한 예측 결과 반환\n",
    "y_pred = lr.predict(X_test) # 예측값\n",
    "y_pred_probability = lr.predict_proba(X_test)[:1] # 확률값"
   ]
  },
  {
   "cell_type": "markdown",
   "metadata": {},
   "source": [
    "### 분류 모델 평가"
   ]
  },
  {
   "cell_type": "code",
   "execution_count": 56,
   "metadata": {},
   "outputs": [
    {
     "name": "stdout",
     "output_type": "stream",
     "text": [
      "accuracy : 0.80\n",
      "precision : 0.76\n",
      "recall : 0.67\n",
      "f1 : 0.71\n"
     ]
    }
   ],
   "source": [
    "# 테스트 데이터셋에 대한 정확도, 정밀도 , 특이도 , f1 평가 지표\n",
    "print(f'accuracy : {accuracy_score(y_test, y_pred):.2f}')\n",
    "print(f'precision : {precision_score(y_test, y_pred):.2f}')\n",
    "print(f'recall : {recall_score(y_test, y_pred):.2f}')\n",
    "print(f'f1 : {f1_score(y_test, y_pred):.2f}')"
   ]
  },
  {
   "cell_type": "code",
   "execution_count": 58,
   "metadata": {},
   "outputs": [
    {
     "data": {
      "text/plain": [
       "array([[214,  32],\n",
       "       [ 48,  99]], dtype=int64)"
      ]
     },
     "execution_count": 58,
     "metadata": {},
     "output_type": "execute_result"
    }
   ],
   "source": [
    "from sklearn.metrics import confusion_matrix\n",
    "\n",
    "confmat = confusion_matrix(y_true = y_test, y_pred=y_pred)\n",
    "confmat"
   ]
  },
  {
   "cell_type": "markdown",
   "metadata": {},
   "source": [
    "### Decision Tree(의사결정나무)\n",
    "- 로지스틱 회귀모델과 더불어 분류 분석의 대표적인 모델\n",
    "- 해석력이 좋다는 장점\n",
    "- 스무고개"
   ]
  },
  {
   "cell_type": "code",
   "execution_count": 59,
   "metadata": {},
   "outputs": [
    {
     "name": "stdout",
     "output_type": "stream",
     "text": [
      "accuracy : 0.76\n",
      "precision : 0.69\n",
      "recall : 0.63\n",
      "f1 : 0.66\n"
     ]
    }
   ],
   "source": [
    "from sklearn.tree import DecisionTreeClassifier\n",
    "\n",
    "# 학습, 모델 테스트, 예측값\n",
    "dtc = DecisionTreeClassifier()\n",
    "dtc.fit(X_train, y_train)\n",
    "\n",
    "y_pred = dtc.predict(X_test)\n",
    "y_pred_probability = dtc.predict_proba(X_test)[:,1]\n",
    "\n",
    "# 테스트 데이터셋에 대한 정확도, 정밀도 , 특이도 , f1 평가 지표\n",
    "print(f'accuracy : {accuracy_score(y_test, y_pred):.2f}')\n",
    "print(f'precision : {precision_score(y_test, y_pred):.2f}')\n",
    "print(f'recall : {recall_score(y_test, y_pred):.2f}')\n",
    "print(f'f1 : {f1_score(y_test, y_pred):.2f}')"
   ]
  },
  {
   "cell_type": "markdown",
   "metadata": {},
   "source": [
    "### 타이타닉 모델링\n",
    "- Logistic Regression\n",
    "- Support Vector Machine(SVM)\n",
    "- k-Nearest Neighbor(kNN)\n",
    "- Random Forest\n",
    "- Naive Bayes"
   ]
  },
  {
   "cell_type": "code",
   "execution_count": 60,
   "metadata": {},
   "outputs": [],
   "source": [
    "from sklearn.linear_model import LogisticRegression\n",
    "from sklearn.svm import SVC\n",
    "from sklearn.neighbors import KNeighborsClassifier\n",
    "from sklearn.ensemble import RandomForestClassifier\n",
    "from sklearn.naive_bayes import GaussianNB\n",
    "\n",
    "from sklearn.utils import shuffle"
   ]
  },
  {
   "cell_type": "code",
   "execution_count": 61,
   "metadata": {},
   "outputs": [],
   "source": [
    "X_train, y_train = shuffle(train.loc[:, train.columns != 'survived'].values, train['survived'].values)\n",
    "X_test, y_test = shuffle(test.loc[:, test.columns != 'survived'].values, test['survived'].values)"
   ]
  },
  {
   "cell_type": "code",
   "execution_count": 62,
   "metadata": {},
   "outputs": [],
   "source": [
    "def train_and_test(model):\n",
    "    model.fit(X_train, y_train)\n",
    "    prediction = model.predict(X_test)\n",
    "    accuracy = round(model.score(X_train, y_train) * 100, 2)\n",
    "    print('Accuracy : ', accuracy)\n",
    "    return prediction"
   ]
  },
  {
   "cell_type": "code",
   "execution_count": 63,
   "metadata": {},
   "outputs": [
    {
     "name": "stdout",
     "output_type": "stream",
     "text": [
      "Accuracy :  78.82\n",
      "Accuracy :  87.45\n",
      "Accuracy :  79.26\n",
      "Accuracy :  97.6\n",
      "Accuracy :  78.28\n"
     ]
    }
   ],
   "source": [
    "# Logistic Regression\n",
    "log_pred = train_and_test(LogisticRegression())\n",
    "# SVM\n",
    "svm_pred = train_and_test(SVC())\n",
    "# kNN\n",
    "knn_pred_4 = train_and_test(KNeighborsClassifier(n_neighbors=4))\n",
    "# Random Forest\n",
    "rf_pred = train_and_test(RandomForestClassifier(n_estimators=100))\n",
    "# Naive Bayes\n",
    "nb_pred = train_and_test(GaussianNB())"
   ]
  },
  {
   "cell_type": "markdown",
   "metadata": {},
   "source": [
    "### 피처 엔지니어링\n",
    "- http://blog.ggaman.com/1010\n",
    "- 분류모델의 성능을 높이기 위함\n",
    "- 피처 엔지니어링 : 모델에서 사용할 피처를 가공하는 분석 작업\n",
    "- 수치형 : 결측값처리, 이상치 처리\n",
    "- 범주형 : 원-핫 인코딩"
   ]
  },
  {
   "cell_type": "code",
   "execution_count": 90,
   "metadata": {},
   "outputs": [],
   "source": [
    "# 데이터 다시 불러오기\n",
    "train = pd.read_csv('../data/titanic_train.csv')\n",
    "test = pd.read_csv('../data/titanic_test.csv')\n",
    "\n",
    "# 불필요한 피처 제거\n",
    "train = train.drop(['ticket', 'body', 'home.dest'], axis=1)\n",
    "test = test.drop(['ticket', 'body', 'home.dest'], axis=1)\n",
    "\n",
    "# 결측값 처리\n",
    "replace_mean = train[train['age']>0]['age'].mean()\n",
    "train['age'] = train['age'].fillna(replace_mean)\n",
    "test['age'] = test['age'].fillna(replace_mean)\n",
    "\n",
    "emberked_mode = train['embarked'].value_counts().index[0]\n",
    "train['embarked'] = train['embarked'].fillna(emberked_mode)\n",
    "test['embarked'] = test['embarked'].fillna(emberked_mode)\n",
    "\n",
    "# 원-핫 인코딩\n",
    "whole_df = train.append(test)\n",
    "train_idx_num = len(train)"
   ]
  },
  {
   "cell_type": "code",
   "execution_count": 91,
   "metadata": {},
   "outputs": [
    {
     "data": {
      "text/plain": [
       "C23 C25 C27        6\n",
       "B57 B59 B63 B66    5\n",
       "G6                 5\n",
       "F33                4\n",
       "C22 C26            4\n",
       "D                  4\n",
       "F4                 4\n",
       "B96 B98            4\n",
       "F2                 4\n",
       "C78                4\n",
       "Name: cabin, dtype: int64"
      ]
     },
     "execution_count": 91,
     "metadata": {},
     "output_type": "execute_result"
    }
   ],
   "source": [
    "whole_df['cabin'].value_counts()[:10]"
   ]
  },
  {
   "cell_type": "code",
   "execution_count": 92,
   "metadata": {},
   "outputs": [
    {
     "name": "stdout",
     "output_type": "stream",
     "text": [
      "<class 'pandas.core.frame.DataFrame'>\n",
      "RangeIndex: 916 entries, 0 to 915\n",
      "Data columns (total 10 columns):\n",
      "pclass      916 non-null int64\n",
      "survived    916 non-null int64\n",
      "name        916 non-null object\n",
      "sex         916 non-null object\n",
      "age         916 non-null float64\n",
      "sibsp       916 non-null int64\n",
      "parch       916 non-null int64\n",
      "fare        916 non-null float64\n",
      "cabin       214 non-null object\n",
      "embarked    916 non-null object\n",
      "dtypes: float64(2), int64(4), object(4)\n",
      "memory usage: 71.6+ KB\n"
     ]
    }
   ],
   "source": [
    "train.info()"
   ]
  },
  {
   "cell_type": "code",
   "execution_count": 70,
   "metadata": {},
   "outputs": [
    {
     "data": {
      "text/html": [
       "<div>\n",
       "<style scoped>\n",
       "    .dataframe tbody tr th:only-of-type {\n",
       "        vertical-align: middle;\n",
       "    }\n",
       "\n",
       "    .dataframe tbody tr th {\n",
       "        vertical-align: top;\n",
       "    }\n",
       "\n",
       "    .dataframe thead th {\n",
       "        text-align: right;\n",
       "    }\n",
       "</style>\n",
       "<table border=\"1\" class=\"dataframe\">\n",
       "  <thead>\n",
       "    <tr style=\"text-align: right;\">\n",
       "      <th></th>\n",
       "      <th>pclass</th>\n",
       "      <th>survived</th>\n",
       "      <th>name</th>\n",
       "      <th>sex</th>\n",
       "      <th>age</th>\n",
       "      <th>sibsp</th>\n",
       "      <th>parch</th>\n",
       "      <th>fare</th>\n",
       "      <th>cabin</th>\n",
       "      <th>embarked</th>\n",
       "    </tr>\n",
       "  </thead>\n",
       "  <tbody>\n",
       "    <tr>\n",
       "      <th>906</th>\n",
       "      <td>3</td>\n",
       "      <td>0</td>\n",
       "      <td>Abbing, Mr. Anthony</td>\n",
       "      <td>male</td>\n",
       "      <td>42.000000</td>\n",
       "      <td>0</td>\n",
       "      <td>0</td>\n",
       "      <td>7.5500</td>\n",
       "      <td>NaN</td>\n",
       "      <td>S</td>\n",
       "    </tr>\n",
       "    <tr>\n",
       "      <th>907</th>\n",
       "      <td>3</td>\n",
       "      <td>1</td>\n",
       "      <td>Osman, Mrs. Mara</td>\n",
       "      <td>female</td>\n",
       "      <td>31.000000</td>\n",
       "      <td>0</td>\n",
       "      <td>0</td>\n",
       "      <td>8.6833</td>\n",
       "      <td>NaN</td>\n",
       "      <td>S</td>\n",
       "    </tr>\n",
       "    <tr>\n",
       "      <th>908</th>\n",
       "      <td>2</td>\n",
       "      <td>0</td>\n",
       "      <td>Yrois, Miss. Henriette (\"Mrs Harbeck\")</td>\n",
       "      <td>female</td>\n",
       "      <td>24.000000</td>\n",
       "      <td>0</td>\n",
       "      <td>0</td>\n",
       "      <td>13.0000</td>\n",
       "      <td>NaN</td>\n",
       "      <td>S</td>\n",
       "    </tr>\n",
       "    <tr>\n",
       "      <th>909</th>\n",
       "      <td>1</td>\n",
       "      <td>1</td>\n",
       "      <td>Spencer, Mrs. William Augustus (Marie Eugenie)</td>\n",
       "      <td>female</td>\n",
       "      <td>30.231444</td>\n",
       "      <td>1</td>\n",
       "      <td>0</td>\n",
       "      <td>146.5208</td>\n",
       "      <td>B78</td>\n",
       "      <td>C</td>\n",
       "    </tr>\n",
       "    <tr>\n",
       "      <th>910</th>\n",
       "      <td>3</td>\n",
       "      <td>1</td>\n",
       "      <td>Moss, Mr. Albert Johan</td>\n",
       "      <td>male</td>\n",
       "      <td>30.231444</td>\n",
       "      <td>0</td>\n",
       "      <td>0</td>\n",
       "      <td>7.7750</td>\n",
       "      <td>NaN</td>\n",
       "      <td>S</td>\n",
       "    </tr>\n",
       "    <tr>\n",
       "      <th>911</th>\n",
       "      <td>3</td>\n",
       "      <td>1</td>\n",
       "      <td>Dean, Miss. Elizabeth Gladys \"Millvina\"</td>\n",
       "      <td>female</td>\n",
       "      <td>0.170000</td>\n",
       "      <td>1</td>\n",
       "      <td>2</td>\n",
       "      <td>20.5750</td>\n",
       "      <td>NaN</td>\n",
       "      <td>S</td>\n",
       "    </tr>\n",
       "    <tr>\n",
       "      <th>912</th>\n",
       "      <td>3</td>\n",
       "      <td>0</td>\n",
       "      <td>Guest, Mr. Robert</td>\n",
       "      <td>male</td>\n",
       "      <td>30.231444</td>\n",
       "      <td>0</td>\n",
       "      <td>0</td>\n",
       "      <td>8.0500</td>\n",
       "      <td>NaN</td>\n",
       "      <td>S</td>\n",
       "    </tr>\n",
       "    <tr>\n",
       "      <th>913</th>\n",
       "      <td>3</td>\n",
       "      <td>1</td>\n",
       "      <td>Smyth, Miss. Julia</td>\n",
       "      <td>female</td>\n",
       "      <td>30.231444</td>\n",
       "      <td>0</td>\n",
       "      <td>0</td>\n",
       "      <td>7.7333</td>\n",
       "      <td>NaN</td>\n",
       "      <td>Q</td>\n",
       "    </tr>\n",
       "    <tr>\n",
       "      <th>914</th>\n",
       "      <td>2</td>\n",
       "      <td>1</td>\n",
       "      <td>Sincock, Miss. Maude</td>\n",
       "      <td>female</td>\n",
       "      <td>20.000000</td>\n",
       "      <td>0</td>\n",
       "      <td>0</td>\n",
       "      <td>36.7500</td>\n",
       "      <td>NaN</td>\n",
       "      <td>S</td>\n",
       "    </tr>\n",
       "    <tr>\n",
       "      <th>915</th>\n",
       "      <td>3</td>\n",
       "      <td>0</td>\n",
       "      <td>Bourke, Mrs. John (Catherine)</td>\n",
       "      <td>female</td>\n",
       "      <td>32.000000</td>\n",
       "      <td>1</td>\n",
       "      <td>1</td>\n",
       "      <td>15.5000</td>\n",
       "      <td>NaN</td>\n",
       "      <td>Q</td>\n",
       "    </tr>\n",
       "  </tbody>\n",
       "</table>\n",
       "</div>"
      ],
      "text/plain": [
       "     pclass  survived                                            name     sex  \\\n",
       "906       3         0                             Abbing, Mr. Anthony    male   \n",
       "907       3         1                                Osman, Mrs. Mara  female   \n",
       "908       2         0          Yrois, Miss. Henriette (\"Mrs Harbeck\")  female   \n",
       "909       1         1  Spencer, Mrs. William Augustus (Marie Eugenie)  female   \n",
       "910       3         1                          Moss, Mr. Albert Johan    male   \n",
       "911       3         1         Dean, Miss. Elizabeth Gladys \"Millvina\"  female   \n",
       "912       3         0                               Guest, Mr. Robert    male   \n",
       "913       3         1                              Smyth, Miss. Julia  female   \n",
       "914       2         1                            Sincock, Miss. Maude  female   \n",
       "915       3         0                   Bourke, Mrs. John (Catherine)  female   \n",
       "\n",
       "           age  sibsp  parch      fare cabin embarked  \n",
       "906  42.000000      0      0    7.5500   NaN        S  \n",
       "907  31.000000      0      0    8.6833   NaN        S  \n",
       "908  24.000000      0      0   13.0000   NaN        S  \n",
       "909  30.231444      1      0  146.5208   B78        C  \n",
       "910  30.231444      0      0    7.7750   NaN        S  \n",
       "911   0.170000      1      2   20.5750   NaN        S  \n",
       "912  30.231444      0      0    8.0500   NaN        S  \n",
       "913  30.231444      0      0    7.7333   NaN        Q  \n",
       "914  20.000000      0      0   36.7500   NaN        S  \n",
       "915  32.000000      1      1   15.5000   NaN        Q  "
      ]
     },
     "execution_count": 70,
     "metadata": {},
     "output_type": "execute_result"
    }
   ],
   "source": [
    "train.tail(10)"
   ]
  },
  {
   "cell_type": "code",
   "execution_count": 93,
   "metadata": {},
   "outputs": [
    {
     "data": {
      "image/png": "[encoded data removed]",
      "text/plain": [
       "<Figure size 432x288 with 1 Axes>"
      ]
     },
     "metadata": {
      "needs_background": "light"
     },
     "output_type": "display_data"
    }
   ],
   "source": [
    "# 결측데이터는 'X'로 대체\n",
    "whole_df['cabin'] = whole_df['cabin'].fillna('X')\n",
    "\n",
    "# cabin 피처의 첫 번째 알파벳을 추출\n",
    "whole_df['cabin'] = whole_df['cabin'].apply(lambda x:x[0])\n",
    "\n",
    "ax = sns.countplot(x='cabin', hue='survived', data=whole_df)\n",
    "plt.show()"
   ]
  },
  {
   "cell_type": "code",
   "execution_count": 94,
   "metadata": {},
   "outputs": [],
   "source": [
    "# 추출한 'G'나 'T'를 'X' 대체\n",
    "\n",
    "whole_df['cabin'] = whole_df['cabin'].replace({'G':'X', 'T':'X'})"
   ]
  },
  {
   "cell_type": "code",
   "execution_count": 95,
   "metadata": {},
   "outputs": [
    {
     "data": {
      "image/png": "[encoded data removed]",
      "text/plain": [
       "<Figure size 432x288 with 1 Axes>"
      ]
     },
     "metadata": {
      "needs_background": "light"
     },
     "output_type": "display_data"
    }
   ],
   "source": [
    "ax = sns.countplot(x='cabin', hue='survived', data=whole_df)\n",
    "plt.show()"
   ]
  },
  {
   "cell_type": "markdown",
   "metadata": {},
   "source": [
    "### name 피처"
   ]
  },
  {
   "cell_type": "code",
   "execution_count": 96,
   "metadata": {},
   "outputs": [
    {
     "data": {
      "text/plain": [
       "[' Miss',\n",
       " ' Mr',\n",
       " ' Master',\n",
       " ' Mrs',\n",
       " ' Dr',\n",
       " ' Mlle',\n",
       " ' Col',\n",
       " ' Rev',\n",
       " ' Ms',\n",
       " ' Mme',\n",
       " ' Sir',\n",
       " ' the Countess',\n",
       " ' Dona',\n",
       " ' Jonkheer',\n",
       " ' Lady',\n",
       " ' Major',\n",
       " ' Don',\n",
       " ' Capt']"
      ]
     },
     "execution_count": 96,
     "metadata": {},
     "output_type": "execute_result"
    }
   ],
   "source": [
    "# 이름에서 호칭(이름 중간에 있는 것) 추출\n",
    "name_grade = whole_df['name'].apply(lambda x : x.split(',', 1)[1].split('.')[0])\n",
    "name_grade = name_grade.unique().tolist()\n",
    "name_grade"
   ]
  },
  {
   "cell_type": "code",
   "execution_count": 97,
   "metadata": {},
   "outputs": [],
   "source": [
    "# 호칭에 따라 그루핑\n",
    "grade_dict = {'A' : ['Rev', 'Col', 'Major', 'Dr', 'Capt', 'Sir'],\n",
    "              'B' : ['Ms', 'Mme', 'Dona'],\n",
    "              'C' : ['Jonkheer', 'the Countess'],\n",
    "              'D' : ['Mr', 'Don'],\n",
    "              'E' : ['Master'],\n",
    "              'F' : ['Miss', 'Mlle', 'Lady']}"
   ]
  },
  {
   "cell_type": "code",
   "execution_count": 98,
   "metadata": {},
   "outputs": [
    {
     "data": {
      "text/plain": [
       "D    758\n",
       "F    263\n",
       "G    197\n",
       "E     61\n",
       "A     24\n",
       "B      4\n",
       "C      2\n",
       "Name: name, dtype: int64"
      ]
     },
     "execution_count": 98,
     "metadata": {},
     "output_type": "execute_result"
    }
   ],
   "source": [
    "def give_grade(x):\n",
    "    grade = x.split(', ', 1)[1].split('.')[0]\n",
    "    \n",
    "    for key, value in grade_dict.items():\n",
    "        for title in value:\n",
    "            if grade == title:\n",
    "                return key\n",
    "    return 'G'\n",
    "\n",
    "whole_df['name'] = whole_df['name'].apply(lambda x : give_grade(x))\n",
    "\n",
    "whole_df['name'].value_counts()"
   ]
  },
  {
   "cell_type": "code",
   "execution_count": 99,
   "metadata": {},
   "outputs": [
    {
     "data": {
      "text/html": [
       "<div>\n",
       "<style scoped>\n",
       "    .dataframe tbody tr th:only-of-type {\n",
       "        vertical-align: middle;\n",
       "    }\n",
       "\n",
       "    .dataframe tbody tr th {\n",
       "        vertical-align: top;\n",
       "    }\n",
       "\n",
       "    .dataframe thead th {\n",
       "        text-align: right;\n",
       "    }\n",
       "</style>\n",
       "<table border=\"1\" class=\"dataframe\">\n",
       "  <thead>\n",
       "    <tr style=\"text-align: right;\">\n",
       "      <th></th>\n",
       "      <th>pclass</th>\n",
       "      <th>survived</th>\n",
       "      <th>age</th>\n",
       "      <th>sibsp</th>\n",
       "      <th>parch</th>\n",
       "      <th>fare</th>\n",
       "      <th>name_A</th>\n",
       "      <th>name_B</th>\n",
       "      <th>name_C</th>\n",
       "      <th>name_D</th>\n",
       "      <th>...</th>\n",
       "      <th>cabin_A</th>\n",
       "      <th>cabin_B</th>\n",
       "      <th>cabin_C</th>\n",
       "      <th>cabin_D</th>\n",
       "      <th>cabin_E</th>\n",
       "      <th>cabin_F</th>\n",
       "      <th>cabin_X</th>\n",
       "      <th>embarked_C</th>\n",
       "      <th>embarked_Q</th>\n",
       "      <th>embarked_S</th>\n",
       "    </tr>\n",
       "  </thead>\n",
       "  <tbody>\n",
       "    <tr>\n",
       "      <th>0</th>\n",
       "      <td>2</td>\n",
       "      <td>1</td>\n",
       "      <td>13.000000</td>\n",
       "      <td>0</td>\n",
       "      <td>1</td>\n",
       "      <td>19.5000</td>\n",
       "      <td>0</td>\n",
       "      <td>0</td>\n",
       "      <td>0</td>\n",
       "      <td>0</td>\n",
       "      <td>...</td>\n",
       "      <td>0</td>\n",
       "      <td>0</td>\n",
       "      <td>0</td>\n",
       "      <td>0</td>\n",
       "      <td>0</td>\n",
       "      <td>0</td>\n",
       "      <td>1</td>\n",
       "      <td>0</td>\n",
       "      <td>0</td>\n",
       "      <td>1</td>\n",
       "    </tr>\n",
       "    <tr>\n",
       "      <th>1</th>\n",
       "      <td>2</td>\n",
       "      <td>1</td>\n",
       "      <td>4.000000</td>\n",
       "      <td>1</td>\n",
       "      <td>1</td>\n",
       "      <td>23.0000</td>\n",
       "      <td>0</td>\n",
       "      <td>0</td>\n",
       "      <td>0</td>\n",
       "      <td>0</td>\n",
       "      <td>...</td>\n",
       "      <td>0</td>\n",
       "      <td>0</td>\n",
       "      <td>0</td>\n",
       "      <td>0</td>\n",
       "      <td>0</td>\n",
       "      <td>0</td>\n",
       "      <td>1</td>\n",
       "      <td>0</td>\n",
       "      <td>0</td>\n",
       "      <td>1</td>\n",
       "    </tr>\n",
       "    <tr>\n",
       "      <th>2</th>\n",
       "      <td>2</td>\n",
       "      <td>1</td>\n",
       "      <td>30.000000</td>\n",
       "      <td>1</td>\n",
       "      <td>0</td>\n",
       "      <td>13.8583</td>\n",
       "      <td>0</td>\n",
       "      <td>0</td>\n",
       "      <td>0</td>\n",
       "      <td>0</td>\n",
       "      <td>...</td>\n",
       "      <td>0</td>\n",
       "      <td>0</td>\n",
       "      <td>0</td>\n",
       "      <td>0</td>\n",
       "      <td>0</td>\n",
       "      <td>0</td>\n",
       "      <td>1</td>\n",
       "      <td>1</td>\n",
       "      <td>0</td>\n",
       "      <td>0</td>\n",
       "    </tr>\n",
       "    <tr>\n",
       "      <th>3</th>\n",
       "      <td>3</td>\n",
       "      <td>0</td>\n",
       "      <td>30.231444</td>\n",
       "      <td>0</td>\n",
       "      <td>0</td>\n",
       "      <td>7.7250</td>\n",
       "      <td>0</td>\n",
       "      <td>0</td>\n",
       "      <td>0</td>\n",
       "      <td>1</td>\n",
       "      <td>...</td>\n",
       "      <td>0</td>\n",
       "      <td>0</td>\n",
       "      <td>0</td>\n",
       "      <td>0</td>\n",
       "      <td>0</td>\n",
       "      <td>0</td>\n",
       "      <td>1</td>\n",
       "      <td>0</td>\n",
       "      <td>1</td>\n",
       "      <td>0</td>\n",
       "    </tr>\n",
       "    <tr>\n",
       "      <th>4</th>\n",
       "      <td>3</td>\n",
       "      <td>1</td>\n",
       "      <td>22.000000</td>\n",
       "      <td>0</td>\n",
       "      <td>0</td>\n",
       "      <td>7.7250</td>\n",
       "      <td>0</td>\n",
       "      <td>0</td>\n",
       "      <td>0</td>\n",
       "      <td>0</td>\n",
       "      <td>...</td>\n",
       "      <td>0</td>\n",
       "      <td>0</td>\n",
       "      <td>0</td>\n",
       "      <td>0</td>\n",
       "      <td>0</td>\n",
       "      <td>0</td>\n",
       "      <td>1</td>\n",
       "      <td>0</td>\n",
       "      <td>1</td>\n",
       "      <td>0</td>\n",
       "    </tr>\n",
       "  </tbody>\n",
       "</table>\n",
       "<p>5 rows × 25 columns</p>\n",
       "</div>"
      ],
      "text/plain": [
       "   pclass  survived        age  sibsp  parch     fare  name_A  name_B  name_C  \\\n",
       "0       2         1  13.000000      0      1  19.5000       0       0       0   \n",
       "1       2         1   4.000000      1      1  23.0000       0       0       0   \n",
       "2       2         1  30.000000      1      0  13.8583       0       0       0   \n",
       "3       3         0  30.231444      0      0   7.7250       0       0       0   \n",
       "4       3         1  22.000000      0      0   7.7250       0       0       0   \n",
       "\n",
       "   name_D  ...  cabin_A  cabin_B  cabin_C  cabin_D  cabin_E  cabin_F  cabin_X  \\\n",
       "0       0  ...        0        0        0        0        0        0        1   \n",
       "1       0  ...        0        0        0        0        0        0        1   \n",
       "2       0  ...        0        0        0        0        0        0        1   \n",
       "3       1  ...        0        0        0        0        0        0        1   \n",
       "4       0  ...        0        0        0        0        0        0        1   \n",
       "\n",
       "   embarked_C  embarked_Q  embarked_S  \n",
       "0           0           0           1  \n",
       "1           0           0           1  \n",
       "2           1           0           0  \n",
       "3           0           1           0  \n",
       "4           0           1           0  \n",
       "\n",
       "[5 rows x 25 columns]"
      ]
     },
     "execution_count": 99,
     "metadata": {},
     "output_type": "execute_result"
    }
   ],
   "source": [
    "whole_df_encoded = pd.get_dummies(whole_df)\n",
    "train = whole_df_encoded[:train_idx_num]\n",
    "test = whole_df_encoded[train_idx_num:]\n",
    "\n",
    "train.head()"
   ]
  },
  {
   "cell_type": "code",
   "execution_count": null,
   "metadata": {},
   "outputs": [],
   "source": []
  }
 ],
 "metadata": {
  "kernelspec": {
   "display_name": "Python 3",
   "language": "python",
   "name": "python3"
  },
  "language_info": {
   "codemirror_mode": {
    "name": "ipython",
    "version": 3
   },
   "file_extension": ".py",
   "mimetype": "text/x-python",
   "name": "python",
   "nbconvert_exporter": "python",
   "pygments_lexer": "ipython3",
   "version": "3.7.3"
  }
 },
 "nbformat": 4,
 "nbformat_minor": 2
}
