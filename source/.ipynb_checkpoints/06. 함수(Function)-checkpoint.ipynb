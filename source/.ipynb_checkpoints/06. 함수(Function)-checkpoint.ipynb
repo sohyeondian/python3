{
 "cells": [
  {
   "cell_type": "markdown",
   "metadata": {},
   "source": [
    "### 00. 함수(Function)\n",
    "- 일정한 작업을 수행하는 명령어들의 집합\n",
    "- 자주 빈번하게 사용되는 기능이나 명령어를 하나의 이름으로 묶어 처리\n",
    "- 형식 def(=define) 함수명(매개변수):\n",
    "- 수행할 문장들\n",
    "- return 리턴값"
   ]
  },
  {
   "cell_type": "code",
   "execution_count": 1,
   "metadata": {},
   "outputs": [],
   "source": [
    "def fuction():\n",
    "    pass\n",
    "    # return"
   ]
  },
  {
   "cell_type": "code",
   "execution_count": null,
   "metadata": {},
   "outputs": [],
   "source": []
  }
 ],
 "metadata": {
  "kernelspec": {
   "display_name": "Python 3",
   "language": "python",
   "name": "python3"
  },
  "language_info": {
   "codemirror_mode": {
    "name": "ipython",
    "version": 3
   },
   "file_extension": ".py",
   "mimetype": "text/x-python",
   "name": "python",
   "nbconvert_exporter": "python",
   "pygments_lexer": "ipython3",
   "version": "3.7.3"
  }
 },
 "nbformat": 4,
 "nbformat_minor": 2
}
