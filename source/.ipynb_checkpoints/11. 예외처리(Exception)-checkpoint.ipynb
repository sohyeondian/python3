{
 "cells": [
  {
   "cell_type": "markdown",
   "metadata": {},
   "source": [
    "#### 0. 에러와 예외\n",
    "- **에러(Syntax Error)** : 문법적 에러\n",
    "- __예외(Exception)__ : 구문 에러는 없으나 프로그램이 진행하지 못하는 상황"
   ]
  },
  {
   "cell_type": "markdown",
   "metadata": {},
   "source": [
    "#### 1. 예외처리방법\n",
    "- try: 예외상황이 발생가능한 문구를 작성하는 영역\n",
    "- except [EXCEPTION]: 예외가 발생했을 때 실행할 내용을 작성하는 영역\n",
    "- else : 예외가 발생하지 않았을 때 실행할 문장을 작성하는 영역\n",
    "- finally : 예외가 발생 여부와 상관없이 실행할 문장을 작성하는 영역\n",
    "- [파이썬 내장 예외 종류](https://docs.python.org/3/library/exceptions.html)"
   ]
  },
  {
   "cell_type": "code",
   "execution_count": 1,
   "metadata": {},
   "outputs": [
    {
     "name": "stdout",
     "output_type": "stream",
     "text": [
      "start\n"
     ]
    },
    {
     "ename": "ZeroDivisionError",
     "evalue": "division by zero",
     "output_type": "error",
     "traceback": [
      "\u001b[1;31m---------------------------------------------------------------------------\u001b[0m",
      "\u001b[1;31mZeroDivisionError\u001b[0m                         Traceback (most recent call last)",
      "\u001b[1;32m<ipython-input-1-995aea09ca51>\u001b[0m in \u001b[0;36m<module>\u001b[1;34m\u001b[0m\n\u001b[0;32m      1\u001b[0m \u001b[0mprint\u001b[0m\u001b[1;33m(\u001b[0m\u001b[1;34m'start'\u001b[0m\u001b[1;33m)\u001b[0m\u001b[1;33m\u001b[0m\u001b[1;33m\u001b[0m\u001b[0m\n\u001b[1;32m----> 2\u001b[1;33m \u001b[1;36m4\u001b[0m\u001b[1;33m/\u001b[0m\u001b[1;36m0\u001b[0m \u001b[1;31m#ZeroDivisionError\u001b[0m\u001b[1;33m\u001b[0m\u001b[1;33m\u001b[0m\u001b[0m\n\u001b[0m\u001b[0;32m      3\u001b[0m \u001b[0mprint\u001b[0m\u001b[1;33m(\u001b[0m\u001b[1;34m'end'\u001b[0m\u001b[1;33m)\u001b[0m\u001b[1;33m\u001b[0m\u001b[1;33m\u001b[0m\u001b[0m\n",
      "\u001b[1;31mZeroDivisionError\u001b[0m: division by zero"
     ]
    }
   ],
   "source": [
    "print('start')\n",
    "4/0 #ZeroDivisionError\n",
    "print('end')"
   ]
  },
  {
   "cell_type": "code",
   "execution_count": 2,
   "metadata": {},
   "outputs": [
    {
     "name": "stdout",
     "output_type": "stream",
     "text": [
      "start\n",
      "division by zero\n",
      "end\n"
     ]
    }
   ],
   "source": [
    "print('start')\n",
    "\n",
    "try:\n",
    "    4/0\n",
    "except ZeroDivisionError as e:\n",
    "    #print(e) # division by zero\n",
    "    print(\"0으로 나눌 수 없습니다.\") # 예외처리문구 예외처리문구\n",
    "    \n",
    "print('end')"
   ]
  },
  {
   "cell_type": "code",
   "execution_count": 3,
   "metadata": {},
   "outputs": [
    {
     "name": "stdout",
     "output_type": "stream",
     "text": [
      "종료하려면 q를 입력하세요.\n",
      "\n",
      "분자 입력 : 3\n",
      "분모 입력 : 4\n",
      "3 / 4 = 0.75\n",
      "\n",
      "분자 입력 : 2\n",
      "분모 입력 : 0\n",
      "분모에는 0을 입력할 수 없습니다.\n",
      "ErrorMessage : division by zero\n",
      "\n",
      "분자 입력 : q\n",
      "프로그램을 종료합니다.\n"
     ]
    }
   ],
   "source": [
    "print('종료하려면 q를 입력하세요.')\n",
    "\n",
    "while True:\n",
    "    su1 = input('\\n분자 입력 : ')\n",
    "    if su1 == 'q': break\n",
    "    su2 = input('분모 입력 : ')\n",
    "    if su2 == 'q': break\n",
    "    \n",
    "    try:\n",
    "        result = int(su1) / int(su2)\n",
    "    \n",
    "        print(f'{su1} / {su2} = {result}')\n",
    "    except Exception as e:\n",
    "        # Exception : 어떤 예외인지 명확히 할 수 없을 때\n",
    "        print('분모에는 0을 입력할 수 없습니다.')\n",
    "        print('ErrorMessage :',e)\n",
    "\n",
    "print('프로그램을 종료합니다.')"
   ]
  },
  {
   "cell_type": "code",
   "execution_count": 4,
   "metadata": {},
   "outputs": [
    {
     "name": "stdout",
     "output_type": "stream",
     "text": [
      "start\n",
      "연산의 자료형이 일치하지 않습니다.\n"
     ]
    }
   ],
   "source": [
    "# 함수 선언\n",
    "def exception_test():\n",
    "    print('start')\n",
    "    try:\n",
    "        print(2 + '2')\n",
    "    except:\n",
    "        print(\"연산의 자료형이 일치하지 않습니다.\")\n",
    "    print('end')\n",
    "\n",
    "# 함수 호출\n",
    "exception_test()"
   ]
  },
  {
   "cell_type": "code",
   "execution_count": 5,
   "metadata": {},
   "outputs": [
    {
     "name": "stdout",
     "output_type": "stream",
     "text": [
      "start\n",
      "end\n"
     ]
    },
    {
     "name": "stderr",
     "output_type": "stream",
     "text": [
      "Traceback (most recent call last):\n",
      "  File \"<ipython-input-5-23a8bcc7726b>\", line 10, in exception_test\n",
      "    print(2 + '2') # 자료형 에러\n",
      "TypeError: unsupported operand type(s) for +: 'int' and 'str'\n"
     ]
    }
   ],
   "source": [
    "# 모듈 로딩\n",
    "import traceback\n",
    "\n",
    "# 함수 선언\n",
    "def exception_test():\n",
    "    \n",
    "    print('start')\n",
    "    \n",
    "    try:\n",
    "        print(2 + '2') # 자료형 에러\n",
    "    except:\n",
    "        # 스택 추적메시지를 출력하는 함수\n",
    "        traceback.print_exc() \n",
    "        \n",
    "    print('end')\n",
    "\n",
    "# 함수 호출\n",
    "exception_test()"
   ]
  },
  {
   "cell_type": "code",
   "execution_count": 6,
   "metadata": {},
   "outputs": [
    {
     "ename": "FileNotFoundError",
     "evalue": "[Errno 2] No such file or directory: 'D:/python3/study/test2.txt'",
     "output_type": "error",
     "traceback": [
      "\u001b[1;31m---------------------------------------------------------------------------\u001b[0m",
      "\u001b[1;31mFileNotFoundError\u001b[0m                         Traceback (most recent call last)",
      "\u001b[1;32m<ipython-input-6-935a9b9496dd>\u001b[0m in \u001b[0;36m<module>\u001b[1;34m\u001b[0m\n\u001b[0;32m      1\u001b[0m \u001b[1;31m# 파일이 존재하지 않을 때 발생하는 상황\u001b[0m\u001b[1;33m\u001b[0m\u001b[1;33m\u001b[0m\u001b[1;33m\u001b[0m\u001b[0m\n\u001b[1;32m----> 2\u001b[1;33m \u001b[0mf\u001b[0m \u001b[1;33m=\u001b[0m \u001b[0mopen\u001b[0m\u001b[1;33m(\u001b[0m\u001b[1;34m'D:/python3/study/test2.txt'\u001b[0m\u001b[1;33m,\u001b[0m\u001b[1;34m'r'\u001b[0m\u001b[1;33m)\u001b[0m\u001b[1;33m\u001b[0m\u001b[1;33m\u001b[0m\u001b[0m\n\u001b[0m\u001b[0;32m      3\u001b[0m \u001b[1;33m\u001b[0m\u001b[0m\n\u001b[0;32m      4\u001b[0m \u001b[1;32mwhile\u001b[0m \u001b[1;32mTrue\u001b[0m\u001b[1;33m:\u001b[0m\u001b[1;33m\u001b[0m\u001b[1;33m\u001b[0m\u001b[0m\n\u001b[0;32m      5\u001b[0m     \u001b[0mline\u001b[0m \u001b[1;33m=\u001b[0m \u001b[0mf\u001b[0m\u001b[1;33m.\u001b[0m\u001b[0mreadline\u001b[0m\u001b[1;33m(\u001b[0m\u001b[1;33m)\u001b[0m\u001b[1;33m\u001b[0m\u001b[1;33m\u001b[0m\u001b[0m\n",
      "\u001b[1;31mFileNotFoundError\u001b[0m: [Errno 2] No such file or directory: 'D:/python3/study/test2.txt'"
     ]
    }
   ],
   "source": [
    "# 파일이 존재하지 않을 때 발생하는 상황\n",
    "f = open('D:/python3/study/test2.txt','r')\n",
    "\n",
    "while True:\n",
    "    line = f.readline()\n",
    "    if not line:\n",
    "        break\n",
    "    print(line, end = '')\n",
    "\n",
    "f.close()"
   ]
  },
  {
   "cell_type": "code",
   "execution_count": 7,
   "metadata": {},
   "outputs": [
    {
     "name": "stdout",
     "output_type": "stream",
     "text": [
      "111\n",
      "222\n",
      "333\n",
      "444\n",
      "555\n"
     ]
    }
   ],
   "source": [
    "# 파일이 존재하지 않을 때 발생하는 상황\n",
    "try:\n",
    "    f = open('D:/python3/study/test2.txt','r')\n",
    "except FileNotFoundError as e:\n",
    "    print(e)\n",
    "else:\n",
    "    while True:\n",
    "        line = f.readline()\n",
    "        if not line:\n",
    "            break\n",
    "        print(line, end = '')\n",
    "\n",
    "    f.close()"
   ]
  },
  {
   "cell_type": "code",
   "execution_count": null,
   "metadata": {},
   "outputs": [],
   "source": [
    "# 다중 예외가 발생하는 상황\n",
    "\n",
    "a = [1, 2]\n",
    "4/0\n",
    "print(a[2])"
   ]
  },
  {
   "cell_type": "code",
   "execution_count": 8,
   "metadata": {},
   "outputs": [
    {
     "name": "stdout",
     "output_type": "stream",
     "text": [
      "0으로 나눌 수 없습니다.\n",
      "프로그램을 종료합니다.\n"
     ]
    }
   ],
   "source": [
    "try:\n",
    "    a = [1, 2]\n",
    "    4/0\n",
    "    print(a[2])\n",
    "except ZeroDivisionError:\n",
    "    print('0으로 나눌 수 없습니다.')\n",
    "except IndexError:\n",
    "    print('존재하지않는 위치값입니다.')\n",
    "except Exception:\n",
    "    print('기타 예외상황...')\n",
    "finally:\n",
    "    print('프로그램을 종료합니다.')"
   ]
  },
  {
   "cell_type": "code",
   "execution_count": null,
   "metadata": {},
   "outputs": [],
   "source": []
  }
 ],
 "metadata": {
  "kernelspec": {
   "display_name": "Python 3",
   "language": "python",
   "name": "python3"
  },
  "language_info": {
   "codemirror_mode": {
    "name": "ipython",
    "version": 3
   },
   "file_extension": ".py",
   "mimetype": "text/x-python",
   "name": "python",
   "nbconvert_exporter": "python",
   "pygments_lexer": "ipython3",
   "version": "3.7.3"
  }
 },
 "nbformat": 4,
 "nbformat_minor": 2
}
