{
 "cells": [
  {
   "cell_type": "markdown",
   "metadata": {},
   "source": [
    "### 모델 정확도를 높여 예측하기"
   ]
  },
  {
   "cell_type": "code",
   "execution_count": 1,
   "metadata": {},
   "outputs": [],
   "source": [
    "from sklearn.datasets import load_iris\n",
    "\n",
    "iris = load_iris()"
   ]
  },
  {
   "cell_type": "code",
   "execution_count": 2,
   "metadata": {},
   "outputs": [
    {
     "data": {
      "text/plain": [
       "dict_keys(['data', 'target', 'target_names', 'DESCR', 'feature_names', 'filename'])"
      ]
     },
     "execution_count": 2,
     "metadata": {},
     "output_type": "execute_result"
    }
   ],
   "source": [
    "iris.keys()"
   ]
  },
  {
   "cell_type": "code",
   "execution_count": 3,
   "metadata": {},
   "outputs": [
    {
     "data": {
      "text/plain": [
       "array(['setosa', 'versicolor', 'virginica'], dtype='<U10')"
      ]
     },
     "execution_count": 3,
     "metadata": {},
     "output_type": "execute_result"
    }
   ],
   "source": [
    "iris.target_names"
   ]
  },
  {
   "cell_type": "code",
   "execution_count": 4,
   "metadata": {},
   "outputs": [],
   "source": [
    "iris_data = iris.data\n",
    "iris_label = iris.target\n",
    "\n",
    "from sklearn.metrics import accuracy_score\n",
    "from sklearn.model_selection import train_test_split\n",
    "X_train, X_test, y_train, y_test = train_test_split(iris_data,\n",
    "                                                    iris_label, \n",
    "                                                    test_size = 0.2, \n",
    "                                                    random_state = 89)"
   ]
  },
  {
   "cell_type": "code",
   "execution_count": 16,
   "metadata": {},
   "outputs": [
    {
     "name": "stdout",
     "output_type": "stream",
     "text": [
      "accuracy : 0.93\n"
     ]
    },
    {
     "name": "stderr",
     "output_type": "stream",
     "text": [
      "C:\\Anaconda3\\lib\\site-packages\\sklearn\\linear_model\\logistic.py:433: FutureWarning: Default solver will be changed to 'lbfgs' in 0.22. Specify a solver to silence this warning.\n",
      "  FutureWarning)\n",
      "C:\\Anaconda3\\lib\\site-packages\\sklearn\\linear_model\\logistic.py:460: FutureWarning: Default multi_class will be changed to 'auto' in 0.22. Specify the multi_class option to silence this warning.\n",
      "  \"this warning.\", FutureWarning)\n"
     ]
    }
   ],
   "source": [
    "from sklearn.linear_model import LogisticRegression\n",
    "\n",
    "lr = LogisticRegression(random_state=0)\n",
    "lr.fit(X_train, y_train)\n",
    "\n",
    "pred = lr.predict(X_test)\n",
    "print(f'accuracy : {accuracy_score(pred, y_test):.2f}')"
   ]
  },
  {
   "cell_type": "code",
   "execution_count": 6,
   "metadata": {},
   "outputs": [
    {
     "name": "stdout",
     "output_type": "stream",
     "text": [
      "The accuracy of the KNN is: 0.97\n"
     ]
    }
   ],
   "source": [
    "from sklearn.neighbors import KNeighborsClassifier\n",
    "knn = KNeighborsClassifier(n_neighbors=1)  # \n",
    "knn.fit(X_train, y_train)\n",
    "pred = knn.predict(X_test)\n",
    "print(f\"The accuracy of the KNN is: {accuracy_score(pred, y_test):.2f}\")"
   ]
  },
  {
   "cell_type": "code",
   "execution_count": 7,
   "metadata": {},
   "outputs": [
    {
     "name": "stderr",
     "output_type": "stream",
     "text": [
      "C:\\Anaconda3\\lib\\site-packages\\sklearn\\utils\\deprecation.py:77: DeprecationWarning: Function make_blobs is deprecated; Please import make_blobs directly from scikit-learn\n",
      "  warnings.warn(msg, category=DeprecationWarning)\n"
     ]
    },
    {
     "data": {
      "image/png": "[encoded data removed]",
      "text/plain": [
       "<Figure size 432x288 with 1 Axes>"
      ]
     },
     "metadata": {
      "needs_background": "light"
     },
     "output_type": "display_data"
    }
   ],
   "source": [
    "import mglearn\n",
    "import matplotlib.pyplot as plt\n",
    "%matplotlib inline\n",
    "\n",
    "mglearn.plots.plot_knn_classification(n_neighbors=1)"
   ]
  },
  {
   "cell_type": "code",
   "execution_count": 8,
   "metadata": {},
   "outputs": [
    {
     "name": "stdout",
     "output_type": "stream",
     "text": [
      "The accuracy of the Decision Tree is: 0.97\n"
     ]
    }
   ],
   "source": [
    "from sklearn.tree import DecisionTreeClassifier\n",
    "\n",
    "dt = DecisionTreeClassifier(random_state = 89)\n",
    "\n",
    "dt.fit(X_train, y_train)\n",
    "\n",
    "pred = dt.predict(X_test)\n",
    "print(f'The accuracy of the Decision Tree is: {accuracy_score(pred, y_test):.2f}')"
   ]
  },
  {
   "cell_type": "code",
   "execution_count": 9,
   "metadata": {},
   "outputs": [],
   "source": [
    "from sklearn.tree import export_graphviz\n",
    "# impurity(불순도) : 여러가지 클래스가 섞여있는 정도\n",
    "export_graphviz(dt, out_file=\"iris_tree.dot\",\n",
    "                feature_names=iris.feature_names,\n",
    "                class_names=iris.feature_names,\n",
    "                impurity=True, filled=True)"
   ]
  },
  {
   "cell_type": "code",
   "execution_count": 10,
   "metadata": {},
   "outputs": [
    {
     "data": {
      "image/svg+xml": [
       "<?xml version=\"1.0\" encoding=\"UTF-8\" standalone=\"no\"?>\r\n",
       "<!DOCTYPE svg PUBLIC \"-//W3C//DTD SVG 1.1//EN\"\r\n",
       " \"http://www.w3.org/Graphics/SVG/1.1/DTD/svg11.dtd\">\r\n",
       "<!-- Generated by graphviz version 2.47.1 (20210417.1919)\r\n",
       " -->\r\n",
       "<!-- Title: Tree Pages: 1 -->\r\n",
       "<svg width=\"941pt\" height=\"790pt\"\r\n",
       " viewBox=\"0.00 0.00 941.00 790.00\" xmlns=\"http://www.w3.org/2000/svg\" xmlns:xlink=\"http://www.w3.org/1999/xlink\">\r\n",
       "<g id=\"graph0\" class=\"graph\" transform=\"scale(1 1) rotate(0) translate(4 786)\">\r\n",
       "<title>Tree</title>\r\n",
       "<polygon fill=\"white\" stroke=\"transparent\" points=\"-4,4 -4,-786 937,-786 937,4 -4,4\"/>\r\n",
       "<!-- 0 -->\r\n",
       "<g id=\"node1\" class=\"node\">\r\n",
       "<title>0</title>\r\n",
       "<polygon fill=\"#39e581\" fill-opacity=\"0.023529\" stroke=\"black\" points=\"583,-782 430,-782 430,-699 583,-699 583,-782\"/>\r\n",
       "<text text-anchor=\"middle\" x=\"506.5\" y=\"-766.8\" font-family=\"Times New Roman,serif\" font-size=\"14.00\">petal width (cm) &lt;= 0.8</text>\r\n",
       "<text text-anchor=\"middle\" x=\"506.5\" y=\"-751.8\" font-family=\"Times New Roman,serif\" font-size=\"14.00\">gini = 0.665</text>\r\n",
       "<text text-anchor=\"middle\" x=\"506.5\" y=\"-736.8\" font-family=\"Times New Roman,serif\" font-size=\"14.00\">samples = 120</text>\r\n",
       "<text text-anchor=\"middle\" x=\"506.5\" y=\"-721.8\" font-family=\"Times New Roman,serif\" font-size=\"14.00\">value = [36, 43, 41]</text>\r\n",
       "<text text-anchor=\"middle\" x=\"506.5\" y=\"-706.8\" font-family=\"Times New Roman,serif\" font-size=\"14.00\">class = sepal width (cm)</text>\r\n",
       "</g>\r\n",
       "<!-- 1 -->\r\n",
       "<g id=\"node2\" class=\"node\">\r\n",
       "<title>1</title>\r\n",
       "<polygon fill=\"#e58139\" stroke=\"black\" points=\"498,-655.5 343,-655.5 343,-587.5 498,-587.5 498,-655.5\"/>\r\n",
       "<text text-anchor=\"middle\" x=\"420.5\" y=\"-640.3\" font-family=\"Times New Roman,serif\" font-size=\"14.00\">gini = 0.0</text>\r\n",
       "<text text-anchor=\"middle\" x=\"420.5\" y=\"-625.3\" font-family=\"Times New Roman,serif\" font-size=\"14.00\">samples = 36</text>\r\n",
       "<text text-anchor=\"middle\" x=\"420.5\" y=\"-610.3\" font-family=\"Times New Roman,serif\" font-size=\"14.00\">value = [36, 0, 0]</text>\r\n",
       "<text text-anchor=\"middle\" x=\"420.5\" y=\"-595.3\" font-family=\"Times New Roman,serif\" font-size=\"14.00\">class = sepal length (cm)</text>\r\n",
       "</g>\r\n",
       "<!-- 0&#45;&gt;1 -->\r\n",
       "<g id=\"edge1\" class=\"edge\">\r\n",
       "<title>0&#45;&gt;1</title>\r\n",
       "<path fill=\"none\" stroke=\"black\" d=\"M476.66,-698.91C468.31,-687.54 459.22,-675.18 450.84,-663.77\"/>\r\n",
       "<polygon fill=\"black\" stroke=\"black\" points=\"453.62,-661.65 444.88,-655.67 447.98,-665.8 453.62,-661.65\"/>\r\n",
       "<text text-anchor=\"middle\" x=\"441.11\" y=\"-676.68\" font-family=\"Times New Roman,serif\" font-size=\"14.00\">True</text>\r\n",
       "</g>\r\n",
       "<!-- 2 -->\r\n",
       "<g id=\"node3\" class=\"node\">\r\n",
       "<title>2</title>\r\n",
       "<polygon fill=\"#39e581\" fill-opacity=\"0.047059\" stroke=\"black\" points=\"671,-663 516,-663 516,-580 671,-580 671,-663\"/>\r\n",
       "<text text-anchor=\"middle\" x=\"593.5\" y=\"-647.8\" font-family=\"Times New Roman,serif\" font-size=\"14.00\">petal width (cm) &lt;= 1.75</text>\r\n",
       "<text text-anchor=\"middle\" x=\"593.5\" y=\"-632.8\" font-family=\"Times New Roman,serif\" font-size=\"14.00\">gini = 0.5</text>\r\n",
       "<text text-anchor=\"middle\" x=\"593.5\" y=\"-617.8\" font-family=\"Times New Roman,serif\" font-size=\"14.00\">samples = 84</text>\r\n",
       "<text text-anchor=\"middle\" x=\"593.5\" y=\"-602.8\" font-family=\"Times New Roman,serif\" font-size=\"14.00\">value = [0, 43, 41]</text>\r\n",
       "<text text-anchor=\"middle\" x=\"593.5\" y=\"-587.8\" font-family=\"Times New Roman,serif\" font-size=\"14.00\">class = sepal width (cm)</text>\r\n",
       "</g>\r\n",
       "<!-- 0&#45;&gt;2 -->\r\n",
       "<g id=\"edge2\" class=\"edge\">\r\n",
       "<title>0&#45;&gt;2</title>\r\n",
       "<path fill=\"none\" stroke=\"black\" d=\"M536.68,-698.91C543.36,-689.92 550.51,-680.32 557.4,-671.05\"/>\r\n",
       "<polygon fill=\"black\" stroke=\"black\" points=\"560.21,-673.13 563.37,-663.02 554.59,-668.96 560.21,-673.13\"/>\r\n",
       "<text text-anchor=\"middle\" x=\"567.01\" y=\"-684.05\" font-family=\"Times New Roman,serif\" font-size=\"14.00\">False</text>\r\n",
       "</g>\r\n",
       "<!-- 3 -->\r\n",
       "<g id=\"node4\" class=\"node\">\r\n",
       "<title>3</title>\r\n",
       "<polygon fill=\"#39e581\" fill-opacity=\"0.905882\" stroke=\"black\" points=\"584.5,-544 426.5,-544 426.5,-461 584.5,-461 584.5,-544\"/>\r\n",
       "<text text-anchor=\"middle\" x=\"505.5\" y=\"-528.8\" font-family=\"Times New Roman,serif\" font-size=\"14.00\">petal length (cm) &lt;= 5.35</text>\r\n",
       "<text text-anchor=\"middle\" x=\"505.5\" y=\"-513.8\" font-family=\"Times New Roman,serif\" font-size=\"14.00\">gini = 0.159</text>\r\n",
       "<text text-anchor=\"middle\" x=\"505.5\" y=\"-498.8\" font-family=\"Times New Roman,serif\" font-size=\"14.00\">samples = 46</text>\r\n",
       "<text text-anchor=\"middle\" x=\"505.5\" y=\"-483.8\" font-family=\"Times New Roman,serif\" font-size=\"14.00\">value = [0, 42, 4]</text>\r\n",
       "<text text-anchor=\"middle\" x=\"505.5\" y=\"-468.8\" font-family=\"Times New Roman,serif\" font-size=\"14.00\">class = sepal width (cm)</text>\r\n",
       "</g>\r\n",
       "<!-- 2&#45;&gt;3 -->\r\n",
       "<g id=\"edge3\" class=\"edge\">\r\n",
       "<title>2&#45;&gt;3</title>\r\n",
       "<path fill=\"none\" stroke=\"black\" d=\"M562.97,-579.91C556.21,-570.92 548.98,-561.32 542.02,-552.05\"/>\r\n",
       "<polygon fill=\"black\" stroke=\"black\" points=\"544.79,-549.91 535.98,-544.02 539.19,-554.12 544.79,-549.91\"/>\r\n",
       "</g>\r\n",
       "<!-- 14 -->\r\n",
       "<g id=\"node15\" class=\"node\">\r\n",
       "<title>14</title>\r\n",
       "<polygon fill=\"#8139e5\" fill-opacity=\"0.972549\" stroke=\"black\" points=\"760.5,-544 602.5,-544 602.5,-461 760.5,-461 760.5,-544\"/>\r\n",
       "<text text-anchor=\"middle\" x=\"681.5\" y=\"-528.8\" font-family=\"Times New Roman,serif\" font-size=\"14.00\">petal length (cm) &lt;= 4.85</text>\r\n",
       "<text text-anchor=\"middle\" x=\"681.5\" y=\"-513.8\" font-family=\"Times New Roman,serif\" font-size=\"14.00\">gini = 0.051</text>\r\n",
       "<text text-anchor=\"middle\" x=\"681.5\" y=\"-498.8\" font-family=\"Times New Roman,serif\" font-size=\"14.00\">samples = 38</text>\r\n",
       "<text text-anchor=\"middle\" x=\"681.5\" y=\"-483.8\" font-family=\"Times New Roman,serif\" font-size=\"14.00\">value = [0, 1, 37]</text>\r\n",
       "<text text-anchor=\"middle\" x=\"681.5\" y=\"-468.8\" font-family=\"Times New Roman,serif\" font-size=\"14.00\">class = petal length (cm)</text>\r\n",
       "</g>\r\n",
       "<!-- 2&#45;&gt;14 -->\r\n",
       "<g id=\"edge14\" class=\"edge\">\r\n",
       "<title>2&#45;&gt;14</title>\r\n",
       "<path fill=\"none\" stroke=\"black\" d=\"M624.03,-579.91C630.79,-570.92 638.02,-561.32 644.98,-552.05\"/>\r\n",
       "<polygon fill=\"black\" stroke=\"black\" points=\"647.81,-554.12 651.02,-544.02 642.21,-549.91 647.81,-554.12\"/>\r\n",
       "</g>\r\n",
       "<!-- 4 -->\r\n",
       "<g id=\"node5\" class=\"node\">\r\n",
       "<title>4</title>\r\n",
       "<polygon fill=\"#39e581\" fill-opacity=\"0.952941\" stroke=\"black\" points=\"411.5,-425 251.5,-425 251.5,-342 411.5,-342 411.5,-425\"/>\r\n",
       "<text text-anchor=\"middle\" x=\"331.5\" y=\"-409.8\" font-family=\"Times New Roman,serif\" font-size=\"14.00\">sepal length (cm) &lt;= 4.95</text>\r\n",
       "<text text-anchor=\"middle\" x=\"331.5\" y=\"-394.8\" font-family=\"Times New Roman,serif\" font-size=\"14.00\">gini = 0.087</text>\r\n",
       "<text text-anchor=\"middle\" x=\"331.5\" y=\"-379.8\" font-family=\"Times New Roman,serif\" font-size=\"14.00\">samples = 44</text>\r\n",
       "<text text-anchor=\"middle\" x=\"331.5\" y=\"-364.8\" font-family=\"Times New Roman,serif\" font-size=\"14.00\">value = [0, 42, 2]</text>\r\n",
       "<text text-anchor=\"middle\" x=\"331.5\" y=\"-349.8\" font-family=\"Times New Roman,serif\" font-size=\"14.00\">class = sepal width (cm)</text>\r\n",
       "</g>\r\n",
       "<!-- 3&#45;&gt;4 -->\r\n",
       "<g id=\"edge4\" class=\"edge\">\r\n",
       "<title>3&#45;&gt;4</title>\r\n",
       "<path fill=\"none\" stroke=\"black\" d=\"M445.13,-460.91C430.69,-451.2 415.17,-440.76 400.37,-430.81\"/>\r\n",
       "<polygon fill=\"black\" stroke=\"black\" points=\"402.01,-427.7 391.76,-425.02 398.11,-433.51 402.01,-427.7\"/>\r\n",
       "</g>\r\n",
       "<!-- 13 -->\r\n",
       "<g id=\"node14\" class=\"node\">\r\n",
       "<title>13</title>\r\n",
       "<polygon fill=\"#8139e5\" stroke=\"black\" points=\"583,-417.5 430,-417.5 430,-349.5 583,-349.5 583,-417.5\"/>\r\n",
       "<text text-anchor=\"middle\" x=\"506.5\" y=\"-402.3\" font-family=\"Times New Roman,serif\" font-size=\"14.00\">gini = 0.0</text>\r\n",
       "<text text-anchor=\"middle\" x=\"506.5\" y=\"-387.3\" font-family=\"Times New Roman,serif\" font-size=\"14.00\">samples = 2</text>\r\n",
       "<text text-anchor=\"middle\" x=\"506.5\" y=\"-372.3\" font-family=\"Times New Roman,serif\" font-size=\"14.00\">value = [0, 0, 2]</text>\r\n",
       "<text text-anchor=\"middle\" x=\"506.5\" y=\"-357.3\" font-family=\"Times New Roman,serif\" font-size=\"14.00\">class = petal length (cm)</text>\r\n",
       "</g>\r\n",
       "<!-- 3&#45;&gt;13 -->\r\n",
       "<g id=\"edge13\" class=\"edge\">\r\n",
       "<title>3&#45;&gt;13</title>\r\n",
       "<path fill=\"none\" stroke=\"black\" d=\"M505.85,-460.91C505.94,-450.2 506.04,-438.62 506.13,-427.78\"/>\r\n",
       "<polygon fill=\"black\" stroke=\"black\" points=\"509.63,-427.7 506.22,-417.67 502.63,-427.64 509.63,-427.7\"/>\r\n",
       "</g>\r\n",
       "<!-- 5 -->\r\n",
       "<g id=\"node6\" class=\"node\">\r\n",
       "<title>5</title>\r\n",
       "<polygon fill=\"transparent\" stroke=\"black\" points=\"324,-306 169,-306 169,-223 324,-223 324,-306\"/>\r\n",
       "<text text-anchor=\"middle\" x=\"246.5\" y=\"-290.8\" font-family=\"Times New Roman,serif\" font-size=\"14.00\">petal width (cm) &lt;= 1.35</text>\r\n",
       "<text text-anchor=\"middle\" x=\"246.5\" y=\"-275.8\" font-family=\"Times New Roman,serif\" font-size=\"14.00\">gini = 0.5</text>\r\n",
       "<text text-anchor=\"middle\" x=\"246.5\" y=\"-260.8\" font-family=\"Times New Roman,serif\" font-size=\"14.00\">samples = 2</text>\r\n",
       "<text text-anchor=\"middle\" x=\"246.5\" y=\"-245.8\" font-family=\"Times New Roman,serif\" font-size=\"14.00\">value = [0, 1, 1]</text>\r\n",
       "<text text-anchor=\"middle\" x=\"246.5\" y=\"-230.8\" font-family=\"Times New Roman,serif\" font-size=\"14.00\">class = sepal width (cm)</text>\r\n",
       "</g>\r\n",
       "<!-- 4&#45;&gt;5 -->\r\n",
       "<g id=\"edge5\" class=\"edge\">\r\n",
       "<title>4&#45;&gt;5</title>\r\n",
       "<path fill=\"none\" stroke=\"black\" d=\"M302.01,-341.91C295.55,-333.01 288.64,-323.51 281.98,-314.33\"/>\r\n",
       "<polygon fill=\"black\" stroke=\"black\" points=\"284.65,-312.05 275.94,-306.02 278.98,-316.17 284.65,-312.05\"/>\r\n",
       "</g>\r\n",
       "<!-- 8 -->\r\n",
       "<g id=\"node9\" class=\"node\">\r\n",
       "<title>8</title>\r\n",
       "<polygon fill=\"#39e581\" fill-opacity=\"0.976471\" stroke=\"black\" points=\"500.5,-306 342.5,-306 342.5,-223 500.5,-223 500.5,-306\"/>\r\n",
       "<text text-anchor=\"middle\" x=\"421.5\" y=\"-290.8\" font-family=\"Times New Roman,serif\" font-size=\"14.00\">petal length (cm) &lt;= 4.95</text>\r\n",
       "<text text-anchor=\"middle\" x=\"421.5\" y=\"-275.8\" font-family=\"Times New Roman,serif\" font-size=\"14.00\">gini = 0.046</text>\r\n",
       "<text text-anchor=\"middle\" x=\"421.5\" y=\"-260.8\" font-family=\"Times New Roman,serif\" font-size=\"14.00\">samples = 42</text>\r\n",
       "<text text-anchor=\"middle\" x=\"421.5\" y=\"-245.8\" font-family=\"Times New Roman,serif\" font-size=\"14.00\">value = [0, 41, 1]</text>\r\n",
       "<text text-anchor=\"middle\" x=\"421.5\" y=\"-230.8\" font-family=\"Times New Roman,serif\" font-size=\"14.00\">class = sepal width (cm)</text>\r\n",
       "</g>\r\n",
       "<!-- 4&#45;&gt;8 -->\r\n",
       "<g id=\"edge8\" class=\"edge\">\r\n",
       "<title>4&#45;&gt;8</title>\r\n",
       "<path fill=\"none\" stroke=\"black\" d=\"M362.73,-341.91C369.64,-332.92 377.03,-323.32 384.15,-314.05\"/>\r\n",
       "<polygon fill=\"black\" stroke=\"black\" points=\"387.01,-316.08 390.33,-306.02 381.46,-311.81 387.01,-316.08\"/>\r\n",
       "</g>\r\n",
       "<!-- 6 -->\r\n",
       "<g id=\"node7\" class=\"node\">\r\n",
       "<title>6</title>\r\n",
       "<polygon fill=\"#39e581\" stroke=\"black\" points=\"153,-179.5 0,-179.5 0,-111.5 153,-111.5 153,-179.5\"/>\r\n",
       "<text text-anchor=\"middle\" x=\"76.5\" y=\"-164.3\" font-family=\"Times New Roman,serif\" font-size=\"14.00\">gini = 0.0</text>\r\n",
       "<text text-anchor=\"middle\" x=\"76.5\" y=\"-149.3\" font-family=\"Times New Roman,serif\" font-size=\"14.00\">samples = 1</text>\r\n",
       "<text text-anchor=\"middle\" x=\"76.5\" y=\"-134.3\" font-family=\"Times New Roman,serif\" font-size=\"14.00\">value = [0, 1, 0]</text>\r\n",
       "<text text-anchor=\"middle\" x=\"76.5\" y=\"-119.3\" font-family=\"Times New Roman,serif\" font-size=\"14.00\">class = sepal width (cm)</text>\r\n",
       "</g>\r\n",
       "<!-- 5&#45;&gt;6 -->\r\n",
       "<g id=\"edge6\" class=\"edge\">\r\n",
       "<title>5&#45;&gt;6</title>\r\n",
       "<path fill=\"none\" stroke=\"black\" d=\"M187.52,-222.91C169.88,-210.77 150.59,-197.49 133.11,-185.46\"/>\r\n",
       "<polygon fill=\"black\" stroke=\"black\" points=\"134.91,-182.45 124.69,-179.67 130.94,-188.22 134.91,-182.45\"/>\r\n",
       "</g>\r\n",
       "<!-- 7 -->\r\n",
       "<g id=\"node8\" class=\"node\">\r\n",
       "<title>7</title>\r\n",
       "<polygon fill=\"#8139e5\" stroke=\"black\" points=\"324,-179.5 171,-179.5 171,-111.5 324,-111.5 324,-179.5\"/>\r\n",
       "<text text-anchor=\"middle\" x=\"247.5\" y=\"-164.3\" font-family=\"Times New Roman,serif\" font-size=\"14.00\">gini = 0.0</text>\r\n",
       "<text text-anchor=\"middle\" x=\"247.5\" y=\"-149.3\" font-family=\"Times New Roman,serif\" font-size=\"14.00\">samples = 1</text>\r\n",
       "<text text-anchor=\"middle\" x=\"247.5\" y=\"-134.3\" font-family=\"Times New Roman,serif\" font-size=\"14.00\">value = [0, 0, 1]</text>\r\n",
       "<text text-anchor=\"middle\" x=\"247.5\" y=\"-119.3\" font-family=\"Times New Roman,serif\" font-size=\"14.00\">class = petal length (cm)</text>\r\n",
       "</g>\r\n",
       "<!-- 5&#45;&gt;7 -->\r\n",
       "<g id=\"edge7\" class=\"edge\">\r\n",
       "<title>5&#45;&gt;7</title>\r\n",
       "<path fill=\"none\" stroke=\"black\" d=\"M246.85,-222.91C246.94,-212.2 247.04,-200.62 247.13,-189.78\"/>\r\n",
       "<polygon fill=\"black\" stroke=\"black\" points=\"250.63,-189.7 247.22,-179.67 243.63,-189.64 250.63,-189.7\"/>\r\n",
       "</g>\r\n",
       "<!-- 9 -->\r\n",
       "<g id=\"node10\" class=\"node\">\r\n",
       "<title>9</title>\r\n",
       "<polygon fill=\"#39e581\" stroke=\"black\" points=\"497,-179.5 344,-179.5 344,-111.5 497,-111.5 497,-179.5\"/>\r\n",
       "<text text-anchor=\"middle\" x=\"420.5\" y=\"-164.3\" font-family=\"Times New Roman,serif\" font-size=\"14.00\">gini = 0.0</text>\r\n",
       "<text text-anchor=\"middle\" x=\"420.5\" y=\"-149.3\" font-family=\"Times New Roman,serif\" font-size=\"14.00\">samples = 39</text>\r\n",
       "<text text-anchor=\"middle\" x=\"420.5\" y=\"-134.3\" font-family=\"Times New Roman,serif\" font-size=\"14.00\">value = [0, 39, 0]</text>\r\n",
       "<text text-anchor=\"middle\" x=\"420.5\" y=\"-119.3\" font-family=\"Times New Roman,serif\" font-size=\"14.00\">class = sepal width (cm)</text>\r\n",
       "</g>\r\n",
       "<!-- 8&#45;&gt;9 -->\r\n",
       "<g id=\"edge9\" class=\"edge\">\r\n",
       "<title>8&#45;&gt;9</title>\r\n",
       "<path fill=\"none\" stroke=\"black\" d=\"M421.15,-222.91C421.06,-212.2 420.96,-200.62 420.87,-189.78\"/>\r\n",
       "<polygon fill=\"black\" stroke=\"black\" points=\"424.37,-189.64 420.78,-179.67 417.37,-189.7 424.37,-189.64\"/>\r\n",
       "</g>\r\n",
       "<!-- 10 -->\r\n",
       "<g id=\"node11\" class=\"node\">\r\n",
       "<title>10</title>\r\n",
       "<polygon fill=\"#39e581\" fill-opacity=\"0.498039\" stroke=\"black\" points=\"673.5,-187 515.5,-187 515.5,-104 673.5,-104 673.5,-187\"/>\r\n",
       "<text text-anchor=\"middle\" x=\"594.5\" y=\"-171.8\" font-family=\"Times New Roman,serif\" font-size=\"14.00\">sepal width (cm) &lt;= 2.45</text>\r\n",
       "<text text-anchor=\"middle\" x=\"594.5\" y=\"-156.8\" font-family=\"Times New Roman,serif\" font-size=\"14.00\">gini = 0.444</text>\r\n",
       "<text text-anchor=\"middle\" x=\"594.5\" y=\"-141.8\" font-family=\"Times New Roman,serif\" font-size=\"14.00\">samples = 3</text>\r\n",
       "<text text-anchor=\"middle\" x=\"594.5\" y=\"-126.8\" font-family=\"Times New Roman,serif\" font-size=\"14.00\">value = [0, 2, 1]</text>\r\n",
       "<text text-anchor=\"middle\" x=\"594.5\" y=\"-111.8\" font-family=\"Times New Roman,serif\" font-size=\"14.00\">class = sepal width (cm)</text>\r\n",
       "</g>\r\n",
       "<!-- 8&#45;&gt;10 -->\r\n",
       "<g id=\"edge10\" class=\"edge\">\r\n",
       "<title>8&#45;&gt;10</title>\r\n",
       "<path fill=\"none\" stroke=\"black\" d=\"M481.52,-222.91C495.88,-213.2 511.31,-202.76 526.02,-192.81\"/>\r\n",
       "<polygon fill=\"black\" stroke=\"black\" points=\"528.26,-195.52 534.58,-187.02 524.34,-189.72 528.26,-195.52\"/>\r\n",
       "</g>\r\n",
       "<!-- 11 -->\r\n",
       "<g id=\"node12\" class=\"node\">\r\n",
       "<title>11</title>\r\n",
       "<polygon fill=\"#8139e5\" stroke=\"black\" points=\"585,-68 432,-68 432,0 585,0 585,-68\"/>\r\n",
       "<text text-anchor=\"middle\" x=\"508.5\" y=\"-52.8\" font-family=\"Times New Roman,serif\" font-size=\"14.00\">gini = 0.0</text>\r\n",
       "<text text-anchor=\"middle\" x=\"508.5\" y=\"-37.8\" font-family=\"Times New Roman,serif\" font-size=\"14.00\">samples = 1</text>\r\n",
       "<text text-anchor=\"middle\" x=\"508.5\" y=\"-22.8\" font-family=\"Times New Roman,serif\" font-size=\"14.00\">value = [0, 0, 1]</text>\r\n",
       "<text text-anchor=\"middle\" x=\"508.5\" y=\"-7.8\" font-family=\"Times New Roman,serif\" font-size=\"14.00\">class = petal length (cm)</text>\r\n",
       "</g>\r\n",
       "<!-- 10&#45;&gt;11 -->\r\n",
       "<g id=\"edge11\" class=\"edge\">\r\n",
       "<title>10&#45;&gt;11</title>\r\n",
       "<path fill=\"none\" stroke=\"black\" d=\"M562.48,-103.73C555.46,-94.79 548.02,-85.32 540.98,-76.36\"/>\r\n",
       "<polygon fill=\"black\" stroke=\"black\" points=\"543.58,-74 534.65,-68.3 538.08,-78.33 543.58,-74\"/>\r\n",
       "</g>\r\n",
       "<!-- 12 -->\r\n",
       "<g id=\"node13\" class=\"node\">\r\n",
       "<title>12</title>\r\n",
       "<polygon fill=\"#39e581\" stroke=\"black\" points=\"756,-68 603,-68 603,0 756,0 756,-68\"/>\r\n",
       "<text text-anchor=\"middle\" x=\"679.5\" y=\"-52.8\" font-family=\"Times New Roman,serif\" font-size=\"14.00\">gini = 0.0</text>\r\n",
       "<text text-anchor=\"middle\" x=\"679.5\" y=\"-37.8\" font-family=\"Times New Roman,serif\" font-size=\"14.00\">samples = 2</text>\r\n",
       "<text text-anchor=\"middle\" x=\"679.5\" y=\"-22.8\" font-family=\"Times New Roman,serif\" font-size=\"14.00\">value = [0, 2, 0]</text>\r\n",
       "<text text-anchor=\"middle\" x=\"679.5\" y=\"-7.8\" font-family=\"Times New Roman,serif\" font-size=\"14.00\">class = sepal width (cm)</text>\r\n",
       "</g>\r\n",
       "<!-- 10&#45;&gt;12 -->\r\n",
       "<g id=\"edge12\" class=\"edge\">\r\n",
       "<title>10&#45;&gt;12</title>\r\n",
       "<path fill=\"none\" stroke=\"black\" d=\"M626.15,-103.73C633.09,-94.79 640.44,-85.32 647.4,-76.36\"/>\r\n",
       "<polygon fill=\"black\" stroke=\"black\" points=\"650.28,-78.35 653.65,-68.3 644.75,-74.05 650.28,-78.35\"/>\r\n",
       "</g>\r\n",
       "<!-- 15 -->\r\n",
       "<g id=\"node16\" class=\"node\">\r\n",
       "<title>15</title>\r\n",
       "<polygon fill=\"transparent\" stroke=\"black\" points=\"761.5,-425 601.5,-425 601.5,-342 761.5,-342 761.5,-425\"/>\r\n",
       "<text text-anchor=\"middle\" x=\"681.5\" y=\"-409.8\" font-family=\"Times New Roman,serif\" font-size=\"14.00\">sepal length (cm) &lt;= 5.95</text>\r\n",
       "<text text-anchor=\"middle\" x=\"681.5\" y=\"-394.8\" font-family=\"Times New Roman,serif\" font-size=\"14.00\">gini = 0.5</text>\r\n",
       "<text text-anchor=\"middle\" x=\"681.5\" y=\"-379.8\" font-family=\"Times New Roman,serif\" font-size=\"14.00\">samples = 2</text>\r\n",
       "<text text-anchor=\"middle\" x=\"681.5\" y=\"-364.8\" font-family=\"Times New Roman,serif\" font-size=\"14.00\">value = [0, 1, 1]</text>\r\n",
       "<text text-anchor=\"middle\" x=\"681.5\" y=\"-349.8\" font-family=\"Times New Roman,serif\" font-size=\"14.00\">class = sepal width (cm)</text>\r\n",
       "</g>\r\n",
       "<!-- 14&#45;&gt;15 -->\r\n",
       "<g id=\"edge15\" class=\"edge\">\r\n",
       "<title>14&#45;&gt;15</title>\r\n",
       "<path fill=\"none\" stroke=\"black\" d=\"M681.5,-460.91C681.5,-452.65 681.5,-443.86 681.5,-435.3\"/>\r\n",
       "<polygon fill=\"black\" stroke=\"black\" points=\"685,-435.02 681.5,-425.02 678,-435.02 685,-435.02\"/>\r\n",
       "</g>\r\n",
       "<!-- 18 -->\r\n",
       "<g id=\"node19\" class=\"node\">\r\n",
       "<title>18</title>\r\n",
       "<polygon fill=\"#8139e5\" stroke=\"black\" points=\"933,-417.5 780,-417.5 780,-349.5 933,-349.5 933,-417.5\"/>\r\n",
       "<text text-anchor=\"middle\" x=\"856.5\" y=\"-402.3\" font-family=\"Times New Roman,serif\" font-size=\"14.00\">gini = 0.0</text>\r\n",
       "<text text-anchor=\"middle\" x=\"856.5\" y=\"-387.3\" font-family=\"Times New Roman,serif\" font-size=\"14.00\">samples = 36</text>\r\n",
       "<text text-anchor=\"middle\" x=\"856.5\" y=\"-372.3\" font-family=\"Times New Roman,serif\" font-size=\"14.00\">value = [0, 0, 36]</text>\r\n",
       "<text text-anchor=\"middle\" x=\"856.5\" y=\"-357.3\" font-family=\"Times New Roman,serif\" font-size=\"14.00\">class = petal length (cm)</text>\r\n",
       "</g>\r\n",
       "<!-- 14&#45;&gt;18 -->\r\n",
       "<g id=\"edge18\" class=\"edge\">\r\n",
       "<title>14&#45;&gt;18</title>\r\n",
       "<path fill=\"none\" stroke=\"black\" d=\"M742.22,-460.91C760.37,-448.77 780.23,-435.49 798.22,-423.46\"/>\r\n",
       "<polygon fill=\"black\" stroke=\"black\" points=\"800.52,-426.13 806.89,-417.67 796.63,-420.32 800.52,-426.13\"/>\r\n",
       "</g>\r\n",
       "<!-- 16 -->\r\n",
       "<g id=\"node17\" class=\"node\">\r\n",
       "<title>16</title>\r\n",
       "<polygon fill=\"#39e581\" stroke=\"black\" points=\"715,-298.5 562,-298.5 562,-230.5 715,-230.5 715,-298.5\"/>\r\n",
       "<text text-anchor=\"middle\" x=\"638.5\" y=\"-283.3\" font-family=\"Times New Roman,serif\" font-size=\"14.00\">gini = 0.0</text>\r\n",
       "<text text-anchor=\"middle\" x=\"638.5\" y=\"-268.3\" font-family=\"Times New Roman,serif\" font-size=\"14.00\">samples = 1</text>\r\n",
       "<text text-anchor=\"middle\" x=\"638.5\" y=\"-253.3\" font-family=\"Times New Roman,serif\" font-size=\"14.00\">value = [0, 1, 0]</text>\r\n",
       "<text text-anchor=\"middle\" x=\"638.5\" y=\"-238.3\" font-family=\"Times New Roman,serif\" font-size=\"14.00\">class = sepal width (cm)</text>\r\n",
       "</g>\r\n",
       "<!-- 15&#45;&gt;16 -->\r\n",
       "<g id=\"edge16\" class=\"edge\">\r\n",
       "<title>15&#45;&gt;16</title>\r\n",
       "<path fill=\"none\" stroke=\"black\" d=\"M666.58,-341.91C662.57,-330.98 658.21,-319.14 654.16,-308.11\"/>\r\n",
       "<polygon fill=\"black\" stroke=\"black\" points=\"657.42,-306.85 650.69,-298.67 650.85,-309.26 657.42,-306.85\"/>\r\n",
       "</g>\r\n",
       "<!-- 17 -->\r\n",
       "<g id=\"node18\" class=\"node\">\r\n",
       "<title>17</title>\r\n",
       "<polygon fill=\"#8139e5\" stroke=\"black\" points=\"886,-298.5 733,-298.5 733,-230.5 886,-230.5 886,-298.5\"/>\r\n",
       "<text text-anchor=\"middle\" x=\"809.5\" y=\"-283.3\" font-family=\"Times New Roman,serif\" font-size=\"14.00\">gini = 0.0</text>\r\n",
       "<text text-anchor=\"middle\" x=\"809.5\" y=\"-268.3\" font-family=\"Times New Roman,serif\" font-size=\"14.00\">samples = 1</text>\r\n",
       "<text text-anchor=\"middle\" x=\"809.5\" y=\"-253.3\" font-family=\"Times New Roman,serif\" font-size=\"14.00\">value = [0, 0, 1]</text>\r\n",
       "<text text-anchor=\"middle\" x=\"809.5\" y=\"-238.3\" font-family=\"Times New Roman,serif\" font-size=\"14.00\">class = petal length (cm)</text>\r\n",
       "</g>\r\n",
       "<!-- 15&#45;&gt;17 -->\r\n",
       "<g id=\"edge17\" class=\"edge\">\r\n",
       "<title>15&#45;&gt;17</title>\r\n",
       "<path fill=\"none\" stroke=\"black\" d=\"M725.91,-341.91C738.83,-330.1 752.92,-317.22 765.79,-305.45\"/>\r\n",
       "<polygon fill=\"black\" stroke=\"black\" points=\"768.2,-308 773.21,-298.67 763.47,-302.83 768.2,-308\"/>\r\n",
       "</g>\r\n",
       "</g>\r\n",
       "</svg>\r\n"
      ],
      "text/plain": [
       "<graphviz.files.Source at 0x14e826104a8>"
      ]
     },
     "metadata": {},
     "output_type": "display_data"
    }
   ],
   "source": [
    "import graphviz\n",
    "\n",
    "with open(\"iris_tree.dot\", encoding='utf-8') as f:\n",
    "    dot_graph = f.read()\n",
    "display(graphviz.Source(dot_graph))"
   ]
  },
  {
   "cell_type": "code",
   "execution_count": 11,
   "metadata": {},
   "outputs": [
    {
     "name": "stdout",
     "output_type": "stream",
     "text": [
      "The accuracy of the RendomForest is: 0.97\n"
     ]
    }
   ],
   "source": [
    "from sklearn.ensemble import RandomForestClassifier\n",
    "\n",
    "forest = RandomForestClassifier(n_estimators=100)\n",
    "forest.fit(X_train, y_train)\n",
    "pred = forest.predict(X_test)\n",
    "print(f'The accuracy of the RendomForest is: {accuracy_score(pred, y_test):.2f}')"
   ]
  },
  {
   "cell_type": "code",
   "execution_count": 12,
   "metadata": {},
   "outputs": [
    {
     "name": "stdout",
     "output_type": "stream",
     "text": [
      "The accuracy of the RendomForest is: 0.83\n"
     ]
    },
    {
     "name": "stderr",
     "output_type": "stream",
     "text": [
      "C:\\Anaconda3\\lib\\site-packages\\sklearn\\linear_model\\stochastic_gradient.py:166: FutureWarning: max_iter and tol parameters have been added in SGDClassifier in 0.19. If both are left unset, they default to max_iter=5 and tol=None. If tol is not None, max_iter defaults to max_iter=1000. From 0.21, default max_iter will be 1000, and default tol will be 1e-3.\n",
      "  FutureWarning)\n"
     ]
    }
   ],
   "source": [
    "from sklearn.linear_model import SGDClassifier\n",
    "sgd = SGDClassifier(loss='log', random_state = 89)\n",
    "sgd.fit(X_train, y_train)\n",
    "pred = sgd.predict(X_test)\n",
    "print(f'The accuracy of the RendomForest is: {accuracy_score(pred, y_test):.2f}')"
   ]
  },
  {
   "cell_type": "code",
   "execution_count": 13,
   "metadata": {},
   "outputs": [
    {
     "name": "stderr",
     "output_type": "stream",
     "text": [
      "C:\\Anaconda3\\lib\\site-packages\\sklearn\\linear_model\\logistic.py:433: FutureWarning: Default solver will be changed to 'lbfgs' in 0.22. Specify a solver to silence this warning.\n",
      "  FutureWarning)\n",
      "C:\\Anaconda3\\lib\\site-packages\\sklearn\\linear_model\\logistic.py:460: FutureWarning: Default multi_class will be changed to 'auto' in 0.22. Specify the multi_class option to silence this warning.\n",
      "  \"this warning.\", FutureWarning)\n",
      "C:\\Anaconda3\\lib\\site-packages\\sklearn\\linear_model\\stochastic_gradient.py:166: FutureWarning: max_iter and tol parameters have been added in SGDClassifier in 0.19. If both are left unset, they default to max_iter=5 and tol=None. If tol is not None, max_iter defaults to max_iter=1000. From 0.21, default max_iter will be 1000, and default tol will be 1e-3.\n",
      "  FutureWarning)\n"
     ]
    },
    {
     "data": {
      "text/plain": [
       "0.9666666666666667"
      ]
     },
     "execution_count": 13,
     "metadata": {},
     "output_type": "execute_result"
    }
   ],
   "source": [
    "from sklearn.ensemble import VotingClassifier\n",
    "\n",
    "final_model = VotingClassifier(estimators=[('lr', lr),\n",
    "                                           ('knn', knn),\n",
    "                                           ('dt', dt), \n",
    "                                           ('forest', forest),\n",
    "                                           ('sgd', sgd)], voting='hard')\n",
    "\n",
    "final_model.fit(X_train, y_train)\n",
    "\n",
    "final_model.score(X_test, y_test)"
   ]
  },
  {
   "cell_type": "code",
   "execution_count": null,
   "metadata": {},
   "outputs": [],
   "source": []
  }
 ],
 "metadata": {
  "kernelspec": {
   "display_name": "Python 3",
   "language": "python",
   "name": "python3"
  },
  "language_info": {
   "codemirror_mode": {
    "name": "ipython",
    "version": 3
   },
   "file_extension": ".py",
   "mimetype": "text/x-python",
   "name": "python",
   "nbconvert_exporter": "python",
   "pygments_lexer": "ipython3",
   "version": "3.7.3"
  }
 },
 "nbformat": 4,
 "nbformat_minor": 2
}
