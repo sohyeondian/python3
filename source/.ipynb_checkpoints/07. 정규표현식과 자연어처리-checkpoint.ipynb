{
 "cells": [
  {
   "cell_type": "markdown",
   "metadata": {},
   "source": [
    "### 정규표현식(Regular Expressions)\n",
    "- 정규식\n",
    "- 복잡한 문자열을 처리할 때 사용하는 기법\n",
    "- 파이썬에 해당 함수를 포함하는 패키지 re"
   ]
  },
  {
   "cell_type": "code",
   "execution_count": 1,
   "metadata": {},
   "outputs": [],
   "source": [
    "# 주민등록번호를 포함하고 있는 텍스트에서 주민등록번호 뒷자리를 *로 변경\n",
    "data = '''park 880905-1049118\n",
    "kim 700908-1059119\n",
    "lee 900114-2134257\n",
    "choi choi@naver.com\n",
    "'''"
   ]
  },
  {
   "cell_type": "code",
   "execution_count": 2,
   "metadata": {},
   "outputs": [
    {
     "name": "stdout",
     "output_type": "stream",
     "text": [
      "park 880905-*******\n",
      "kim 700908-*******\n",
      "lee 900114-*******\n",
      "choi choi@naver.com\n",
      "\n"
     ]
    }
   ],
   "source": [
    "result = []\n",
    "\n",
    "# Step1. 분리(split)\n",
    "for line in data.split('\\n'):\n",
    "    word_result = []\n",
    "# Step2. 주민등록번호 형식의 문자열이 맞는지 조사\n",
    "    for word in line.split(\" \"):\n",
    "        if len(word) == 14 and word[:6].isdigit() and word[7:].isdigit():\n",
    "            # Step3. 뒷자리를 *로 변환\n",
    "            word = word[:6] + \"-\" + (\"*\" * 7)\n",
    "        word_result.append(word)\n",
    "# Step4. step1에서 분리한 단어를 다시 조합한다.\n",
    "    result.append(\" \".join(word_result))\n",
    "    \n",
    "print(\"\\n\".join(result))"
   ]
  },
  {
   "cell_type": "code",
   "execution_count": 3,
   "metadata": {},
   "outputs": [
    {
     "name": "stdout",
     "output_type": "stream",
     "text": [
      "park 880905-*******\n",
      "kim 700908-*******\n",
      "lee 900114-*******\n",
      "choi choi@naver.com\n",
      "\n"
     ]
    }
   ],
   "source": [
    "import re\n",
    "\n",
    "pattern = re.compile(\"(\\d{6})[-]\\d{7}\")\n",
    "print(pattern.sub(\"\\g<1>-*******\", data))"
   ]
  },
  {
   "cell_type": "markdown",
   "metadata": {},
   "source": [
    "### 메타문자(Meta Characters)\n",
    "- 원래 문자가 가지고 있는 뜻이 아닌 특별한 용도로 사용하는 문자들\n",
    "- 종류 \n",
    "```\n",
    ".^$+?{}[]\\|()\n",
    "```"
   ]
  },
  {
   "cell_type": "markdown",
   "metadata": {},
   "source": [
    "#### 문자 클래스 [ ]\n",
    "```python\n",
    "[a-zA-Z]  # 알파벳\n",
    "[0-9]  # 숫자, \\d(digit)\n",
    "[^0-9]  # 숫자가 아닌 것, \\D\n",
    "[a-zA-Z0-9_]  # 알파벳+숫자, \\w(소문자)\n",
    "[^a-zA-Z0-9_]  # 알파벳+숫자가 아닌 문자, \\W(대문자)\n",
    ".  # (dot) 줄바꿈문자(\\n)를 제외한 모든 문자\n",
    "* or +  # * 무한 반복, + 최소 한 번 이상 반복\n",
    "```"
   ]
  },
  {
   "cell_type": "markdown",
   "metadata": {},
   "source": [
    "#### 정규식 메서드\n",
    "```python\n",
    "findall()  # 정규식과 매치되는 모든 문자열을 리스트로 변환\n",
    "finditer()  # 정규식과 매치되는 모든 문자열을 반복 가능한 객체로 변환\n",
    "match()  # 문자열의 처음부터 정규식과 매치되는 지 조사\n",
    "search()  # 문자열의 전체를 검색하여 정규식과 매치되는 지 조사\n",
    "```"
   ]
  },
  {
   "cell_type": "code",
   "execution_count": 5,
   "metadata": {},
   "outputs": [
    {
     "data": {
      "text/plain": [
       "[]"
      ]
     },
     "execution_count": 5,
     "metadata": {},
     "output_type": "execute_result"
    }
   ],
   "source": [
    "s = \"My id number is lee0909\"\n",
    "# findall(\"패턴\", 문자열) : 문자열에서 패턴에 해당하는 내용 리턴\n",
    "a = re.findall(\"a\", s)\n",
    "a"
   ]
  },
  {
   "cell_type": "code",
   "execution_count": 6,
   "metadata": {},
   "outputs": [
    {
     "data": {
      "text/plain": [
       "['lee']"
      ]
     },
     "execution_count": 6,
     "metadata": {},
     "output_type": "execute_result"
    }
   ],
   "source": [
    "b = re.findall(\"lee\", s)\n",
    "b"
   ]
  },
  {
   "cell_type": "code",
   "execution_count": 7,
   "metadata": {},
   "outputs": [
    {
     "data": {
      "text/plain": [
       "['e', 'e', 'e']"
      ]
     },
     "execution_count": 7,
     "metadata": {},
     "output_type": "execute_result"
    }
   ],
   "source": [
    "c = re.findall(\"e\", s)\n",
    "c"
   ]
  },
  {
   "cell_type": "code",
   "execution_count": 8,
   "metadata": {},
   "outputs": [
    {
     "data": {
      "text/plain": [
       "['y', 'i', 'd', 'n', 'u', 'm', 'b', 'e', 'r', 'i', 's', 'l', 'e', 'e']"
      ]
     },
     "execution_count": 8,
     "metadata": {},
     "output_type": "execute_result"
    }
   ],
   "source": [
    "d = re.findall('[a-z]', s)\n",
    "d"
   ]
  },
  {
   "cell_type": "code",
   "execution_count": 10,
   "metadata": {},
   "outputs": [
    {
     "data": {
      "text/plain": [
       "['y', 'id', 'number', 'is', 'lee']"
      ]
     },
     "execution_count": 10,
     "metadata": {},
     "output_type": "execute_result"
    }
   ],
   "source": [
    "e = re.findall('[a-z]+', s)  # 단어단위\n",
    "e"
   ]
  },
  {
   "cell_type": "code",
   "execution_count": 13,
   "metadata": {},
   "outputs": [
    {
     "name": "stdout",
     "output_type": "stream",
     "text": [
      "['M', 'L', 'E', 'E']\n",
      "['M', 'LEE']\n"
     ]
    }
   ],
   "source": [
    "s = \"My id number is LEE0909$%\"\n",
    "a = re.findall(\"[A-Z]\", s)\n",
    "# 대문자 글자단위\n",
    "b = re.findall(\"[A-Z]+\", s)\n",
    "print(a)\n",
    "print(b)"
   ]
  },
  {
   "cell_type": "code",
   "execution_count": 14,
   "metadata": {},
   "outputs": [
    {
     "data": {
      "text/plain": [
       "['My', 'id', 'number', 'is', 'LEE0909']"
      ]
     },
     "execution_count": 14,
     "metadata": {},
     "output_type": "execute_result"
    }
   ],
   "source": [
    "# 영문자와 숫자를 단어단위\n",
    "a = re.findall(\"[a-zA-Z0-9]+\", s)\n",
    "a"
   ]
  },
  {
   "cell_type": "code",
   "execution_count": 15,
   "metadata": {},
   "outputs": [
    {
     "data": {
      "text/plain": [
       "[' ', ' ', ' ', ' ', '$', '%']"
      ]
     },
     "execution_count": 15,
     "metadata": {},
     "output_type": "execute_result"
    }
   ],
   "source": [
    "# 영문자와 숫자가 아닌 것\n",
    "# ^ (not)\n",
    "b = re.findall(\"[^a-zA-Z0-9]\", s)\n",
    "b"
   ]
  },
  {
   "cell_type": "code",
   "execution_count": 16,
   "metadata": {},
   "outputs": [
    {
     "data": {
      "text/plain": [
       "['My', 'id', 'number', 'is', 'LEE0909']"
      ]
     },
     "execution_count": 16,
     "metadata": {},
     "output_type": "execute_result"
    }
   ],
   "source": [
    "# \\m(소문자) : 영문자, 숫자, _\n",
    "c = re.findall(\"[\\w]+\", s)\n",
    "c"
   ]
  },
  {
   "cell_type": "code",
   "execution_count": 17,
   "metadata": {},
   "outputs": [
    {
     "data": {
      "text/plain": [
       "[' ', ' ', ' ', ' ', '$%']"
      ]
     },
     "execution_count": 17,
     "metadata": {},
     "output_type": "execute_result"
    }
   ],
   "source": [
    "# \\M(대문자) : 영문자, 숫자, _ 아닌 것\n",
    "d = re.findall(\"[\\W]+\", s)\n",
    "d"
   ]
  },
  {
   "cell_type": "code",
   "execution_count": 19,
   "metadata": {},
   "outputs": [
    {
     "data": {
      "text/plain": [
       "<re.Match object; span=(0, 6), match='python'>"
      ]
     },
     "execution_count": 19,
     "metadata": {},
     "output_type": "execute_result"
    }
   ],
   "source": [
    "p = re.compile('[a-z]+')\n",
    "a = p.match('python')\n",
    "a"
   ]
  },
  {
   "cell_type": "code",
   "execution_count": 21,
   "metadata": {},
   "outputs": [
    {
     "name": "stdout",
     "output_type": "stream",
     "text": [
      "None\n"
     ]
    }
   ],
   "source": [
    "b = p.match(\"3 python\")\n",
    "print(b)"
   ]
  },
  {
   "cell_type": "code",
   "execution_count": null,
   "metadata": {},
   "outputs": [],
   "source": []
  }
 ],
 "metadata": {
  "kernelspec": {
   "display_name": "Python 3",
   "language": "python",
   "name": "python3"
  },
  "language_info": {
   "codemirror_mode": {
    "name": "ipython",
    "version": 3
   },
   "file_extension": ".py",
   "mimetype": "text/x-python",
   "name": "python",
   "nbconvert_exporter": "python",
   "pygments_lexer": "ipython3",
   "version": "3.7.3"
  }
 },
 "nbformat": 4,
 "nbformat_minor": 2
}
