{
 "cells": [
  {
   "cell_type": "code",
   "execution_count": 1,
   "metadata": {},
   "outputs": [
    {
     "name": "stdout",
     "output_type": "stream",
     "text": [
      "Help on method raw_input in module ipykernel.kernelbase:\n",
      "\n",
      "raw_input(prompt='') method of ipykernel.ipkernel.IPythonKernel instance\n",
      "    Forward raw_input to frontends\n",
      "    \n",
      "    Raises\n",
      "    ------\n",
      "    StdinNotImplentedError if active frontend doesn't support stdin.\n",
      "\n"
     ]
    }
   ],
   "source": [
    "# 함수명(), help() - 도움말을 보여주는 함수\n",
    "help(input)"
   ]
  },
  {
   "cell_type": "code",
   "execution_count": 2,
   "metadata": {},
   "outputs": [
    {
     "name": "stdout",
     "output_type": "stream",
     "text": [
      "Help on built-in function print in module builtins:\n",
      "\n",
      "print(...)\n",
      "    print(value, ..., sep=' ', end='\\n', file=sys.stdout, flush=False)\n",
      "    \n",
      "    Prints the values to a stream, or to sys.stdout by default.\n",
      "    Optional keyword arguments:\n",
      "    file:  a file-like object (stream); defaults to the current sys.stdout.\n",
      "    sep:   string inserted between values, default a space.\n",
      "    end:   string appended after the last value, default a newline.\n",
      "    flush: whether to forcibly flush the stream.\n",
      "\n"
     ]
    }
   ],
   "source": [
    "help(print)"
   ]
  },
  {
   "cell_type": "code",
   "execution_count": 3,
   "metadata": {},
   "outputs": [
    {
     "name": "stdout",
     "output_type": "stream",
     "text": [
      "정수 1: 9\n"
     ]
    }
   ],
   "source": [
    "x = 9\n",
    "# 형식화된 문자열.format(출력할 값)\n",
    "print(\"정수 1: {0}\".format(x))"
   ]
  },
  {
   "cell_type": "code",
   "execution_count": 4,
   "metadata": {},
   "outputs": [
    {
     "name": "stdout",
     "output_type": "stream",
     "text": [
      "정수 2: 81\n",
      "정수 3: 4.0\n"
     ]
    }
   ],
   "source": [
    "print(\"정수 2: {0}\".format(3**4))\n",
    "\n",
    "# 형 변환(casting): 자료형을 변환하는 작업\n",
    "print(\"정수 3: {0}\".format(int(8.3)/int(2.7)))"
   ]
  },
  {
   "cell_type": "code",
   "execution_count": 5,
   "metadata": {},
   "outputs": [
    {
     "name": "stdout",
     "output_type": "stream",
     "text": [
      "a = 10, b = 20\n"
     ]
    }
   ],
   "source": [
    "# 2개 이상의 값을 출력하는 경우\n",
    "a = 10\n",
    "b = 20\n",
    "\n",
    "print(\"a = {0}, b = {1}\".format(a, b))"
   ]
  },
  {
   "cell_type": "code",
   "execution_count": 7,
   "metadata": {},
   "outputs": [
    {
     "name": "stdout",
     "output_type": "stream",
     "text": [
      "실수1 : 3.074\n"
     ]
    }
   ],
   "source": [
    "print(\"실수1 : {:.3f}\".format(8.3/2.7))"
   ]
  },
  {
   "cell_type": "code",
   "execution_count": 8,
   "metadata": {},
   "outputs": [
    {
     "name": "stdout",
     "output_type": "stream",
     "text": [
      "실수2 : 7.3\n"
     ]
    }
   ],
   "source": [
    "y = 2.5 + 4.8\n",
    "print(\"실수2 : {0:.1f}\".format(y))"
   ]
  },
  {
   "cell_type": "code",
   "execution_count": 14,
   "metadata": {},
   "outputs": [
    {
     "name": "stdout",
     "output_type": "stream",
     "text": [
      "실수3 : 2.67\n",
      "실수4 : 2.6667\n",
      "실수5 :  1234.0000\n"
     ]
    }
   ],
   "source": [
    "r = 8 / float(3)\n",
    "# 소숫점 이하 둘째자리까지 출력\n",
    "print(\"실수3 : {0:.2f}\".format(r))\n",
    "# 소숫점 이하 넷째자리까지 출력\n",
    "print(\"실수4 : {0:.4f}\".format(r))\n",
    "# 전체 10자리 중에서 소숫점 이하 넷째자리까지 출력(소수점 포함)\n",
    "print(\"실수5 : {0:10.4f}\".format(1234))"
   ]
  },
  {
   "cell_type": "code",
   "execution_count": 15,
   "metadata": {},
   "outputs": [
    {
     "name": "stdout",
     "output_type": "stream",
     "text": [
      "Hello\n",
      "Python\n"
     ]
    }
   ],
   "source": [
    "# \\n : 개행문자(줄바꿈 문자), 서식문자\n",
    "multiline = \"Hello\\nPython\"\n",
    "print(multiline)"
   ]
  },
  {
   "cell_type": "code",
   "execution_count": 16,
   "metadata": {},
   "outputs": [
    {
     "data": {
      "text/plain": [
       "'\\n    안녕하세요\\n    파이썬\\n    반갑습니다.\\n'"
      ]
     },
     "execution_count": 16,
     "metadata": {},
     "output_type": "execute_result"
    }
   ],
   "source": [
    "multiline = '''\n",
    "    안녕하세요\n",
    "    파이썬\n",
    "    반갑습니다.\n",
    "'''\n",
    "multiline"
   ]
  },
  {
   "cell_type": "code",
   "execution_count": 18,
   "metadata": {},
   "outputs": [
    {
     "data": {
      "text/plain": [
       "'\\n    안녕하세요\\n    파이썬\\n    반갑습니다.\\n'"
      ]
     },
     "execution_count": 18,
     "metadata": {},
     "output_type": "execute_result"
    }
   ],
   "source": [
    "multiline = \"\"\"\n",
    "    안녕하세요\n",
    "    파이썬\n",
    "    반갑습니다.\n",
    "\"\"\"\n",
    "multiline"
   ]
  },
  {
   "cell_type": "code",
   "execution_count": 20,
   "metadata": {},
   "outputs": [
    {
     "name": "stdout",
     "output_type": "stream",
     "text": [
      "파이썬은  재미있다.\n",
      "파이썬은 재미있다.\n"
     ]
    }
   ],
   "source": [
    "# '+', 산술연산자와 나열연산자\n",
    "head = '파이썬은 '\n",
    "tail = '재미있다.'\n",
    "print(head, tail) # , 열거연산자: 한칸의 공백\n",
    "print(head + tail) # 공백없이 출력된다."
   ]
  },
  {
   "cell_type": "code",
   "execution_count": 21,
   "metadata": {},
   "outputs": [
    {
     "name": "stdout",
     "output_type": "stream",
     "text": [
      "홍길동 33\n",
      "홍길동33\n"
     ]
    }
   ],
   "source": [
    "name = \"홍길동\"\n",
    "age = 33\n",
    "\n",
    "print(name, age)\n",
    "print(name + str(age))"
   ]
  },
  {
   "cell_type": "code",
   "execution_count": 22,
   "metadata": {},
   "outputs": [
    {
     "name": "stdout",
     "output_type": "stream",
     "text": [
      "이름 : 홍길동, 나이 : 33\n"
     ]
    }
   ],
   "source": [
    "print(\"이름 : {0}, 나이 : {1}\".format(name, age))"
   ]
  },
  {
   "cell_type": "code",
   "execution_count": 23,
   "metadata": {},
   "outputs": [
    {
     "name": "stdout",
     "output_type": "stream",
     "text": [
      "파이썬파이썬\n",
      "파이썬파이썬파이썬\n",
      "==================================================\n",
      "My Python Program\n"
     ]
    }
   ],
   "source": [
    "a = \"파이썬\"\n",
    "print(a * 2)\n",
    "print(a * 3)\n",
    "\n",
    "print(\"=\" * 50)\n",
    "print(\"My Python Program\")"
   ]
  },
  {
   "cell_type": "code",
   "execution_count": 26,
   "metadata": {},
   "outputs": [
    {
     "name": "stdout",
     "output_type": "stream",
     "text": [
      "life\n"
     ]
    }
   ],
   "source": [
    "# 문자열의 인덱싱(indexing), []\n",
    "# 문자열의 슬라이싱(slicing), 처음위치:마지막위치-1\n",
    "a = \"life is too short\"\n",
    "print(a[0:4])"
   ]
  },
  {
   "cell_type": "code",
   "execution_count": 27,
   "metadata": {},
   "outputs": [
    {
     "name": "stdout",
     "output_type": "stream",
     "text": [
      "True\n",
      "False\n"
     ]
    }
   ],
   "source": [
    "# in과 not in : True or False\n",
    "s = \"Hello world\"\n",
    "print(\"world\" in s)\n",
    "print(\"world\" not in s)"
   ]
  },
  {
   "cell_type": "code",
   "execution_count": 31,
   "metadata": {},
   "outputs": [
    {
     "name": "stdout",
     "output_type": "stream",
     "text": [
      "<class 'int'>\n",
      "나이 : 30세\n",
      "나이2 :    30세\n",
      "좋아하는 과일 : 사과\n",
      "좋아하는 과일 : 사과\n",
      "홍길동님의 나이는 30세 입니다.\n",
      "홍길동님의 나이는 30세 입니다.\n",
      "당첨확률이 98%\n",
      "당첨확률이 98%\n",
      "원주율 :      3.142\n",
      "원주율 :      3.142\n"
     ]
    }
   ],
   "source": [
    "# 출력 서식 %기호와 함께 사용\n",
    "# %d(%i)-decimal(integer), %f-float, %s-string\n",
    "age = 30\n",
    "print(type(age)) # integer, %d\n",
    "print(\"나이 : %s세\" % age) # 숫자는 문자열로 출력 가능\n",
    "print(\"나이2 : {0:5d}세\".format(age))\n",
    "fruit = \"사과\"\n",
    "print(\"좋아하는 과일 : %s\" % fruit)\n",
    "print(\"좋아하는 과일 : {0}\".format(fruit))\n",
    "name = \"홍길동\"\n",
    "print(\"%s님의 나이는 %d세 입니다.\" % (name, age))\n",
    "print(\"{0}님의 나이는 {1}세 입니다.\".format(name, age))\n",
    "rate = 98\n",
    "# 퍼센트 기호를 함께 출력하고 싶다면 %를 두번 (서식 기호이기 때문)\n",
    "print(\"당첨확률이 %d%%\" % rate)\n",
    "print(\"당첨확률이 {}%\".format(rate))\n",
    "\n",
    "pi = 3.141592\n",
    "print(\"원주율 : %10.3f\" % pi)\n",
    "print(\"원주율 : {:10.3f}\".format(pi))"
   ]
  },
  {
   "cell_type": "code",
   "execution_count": 32,
   "metadata": {},
   "outputs": [
    {
     "name": "stdout",
     "output_type": "stream",
     "text": [
      "3.141592653589793\n"
     ]
    }
   ],
   "source": [
    "import math\n",
    "\n",
    "print(math.pi)"
   ]
  },
  {
   "cell_type": "code",
   "execution_count": 34,
   "metadata": {},
   "outputs": [
    {
     "name": "stdout",
     "output_type": "stream",
     "text": [
      "이순신님의 나이가 33입니다.\n"
     ]
    }
   ],
   "source": [
    "# 숫자 인덱스 대신 변수명을 이용한 서식\n",
    "\n",
    "print(\"{name}님의 나이가 {age}입니다.\".format(name=\"이순신\", age=33))"
   ]
  },
  {
   "cell_type": "code",
   "execution_count": 37,
   "metadata": {},
   "outputs": [
    {
     "name": "stdout",
     "output_type": "stream",
     "text": [
      "hi        \n",
      "hi        \n",
      "========hi\n",
      "    hi    \n",
      "====hi====\n",
      "----hi----\n"
     ]
    }
   ],
   "source": [
    "print(\"{0:10}\".format(\"hi\")) # 왼쪽 정렬 기본값\n",
    "print(\"{0:<10}\".format(\"hi\")) # 왼쪽 정렬\n",
    "print(\"{0:>10}\".format(\"hi\")) # 오른쪽 정렬\n",
    "print(\"{0:^10}\".format(\"hi\")) # 가운데 정렬\n",
    "print(\"{0:=^10}\".format(\"hi\")) # 공백표시(=)\n",
    "print(\"{0:-^10}\".format(\"hi\")) # 공백표시(-)"
   ]
  },
  {
   "cell_type": "code",
   "execution_count": 38,
   "metadata": {},
   "outputs": [],
   "source": [
    "a = \"hobby\""
   ]
  },
  {
   "cell_type": "code",
   "execution_count": 39,
   "metadata": {},
   "outputs": [
    {
     "name": "stdout",
     "output_type": "stream",
     "text": [
      "hobby\n",
      "2\n"
     ]
    }
   ],
   "source": [
    "print(a)\n",
    "print(a.count('b'))"
   ]
  },
  {
   "cell_type": "code",
   "execution_count": 41,
   "metadata": {},
   "outputs": [
    {
     "name": "stdout",
     "output_type": "stream",
     "text": [
      "Have a lovely day\n",
      "7\n",
      "-1\n"
     ]
    }
   ],
   "source": [
    "a = \"Have a lovely day\"\n",
    "print(a)\n",
    "print(a.find(\"lovely\")) # 해당 문자열의 시작위치 7\n",
    "print(a.find(\"have\")) # 못찾으면 -1"
   ]
  },
  {
   "cell_type": "code",
   "execution_count": 42,
   "metadata": {},
   "outputs": [
    {
     "name": "stdout",
     "output_type": "stream",
     "text": [
      "8\n"
     ]
    }
   ],
   "source": [
    "a = \"Life is too short\"\n",
    "print(a.index(\"too\")) # 8\n",
    "# print(a.index(\"kind\")) # 못찾으면 Error -> not found"
   ]
  },
  {
   "cell_type": "code",
   "execution_count": 43,
   "metadata": {},
   "outputs": [
    {
     "name": "stdout",
     "output_type": "stream",
     "text": [
      "a,b,c,d,e,f,g\n"
     ]
    }
   ],
   "source": [
    "a = \",\"\n",
    "print(a.join(\"abcdefg\")) # Seperator.join(\"String\") 구분자를 문자열 사이에"
   ]
  },
  {
   "cell_type": "code",
   "execution_count": 45,
   "metadata": {},
   "outputs": [
    {
     "name": "stdout",
     "output_type": "stream",
     "text": [
      "HELLO\n",
      "hello\n"
     ]
    }
   ],
   "source": [
    "#upper, lower\n",
    "a = \"hEllo\"\n",
    "print(a.upper()) # 대문자로\n",
    "print(a.lower()) # 소문자로"
   ]
  },
  {
   "cell_type": "code",
   "execution_count": 46,
   "metadata": {},
   "outputs": [
    {
     "name": "stdout",
     "output_type": "stream",
     "text": [
      "Python programming\n"
     ]
    }
   ],
   "source": [
    "a = \"python programming\"\n",
    "print(a.capitalize()) #첫글자만 대문자로"
   ]
  },
  {
   "cell_type": "code",
   "execution_count": 47,
   "metadata": {},
   "outputs": [
    {
     "name": "stdout",
     "output_type": "stream",
     "text": [
      "경력 개발자\n"
     ]
    }
   ],
   "source": [
    "# replace(A, B) A를 B로 변경\n",
    "a = \"신입 개발자\"\n",
    "print(a.replace(\"신입\", \"경력\"))"
   ]
  },
  {
   "cell_type": "code",
   "execution_count": 48,
   "metadata": {},
   "outputs": [],
   "source": [
    "a = \"신입 개발자 자바 파이썬 가능자\""
   ]
  },
  {
   "cell_type": "code",
   "execution_count": 49,
   "metadata": {},
   "outputs": [
    {
     "name": "stdout",
     "output_type": "stream",
     "text": [
      "['신입', '개발자', '자바', '파이썬', '가능자']\n"
     ]
    }
   ],
   "source": [
    "print(a.split())"
   ]
  },
  {
   "cell_type": "code",
   "execution_count": 50,
   "metadata": {},
   "outputs": [],
   "source": [
    "b = \"A:B:C:D:E\""
   ]
  },
  {
   "cell_type": "code",
   "execution_count": 51,
   "metadata": {},
   "outputs": [
    {
     "name": "stdout",
     "output_type": "stream",
     "text": [
      "['A', 'B', 'C', 'D', 'E']\n"
     ]
    }
   ],
   "source": [
    "print(b.split(\":\"))"
   ]
  },
  {
   "cell_type": "code",
   "execution_count": null,
   "metadata": {},
   "outputs": [],
   "source": []
  }
 ],
 "metadata": {
  "kernelspec": {
   "display_name": "Python 3",
   "language": "python",
   "name": "python3"
  },
  "language_info": {
   "codemirror_mode": {
    "name": "ipython",
    "version": 3
   },
   "file_extension": ".py",
   "mimetype": "text/x-python",
   "name": "python",
   "nbconvert_exporter": "python",
   "pygments_lexer": "ipython3",
   "version": "3.7.3"
  }
 },
 "nbformat": 4,
 "nbformat_minor": 2
}
