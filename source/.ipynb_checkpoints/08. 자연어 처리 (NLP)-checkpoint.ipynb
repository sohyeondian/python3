{
 "cells": [
  {
   "cell_type": "markdown",
   "metadata": {},
   "source": [
    "##### NLPK(Natural Language Toolkit) : 자연어 처리 및 문서 분석용 패키지\n",
    "\n",
    "##### 말 뭉치(corpus), 토큰(token) 생성, 형태소 분석(어근, 어미), 품사 태깅\n",
    "<br/>\n",
    "\n",
    "---\n",
    "\n",
    "### 데이터 마이닝 vs 텍스트 마이닝\n",
    "1. 데이터 마이닝\n",
    "  - 데이터에서 의미 있는 정보를 찾아내는 기능\n",
    "  - 통계분석, 모델링 기법을 이용하여 데이터 안 패턴과의 관계를 찾아내는 과정\n",
    "2. 텍스트 마이닝\n",
    "  - 비정형 텍스트 데이터에서 분석 도구 이용하여 패턴을 찾아 정보를 만드는 기술\n",
    "  - 비정형 데이터를 정형화된 데이터로 정량화하는 과정\n",
    "  - 자연어 처리 기술에 기반을 둔 텍스트로 데이터를 가공하는 기술"
   ]
  },
  {
   "cell_type": "code",
   "execution_count": 1,
   "metadata": {},
   "outputs": [
    {
     "name": "stdout",
     "output_type": "stream",
     "text": [
      "*** Introductory Examples for the NLTK Book ***\n",
      "Loading text1, ..., text9 and sent1, ..., sent9\n",
      "Type the name of the text or sentence to view it.\n",
      "Type: 'texts()' or 'sents()' to list the materials.\n",
      "text1: Moby Dick by Herman Melville 1851\n",
      "text2: Sense and Sensibility by Jane Austen 1811\n",
      "text3: The Book of Genesis\n",
      "text4: Inaugural Address Corpus\n",
      "text5: Chat Corpus\n",
      "text6: Monty Python and the Holy Grail\n",
      "text7: Wall Street Journal\n",
      "text8: Personals Corpus\n",
      "text9: The Man Who Was Thursday by G . K . Chesterton 1908\n"
     ]
    }
   ],
   "source": [
    "# 말뭉치(corpus) : 자연어 분석 작업을 수행하기 위해 만들어진 샘플 문서 집합\n",
    "import nltk\n",
    "nltk.download('book', quiet=True)\n",
    "from nltk.book import *"
   ]
  },
  {
   "cell_type": "code",
   "execution_count": 2,
   "metadata": {},
   "outputs": [
    {
     "data": {
      "text/plain": [
       "['austen-emma.txt',\n",
       " 'austen-persuasion.txt',\n",
       " 'austen-sense.txt',\n",
       " 'bible-kjv.txt',\n",
       " 'blake-poems.txt',\n",
       " 'bryant-stories.txt',\n",
       " 'burgess-busterbrown.txt',\n",
       " 'carroll-alice.txt',\n",
       " 'chesterton-ball.txt',\n",
       " 'chesterton-brown.txt',\n",
       " 'chesterton-thursday.txt',\n",
       " 'edgeworth-parents.txt',\n",
       " 'melville-moby_dick.txt',\n",
       " 'milton-paradise.txt',\n",
       " 'shakespeare-caesar.txt',\n",
       " 'shakespeare-hamlet.txt',\n",
       " 'shakespeare-macbeth.txt',\n",
       " 'whitman-leaves.txt']"
      ]
     },
     "execution_count": 2,
     "metadata": {},
     "output_type": "execute_result"
    }
   ],
   "source": [
    "# 저작권이 만료된 문학작품을 포함하고 있는 말뭉치\n",
    "nltk.corpus.gutenberg.fileids()"
   ]
  },
  {
   "cell_type": "code",
   "execution_count": 4,
   "metadata": {},
   "outputs": [
    {
     "name": "stdout",
     "output_type": "stream",
     "text": [
      "[Emma by Jane Austen 1816]\n",
      "\n",
      "VOLUME I\n",
      "\n",
      "CHAPTER I\n",
      "\n",
      "\n",
      "Emma Woodhouse, handsome, clever, and rich, with a comfortable home\n",
      "and happy disposition, seemed to unite some of the best blessings\n",
      "of existence; and had lived nearly twenty-one years in the world\n",
      "with very little to distress or vex her.\n",
      "\n",
      "She was the youngest of the two daughters of a most affectionate,\n",
      "indulgent father; and had, in consequence of her sister's marriage,\n",
      "been mistress of his house from a very early period.  Her mother\n",
      "had died too long ago for her to have more than an indistinct\n",
      "remembrance of her caresses; and her place had been supplied\n",
      "by an excellent woman as governess, who had fallen little short\n",
      "of a mother in affection.\n",
      "\n",
      "Sixteen years had Miss Taylor been in Mr. Woodhouse's family,\n",
      "less as a governess than a friend, very fond of both daughters,\n",
      "but particularly of Emma.  Between _them_ it was more the intimacy\n",
      "of sisters.  Even before Miss Taylor had ceased to hold the nominal\n",
      "office of governess, the mildness o\n"
     ]
    }
   ],
   "source": [
    "emma_raw = nltk.corpus.gutenberg.raw(\"austen-emma.txt\")\n",
    "print(emma_raw[:1000])"
   ]
  },
  {
   "cell_type": "code",
   "execution_count": 5,
   "metadata": {},
   "outputs": [
    {
     "name": "stdout",
     "output_type": "stream",
     "text": [
      "Sixteen years had Miss Taylor been in Mr. Woodhouse's family,\n",
      "less as a governess than a friend, very fond of both daughters,\n",
      "but particularly of Emma.\n"
     ]
    }
   ],
   "source": [
    "# Token 생성 \n",
    "# 긴 문자열을 분석하기 위해 나눈 작은 단위\n",
    "# tokenizer : 토큰생성함수 -> 문자열을 토큰 단위로 나누어 리스트로 반환\n",
    "from nltk.tokenize import sent_tokenize\n",
    "print(sent_tokenize(emma_raw[:1000])[3])"
   ]
  },
  {
   "cell_type": "code",
   "execution_count": 6,
   "metadata": {},
   "outputs": [
    {
     "name": "stdout",
     "output_type": "stream",
     "text": [
      "['Emma', 'Woodhouse', ',', 'handsome', ',', 'clever', ',', 'and', 'rich', ',', 'with', 'a']\n"
     ]
    }
   ],
   "source": [
    "from nltk.tokenize import word_tokenize\n",
    "print(word_tokenize(emma_raw[50:100]))"
   ]
  },
  {
   "cell_type": "code",
   "execution_count": 7,
   "metadata": {},
   "outputs": [
    {
     "name": "stdout",
     "output_type": "stream",
     "text": [
      "['Emma', 'Woodhouse', 'handsome', 'clever', 'and', 'rich', 'with', 'a']\n"
     ]
    }
   ],
   "source": [
    "from nltk.tokenize import RegexpTokenizer\n",
    "pat = RegexpTokenizer(\"[\\w]+\")\n",
    "print(pat.tokenize(emma_raw[50:100]))"
   ]
  },
  {
   "cell_type": "markdown",
   "metadata": {},
   "source": [
    "##### Morpheme(형태소) : 의미가 있는 가장 작은 말의 단위\n",
    "- 형태소 분석 : 단어로부터 어근, 접두사, 접미사, 품사... 속성을 파악\n",
    "- Stemming(어간 추출), lemmatizing(원형 복원), pos tagging(품사 부착)"
   ]
  },
  {
   "cell_type": "code",
   "execution_count": 8,
   "metadata": {},
   "outputs": [
    {
     "name": "stdout",
     "output_type": "stream",
     "text": [
      "PorterStemmer : ['fli', 'fli', 'fli', 'flew', 'flown']\n",
      "LancasterStemmer : ['fly', 'fly', 'fly', 'flew', 'flown']\n"
     ]
    }
   ],
   "source": [
    "# 어간 추출 (stemming) : 접미사나 어미를 제거하여 기본형을 찾는 방법\n",
    "# PoterStemmer, LancasterStemmer\n",
    "from nltk.stem import PorterStemmer, LancasterStemmer\n",
    "\n",
    "st1 = PorterStemmer()\n",
    "st2 = LancasterStemmer()\n",
    "\n",
    "words = ['fly', 'flys', 'flying', 'flew', 'flown']\n",
    "\n",
    "print(\"PorterStemmer :\", [st1.stem(w) for w in words])\n",
    "print(\"LancasterStemmer :\", [st2.stem(w) for w in words])"
   ]
  },
  {
   "cell_type": "code",
   "execution_count": 9,
   "metadata": {},
   "outputs": [
    {
     "data": {
      "text/plain": [
       "['fly', 'fly', 'fly', 'fly', 'fly']"
      ]
     },
     "execution_count": 9,
     "metadata": {},
     "output_type": "execute_result"
    }
   ],
   "source": [
    "# 원형 복원(lemmatizing) : 사전형으로 통일하는 작업\n",
    "# 품사 Part of Speech, pos를 지정하면 더 정확한 원형을 찾는다\n",
    "from nltk.stem import WordNetLemmatizer\n",
    "lm = WordNetLemmatizer()\n",
    "[lm.lemmatize(w, pos='v') for w in words] # pos=(품사)"
   ]
  },
  {
   "cell_type": "code",
   "execution_count": 10,
   "metadata": {},
   "outputs": [
    {
     "name": "stdout",
     "output_type": "stream",
     "text": [
      "VB: verb, base form\n",
      "    ask assemble assess assign assume atone attention avoid bake balkanize\n",
      "    bank begin behold believe bend benefit bevel beware bless boil bomb\n",
      "    boost brace break bring broil brush build ...\n"
     ]
    }
   ],
   "source": [
    "# 품사 부착(pos tagging)\n",
    "# NNP(단수 고유명사), VB(동사), VBP(현재진행동사), NN(명사) 등\n",
    "# 품사 설명\n",
    "nltk.help.upenn_tagset(\"VB\")"
   ]
  },
  {
   "cell_type": "code",
   "execution_count": 11,
   "metadata": {},
   "outputs": [
    {
     "data": {
      "text/plain": [
       "[('Her', 'PRP$'),\n",
       " ('mother', 'NN'),\n",
       " ('had', 'VBD'),\n",
       " ('died', 'VBN'),\n",
       " ('too', 'RB'),\n",
       " ('long', 'RB'),\n",
       " ('ago', 'RB'),\n",
       " ('for', 'IN'),\n",
       " ('her', 'PRP$'),\n",
       " ('to', 'TO'),\n",
       " ('have', 'VB'),\n",
       " ('more', 'JJR'),\n",
       " ('than', 'IN'),\n",
       " ('an', 'DT'),\n",
       " ('indistinct', 'JJ'),\n",
       " ('remembrance', 'NN'),\n",
       " ('of', 'IN'),\n",
       " ('her', 'PRP$'),\n",
       " ('caresses', 'NNS')]"
      ]
     },
     "execution_count": 11,
     "metadata": {},
     "output_type": "execute_result"
    }
   ],
   "source": [
    "from nltk.tag import pos_tag\n",
    "sentence = \"Her mother had died too long ago for her to have more than an indistinct remembrance of her caresses\"\n",
    "tag_list = pos_tag(word_tokenize(sentence))\n",
    "tag_list"
   ]
  },
  {
   "cell_type": "code",
   "execution_count": 12,
   "metadata": {},
   "outputs": [
    {
     "data": {
      "text/plain": [
       "['mother', 'remembrance']"
      ]
     },
     "execution_count": 12,
     "metadata": {},
     "output_type": "execute_result"
    }
   ],
   "source": [
    "nouns_list = [t[0] for t in tag_list if t[1] == 'NN']\n",
    "nouns_list"
   ]
  },
  {
   "cell_type": "code",
   "execution_count": 13,
   "metadata": {},
   "outputs": [
    {
     "data": {
      "text/plain": [
       "['Her',\n",
       " 'mother',\n",
       " 'had',\n",
       " 'died',\n",
       " 'too',\n",
       " 'long',\n",
       " 'ago',\n",
       " 'for',\n",
       " 'her',\n",
       " 'to',\n",
       " 'have',\n",
       " 'more',\n",
       " 'than',\n",
       " 'an',\n",
       " 'indistinct',\n",
       " 'remembrance',\n",
       " 'of',\n",
       " 'her',\n",
       " 'caresses']"
      ]
     },
     "execution_count": 13,
     "metadata": {},
     "output_type": "execute_result"
    }
   ],
   "source": [
    "from nltk.tag import untag\n",
    "untag(tag_list)"
   ]
  },
  {
   "cell_type": "code",
   "execution_count": 14,
   "metadata": {},
   "outputs": [
    {
     "data": {
      "text/plain": [
       "['Her/PRP$',\n",
       " 'mother/NN',\n",
       " 'had/VBD',\n",
       " 'died/VBN',\n",
       " 'too/RB',\n",
       " 'long/RB',\n",
       " 'ago/RB',\n",
       " 'for/IN',\n",
       " 'her/PRP$',\n",
       " 'to/TO',\n",
       " 'have/VB',\n",
       " 'more/JJR',\n",
       " 'than/IN',\n",
       " 'an/DT',\n",
       " 'indistinct/JJ',\n",
       " 'remembrance/NN',\n",
       " 'of/IN',\n",
       " 'her/PRP$',\n",
       " 'caresses/NNS']"
      ]
     },
     "execution_count": 14,
     "metadata": {},
     "output_type": "execute_result"
    }
   ],
   "source": [
    "def tokenizer(doc):\n",
    "    return ['/'.join(p) for p in tag_list]\n",
    "\n",
    "tokenizer(sentence)"
   ]
  },
  {
   "cell_type": "code",
   "execution_count": 16,
   "metadata": {},
   "outputs": [],
   "source": [
    "# Text 클래스\n",
    "from nltk import Text\n",
    "\n",
    "text = Text(pat.tokenize(emma_raw))"
   ]
  },
  {
   "cell_type": "code",
   "execution_count": 17,
   "metadata": {},
   "outputs": [],
   "source": [
    "import numpy as np\n",
    "import pandas as pd\n",
    "import matplotlib.pyplot as plt\n",
    "\n",
    "%matplotlib inline"
   ]
  },
  {
   "cell_type": "code",
   "execution_count": 18,
   "metadata": {},
   "outputs": [
    {
     "data": {
      "image/png": "[encoded data removed]",
      "text/plain": [
       "<Figure size 432x288 with 1 Axes>"
      ]
     },
     "metadata": {
      "needs_background": "light"
     },
     "output_type": "display_data"
    }
   ],
   "source": [
    "text.plot(20)\n",
    "plt.show()"
   ]
  },
  {
   "cell_type": "code",
   "execution_count": 19,
   "metadata": {},
   "outputs": [
    {
     "data": {
      "image/png": "[encoded data removed]",
      "text/plain": [
       "<Figure size 432x288 with 1 Axes>"
      ]
     },
     "metadata": {
      "needs_background": "light"
     },
     "output_type": "display_data"
    }
   ],
   "source": [
    "# 단어가 사용된 위치를 시각화\n",
    "text.dispersion_plot(['Emma', 'Frank', 'Jane', 'Harriet', 'Robert'])"
   ]
  },
  {
   "cell_type": "code",
   "execution_count": 20,
   "metadata": {},
   "outputs": [
    {
     "name": "stdout",
     "output_type": "stream",
     "text": [
      "Displaying 25 of 865 matches:\n",
      " Emma by Jane Austen 1816 VOLUME I CHAPTER\n",
      " Jane Austen 1816 VOLUME I CHAPTER I Emma Woodhouse handsome clever and rich w\n",
      "f both daughters but particularly of Emma Between _them_ it was more the intim\n",
      "nd friend very mutually attached and Emma doing just what she liked highly est\n",
      " by her own The real evils indeed of Emma s situation were the power of having\n",
      "ding day of this beloved friend that Emma first sat in mournful thought of any\n",
      "going only half a mile from them but Emma was aware that great must be the dif\n",
      "a day It was a melancholy change and Emma could not but sigh over it and wish \n",
      "ll the rest of her life at Hartfield Emma smiled and chatted as cheerfully as \n",
      "l be able to tell her how we all are Emma spared no exertions to maintain this\n",
      "or I have a great regard for you and Emma but when it comes to the question of\n",
      "a fanciful troublesome creature said Emma playfully That is what you have in y\n",
      "e few people who could see faults in Emma Woodhouse and the only one who ever \n",
      "is was not particularly agreeable to Emma herself she knew it would be so much\n",
      " being thought perfect by every body Emma knows I never flatter her said Mr Kn\n",
      " that she must be a gainer Well said Emma willing to let it pass you want to h\n",
      " were sure of meeting every day Dear Emma bears every thing so well said her f\n",
      "l_ miss her more than she thinks for Emma turned away her head divided between\n",
      "ars and smiles It is impossible that Emma should not miss such a companion sai\n",
      "rgotten one matter of joy to me said Emma and a very considerable one that I m\n",
      "lf than good to them by interference Emma never thinks of herself if she can d\n",
      "ch better thing Invite him to dinner Emma and help him to the best of the fish\n",
      " and could not think without pain of Emma s losing a single pleasure or suffer\n",
      "nt of her companionableness but dear Emma was of no feeble character she was m\n",
      "ent was so just and so apparent that Emma well as she knew her father was some\n"
     ]
    }
   ],
   "source": [
    "text.concordance('Emma')"
   ]
  },
  {
   "cell_type": "code",
   "execution_count": null,
   "metadata": {},
   "outputs": [],
   "source": []
  }
 ],
 "metadata": {
  "kernelspec": {
   "display_name": "Python 3",
   "language": "python",
   "name": "python3"
  },
  "language_info": {
   "codemirror_mode": {
    "name": "ipython",
    "version": 3
   },
   "file_extension": ".py",
   "mimetype": "text/x-python",
   "name": "python",
   "nbconvert_exporter": "python",
   "pygments_lexer": "ipython3",
   "version": "3.7.3"
  }
 },
 "nbformat": 4,
 "nbformat_minor": 2
}
