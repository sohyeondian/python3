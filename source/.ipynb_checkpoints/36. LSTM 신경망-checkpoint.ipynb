{
 "cells": [
  {
   "cell_type": "code",
   "execution_count": 1,
   "metadata": {},
   "outputs": [],
   "source": [
    "from tensorflow.keras.datasets import imdb\n",
    "from sklearn.model_selection import train_test_split\n",
    "\n",
    "# 가장 자주 등장하는 단어 500개만 사용\n",
    "(train_input, train_target), (test_input, test_target) = imdb.load_data(\n",
    "    num_words=500)\n",
    "\n",
    "# 검증세트\n",
    "train_input, val_input, train_target, val_target = train_test_split(\n",
    "    train_input, train_target, test_size=0.2, random_state=42)"
   ]
  },
  {
   "cell_type": "code",
   "execution_count": 2,
   "metadata": {},
   "outputs": [],
   "source": [
    "from tensorflow.keras.preprocessing.sequence import pad_sequences\n",
    "\n",
    "train_seq = pad_sequences(train_input, maxlen=100)\n",
    "val_seq = pad_sequences(val_input, maxlen=100)"
   ]
  },
  {
   "cell_type": "code",
   "execution_count": 3,
   "metadata": {},
   "outputs": [
    {
     "name": "stdout",
     "output_type": "stream",
     "text": [
      "Model: \"sequential\"\n",
      "_________________________________________________________________\n",
      "Layer (type)                 Output Shape              Param #   \n",
      "=================================================================\n",
      "embedding (Embedding)        (None, 100, 16)           8000      \n",
      "_________________________________________________________________\n",
      "lstm (LSTM)                  (None, 8)                 800       \n",
      "_________________________________________________________________\n",
      "dense (Dense)                (None, 1)                 9         \n",
      "=================================================================\n",
      "Total params: 8,809\n",
      "Trainable params: 8,809\n",
      "Non-trainable params: 0\n",
      "_________________________________________________________________\n"
     ]
    }
   ],
   "source": [
    "from tensorflow import keras\n",
    "\n",
    "model = keras.Sequential()\n",
    "model.add(keras.layers.Embedding(500, 16, input_length=100))\n",
    "model.add(keras.layers.LSTM(8))\n",
    "model.add(keras.layers.Dense(1, activation='sigmoid'))\n",
    "model.summary()"
   ]
  },
  {
   "cell_type": "code",
   "execution_count": 4,
   "metadata": {},
   "outputs": [
    {
     "name": "stdout",
     "output_type": "stream",
     "text": [
      "Train on 20000 samples, validate on 5000 samples\n",
      "Epoch 1/100\n",
      "20000/20000 [==============================] - 11s 537us/sample - loss: 0.6925 - acc: 0.5333 - val_loss: 0.6916 - val_acc: 0.5776\n",
      "Epoch 2/100\n",
      "20000/20000 [==============================] - 8s 424us/sample - loss: 0.6899 - acc: 0.6119 - val_loss: 0.6881 - val_acc: 0.6320\n",
      "Epoch 3/100\n",
      "20000/20000 [==============================] - 8s 419us/sample - loss: 0.6822 - acc: 0.6541 - val_loss: 0.6745 - val_acc: 0.6534\n",
      "Epoch 4/100\n",
      "20000/20000 [==============================] - 8s 415us/sample - loss: 0.6425 - acc: 0.6951 - val_loss: 0.6177 - val_acc: 0.7236\n",
      "Epoch 5/100\n",
      "20000/20000 [==============================] - 9s 426us/sample - loss: 0.5974 - acc: 0.7387 - val_loss: 0.5912 - val_acc: 0.7364\n",
      "Epoch 6/100\n",
      "20000/20000 [==============================] - 8s 415us/sample - loss: 0.5741 - acc: 0.7523 - val_loss: 0.5709 - val_acc: 0.7506\n",
      "Epoch 7/100\n",
      "20000/20000 [==============================] - 9s 426us/sample - loss: 0.5533 - acc: 0.7637 - val_loss: 0.5546 - val_acc: 0.7598\n",
      "Epoch 8/100\n",
      "20000/20000 [==============================] - 9s 433us/sample - loss: 0.5339 - acc: 0.7709 - val_loss: 0.5334 - val_acc: 0.7662\n",
      "Epoch 9/100\n",
      "20000/20000 [==============================] - 8s 422us/sample - loss: 0.5139 - acc: 0.7794 - val_loss: 0.5169 - val_acc: 0.7698\n",
      "Epoch 10/100\n",
      "20000/20000 [==============================] - 8s 419us/sample - loss: 0.4952 - acc: 0.7838 - val_loss: 0.4986 - val_acc: 0.7780\n",
      "Epoch 11/100\n",
      "20000/20000 [==============================] - 9s 428us/sample - loss: 0.4774 - acc: 0.7904 - val_loss: 0.4800 - val_acc: 0.7830\n",
      "Epoch 12/100\n",
      "20000/20000 [==============================] - 9s 426us/sample - loss: 0.4631 - acc: 0.7950 - val_loss: 0.4687 - val_acc: 0.7858\n",
      "Epoch 13/100\n",
      "20000/20000 [==============================] - 9s 432us/sample - loss: 0.4528 - acc: 0.7982 - val_loss: 0.4620 - val_acc: 0.7890\n",
      "Epoch 14/100\n",
      "20000/20000 [==============================] - 9s 448us/sample - loss: 0.4453 - acc: 0.8020 - val_loss: 0.4556 - val_acc: 0.7938\n",
      "Epoch 15/100\n",
      "20000/20000 [==============================] - 9s 435us/sample - loss: 0.4401 - acc: 0.8020 - val_loss: 0.4522 - val_acc: 0.7958\n",
      "Epoch 16/100\n",
      "20000/20000 [==============================] - 9s 431us/sample - loss: 0.4358 - acc: 0.8051 - val_loss: 0.4516 - val_acc: 0.7938\n",
      "Epoch 17/100\n",
      "20000/20000 [==============================] - 9s 446us/sample - loss: 0.4325 - acc: 0.8063 - val_loss: 0.4475 - val_acc: 0.7986\n",
      "Epoch 18/100\n",
      "20000/20000 [==============================] - 9s 428us/sample - loss: 0.4294 - acc: 0.8083 - val_loss: 0.4459 - val_acc: 0.7958\n",
      "Epoch 19/100\n",
      "20000/20000 [==============================] - 8s 418us/sample - loss: 0.4260 - acc: 0.8090 - val_loss: 0.4437 - val_acc: 0.7978\n",
      "Epoch 20/100\n",
      "20000/20000 [==============================] - 9s 440us/sample - loss: 0.4241 - acc: 0.8105 - val_loss: 0.4427 - val_acc: 0.7996\n",
      "Epoch 21/100\n",
      "20000/20000 [==============================] - 8s 422us/sample - loss: 0.4216 - acc: 0.8118 - val_loss: 0.4436 - val_acc: 0.7992\n",
      "Epoch 22/100\n",
      "20000/20000 [==============================] - 8s 416us/sample - loss: 0.4200 - acc: 0.8125 - val_loss: 0.4390 - val_acc: 0.7988\n",
      "Epoch 23/100\n",
      "20000/20000 [==============================] - 8s 414us/sample - loss: 0.4182 - acc: 0.8130 - val_loss: 0.4413 - val_acc: 0.7998\n",
      "Epoch 24/100\n",
      "20000/20000 [==============================] - 9s 434us/sample - loss: 0.4166 - acc: 0.8130 - val_loss: 0.4385 - val_acc: 0.8010\n",
      "Epoch 25/100\n",
      "20000/20000 [==============================] - 9s 431us/sample - loss: 0.4154 - acc: 0.8143 - val_loss: 0.4363 - val_acc: 0.8004\n",
      "Epoch 26/100\n",
      "20000/20000 [==============================] - 8s 409us/sample - loss: 0.4136 - acc: 0.8166 - val_loss: 0.4387 - val_acc: 0.8030\n",
      "Epoch 27/100\n",
      "20000/20000 [==============================] - 8s 403us/sample - loss: 0.4127 - acc: 0.8146 - val_loss: 0.4355 - val_acc: 0.8030\n",
      "Epoch 28/100\n",
      "20000/20000 [==============================] - 8s 407us/sample - loss: 0.4112 - acc: 0.8147 - val_loss: 0.4384 - val_acc: 0.8008\n",
      "Epoch 29/100\n",
      "20000/20000 [==============================] - 8s 407us/sample - loss: 0.4103 - acc: 0.8163 - val_loss: 0.4338 - val_acc: 0.8036\n",
      "Epoch 30/100\n",
      "20000/20000 [==============================] - 8s 413us/sample - loss: 0.4093 - acc: 0.8152 - val_loss: 0.4334 - val_acc: 0.8030\n",
      "Epoch 31/100\n",
      "20000/20000 [==============================] - 8s 415us/sample - loss: 0.4080 - acc: 0.8165 - val_loss: 0.4326 - val_acc: 0.8042\n",
      "Epoch 32/100\n",
      "20000/20000 [==============================] - 8s 424us/sample - loss: 0.4069 - acc: 0.8185 - val_loss: 0.4333 - val_acc: 0.8038\n",
      "Epoch 33/100\n",
      "20000/20000 [==============================] - 9s 431us/sample - loss: 0.4061 - acc: 0.8177 - val_loss: 0.4328 - val_acc: 0.8038\n",
      "Epoch 34/100\n",
      "20000/20000 [==============================] - 8s 407us/sample - loss: 0.4056 - acc: 0.8168 - val_loss: 0.4318 - val_acc: 0.8020\n",
      "Epoch 35/100\n",
      "20000/20000 [==============================] - 8s 416us/sample - loss: 0.4046 - acc: 0.8183 - val_loss: 0.4339 - val_acc: 0.7984\n",
      "Epoch 36/100\n",
      "20000/20000 [==============================] - 8s 413us/sample - loss: 0.4035 - acc: 0.8194 - val_loss: 0.4312 - val_acc: 0.8046\n",
      "Epoch 37/100\n",
      "20000/20000 [==============================] - 8s 411us/sample - loss: 0.4027 - acc: 0.8186 - val_loss: 0.4294 - val_acc: 0.8044\n",
      "Epoch 38/100\n",
      "20000/20000 [==============================] - 8s 425us/sample - loss: 0.4015 - acc: 0.8210 - val_loss: 0.4293 - val_acc: 0.8038\n",
      "Epoch 39/100\n",
      "20000/20000 [==============================] - 8s 411us/sample - loss: 0.4007 - acc: 0.8206 - val_loss: 0.4351 - val_acc: 0.7944\n",
      "Epoch 40/100\n",
      "20000/20000 [==============================] - 8s 410us/sample - loss: 0.3999 - acc: 0.8202 - val_loss: 0.4326 - val_acc: 0.8022\n",
      "Epoch 41/100\n",
      "20000/20000 [==============================] - 8s 420us/sample - loss: 0.3995 - acc: 0.8205 - val_loss: 0.4299 - val_acc: 0.8010\n"
     ]
    }
   ],
   "source": [
    "# 모델 설정과 훈련\n",
    "rmsprop = keras.optimizers.RMSprop(learning_rate=1e-4)\n",
    "model.compile(optimizer=rmsprop, loss='binary_crossentropy', metrics=['acc'])\n",
    "\n",
    "checkpoint_cb = keras.callbacks.ModelCheckpoint('best-lstm-model.h5')\n",
    "\n",
    "early_stopping_cb = keras.callbacks.EarlyStopping(patience=3,\n",
    "                                                  restore_best_weights=True)\n",
    "history = model.fit(train_seq, train_target, epochs=100, batch_size=64,\n",
    "                    validation_data=(val_seq, val_target),\n",
    "                    callbacks=[checkpoint_cb, early_stopping_cb])"
   ]
  },
  {
   "cell_type": "markdown",
   "metadata": {},
   "source": [
    "##### 성능 높이기\n",
    "- dropout : 파라미터 존재\n",
    "- sigmoid => tanh"
   ]
  },
  {
   "cell_type": "code",
   "execution_count": 6,
   "metadata": {},
   "outputs": [
    {
     "data": {
      "image/png": "[encoded data removed]",
      "text/plain": [
       "<Figure size 432x288 with 1 Axes>"
      ]
     },
     "metadata": {
      "needs_background": "light"
     },
     "output_type": "display_data"
    }
   ],
   "source": [
    "import matplotlib.pyplot as plt\n",
    "%matplotlib inline\n",
    "\n",
    "# 훈련 손실과 검증 손실 시각화\n",
    "plt.plot(history.history['loss'])\n",
    "plt.plot(history.history['val_loss'])\n",
    "plt.xlabel('epoch')\n",
    "plt.ylabel('loss')\n",
    "plt.legend(['train', 'val'])\n",
    "plt.show()"
   ]
  },
  {
   "cell_type": "code",
   "execution_count": 8,
   "metadata": {},
   "outputs": [],
   "source": [
    "model2 = keras.Sequential()\n",
    "model2.add(keras.layers.Embedding(500, 16, input_length=100))\n",
    "model2.add(keras.layers.LSTM(8, dropout=0.3))\n",
    "model2.add(keras.layers.Dense(1, activation='sigmoid'))"
   ]
  },
  {
   "cell_type": "code",
   "execution_count": 9,
   "metadata": {
    "scrolled": true
   },
   "outputs": [
    {
     "name": "stdout",
     "output_type": "stream",
     "text": [
      "Train on 20000 samples, validate on 5000 samples\n",
      "Epoch 1/100\n",
      "20000/20000 [==============================] - 11s 573us/sample - loss: 0.6928 - acc: 0.5327 - val_loss: 0.6922 - val_acc: 0.5960\n",
      "Epoch 2/100\n",
      "20000/20000 [==============================] - 9s 451us/sample - loss: 0.6911 - acc: 0.6043 - val_loss: 0.6899 - val_acc: 0.6300\n",
      "Epoch 3/100\n",
      "20000/20000 [==============================] - 9s 443us/sample - loss: 0.6851 - acc: 0.6594 - val_loss: 0.6762 - val_acc: 0.6916\n",
      "Epoch 4/100\n",
      "20000/20000 [==============================] - 10s 476us/sample - loss: 0.6502 - acc: 0.7013 - val_loss: 0.6315 - val_acc: 0.6978\n",
      "Epoch 5/100\n",
      "20000/20000 [==============================] - 9s 445us/sample - loss: 0.6219 - acc: 0.7027 - val_loss: 0.6122 - val_acc: 0.7242\n",
      "Epoch 6/100\n",
      "20000/20000 [==============================] - 9s 448us/sample - loss: 0.6036 - acc: 0.7214 - val_loss: 0.5942 - val_acc: 0.7336\n",
      "Epoch 7/100\n",
      "20000/20000 [==============================] - 9s 456us/sample - loss: 0.5839 - acc: 0.7362 - val_loss: 0.5743 - val_acc: 0.7424\n",
      "Epoch 8/100\n",
      "20000/20000 [==============================] - 9s 448us/sample - loss: 0.5632 - acc: 0.7489 - val_loss: 0.5529 - val_acc: 0.7570\n",
      "Epoch 9/100\n",
      "20000/20000 [==============================] - 9s 471us/sample - loss: 0.5430 - acc: 0.7599 - val_loss: 0.5334 - val_acc: 0.7676\n",
      "Epoch 10/100\n",
      "20000/20000 [==============================] - 9s 450us/sample - loss: 0.5230 - acc: 0.7715 - val_loss: 0.5141 - val_acc: 0.7784\n",
      "Epoch 11/100\n",
      "20000/20000 [==============================] - 9s 435us/sample - loss: 0.5055 - acc: 0.7801 - val_loss: 0.4996 - val_acc: 0.7834\n",
      "Epoch 12/100\n",
      "20000/20000 [==============================] - 9s 452us/sample - loss: 0.4925 - acc: 0.7846 - val_loss: 0.4912 - val_acc: 0.7834\n",
      "Epoch 13/100\n",
      "20000/20000 [==============================] - 9s 442us/sample - loss: 0.4818 - acc: 0.7891 - val_loss: 0.4798 - val_acc: 0.7932\n",
      "Epoch 14/100\n",
      "20000/20000 [==============================] - 9s 449us/sample - loss: 0.4720 - acc: 0.7923 - val_loss: 0.4715 - val_acc: 0.7924\n",
      "Epoch 15/100\n",
      "20000/20000 [==============================] - 9s 438us/sample - loss: 0.4648 - acc: 0.7959 - val_loss: 0.4656 - val_acc: 0.7916\n",
      "Epoch 16/100\n",
      "20000/20000 [==============================] - 9s 444us/sample - loss: 0.4555 - acc: 0.7978 - val_loss: 0.4596 - val_acc: 0.7956\n",
      "Epoch 17/100\n",
      "20000/20000 [==============================] - 9s 456us/sample - loss: 0.4519 - acc: 0.7977 - val_loss: 0.4555 - val_acc: 0.7968\n",
      "Epoch 18/100\n",
      "20000/20000 [==============================] - 9s 451us/sample - loss: 0.4463 - acc: 0.8003 - val_loss: 0.4518 - val_acc: 0.7970\n",
      "Epoch 19/100\n",
      "20000/20000 [==============================] - 9s 439us/sample - loss: 0.4429 - acc: 0.8015 - val_loss: 0.4508 - val_acc: 0.7920\n",
      "Epoch 20/100\n",
      "20000/20000 [==============================] - 9s 437us/sample - loss: 0.4385 - acc: 0.8030 - val_loss: 0.4464 - val_acc: 0.7952\n",
      "Epoch 21/100\n",
      "20000/20000 [==============================] - 9s 441us/sample - loss: 0.4336 - acc: 0.8026 - val_loss: 0.4464 - val_acc: 0.7924\n",
      "Epoch 22/100\n",
      "20000/20000 [==============================] - 9s 439us/sample - loss: 0.4335 - acc: 0.8001 - val_loss: 0.4456 - val_acc: 0.7924\n",
      "Epoch 23/100\n",
      "20000/20000 [==============================] - 9s 431us/sample - loss: 0.4297 - acc: 0.8061 - val_loss: 0.4402 - val_acc: 0.8010\n",
      "Epoch 24/100\n",
      "20000/20000 [==============================] - 9s 452us/sample - loss: 0.4294 - acc: 0.8049 - val_loss: 0.4385 - val_acc: 0.7952\n",
      "Epoch 25/100\n",
      "20000/20000 [==============================] - 9s 444us/sample - loss: 0.4257 - acc: 0.8047 - val_loss: 0.4370 - val_acc: 0.7952\n",
      "Epoch 26/100\n",
      "20000/20000 [==============================] - 9s 440us/sample - loss: 0.4235 - acc: 0.8076 - val_loss: 0.4382 - val_acc: 0.7952\n",
      "Epoch 27/100\n",
      "20000/20000 [==============================] - 9s 447us/sample - loss: 0.4238 - acc: 0.8062 - val_loss: 0.4352 - val_acc: 0.7992\n",
      "Epoch 28/100\n",
      "20000/20000 [==============================] - 9s 435us/sample - loss: 0.4219 - acc: 0.8083 - val_loss: 0.4384 - val_acc: 0.8024\n",
      "Epoch 29/100\n",
      "20000/20000 [==============================] - 9s 437us/sample - loss: 0.4214 - acc: 0.8066 - val_loss: 0.4357 - val_acc: 0.7934\n",
      "Epoch 30/100\n",
      "20000/20000 [==============================] - 9s 442us/sample - loss: 0.4201 - acc: 0.8096 - val_loss: 0.4343 - val_acc: 0.8010\n",
      "Epoch 31/100\n",
      "20000/20000 [==============================] - 9s 448us/sample - loss: 0.4187 - acc: 0.8098 - val_loss: 0.4328 - val_acc: 0.8008\n",
      "Epoch 32/100\n",
      "20000/20000 [==============================] - 9s 440us/sample - loss: 0.4183 - acc: 0.8087 - val_loss: 0.4338 - val_acc: 0.7922\n",
      "Epoch 33/100\n",
      "20000/20000 [==============================] - 9s 453us/sample - loss: 0.4163 - acc: 0.8079 - val_loss: 0.4320 - val_acc: 0.7972\n",
      "Epoch 34/100\n",
      "20000/20000 [==============================] - 9s 439us/sample - loss: 0.4173 - acc: 0.8085 - val_loss: 0.4315 - val_acc: 0.7972\n",
      "Epoch 35/100\n",
      "20000/20000 [==============================] - 9s 441us/sample - loss: 0.4166 - acc: 0.8097 - val_loss: 0.4344 - val_acc: 0.7928\n",
      "Epoch 36/100\n",
      "20000/20000 [==============================] - 9s 451us/sample - loss: 0.4179 - acc: 0.8098 - val_loss: 0.4346 - val_acc: 0.8044\n",
      "Epoch 37/100\n",
      "20000/20000 [==============================] - 9s 444us/sample - loss: 0.4151 - acc: 0.8102 - val_loss: 0.4303 - val_acc: 0.7990\n",
      "Epoch 38/100\n",
      "20000/20000 [==============================] - 9s 455us/sample - loss: 0.4157 - acc: 0.8092 - val_loss: 0.4307 - val_acc: 0.8024\n",
      "Epoch 39/100\n",
      "20000/20000 [==============================] - 9s 455us/sample - loss: 0.4141 - acc: 0.8123 - val_loss: 0.4324 - val_acc: 0.7952\n",
      "Epoch 40/100\n",
      "20000/20000 [==============================] - 9s 446us/sample - loss: 0.4124 - acc: 0.8117 - val_loss: 0.4298 - val_acc: 0.7970\n",
      "Epoch 41/100\n",
      "20000/20000 [==============================] - 9s 445us/sample - loss: 0.4139 - acc: 0.8093 - val_loss: 0.4309 - val_acc: 0.8026\n",
      "Epoch 42/100\n",
      "20000/20000 [==============================] - 9s 445us/sample - loss: 0.4145 - acc: 0.8111 - val_loss: 0.4291 - val_acc: 0.7984\n",
      "Epoch 43/100\n",
      "20000/20000 [==============================] - 9s 453us/sample - loss: 0.4100 - acc: 0.8130 - val_loss: 0.4335 - val_acc: 0.8042\n",
      "Epoch 44/100\n",
      "20000/20000 [==============================] - 9s 457us/sample - loss: 0.4121 - acc: 0.8118 - val_loss: 0.4292 - val_acc: 0.8002\n",
      "Epoch 45/100\n",
      "20000/20000 [==============================] - 9s 443us/sample - loss: 0.4094 - acc: 0.8120 - val_loss: 0.4299 - val_acc: 0.8030\n"
     ]
    }
   ],
   "source": [
    "# 모델 설정과 훈련\n",
    "rmsprop = keras.optimizers.RMSprop(learning_rate=1e-4)\n",
    "model2.compile(optimizer=rmsprop, loss='binary_crossentropy', metrics=['acc'])\n",
    "\n",
    "checkpoint_cb = keras.callbacks.ModelCheckpoint('best-lstm-model2.h5')\n",
    "\n",
    "early_stopping_cb = keras.callbacks.EarlyStopping(patience=3,\n",
    "                                                  restore_best_weights=True)\n",
    "history = model2.fit(train_seq, train_target, epochs=100, batch_size=64,\n",
    "                     validation_data=(val_seq, val_target),\n",
    "                     callbacks=[checkpoint_cb, early_stopping_cb])"
   ]
  },
  {
   "cell_type": "code",
   "execution_count": 10,
   "metadata": {},
   "outputs": [
    {
     "data": {
      "image/png": "[encoded data removed]",
      "text/plain": [
       "<Figure size 432x288 with 1 Axes>"
      ]
     },
     "metadata": {
      "needs_background": "light"
     },
     "output_type": "display_data"
    }
   ],
   "source": [
    "plt.plot(history.history['loss'])\n",
    "plt.plot(history.history['val_loss'])\n",
    "plt.xlabel('epoch')\n",
    "plt.ylabel('loss')\n",
    "plt.legend(['train', 'val'])\n",
    "plt.show()"
   ]
  },
  {
   "cell_type": "code",
   "execution_count": 11,
   "metadata": {},
   "outputs": [],
   "source": [
    "model3 = keras.Sequential()\n",
    "model3.add(keras.layers.Embedding(500, 16, input_length=100))\n",
    "model3.add(keras.layers.LSTM(8, dropout=0.3, return_sequences=True))\n",
    "model3.add(keras.layers.LSTM(8, dropout=0.3))\n",
    "model3.add(keras.layers.Dense(1, activation='sigmoid'))"
   ]
  },
  {
   "cell_type": "code",
   "execution_count": 13,
   "metadata": {},
   "outputs": [
    {
     "name": "stdout",
     "output_type": "stream",
     "text": [
      "Model: \"sequential_2\"\n",
      "_________________________________________________________________\n",
      "Layer (type)                 Output Shape              Param #   \n",
      "=================================================================\n",
      "embedding_2 (Embedding)      (None, 100, 16)           8000      \n",
      "_________________________________________________________________\n",
      "lstm_2 (LSTM)                (None, 100, 8)            800       \n",
      "_________________________________________________________________\n",
      "lstm_3 (LSTM)                (None, 8)                 544       \n",
      "_________________________________________________________________\n",
      "dense_2 (Dense)              (None, 1)                 9         \n",
      "=================================================================\n",
      "Total params: 9,353\n",
      "Trainable params: 9,353\n",
      "Non-trainable params: 0\n",
      "_________________________________________________________________\n"
     ]
    }
   ],
   "source": [
    "model3.summary()"
   ]
  },
  {
   "cell_type": "code",
   "execution_count": 14,
   "metadata": {
    "scrolled": true
   },
   "outputs": [
    {
     "name": "stdout",
     "output_type": "stream",
     "text": [
      "Train on 20000 samples, validate on 5000 samples\n",
      "Epoch 1/100\n",
      "20000/20000 [==============================] - 21s 1ms/sample - loss: 0.6928 - acc: 0.5264 - val_loss: 0.6925 - val_acc: 0.5476\n",
      "Epoch 2/100\n",
      "20000/20000 [==============================] - 16s 820us/sample - loss: 0.6915 - acc: 0.5753 - val_loss: 0.6899 - val_acc: 0.6334\n",
      "Epoch 3/100\n",
      "20000/20000 [==============================] - 17s 865us/sample - loss: 0.6839 - acc: 0.6432 - val_loss: 0.6729 - val_acc: 0.6716\n",
      "Epoch 4/100\n",
      "20000/20000 [==============================] - 16s 810us/sample - loss: 0.6303 - acc: 0.6840 - val_loss: 0.5827 - val_acc: 0.7192\n",
      "Epoch 5/100\n",
      "20000/20000 [==============================] - 16s 824us/sample - loss: 0.5644 - acc: 0.7243 - val_loss: 0.5424 - val_acc: 0.7426\n",
      "Epoch 6/100\n",
      "20000/20000 [==============================] - 17s 838us/sample - loss: 0.5350 - acc: 0.7444 - val_loss: 0.5156 - val_acc: 0.7556\n",
      "Epoch 7/100\n",
      "20000/20000 [==============================] - 17s 852us/sample - loss: 0.5150 - acc: 0.7564 - val_loss: 0.4983 - val_acc: 0.7634\n",
      "Epoch 8/100\n",
      "20000/20000 [==============================] - 17s 831us/sample - loss: 0.4978 - acc: 0.7699 - val_loss: 0.4860 - val_acc: 0.7712\n",
      "Epoch 9/100\n",
      "20000/20000 [==============================] - 17s 832us/sample - loss: 0.4863 - acc: 0.7746 - val_loss: 0.4783 - val_acc: 0.7790\n",
      "Epoch 10/100\n",
      "20000/20000 [==============================] - 16s 821us/sample - loss: 0.4791 - acc: 0.7770 - val_loss: 0.4702 - val_acc: 0.7858\n",
      "Epoch 11/100\n",
      "20000/20000 [==============================] - 16s 818us/sample - loss: 0.4691 - acc: 0.7849 - val_loss: 0.4645 - val_acc: 0.7864\n",
      "Epoch 12/100\n",
      "20000/20000 [==============================] - 17s 845us/sample - loss: 0.4642 - acc: 0.7856 - val_loss: 0.4605 - val_acc: 0.7876\n",
      "Epoch 13/100\n",
      "20000/20000 [==============================] - 16s 820us/sample - loss: 0.4585 - acc: 0.7904 - val_loss: 0.4622 - val_acc: 0.7866\n",
      "Epoch 14/100\n",
      "20000/20000 [==============================] - 17s 834us/sample - loss: 0.4554 - acc: 0.7914 - val_loss: 0.4555 - val_acc: 0.7896\n",
      "Epoch 15/100\n",
      "20000/20000 [==============================] - 17s 828us/sample - loss: 0.4502 - acc: 0.7940 - val_loss: 0.4540 - val_acc: 0.7912\n",
      "Epoch 16/100\n",
      "20000/20000 [==============================] - 16s 810us/sample - loss: 0.4492 - acc: 0.7965 - val_loss: 0.4505 - val_acc: 0.7920\n",
      "Epoch 17/100\n",
      "20000/20000 [==============================] - 17s 847us/sample - loss: 0.4454 - acc: 0.7952 - val_loss: 0.4504 - val_acc: 0.7904\n",
      "Epoch 18/100\n",
      "20000/20000 [==============================] - 16s 805us/sample - loss: 0.4438 - acc: 0.7970 - val_loss: 0.4490 - val_acc: 0.7930\n",
      "Epoch 19/100\n",
      "20000/20000 [==============================] - 16s 813us/sample - loss: 0.4414 - acc: 0.7965 - val_loss: 0.4476 - val_acc: 0.7932\n",
      "Epoch 20/100\n",
      "20000/20000 [==============================] - 17s 856us/sample - loss: 0.4397 - acc: 0.7997 - val_loss: 0.4441 - val_acc: 0.7934\n",
      "Epoch 21/100\n",
      "20000/20000 [==============================] - 17s 846us/sample - loss: 0.4392 - acc: 0.7995 - val_loss: 0.4470 - val_acc: 0.7914\n",
      "Epoch 22/100\n",
      "20000/20000 [==============================] - 17s 838us/sample - loss: 0.4372 - acc: 0.8001 - val_loss: 0.4479 - val_acc: 0.7892\n",
      "Epoch 23/100\n",
      "20000/20000 [==============================] - 16s 824us/sample - loss: 0.4368 - acc: 0.8027 - val_loss: 0.4425 - val_acc: 0.7930\n",
      "Epoch 24/100\n",
      "20000/20000 [==============================] - 17s 847us/sample - loss: 0.4335 - acc: 0.8005 - val_loss: 0.4397 - val_acc: 0.7980\n",
      "Epoch 25/100\n",
      "20000/20000 [==============================] - 17s 859us/sample - loss: 0.4322 - acc: 0.8037 - val_loss: 0.4406 - val_acc: 0.7936\n",
      "Epoch 26/100\n",
      "20000/20000 [==============================] - 17s 830us/sample - loss: 0.4308 - acc: 0.8009 - val_loss: 0.4389 - val_acc: 0.7962\n",
      "Epoch 27/100\n",
      "20000/20000 [==============================] - 17s 831us/sample - loss: 0.4275 - acc: 0.8079 - val_loss: 0.4375 - val_acc: 0.7954\n",
      "Epoch 28/100\n",
      "20000/20000 [==============================] - 17s 864us/sample - loss: 0.4278 - acc: 0.8061 - val_loss: 0.4367 - val_acc: 0.7978\n",
      "Epoch 29/100\n",
      "20000/20000 [==============================] - 17s 839us/sample - loss: 0.4284 - acc: 0.8031 - val_loss: 0.4354 - val_acc: 0.7996\n",
      "Epoch 30/100\n",
      "20000/20000 [==============================] - 17s 852us/sample - loss: 0.4265 - acc: 0.8063 - val_loss: 0.4346 - val_acc: 0.7996\n",
      "Epoch 31/100\n",
      "20000/20000 [==============================] - 18s 899us/sample - loss: 0.4269 - acc: 0.8040 - val_loss: 0.4401 - val_acc: 0.7996\n",
      "Epoch 32/100\n",
      "20000/20000 [==============================] - 17s 840us/sample - loss: 0.4246 - acc: 0.8058 - val_loss: 0.4339 - val_acc: 0.8018\n",
      "Epoch 33/100\n",
      "20000/20000 [==============================] - 17s 842us/sample - loss: 0.4255 - acc: 0.8043 - val_loss: 0.4329 - val_acc: 0.7998\n",
      "Epoch 34/100\n",
      "20000/20000 [==============================] - 17s 862us/sample - loss: 0.4238 - acc: 0.8087 - val_loss: 0.4379 - val_acc: 0.7954\n",
      "Epoch 35/100\n",
      "20000/20000 [==============================] - 17s 832us/sample - loss: 0.4216 - acc: 0.8065 - val_loss: 0.4358 - val_acc: 0.7978\n",
      "Epoch 36/100\n",
      "20000/20000 [==============================] - 17s 873us/sample - loss: 0.4226 - acc: 0.8092 - val_loss: 0.4313 - val_acc: 0.8008\n",
      "Epoch 37/100\n",
      "20000/20000 [==============================] - 18s 879us/sample - loss: 0.4204 - acc: 0.8097 - val_loss: 0.4307 - val_acc: 0.8012\n",
      "Epoch 38/100\n",
      "20000/20000 [==============================] - 17s 834us/sample - loss: 0.4205 - acc: 0.8091 - val_loss: 0.4305 - val_acc: 0.8014\n",
      "Epoch 39/100\n",
      "20000/20000 [==============================] - 17s 826us/sample - loss: 0.4187 - acc: 0.8081 - val_loss: 0.4362 - val_acc: 0.8038\n",
      "Epoch 40/100\n",
      "20000/20000 [==============================] - 17s 836us/sample - loss: 0.4175 - acc: 0.8112 - val_loss: 0.4303 - val_acc: 0.8044\n",
      "Epoch 41/100\n",
      "20000/20000 [==============================] - 16s 798us/sample - loss: 0.4175 - acc: 0.8091 - val_loss: 0.4326 - val_acc: 0.8006\n",
      "Epoch 42/100\n",
      "20000/20000 [==============================] - 16s 797us/sample - loss: 0.4194 - acc: 0.8081 - val_loss: 0.4351 - val_acc: 0.8030\n",
      "Epoch 43/100\n",
      "20000/20000 [==============================] - 16s 782us/sample - loss: 0.4184 - acc: 0.8088 - val_loss: 0.4295 - val_acc: 0.8026\n",
      "Epoch 44/100\n",
      "20000/20000 [==============================] - 16s 799us/sample - loss: 0.4163 - acc: 0.8113 - val_loss: 0.4289 - val_acc: 0.8040\n",
      "Epoch 45/100\n",
      "20000/20000 [==============================] - 16s 791us/sample - loss: 0.4167 - acc: 0.8105 - val_loss: 0.4306 - val_acc: 0.7992\n",
      "Epoch 46/100\n",
      "20000/20000 [==============================] - 16s 795us/sample - loss: 0.4160 - acc: 0.8108 - val_loss: 0.4301 - val_acc: 0.8036\n",
      "Epoch 47/100\n",
      "20000/20000 [==============================] - 16s 784us/sample - loss: 0.4154 - acc: 0.8110 - val_loss: 0.4311 - val_acc: 0.7978\n"
     ]
    }
   ],
   "source": [
    "# 모델 설정과 훈련\n",
    "rmsprop = keras.optimizers.RMSprop(learning_rate=1e-4)\n",
    "model3.compile(optimizer=rmsprop, loss='binary_crossentropy', metrics=['acc'])\n",
    "\n",
    "checkpoint_cb = keras.callbacks.ModelCheckpoint('best-lstm-model3.h5')\n",
    "\n",
    "early_stopping_cb = keras.callbacks.EarlyStopping(patience=3,\n",
    "                                                  restore_best_weights=True)\n",
    "history = model3.fit(train_seq, train_target, epochs=100, batch_size=64,\n",
    "                     validation_data=(val_seq, val_target),\n",
    "                     callbacks=[checkpoint_cb, early_stopping_cb])"
   ]
  },
  {
   "cell_type": "code",
   "execution_count": 15,
   "metadata": {},
   "outputs": [
    {
     "data": {
      "image/png": "[encoded data removed]",
      "text/plain": [
       "<Figure size 432x288 with 1 Axes>"
      ]
     },
     "metadata": {
      "needs_background": "light"
     },
     "output_type": "display_data"
    }
   ],
   "source": [
    "plt.plot(history.history['loss'])\n",
    "plt.plot(history.history['val_loss'])\n",
    "plt.xlabel('epoch')\n",
    "plt.ylabel('loss')\n",
    "plt.legend(['train', 'val'])\n",
    "plt.show()"
   ]
  },
  {
   "cell_type": "code",
   "execution_count": null,
   "metadata": {},
   "outputs": [],
   "source": []
  }
 ],
 "metadata": {
  "kernelspec": {
   "display_name": "Python 3",
   "language": "python",
   "name": "python3"
  },
  "language_info": {
   "codemirror_mode": {
    "name": "ipython",
    "version": 3
   },
   "file_extension": ".py",
   "mimetype": "text/x-python",
   "name": "python",
   "nbconvert_exporter": "python",
   "pygments_lexer": "ipython3",
   "version": "3.7.3"
  }
 },
 "nbformat": 4,
 "nbformat_minor": 2
}
