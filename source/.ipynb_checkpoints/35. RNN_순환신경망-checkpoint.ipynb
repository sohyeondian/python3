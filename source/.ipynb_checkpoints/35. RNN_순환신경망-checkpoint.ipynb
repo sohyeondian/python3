{
 "cells": [
  {
   "cell_type": "markdown",
   "metadata": {},
   "source": [
    "### Machine Learning vs Deep Learning\n",
    "- ANN(Artificial Neural Network) : 인공신경망\n",
    "    - 모든 비선형 함수를 학습\n",
    "- SLP(Single Layer Perseptron) : 단층 퍼셉트론\n",
    "- MLP(Multi Layers Perseptron) : 다층 퍼셉트론\n",
    "    - 1개 이상의 은닉층 보유\n",
    "    - 일반적으로 지도 학습\n",
    "- DNN(Deep Neural Network) : 심층신경망 \n",
    "    - ANN 문제해결\n",
    "- CNN(Convolution Neural Network) : 합성곱 신경망\n",
    "    - 이미지 및 비디오 처리에 많이 활용\n",
    "- RNN(Recurrent Neural Network) : 순환 신경망\n",
    "    - **순차** 데이터를 처리\n",
    "        - 언어 번역, 시계열 데이터"
   ]
  },
  {
   "cell_type": "code",
   "execution_count": 3,
   "metadata": {},
   "outputs": [
    {
     "name": "stdout",
     "output_type": "stream",
     "text": [
      "(25000,) (25000,)\n"
     ]
    }
   ],
   "source": [
    "from tensorflow.keras.datasets import imdb\n",
    "\n",
    "(train_input, train_target), (test_input, test_target) = imdb.load_data(\n",
    "    num_words=500)\n",
    "\n",
    "print(train_input.shape, test_input.shape)"
   ]
  },
  {
   "cell_type": "code",
   "execution_count": 4,
   "metadata": {},
   "outputs": [
    {
     "name": "stdout",
     "output_type": "stream",
     "text": [
      "[1, 14, 22, 16, 43, 2, 2, 2, 2, 65, 458, 2, 66, 2, 4, 173, 36, 256, 5, 25, 100, 43, 2, 112, 50, 2, 2, 9, 35, 480, 284, 5, 150, 4, 172, 112, 167, 2, 336, 385, 39, 4, 172, 2, 2, 17, 2, 38, 13, 447, 4, 192, 50, 16, 6, 147, 2, 19, 14, 22, 4, 2, 2, 469, 4, 22, 71, 87, 12, 16, 43, 2, 38, 76, 15, 13, 2, 4, 22, 17, 2, 17, 12, 16, 2, 18, 2, 5, 62, 386, 12, 8, 316, 8, 106, 5, 4, 2, 2, 16, 480, 66, 2, 33, 4, 130, 12, 16, 38, 2, 5, 25, 124, 51, 36, 135, 48, 25, 2, 33, 6, 22, 12, 215, 28, 77, 52, 5, 14, 407, 16, 82, 2, 8, 4, 107, 117, 2, 15, 256, 4, 2, 7, 2, 5, 2, 36, 71, 43, 2, 476, 26, 400, 317, 46, 7, 4, 2, 2, 13, 104, 88, 4, 381, 15, 297, 98, 32, 2, 56, 26, 141, 6, 194, 2, 18, 4, 226, 22, 21, 134, 476, 26, 480, 5, 144, 30, 2, 18, 51, 36, 28, 224, 92, 25, 104, 4, 226, 65, 16, 38, 2, 88, 12, 16, 283, 5, 16, 2, 113, 103, 32, 15, 16, 2, 19, 178, 32]\n",
      "0 : 218\n",
      "1 : 189\n"
     ]
    }
   ],
   "source": [
    "print(train_input[0])\n",
    "# 첫번째 리뷰의 길이 : 218개의 토큰\n",
    "print('0 :', len(train_input[0]))\n",
    "# 두번째 리뷰의 길이 : 189개의 토큰\n",
    "print('1 :', len(train_input[1]))"
   ]
  },
  {
   "cell_type": "code",
   "execution_count": 5,
   "metadata": {},
   "outputs": [
    {
     "name": "stdout",
     "output_type": "stream",
     "text": [
      "[1 0 0 1 0 0 1 0 1 0 1 0 0 0 0 0 1 1 0 1]\n"
     ]
    }
   ],
   "source": [
    "# 리뷰의 감정분석 : 긍정(1), 부정(0)\n",
    "print(train_target[:20])"
   ]
  },
  {
   "cell_type": "code",
   "execution_count": 7,
   "metadata": {},
   "outputs": [],
   "source": [
    "# 검증세트\n",
    "from sklearn.model_selection import train_test_split\n",
    "\n",
    "train_input, val_input, train_target, val_target = train_test_split(\n",
    "    train_input, train_target, test_size=0.2, random_state=42)"
   ]
  },
  {
   "cell_type": "code",
   "execution_count": 8,
   "metadata": {},
   "outputs": [
    {
     "name": "stdout",
     "output_type": "stream",
     "text": [
      "239.00925 178.0\n"
     ]
    }
   ],
   "source": [
    "import numpy as np\n",
    "\n",
    "lengths = np.array([len(x) for x in train_input])\n",
    "print(np.mean(lengths), np.median(lengths))"
   ]
  },
  {
   "cell_type": "code",
   "execution_count": 9,
   "metadata": {},
   "outputs": [
    {
     "data": {
      "image/png": "[encoded data removed]",
      "text/plain": [
       "<Figure size 432x288 with 1 Axes>"
      ]
     },
     "metadata": {
      "needs_background": "light"
     },
     "output_type": "display_data"
    }
   ],
   "source": [
    "import matplotlib.pyplot as plt\n",
    "%matplotlib inline\n",
    "\n",
    "plt.hist(lengths)\n",
    "plt.xlabel('length')\n",
    "plt.ylabel('frequency')\n",
    "plt.show()"
   ]
  },
  {
   "cell_type": "code",
   "execution_count": 10,
   "metadata": {},
   "outputs": [
    {
     "data": {
      "text/plain": [
       "array([[ 10,   4,  20, ...,  10, 470, 158],\n",
       "       [206,   2,  26, ...,   6,   2,   2],\n",
       "       [  2,   7,   2, ...,   2,   2,  12],\n",
       "       ...,\n",
       "       [  2,  37, 299, ...,   7,  14,   2],\n",
       "       [  0,   0,   0, ...,  25, 170,   2],\n",
       "       [  0,   0,   0, ...,  25, 194,   2]])"
      ]
     },
     "execution_count": 10,
     "metadata": {},
     "output_type": "execute_result"
    }
   ],
   "source": [
    "# 시퀀스 데이터의 길이를 맞추는 함수 : pad_sequences\n",
    "from tensorflow.keras.preprocessing.sequence import pad_sequences\n",
    "\n",
    "train_seq = pad_sequences(train_input, maxlen=100)\n",
    "train_seq"
   ]
  },
  {
   "cell_type": "code",
   "execution_count": 11,
   "metadata": {},
   "outputs": [
    {
     "data": {
      "text/plain": [
       "array([  6,   2,  46,   7,  14,  20,  10,  10, 470, 158])"
      ]
     },
     "execution_count": 11,
     "metadata": {},
     "output_type": "execute_result"
    }
   ],
   "source": [
    "train_seq[0][-10:]"
   ]
  },
  {
   "cell_type": "code",
   "execution_count": 12,
   "metadata": {},
   "outputs": [
    {
     "data": {
      "text/plain": [
       "array([  0,   0,   0,   0,   1,   2, 195,  19,  49,   2,   2, 190,   4,\n",
       "         2, 352,   2, 183,  10,  10,  13,  82,  79,   4,   2,  36,  71,\n",
       "       269,   8,   2,  25,  19,  49,   7,   4,   2,   2,   2,   2,   2,\n",
       "        10,  10,  48,  25,  40,   2,  11,   2,   2,  40,   2,   2,   5,\n",
       "         4,   2,   2,  95,  14, 238,  56, 129,   2,  10,  10,  21,   2,\n",
       "        94, 364, 352,   2,   2,  11, 190,  24, 484,   2,   7,  94, 205,\n",
       "       405,  10,  10,  87,   2,  34,  49,   2,   7,   2,   2,   2,   2,\n",
       "         2, 290,   2,  46,  48,  64,  18,   4,   2])"
      ]
     },
     "execution_count": 12,
     "metadata": {},
     "output_type": "execute_result"
    }
   ],
   "source": [
    "train_seq[5]"
   ]
  },
  {
   "cell_type": "code",
   "execution_count": 13,
   "metadata": {},
   "outputs": [],
   "source": [
    "val_seq = pad_sequences(val_input, maxlen=100)"
   ]
  },
  {
   "cell_type": "markdown",
   "metadata": {},
   "source": [
    "### 순환신경망 만들기"
   ]
  },
  {
   "cell_type": "code",
   "execution_count": 14,
   "metadata": {},
   "outputs": [],
   "source": [
    "from tensorflow import keras\n",
    "\n",
    "model = keras.Sequential()\n",
    "model.add(keras.layers.SimpleRNN(8, input_shape=(100, 500)))\n",
    "model.add(keras.layers.Dense(1, activation='sigmoid'))"
   ]
  },
  {
   "cell_type": "code",
   "execution_count": 15,
   "metadata": {},
   "outputs": [
    {
     "data": {
      "text/plain": [
       "(20000, 100, 500)"
      ]
     },
     "execution_count": 15,
     "metadata": {},
     "output_type": "execute_result"
    }
   ],
   "source": [
    "train_oh = keras.utils.to_categorical(train_seq)\n",
    "train_oh.shape"
   ]
  },
  {
   "cell_type": "code",
   "execution_count": 18,
   "metadata": {},
   "outputs": [],
   "source": [
    "val_oh = keras.utils.to_categorical(val_seq)"
   ]
  },
  {
   "cell_type": "code",
   "execution_count": 17,
   "metadata": {},
   "outputs": [
    {
     "name": "stdout",
     "output_type": "stream",
     "text": [
      "Model: \"sequential\"\n",
      "_________________________________________________________________\n",
      "Layer (type)                 Output Shape              Param #   \n",
      "=================================================================\n",
      "simple_rnn (SimpleRNN)       (None, 8)                 4072      \n",
      "_________________________________________________________________\n",
      "dense (Dense)                (None, 1)                 9         \n",
      "=================================================================\n",
      "Total params: 4,081\n",
      "Trainable params: 4,081\n",
      "Non-trainable params: 0\n",
      "_________________________________________________________________\n"
     ]
    }
   ],
   "source": [
    "# 모델정보확인\n",
    "model.summary()"
   ]
  },
  {
   "cell_type": "code",
   "execution_count": 20,
   "metadata": {
    "scrolled": true
   },
   "outputs": [
    {
     "name": "stdout",
     "output_type": "stream",
     "text": [
      "Train on 20000 samples, validate on 5000 samples\n",
      "Epoch 1/100\n",
      "20000/20000 [==============================] - 14s 691us/sample - loss: 0.7036 - acc: 0.5024 - val_loss: 0.6982 - val_acc: 0.5106\n",
      "Epoch 2/100\n",
      "20000/20000 [==============================] - 12s 614us/sample - loss: 0.6941 - acc: 0.5246 - val_loss: 0.6919 - val_acc: 0.5270\n",
      "Epoch 3/100\n",
      "20000/20000 [==============================] - 12s 598us/sample - loss: 0.6842 - acc: 0.5556 - val_loss: 0.6801 - val_acc: 0.5712\n",
      "Epoch 4/100\n",
      "20000/20000 [==============================] - 12s 606us/sample - loss: 0.6722 - acc: 0.5904 - val_loss: 0.6702 - val_acc: 0.5980\n",
      "Epoch 5/100\n",
      "20000/20000 [==============================] - 12s 585us/sample - loss: 0.6614 - acc: 0.6169 - val_loss: 0.6612 - val_acc: 0.6170\n",
      "Epoch 6/100\n",
      "20000/20000 [==============================] - 12s 588us/sample - loss: 0.6503 - acc: 0.6442 - val_loss: 0.6503 - val_acc: 0.6414\n",
      "Epoch 7/100\n",
      "20000/20000 [==============================] - 12s 587us/sample - loss: 0.6387 - acc: 0.6647 - val_loss: 0.6389 - val_acc: 0.6598\n",
      "Epoch 8/100\n",
      "20000/20000 [==============================] - 12s 589us/sample - loss: 0.6258 - acc: 0.6844 - val_loss: 0.6267 - val_acc: 0.6810\n",
      "Epoch 9/100\n",
      "20000/20000 [==============================] - 12s 581us/sample - loss: 0.6112 - acc: 0.7046 - val_loss: 0.6127 - val_acc: 0.7028\n",
      "Epoch 10/100\n",
      "20000/20000 [==============================] - 12s 583us/sample - loss: 0.5990 - acc: 0.7186 - val_loss: 0.6015 - val_acc: 0.7110\n",
      "Epoch 11/100\n",
      "20000/20000 [==============================] - 12s 580us/sample - loss: 0.5873 - acc: 0.7279 - val_loss: 0.5932 - val_acc: 0.7162\n",
      "Epoch 12/100\n",
      "20000/20000 [==============================] - 12s 585us/sample - loss: 0.5767 - acc: 0.7361 - val_loss: 0.5830 - val_acc: 0.7288\n",
      "Epoch 13/100\n",
      "20000/20000 [==============================] - 12s 582us/sample - loss: 0.5658 - acc: 0.7465 - val_loss: 0.5734 - val_acc: 0.7304\n",
      "Epoch 14/100\n",
      "20000/20000 [==============================] - 12s 602us/sample - loss: 0.5560 - acc: 0.7511 - val_loss: 0.5668 - val_acc: 0.7346\n",
      "Epoch 15/100\n",
      "20000/20000 [==============================] - 12s 592us/sample - loss: 0.5462 - acc: 0.7584 - val_loss: 0.5550 - val_acc: 0.7432\n",
      "Epoch 16/100\n",
      "20000/20000 [==============================] - 12s 580us/sample - loss: 0.5376 - acc: 0.7625 - val_loss: 0.5494 - val_acc: 0.7454\n",
      "Epoch 17/100\n",
      "20000/20000 [==============================] - 12s 590us/sample - loss: 0.5294 - acc: 0.7656 - val_loss: 0.5405 - val_acc: 0.7518\n",
      "Epoch 18/100\n",
      "20000/20000 [==============================] - 12s 613us/sample - loss: 0.5215 - acc: 0.7708 - val_loss: 0.5349 - val_acc: 0.7516\n",
      "Epoch 19/100\n",
      "20000/20000 [==============================] - 12s 588us/sample - loss: 0.5147 - acc: 0.7738 - val_loss: 0.5263 - val_acc: 0.7582\n",
      "Epoch 20/100\n",
      "20000/20000 [==============================] - 11s 570us/sample - loss: 0.5070 - acc: 0.7789 - val_loss: 0.5209 - val_acc: 0.7608\n",
      "Epoch 21/100\n",
      "20000/20000 [==============================] - 12s 586us/sample - loss: 0.5011 - acc: 0.7804 - val_loss: 0.5167 - val_acc: 0.7606\n",
      "Epoch 22/100\n",
      "20000/20000 [==============================] - 12s 604us/sample - loss: 0.4942 - acc: 0.7817 - val_loss: 0.5112 - val_acc: 0.7650\n",
      "Epoch 23/100\n",
      "20000/20000 [==============================] - 12s 605us/sample - loss: 0.4894 - acc: 0.7847 - val_loss: 0.5054 - val_acc: 0.7662\n",
      "Epoch 24/100\n",
      "20000/20000 [==============================] - 12s 603us/sample - loss: 0.4837 - acc: 0.7862 - val_loss: 0.5015 - val_acc: 0.7706\n",
      "Epoch 25/100\n",
      "20000/20000 [==============================] - 12s 580us/sample - loss: 0.4789 - acc: 0.7892 - val_loss: 0.5008 - val_acc: 0.7702\n",
      "Epoch 26/100\n",
      "20000/20000 [==============================] - 12s 591us/sample - loss: 0.4742 - acc: 0.7901 - val_loss: 0.4969 - val_acc: 0.7698\n",
      "Epoch 27/100\n",
      "20000/20000 [==============================] - 12s 591us/sample - loss: 0.4697 - acc: 0.7922 - val_loss: 0.4915 - val_acc: 0.7726\n",
      "Epoch 28/100\n",
      "20000/20000 [==============================] - 12s 594us/sample - loss: 0.4659 - acc: 0.7947 - val_loss: 0.4927 - val_acc: 0.7710\n",
      "Epoch 29/100\n",
      "20000/20000 [==============================] - 12s 587us/sample - loss: 0.4623 - acc: 0.7947 - val_loss: 0.4869 - val_acc: 0.7762\n",
      "Epoch 30/100\n",
      "20000/20000 [==============================] - 12s 599us/sample - loss: 0.4588 - acc: 0.7972 - val_loss: 0.4821 - val_acc: 0.7750\n",
      "Epoch 31/100\n",
      "20000/20000 [==============================] - 12s 593us/sample - loss: 0.4556 - acc: 0.7980 - val_loss: 0.4801 - val_acc: 0.7778\n",
      "Epoch 32/100\n",
      "20000/20000 [==============================] - 12s 581us/sample - loss: 0.4523 - acc: 0.8004 - val_loss: 0.4790 - val_acc: 0.7768\n",
      "Epoch 33/100\n",
      "20000/20000 [==============================] - 12s 591us/sample - loss: 0.4498 - acc: 0.8029 - val_loss: 0.4769 - val_acc: 0.7774\n",
      "Epoch 34/100\n",
      "20000/20000 [==============================] - 12s 581us/sample - loss: 0.4463 - acc: 0.8025 - val_loss: 0.4754 - val_acc: 0.7774\n",
      "Epoch 35/100\n",
      "20000/20000 [==============================] - 12s 583us/sample - loss: 0.4441 - acc: 0.8052 - val_loss: 0.4719 - val_acc: 0.7802\n",
      "Epoch 36/100\n",
      "20000/20000 [==============================] - 12s 592us/sample - loss: 0.4412 - acc: 0.8067 - val_loss: 0.4736 - val_acc: 0.7798\n",
      "Epoch 37/100\n",
      "20000/20000 [==============================] - 13s 627us/sample - loss: 0.4391 - acc: 0.8076 - val_loss: 0.4704 - val_acc: 0.7776\n",
      "Epoch 38/100\n",
      "20000/20000 [==============================] - 12s 608us/sample - loss: 0.4371 - acc: 0.8072 - val_loss: 0.4700 - val_acc: 0.7784\n",
      "Epoch 39/100\n",
      "20000/20000 [==============================] - 12s 592us/sample - loss: 0.4352 - acc: 0.8091 - val_loss: 0.4681 - val_acc: 0.7816\n",
      "Epoch 40/100\n",
      "20000/20000 [==============================] - 11s 575us/sample - loss: 0.4328 - acc: 0.8113 - val_loss: 0.4664 - val_acc: 0.7828\n",
      "Epoch 41/100\n",
      "20000/20000 [==============================] - 12s 580us/sample - loss: 0.4319 - acc: 0.8113 - val_loss: 0.4664 - val_acc: 0.7830\n",
      "Epoch 42/100\n",
      "20000/20000 [==============================] - 11s 573us/sample - loss: 0.4294 - acc: 0.8126 - val_loss: 0.4679 - val_acc: 0.7812\n",
      "Epoch 43/100\n",
      "20000/20000 [==============================] - 11s 571us/sample - loss: 0.4280 - acc: 0.8133 - val_loss: 0.4678 - val_acc: 0.7810\n"
     ]
    }
   ],
   "source": [
    "# 모델 설정과 훈련\n",
    "rmsprop = keras.optimizers.RMSprop(learning_rate=1e-4)\n",
    "model.compile(optimizer=rmsprop, loss='binary_crossentropy', metrics=['acc'])\n",
    "\n",
    "checkpoint_cb = keras.callbacks.ModelCheckpoint('best-simplernn-model.h5')\n",
    "# patience=3 - 손실률이 내려가지 않으면 (3번 이상)\n",
    "early_stopping_cb = keras.callbacks.EarlyStopping(patience=3,\n",
    "                                                  restore_best_weights=True)\n",
    "history = model.fit(train_oh, train_target, epochs=100, batch_size=64,\n",
    "                    validation_data=(val_oh, val_target), \n",
    "                    callbacks=[checkpoint_cb, early_stopping_cb])"
   ]
  },
  {
   "cell_type": "code",
   "execution_count": 21,
   "metadata": {},
   "outputs": [
    {
     "data": {
      "image/png": "[encoded data removed]",
      "text/plain": [
       "<Figure size 432x288 with 1 Axes>"
      ]
     },
     "metadata": {
      "needs_background": "light"
     },
     "output_type": "display_data"
    }
   ],
   "source": [
    "# 훈련 손실과 검증 손실 시각화\n",
    "plt.plot(history.history['loss'])\n",
    "plt.plot(history.history['val_loss'])\n",
    "plt.xlabel('epoch')\n",
    "plt.ylabel('loss')\n",
    "plt.legend(['train', 'val'])\n",
    "plt.show()"
   ]
  },
  {
   "cell_type": "code",
   "execution_count": 22,
   "metadata": {},
   "outputs": [
    {
     "name": "stdout",
     "output_type": "stream",
     "text": [
      "8000000 4000000000\n"
     ]
    }
   ],
   "source": [
    "print(train_seq.nbytes, train_oh.nbytes)"
   ]
  },
  {
   "cell_type": "markdown",
   "metadata": {},
   "source": [
    "#### 단어 임베딩 처리"
   ]
  },
  {
   "cell_type": "code",
   "execution_count": 27,
   "metadata": {},
   "outputs": [
    {
     "name": "stdout",
     "output_type": "stream",
     "text": [
      "Model: \"sequential_2\"\n",
      "_________________________________________________________________\n",
      "Layer (type)                 Output Shape              Param #   \n",
      "=================================================================\n",
      "embedding_1 (Embedding)      (None, 100, 16)           8000      \n",
      "_________________________________________________________________\n",
      "simple_rnn_2 (SimpleRNN)     (None, 8)                 200       \n",
      "_________________________________________________________________\n",
      "dense_2 (Dense)              (None, 1)                 9         \n",
      "=================================================================\n",
      "Total params: 8,209\n",
      "Trainable params: 8,209\n",
      "Non-trainable params: 0\n",
      "_________________________________________________________________\n"
     ]
    }
   ],
   "source": [
    "model2 = keras.Sequential()\n",
    "model2.add(keras.layers.Embedding(500, 16, input_length=100))\n",
    "model2.add(keras.layers.SimpleRNN(8))\n",
    "model2.add(keras.layers.Dense(1, activation='sigmoid'))\n",
    "model2.summary()"
   ]
  },
  {
   "cell_type": "code",
   "execution_count": 28,
   "metadata": {
    "scrolled": true
   },
   "outputs": [
    {
     "name": "stdout",
     "output_type": "stream",
     "text": [
      "Train on 20000 samples, validate on 5000 samples\n",
      "Epoch 1/100\n",
      "20000/20000 [==============================] - 7s 372us/sample - loss: 0.6898 - acc: 0.5383 - val_loss: 0.6661 - val_acc: 0.6134\n",
      "Epoch 2/100\n",
      "20000/20000 [==============================] - 6s 279us/sample - loss: 0.6476 - acc: 0.6583 - val_loss: 0.6326 - val_acc: 0.6868\n",
      "Epoch 3/100\n",
      "20000/20000 [==============================] - 6s 294us/sample - loss: 0.6160 - acc: 0.7089 - val_loss: 0.6077 - val_acc: 0.7100\n",
      "Epoch 4/100\n",
      "20000/20000 [==============================] - 6s 289us/sample - loss: 0.5890 - acc: 0.7345 - val_loss: 0.5868 - val_acc: 0.7328\n",
      "Epoch 5/100\n",
      "20000/20000 [==============================] - 6s 311us/sample - loss: 0.5645 - acc: 0.7535 - val_loss: 0.5632 - val_acc: 0.7486\n",
      "Epoch 6/100\n",
      "20000/20000 [==============================] - 6s 287us/sample - loss: 0.5427 - acc: 0.7664 - val_loss: 0.5457 - val_acc: 0.7546\n",
      "Epoch 7/100\n",
      "20000/20000 [==============================] - 6s 306us/sample - loss: 0.5235 - acc: 0.7789 - val_loss: 0.5292 - val_acc: 0.7626\n",
      "Epoch 8/100\n",
      "20000/20000 [==============================] - 6s 305us/sample - loss: 0.5071 - acc: 0.7850 - val_loss: 0.5163 - val_acc: 0.7658\n",
      "Epoch 9/100\n",
      "20000/20000 [==============================] - 7s 365us/sample - loss: 0.4925 - acc: 0.7919 - val_loss: 0.5058 - val_acc: 0.7748\n",
      "Epoch 10/100\n",
      "20000/20000 [==============================] - 6s 300us/sample - loss: 0.4800 - acc: 0.7976 - val_loss: 0.4952 - val_acc: 0.7758\n",
      "Epoch 11/100\n",
      "20000/20000 [==============================] - 6s 285us/sample - loss: 0.4695 - acc: 0.8002 - val_loss: 0.4916 - val_acc: 0.7728\n",
      "Epoch 12/100\n",
      "20000/20000 [==============================] - 6s 304us/sample - loss: 0.4614 - acc: 0.8027 - val_loss: 0.4906 - val_acc: 0.7702\n",
      "Epoch 13/100\n",
      "20000/20000 [==============================] - 6s 289us/sample - loss: 0.4535 - acc: 0.8059 - val_loss: 0.4824 - val_acc: 0.7774\n",
      "Epoch 14/100\n",
      "20000/20000 [==============================] - 6s 293us/sample - loss: 0.4475 - acc: 0.8081 - val_loss: 0.4750 - val_acc: 0.7808\n",
      "Epoch 15/100\n",
      "20000/20000 [==============================] - 7s 330us/sample - loss: 0.4415 - acc: 0.8088 - val_loss: 0.4702 - val_acc: 0.7880\n",
      "Epoch 16/100\n",
      "20000/20000 [==============================] - 6s 297us/sample - loss: 0.4371 - acc: 0.8098 - val_loss: 0.4682 - val_acc: 0.7850\n",
      "Epoch 17/100\n",
      "20000/20000 [==============================] - 6s 285us/sample - loss: 0.4330 - acc: 0.8117 - val_loss: 0.4696 - val_acc: 0.7850\n",
      "Epoch 18/100\n",
      "20000/20000 [==============================] - 6s 302us/sample - loss: 0.4288 - acc: 0.8140 - val_loss: 0.4651 - val_acc: 0.7892\n",
      "Epoch 19/100\n",
      "20000/20000 [==============================] - 6s 288us/sample - loss: 0.4254 - acc: 0.8147 - val_loss: 0.4644 - val_acc: 0.7882\n",
      "Epoch 20/100\n",
      "20000/20000 [==============================] - 7s 331us/sample - loss: 0.4222 - acc: 0.8156 - val_loss: 0.4625 - val_acc: 0.7896\n",
      "Epoch 21/100\n",
      "20000/20000 [==============================] - 6s 301us/sample - loss: 0.4191 - acc: 0.8158 - val_loss: 0.4688 - val_acc: 0.7804\n",
      "Epoch 22/100\n",
      "20000/20000 [==============================] - 6s 302us/sample - loss: 0.4174 - acc: 0.8177 - val_loss: 0.4611 - val_acc: 0.7900\n",
      "Epoch 23/100\n",
      "20000/20000 [==============================] - 6s 300us/sample - loss: 0.4144 - acc: 0.8182 - val_loss: 0.4644 - val_acc: 0.7874\n",
      "Epoch 24/100\n",
      "20000/20000 [==============================] - 7s 327us/sample - loss: 0.4120 - acc: 0.8205 - val_loss: 0.4607 - val_acc: 0.7874\n",
      "Epoch 25/100\n",
      "20000/20000 [==============================] - 6s 293us/sample - loss: 0.4107 - acc: 0.8210 - val_loss: 0.4653 - val_acc: 0.7848\n",
      "Epoch 26/100\n",
      "20000/20000 [==============================] - 6s 293us/sample - loss: 0.4082 - acc: 0.8216 - val_loss: 0.4636 - val_acc: 0.7860\n",
      "Epoch 27/100\n",
      "20000/20000 [==============================] - 6s 295us/sample - loss: 0.4063 - acc: 0.8229 - val_loss: 0.4641 - val_acc: 0.7848\n"
     ]
    }
   ],
   "source": [
    "# 모델 설정과 훈련\n",
    "rmsprop = keras.optimizers.RMSprop(learning_rate=1e-4)\n",
    "model2.compile(optimizer=rmsprop, loss='binary_crossentropy', metrics=['acc'])\n",
    "\n",
    "checkpoint_cb = keras.callbacks.ModelCheckpoint('best-simplernn-model2.h5')\n",
    "# patience=3 - 손실률이 내려가지 않으면 (3번 이상)\n",
    "early_stopping_cb = keras.callbacks.EarlyStopping(patience=3,\n",
    "                                                  restore_best_weights=True)\n",
    "history = model2.fit(train_seq, train_target, epochs=100, batch_size=64,\n",
    "                     validation_data=(val_seq, val_target),\n",
    "                     callbacks=[checkpoint_cb, early_stopping_cb])"
   ]
  },
  {
   "cell_type": "code",
   "execution_count": 29,
   "metadata": {},
   "outputs": [
    {
     "data": {
      "image/png": "[encoded data removed]",
      "text/plain": [
       "<Figure size 432x288 with 1 Axes>"
      ]
     },
     "metadata": {
      "needs_background": "light"
     },
     "output_type": "display_data"
    }
   ],
   "source": [
    "# 훈련 손실과 검증 손실 시각화\n",
    "plt.plot(history.history['loss'])\n",
    "plt.plot(history.history['val_loss'])\n",
    "plt.xlabel('epoch')\n",
    "plt.ylabel('loss')\n",
    "plt.legend(['train', 'val'])\n",
    "plt.show()"
   ]
  },
  {
   "cell_type": "code",
   "execution_count": null,
   "metadata": {},
   "outputs": [],
   "source": []
  }
 ],
 "metadata": {
  "kernelspec": {
   "display_name": "Python 3",
   "language": "python",
   "name": "python3"
  },
  "language_info": {
   "codemirror_mode": {
    "name": "ipython",
    "version": 3
   },
   "file_extension": ".py",
   "mimetype": "text/x-python",
   "name": "python",
   "nbconvert_exporter": "python",
   "pygments_lexer": "ipython3",
   "version": "3.7.3"
  }
 },
 "nbformat": 4,
 "nbformat_minor": 2
}
