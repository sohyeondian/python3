{
 "cells": [
  {
   "cell_type": "markdown",
   "metadata": {},
   "source": [
    "#### 0. 모듈(Module) vs 클래스(Class) vs 인스턴스(Instance)\n",
    "- 모듈(Module): py로 끝나는 파이썬 파일\n",
    "- 클래스(Class): 객체를 디자인하는 틀, 사용자 정의 자료형\n",
    "- 인스턴스(Instance): 클래스로부터 만들어내는 객체"
   ]
  },
  {
   "cell_type": "code",
   "execution_count": 1,
   "metadata": {},
   "outputs": [],
   "source": [
    "# 객체(Object) : 속성과 행위를 가지고 있는 것"
   ]
  },
  {
   "cell_type": "markdown",
   "metadata": {},
   "source": [
    "### 1. 클래스 형식\n",
    "- class 클래스명:\n",
    "  - proparties => 속성이나 특성, 멤버변수\n",
    "```python\n",
    "nation = \"한국\"\n",
    "name = str() or \"\"\n",
    "age = int() or 0\n",
    "```\n",
    "  - method or function => 행위, 멤버함수(메서드)\n",
    "```python\n",
    "def display(self):\n",
    "\tprint(\"국적 : \", self.nation)\n",
    "\tprint(\"이름 : \", self.name)\n",
    "\tprint(\"나이 : \", self.age)\n",
    "```"
   ]
  },
  {
   "cell_type": "markdown",
   "metadata": {},
   "source": [
    "### 2. 주요기능\n",
    "\n",
    "- 클래스 내부에 method 선언: def 키워드 사용\n",
    "일반함수와 달리 첫번째 인수(매개변수)로 self 사용\n",
    "self: 인스턴스 자신의 주소값을 가리킨다\n",
    "각 인스턴스들은 self를 이용해서 자신의 이름공간에 접근\n",
    "- class method: self를 가지고 있지 않은 메서드(함수)\n",
    "인스턴스와 무관하게 클래스 내부에 기술하는 메서드\n",
    "클래스 이름으로 호출해서 사용한다.\n",
    "- 생성자(Constructor) 메서드: __init__(self)\n",
    "인스턴스를 생성할 때 자동으로 호출되는 메서드\n",
    "- 소멸자(Destructor) 메서드: __del__(self)\n",
    "인스턴스가 소멸될 때 자동으로 호출되는 메서드, 생략가능\n",
    "- 상속(Inheritance) : 코드의 재사용\n",
    "부모클래스와 자녀클래스 그대로 사용할 수 있도록 하는 기능,\n",
    "다중상속가능\n",
    "- 오버라이드(Override)\n",
    "부모클래스의 메서드를 자식클래스에서 재정의하는 것\n",
    "- 다형성(Polymorphism)\n",
    "같은 멤버 함수를 호출할 때 각각 다르게 반응하도록 하는 것"
   ]
  },
  {
   "cell_type": "code",
   "execution_count": 8,
   "metadata": {},
   "outputs": [],
   "source": [
    "# 클래스 선언\n",
    "class Person:\n",
    "    # 특성이나 속성(프로퍼티) - 멤버변수\n",
    "    # 선언 되어있지 않아도 함수 내 self.변수명이 있다면 사용 가능\n",
    "    #name = \"\"\n",
    "    #age = 0\n",
    "    #height = 0.0\n",
    "    \n",
    "    #행위나 동작 - 멤버함수(메서드)\n",
    "    def put(self):  # self - 현재 객체의 시작주소\n",
    "        print(\"이름 : \", self.name)\n",
    "        print(\"나이 : \", self.age)\n",
    "        print(\"신장 : \", self.height)"
   ]
  },
  {
   "cell_type": "code",
   "execution_count": 5,
   "metadata": {},
   "outputs": [
    {
     "name": "stdout",
     "output_type": "stream",
     "text": [
      "이름 :  홍길동\n",
      "나이 :  20\n",
      "신장 :  180.7\n"
     ]
    }
   ],
   "source": [
    "# 인스턴스 객체를 생성해야한다.\n",
    "# 클래스 내부의 멤버에 접근하기 위해서\n",
    "p1 = Person() # p1 = new Person() JAVA\n",
    "\n",
    "p1.name = '홍길동'\n",
    "p1.age = 20\n",
    "p1.height = 180.7\n",
    "\n",
    "# 인스턴스명.멤버변수 or 인스턴스명.멤버함수\n",
    "p1.put()"
   ]
  },
  {
   "cell_type": "code",
   "execution_count": 6,
   "metadata": {},
   "outputs": [],
   "source": [
    "p2 = Person()\n",
    "p2.name = '장보고'\n",
    "p2.age = 18\n",
    "p2.height = 180.8"
   ]
  },
  {
   "cell_type": "code",
   "execution_count": 7,
   "metadata": {},
   "outputs": [
    {
     "name": "stdout",
     "output_type": "stream",
     "text": [
      "이름 :  장보고\n",
      "나이 :  18\n",
      "신장 :  180.8\n"
     ]
    }
   ],
   "source": [
    "p2.put()"
   ]
  },
  {
   "cell_type": "code",
   "execution_count": 9,
   "metadata": {},
   "outputs": [
    {
     "ename": "AttributeError",
     "evalue": "'Person' object has no attribute 'name'",
     "output_type": "error",
     "traceback": [
      "\u001b[1;31m---------------------------------------------------------------------------\u001b[0m",
      "\u001b[1;31mAttributeError\u001b[0m                            Traceback (most recent call last)",
      "\u001b[1;32m<ipython-input-9-c09dafd10df3>\u001b[0m in \u001b[0;36m<module>\u001b[1;34m\u001b[0m\n\u001b[0;32m      1\u001b[0m \u001b[0mp3\u001b[0m \u001b[1;33m=\u001b[0m \u001b[0mPerson\u001b[0m\u001b[1;33m(\u001b[0m\u001b[1;33m)\u001b[0m\u001b[1;33m\u001b[0m\u001b[1;33m\u001b[0m\u001b[0m\n\u001b[1;32m----> 2\u001b[1;33m \u001b[0mp3\u001b[0m\u001b[1;33m.\u001b[0m\u001b[0mput\u001b[0m\u001b[1;33m(\u001b[0m\u001b[1;33m)\u001b[0m\u001b[1;33m\u001b[0m\u001b[1;33m\u001b[0m\u001b[0m\n\u001b[0m",
      "\u001b[1;32m<ipython-input-8-23b127bb717c>\u001b[0m in \u001b[0;36mput\u001b[1;34m(self)\u001b[0m\n\u001b[0;32m      9\u001b[0m     \u001b[1;31m#행위나 동작 - 멤버함수(메서드)\u001b[0m\u001b[1;33m\u001b[0m\u001b[1;33m\u001b[0m\u001b[1;33m\u001b[0m\u001b[0m\n\u001b[0;32m     10\u001b[0m     \u001b[1;32mdef\u001b[0m \u001b[0mput\u001b[0m\u001b[1;33m(\u001b[0m\u001b[0mself\u001b[0m\u001b[1;33m)\u001b[0m\u001b[1;33m:\u001b[0m  \u001b[1;31m# self - 현재 객체의 시작주소\u001b[0m\u001b[1;33m\u001b[0m\u001b[1;33m\u001b[0m\u001b[0m\n\u001b[1;32m---> 11\u001b[1;33m         \u001b[0mprint\u001b[0m\u001b[1;33m(\u001b[0m\u001b[1;34m\"이름 : \"\u001b[0m\u001b[1;33m,\u001b[0m \u001b[0mself\u001b[0m\u001b[1;33m.\u001b[0m\u001b[0mname\u001b[0m\u001b[1;33m)\u001b[0m\u001b[1;33m\u001b[0m\u001b[1;33m\u001b[0m\u001b[0m\n\u001b[0m\u001b[0;32m     12\u001b[0m         \u001b[0mprint\u001b[0m\u001b[1;33m(\u001b[0m\u001b[1;34m\"나이 : \"\u001b[0m\u001b[1;33m,\u001b[0m \u001b[0mself\u001b[0m\u001b[1;33m.\u001b[0m\u001b[0mage\u001b[0m\u001b[1;33m)\u001b[0m\u001b[1;33m\u001b[0m\u001b[1;33m\u001b[0m\u001b[0m\n\u001b[0;32m     13\u001b[0m         \u001b[0mprint\u001b[0m\u001b[1;33m(\u001b[0m\u001b[1;34m\"신장 : \"\u001b[0m\u001b[1;33m,\u001b[0m \u001b[0mself\u001b[0m\u001b[1;33m.\u001b[0m\u001b[0mheight\u001b[0m\u001b[1;33m)\u001b[0m\u001b[1;33m\u001b[0m\u001b[1;33m\u001b[0m\u001b[0m\n",
      "\u001b[1;31mAttributeError\u001b[0m: 'Person' object has no attribute 'name'"
     ]
    }
   ],
   "source": [
    "p3 = Person()\n",
    "p3.put()"
   ]
  },
  {
   "cell_type": "code",
   "execution_count": 10,
   "metadata": {},
   "outputs": [],
   "source": [
    "class Person:\n",
    "    # 생성자 메서드 : 멤버 필드(변수)를 초기화하는 역할\n",
    "    def __init__(self, name, age, height):\n",
    "        self.name = name\n",
    "        self.age = age\n",
    "        self.height = height\n",
    "    \n",
    "    def put(self):\n",
    "        print(\"이름 : \", self.name)\n",
    "        print(\"나이 : \", self.age)\n",
    "        print(\"신장 : \", self.height)"
   ]
  },
  {
   "cell_type": "code",
   "execution_count": 11,
   "metadata": {},
   "outputs": [
    {
     "name": "stdout",
     "output_type": "stream",
     "text": [
      "이름 :  이순신\n",
      "나이 :  25\n",
      "신장 :  177.9\n"
     ]
    }
   ],
   "source": [
    "# 생성자 메서드가 존재한다면 반드시 인스턴스 객체를 생성할 때\n",
    "# 생성자 메서드를 이용해야한다.\n",
    "p3 = Person('이순신', 25, 177.9)\n",
    "p3.put()"
   ]
  },
  {
   "cell_type": "code",
   "execution_count": 19,
   "metadata": {},
   "outputs": [],
   "source": [
    "class Person:\n",
    "    # 멤버필드(변수) or 프로퍼티\n",
    "    name = 'kim'\n",
    "    age = 20\n",
    "    height = 180.5\n",
    "    \n",
    "    def put(self):\n",
    "        print(\"이름 : \", self.name, end = \"  \")\n",
    "        print(\"나이 : \", self.age, end = \"  \")\n",
    "        print(\"신장 : \", self.height)"
   ]
  },
  {
   "cell_type": "code",
   "execution_count": 18,
   "metadata": {},
   "outputs": [
    {
     "name": "stdout",
     "output_type": "stream",
     "text": [
      "이름 :  kim  나이 :  20  신장 :  180.5\n",
      "이름 :  kim  나이 :  20  신장 :  180.5\n"
     ]
    }
   ],
   "source": [
    "p4 = Person()\n",
    "p4.put()\n",
    "\n",
    "p5 = Person()\n",
    "p5.name = '김유신'\n",
    "p5.age = 44\n",
    "p5.height = 168.2\n",
    "p5.put()"
   ]
  },
  {
   "cell_type": "code",
   "execution_count": 24,
   "metadata": {},
   "outputs": [],
   "source": [
    "# 회원관리를 위한 클래스 생성\n",
    "class Member:\n",
    "    def info(self):\n",
    "        print(\"ID :\", self.id, end = \"  \")\n",
    "        print(\"PW :\", self.pw, end = \"  \")\n",
    "        print(\"이름 :\", self.name, end = \"  \")\n",
    "        print(\"주소 :\", self.addr)"
   ]
  },
  {
   "cell_type": "code",
   "execution_count": null,
   "metadata": {},
   "outputs": [],
   "source": [
    "# istance 변수 생성\n",
    "m1 = Member()\n",
    "\n",
    "# 인스턴스 변수를 통해 멤버 접근(. direct 연산자)\n",
    "m1.info()"
   ]
  },
  {
   "cell_type": "code",
   "execution_count": 25,
   "metadata": {},
   "outputs": [
    {
     "name": "stdout",
     "output_type": "stream",
     "text": [
      "ID : zzz  PW : 1234  이름 : 잠만보  주소 : 대전\n"
     ]
    }
   ],
   "source": [
    "m2 = Member()\n",
    "\n",
    "m2.id = 'zzz'\n",
    "m2.pw = '1234'\n",
    "m2.name = '잠만보'\n",
    "m2.addr = '대전'\n",
    "\n",
    "m2.info()"
   ]
  },
  {
   "cell_type": "code",
   "execution_count": 30,
   "metadata": {},
   "outputs": [],
   "source": [
    "class Member:\n",
    "    # 생성자 메서드\n",
    "    def __init__(self, userid, pw, name = \"\", addr = \"세종\"):\n",
    "        self.userid = userid\n",
    "        self.pw = pw\n",
    "        self.name = name\n",
    "        self.addr = addr\n",
    "    \n",
    "    def info(self):\n",
    "        print(\"ID :\", self.userid, end = \"  \")\n",
    "        print(\"PW :\", self.pw, end = \"  \")\n",
    "        print(\"이름 :\", self.name, end = \"  \")\n",
    "        print(\"주소 :\", self.addr)"
   ]
  },
  {
   "cell_type": "code",
   "execution_count": 27,
   "metadata": {},
   "outputs": [
    {
     "name": "stdout",
     "output_type": "stream",
     "text": [
      "ID : lee  PW : 1234  이름 : 이순신  주소 : 서울\n"
     ]
    }
   ],
   "source": [
    "m3 = Member(\"lee\", \"1234\", \"이순신\", \"서울\")\n",
    "m3.info()"
   ]
  },
  {
   "cell_type": "code",
   "execution_count": 29,
   "metadata": {},
   "outputs": [
    {
     "name": "stdout",
     "output_type": "stream",
     "text": [
      "ID : park  PW : 1234  이름 : 박둘리  주소 : 세종\n"
     ]
    }
   ],
   "source": [
    "m4 = Member(\"park\", \"1234\", \"박둘리\")\n",
    "m4.info()"
   ]
  },
  {
   "cell_type": "code",
   "execution_count": 31,
   "metadata": {},
   "outputs": [
    {
     "name": "stdout",
     "output_type": "stream",
     "text": [
      "ID : kim  PW : 1234  이름 :   주소 : 세종\n"
     ]
    }
   ],
   "source": [
    "m5 = Member(\"kim\", \"1234\")\n",
    "m5.info()"
   ]
  },
  {
   "cell_type": "markdown",
   "metadata": {},
   "source": [
    "##### 상속(Inheritance)"
   ]
  },
  {
   "cell_type": "code",
   "execution_count": 33,
   "metadata": {},
   "outputs": [],
   "source": [
    "# class 자녀클래스명(상위클래스명):\n",
    "class Person: #상위클래스 == 부모클래스 == 기반 클래스\n",
    "    def __init__(self, name, age, height):\n",
    "        self.name = name\n",
    "        self.age = age\n",
    "        self.height = height\n",
    "    \n",
    "    def disp(self):\n",
    "        print(\"이름 : \"+ self.name, end = \"  \")\n",
    "        print(\"나이 : \"+ str(self.age), end = \"  \")\n",
    "        print(\"신장 : \"+ str(self.height), end = \"  \")"
   ]
  },
  {
   "cell_type": "code",
   "execution_count": 42,
   "metadata": {},
   "outputs": [],
   "source": [
    "class PersonInfo(Person): # 하위클래스 == 자녀클래스 == 파생클래스\n",
    "    # 생성자 메서드\n",
    "    def __init__(self, name, age, height, weight, left_eye, right_eye):\n",
    "        #self.name = name\n",
    "        #self.age = age\n",
    "        #self.height = height\n",
    "        Person.__init__(self, name, age, height)\n",
    "        self.weight = weight\n",
    "        self.left_eye = left_eye\n",
    "        self.right_eye = right_eye\n",
    "        \n",
    "    def disp(self):\n",
    "        Person.disp(self)\n",
    "        print(\"체중 : \" + str(self.weight), end = \"  \")\n",
    "        print(\"시력(좌) : \" + str(self.left_eye), end = \"  \")\n",
    "        print(\"시력(우) : \" + str(self.right_eye))"
   ]
  },
  {
   "cell_type": "code",
   "execution_count": 35,
   "metadata": {},
   "outputs": [
    {
     "name": "stdout",
     "output_type": "stream",
     "text": [
      "이름 : aaa  나이 : 25  신장 : 172.4  "
     ]
    }
   ],
   "source": [
    "p1 = Person('aaa', 25, 172.4)\n",
    "p1.disp()"
   ]
  },
  {
   "cell_type": "code",
   "execution_count": 41,
   "metadata": {},
   "outputs": [
    {
     "name": "stdout",
     "output_type": "stream",
     "text": [
      "체중 : 65  시력(좌) : 1.0  시력(우) : 0.7\n"
     ]
    }
   ],
   "source": [
    "p2 = PersonInfo('bbb', 25, 180.9)\n",
    "p2.weight = 65\n",
    "p2.left_eye = 1.0\n",
    "p2.right_eye = 0.7\n",
    "p2.disp()"
   ]
  },
  {
   "cell_type": "code",
   "execution_count": 38,
   "metadata": {},
   "outputs": [
    {
     "name": "stdout",
     "output_type": "stream",
     "text": [
      "이름 : ccc  나이 : 19  신장 : 175  체중 : 58.7  시력(좌) : 0.9  시력(우) : 0.8\n"
     ]
    }
   ],
   "source": [
    "p3 = PersonInfo('ccc', 19, 175, 58.7, 0.9, 0.8)\n",
    "p3.disp()"
   ]
  },
  {
   "cell_type": "code",
   "execution_count": null,
   "metadata": {},
   "outputs": [],
   "source": []
  }
 ],
 "metadata": {
  "kernelspec": {
   "display_name": "Python 3",
   "language": "python",
   "name": "python3"
  },
  "language_info": {
   "codemirror_mode": {
    "name": "ipython",
    "version": 3
   },
   "file_extension": ".py",
   "mimetype": "text/x-python",
   "name": "python",
   "nbconvert_exporter": "python",
   "pygments_lexer": "ipython3",
   "version": "3.7.3"
  }
 },
 "nbformat": 4,
 "nbformat_minor": 2
}
