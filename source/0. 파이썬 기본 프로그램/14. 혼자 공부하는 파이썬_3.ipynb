{
 "cells": [
  {
   "cell_type": "code",
   "execution_count": null,
   "metadata": {},
   "outputs": [],
   "source": [
    "# 클래스 선언\n",
    "class A: # 클래스 이름의 첫글자는 대문자로 작성하는 것을 권장한다.\n",
    "    # 멤버변수(필드, field) : 인스턴스 변수 or 클래스 변수\n",
    "    ## 클래스 변수 (공통적으로 갖는 값)\n",
    "    name = '홍길동'\n",
    "    age = 20\n",
    "    \n",
    "    # 멤버 메서드\n",
    "    def disp(self):\n",
    "        # 인스턴스 변수 (개별적으로 갖는 값)\n",
    "        self.message = 'hello'\n",
    "        print(self.message)"
   ]
  },
  {
   "cell_type": "code",
   "execution_count": null,
   "metadata": {},
   "outputs": [],
   "source": [
    "# 클래스 변수는 클래스 이름으로 접근하는 변수 (instance 이름으로도 접근 가능?)\n",
    "a = A() # 생성자 메서드를 호출한다. 디폴트 생성자\n",
    "b = A()\n",
    "\n",
    "print(A.name)\n",
    "# 인스턴스 변수는 인스턴스 이름으로 접근가능\n",
    "print(a.message)"
   ]
  },
  {
   "cell_type": "code",
   "execution_count": 2,
   "metadata": {},
   "outputs": [],
   "source": [
    "class Person:\n",
    "    # 클래스 변수\n",
    "    nation = '한국'\n",
    "    name = str() # \"\"\n",
    "    age = int() # 0\n",
    "    height = float() # 0.0\n",
    "    weight = float() # 0.0\n",
    "    \n",
    "    def display(self): # 첫번째 매개변수가 self\n",
    "        print('국적 :', self.nation)\n",
    "        print('이름 :', self.name)\n",
    "        print('나이 :', self.age)\n",
    "        print('신장 :', self.height)\n",
    "        print('체중 :', self.weight)\n",
    "        "
   ]
  },
  {
   "cell_type": "code",
   "execution_count": 3,
   "metadata": {},
   "outputs": [
    {
     "name": "stdout",
     "output_type": "stream",
     "text": [
      "['__class__', '__delattr__', '__dict__', '__dir__', '__doc__', '__eq__', '__format__', '__ge__', '__getattribute__', '__gt__', '__hash__', '__init__', '__init_subclass__', '__le__', '__lt__', '__module__', '__ne__', '__new__', '__reduce__', '__reduce_ex__', '__repr__', '__setattr__', '__sizeof__', '__str__', '__subclasshook__', '__weakref__', 'age', 'display', 'height', 'name', 'nation', 'weight']\n"
     ]
    }
   ],
   "source": [
    "print(dir(Person))"
   ]
  },
  {
   "cell_type": "code",
   "execution_count": 4,
   "metadata": {},
   "outputs": [
    {
     "name": "stdout",
     "output_type": "stream",
     "text": [
      "국적 : 한국\n",
      "이름 : \n",
      "나이 : 0\n",
      "신장 : 0.0\n",
      "체중 : 0.0\n"
     ]
    }
   ],
   "source": [
    "p1 = Person()\n",
    "\n",
    "p1.display()"
   ]
  },
  {
   "cell_type": "code",
   "execution_count": 6,
   "metadata": {},
   "outputs": [
    {
     "name": "stdout",
     "output_type": "stream",
     "text": [
      "국적 : 한국\n",
      "이름 : 김철수\n",
      "나이 : 10\n",
      "신장 : 130.5\n",
      "체중 : 35\n"
     ]
    }
   ],
   "source": [
    "p2 = Person()\n",
    "p2.name = '김철수' # \"\"\n",
    "p2.age = '10' # 0\n",
    "p2.height = '130.5' # 0.0\n",
    "p2.weight = '35' # 0.0\n",
    "p2.display()"
   ]
  },
  {
   "cell_type": "code",
   "execution_count": 7,
   "metadata": {},
   "outputs": [
    {
     "name": "stdout",
     "output_type": "stream",
     "text": [
      "함수1\n",
      "1536815860760\n",
      "인스턴스의 주소값 : 1536815860760\n",
      "함수2\n",
      "함수3\n"
     ]
    }
   ],
   "source": [
    "class B:\n",
    "    def func1(self):\n",
    "        print('함수1')\n",
    "    \n",
    "    def func2(self):\n",
    "        print('인스턴스의 주소값 :', id(self))\n",
    "        print('함수2')\n",
    "        \n",
    "    def func3(): #클래스 매서드\n",
    "        print('함수3')\n",
    "        \n",
    "b = B()\n",
    "b.func1()\n",
    "print(id(b))\n",
    "b.func2()\n",
    "# b.func3()\n",
    "B.func3()"
   ]
  },
  {
   "cell_type": "code",
   "execution_count": 9,
   "metadata": {},
   "outputs": [],
   "source": [
    "# 매개변수를 초기화, default parameter\n",
    "\n",
    "class Person2:\n",
    "    # 생성자 메서드 : 인스턴스가 생성될 때 자동으로 호출\n",
    "    def __init__(self, name=None, age=None, height=None, weight=None):\n",
    "        self.name = name\n",
    "        self.age = age\n",
    "        self.height = height\n",
    "        self.weight = weight\n",
    "        \n",
    "    def display(self):\n",
    "        print('이름 :', self.name)\n",
    "        print('나이 :', self.age)\n",
    "        print('신장 :', self.height)\n",
    "        print('체중 :', self.weight)"
   ]
  },
  {
   "cell_type": "code",
   "execution_count": null,
   "metadata": {},
   "outputs": [],
   "source": [
    "p2 = Person2('aaa',20, 170.5, 65)\n",
    "p2.display()\n",
    "\n",
    "p3 = Person2()\n",
    "p3.display()\n"
   ]
  },
  {
   "cell_type": "code",
   "execution_count": null,
   "metadata": {},
   "outputs": [],
   "source": []
  },
  {
   "cell_type": "code",
   "execution_count": null,
   "metadata": {},
   "outputs": [],
   "source": []
  },
  {
   "cell_type": "code",
   "execution_count": null,
   "metadata": {},
   "outputs": [],
   "source": []
  },
  {
   "cell_type": "code",
   "execution_count": null,
   "metadata": {},
   "outputs": [],
   "source": []
  },
  {
   "cell_type": "code",
   "execution_count": null,
   "metadata": {},
   "outputs": [],
   "source": []
  }
 ],
 "metadata": {
  "kernelspec": {
   "display_name": "Python 3",
   "language": "python",
   "name": "python3"
  },
  "language_info": {
   "codemirror_mode": {
    "name": "ipython",
    "version": 3
   },
   "file_extension": ".py",
   "mimetype": "text/x-python",
   "name": "python",
   "nbconvert_exporter": "python",
   "pygments_lexer": "ipython3",
   "version": "3.7.3"
  }
 },
 "nbformat": 4,
 "nbformat_minor": 2
}
