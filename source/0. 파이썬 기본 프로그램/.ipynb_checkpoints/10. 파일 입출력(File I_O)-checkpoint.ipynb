{
 "cells": [
  {
   "cell_type": "markdown",
   "metadata": {},
   "source": [
    "#### 0. 파일 입출력(File Input/Output System)\n",
    "- 작업순서 : 파일객체열기 -> 작업 -> 파일객체닫기\n",
    "- 파일오픈\n",
    "```python\n",
    "open([FILE_NAME],[MODE])\n",
    "```\n",
    "    - mode : 파일을 입출력하는 방식\n",
    "    \n",
    "| mode | 내용 | mode | 내용 |\n",
    "|:-----:|:-----------:|:----:|:--------:|\n",
    "| r | read only | rb | read binary |\n",
    "| w | write only | wb | write binary |\n",
    "| a | append | ab | append binary |\n",
    "\n",
    "- 파일 닫기 : close()"
   ]
  },
  {
   "cell_type": "code",
   "execution_count": 1,
   "metadata": {},
   "outputs": [],
   "source": [
    "# 현재 작업하는 디렉토리에 파일 생성하는 작업\n",
    "# open(filename, mode)\n",
    "# mode : w(쓰기), r(읽기) , a(추가)\n",
    "# File f\n",
    "f = open(\"file1.txt\", \"w\")\n",
    "\n",
    "# 작업\n",
    "\n",
    "# 파일닫기\n",
    "f.close()"
   ]
  },
  {
   "cell_type": "code",
   "execution_count": 2,
   "metadata": {},
   "outputs": [],
   "source": [
    "# 지정한 디렉토리에 파일 생성하는 작업\n",
    "f = open(\"D:/python3/study/file2.txt\",\"w\")\n",
    "\n",
    "# 작업\n",
    "\n",
    "# 닫기\n",
    "f.close()"
   ]
  },
  {
   "cell_type": "code",
   "execution_count": 3,
   "metadata": {},
   "outputs": [],
   "source": [
    "# 파일에 내용을 출력하는 작업\n",
    "f = open(\"D:/python3/study/file3.txt\",\"w\")\n",
    "\n",
    "# 작업\n",
    "for i in range(1, 11):\n",
    "    data = f\"{i}번째 데이터입니다.\\n\"\n",
    "    f.write(data)\n",
    "\n",
    "# 닫기\n",
    "f.close()"
   ]
  },
  {
   "cell_type": "code",
   "execution_count": 4,
   "metadata": {},
   "outputs": [
    {
     "name": "stdout",
     "output_type": "stream",
     "text": [
      "1번째 데이터입니다.\n",
      "2번째 데이터입니다.\n",
      "3번째 데이터입니다.\n",
      "4번째 데이터입니다.\n",
      "5번째 데이터입니다.\n",
      "6번째 데이터입니다.\n",
      "7번째 데이터입니다.\n",
      "8번째 데이터입니다.\n",
      "9번째 데이터입니다.\n",
      "10번째 데이터입니다.\n"
     ]
    }
   ],
   "source": [
    "# 파일 내용을 화면에 출력하는 작업\n",
    "f = open(\"D:/python3/study/file3.txt\",\"r\")\n",
    "\n",
    "# 작업\n",
    "while True:\n",
    "    # 줄 단위(\\n)로 파일을 읽어오는 함수\n",
    "    line = f.readline()\n",
    "    if not line: break\n",
    "    print(line, end = \"\") # 줄바꿈\n",
    "\n",
    "f.close()"
   ]
  },
  {
   "cell_type": "code",
   "execution_count": 10,
   "metadata": {},
   "outputs": [
    {
     "name": "stdout",
     "output_type": "stream",
     "text": [
      "10\n",
      "파일이 추가되었습니다.\n"
     ]
    }
   ],
   "source": [
    "nums = [0, 1, 2, 3, 4, 5, 6, 7, 8, 9]\n",
    "count = len(nums) # 데이터의 갯수\n",
    "print(count)\n",
    "\n",
    "output_file = \"D:/python3/source/result.csv\"\n",
    "\n",
    "# 추가모드\n",
    "f = open(output_file, \"a\")\n",
    "\n",
    "for idx in range(count):\n",
    "    if idx < count - 1:\n",
    "        f.write(str(nums[idx])+',')\n",
    "    else:\n",
    "        f.write(str(nums[idx])+'\\n')\n",
    "        \n",
    "f.close()\n",
    "print(\"파일이 추가되었습니다.\")"
   ]
  },
  {
   "cell_type": "code",
   "execution_count": 11,
   "metadata": {},
   "outputs": [
    {
     "name": "stdout",
     "output_type": "stream",
     "text": [
      "['0,1,2,3,4,5,6,7,8,9\\n', '0,1,2,3,4,5,6,7,8,9\\n', '0,1,2,3,4,5,6,7,8,9\\n', '0,1,2,3,4,5,6,7,8,9\\n', '0,1,2,3,4,5,6,7,8,9\\n', '0,1,2,3,4,5,6,7,8,9\\n']\n"
     ]
    }
   ],
   "source": [
    "# 파일 읽어오는 작업\n",
    "f = open(output_file, \"r\")\n",
    "\n",
    "lines = f.readlines() # 모든 라인을 읽어 리스트로 저장\n",
    "\n",
    "print(lines)\n"
   ]
  },
  {
   "cell_type": "code",
   "execution_count": 13,
   "metadata": {},
   "outputs": [
    {
     "name": "stdout",
     "output_type": "stream",
     "text": [
      "0,1,2,3,4,5,6,7,8,9\n",
      "0,1,2,3,4,5,6,7,8,9\n",
      "0,1,2,3,4,5,6,7,8,9\n",
      "0,1,2,3,4,5,6,7,8,9\n",
      "0,1,2,3,4,5,6,7,8,9\n",
      "0,1,2,3,4,5,6,7,8,9\n"
     ]
    }
   ],
   "source": [
    "for line in lines:\n",
    "    print(line, end = \"\")"
   ]
  },
  {
   "cell_type": "code",
   "execution_count": 14,
   "metadata": {},
   "outputs": [],
   "source": [
    "f.close()"
   ]
  },
  {
   "cell_type": "code",
   "execution_count": 15,
   "metadata": {},
   "outputs": [],
   "source": [
    "# with 구문을 통해 파일을 읽어오면 자동으로 파일 객체 닫기가 실행된다.\n",
    "with open(\"D:/python3/source/file4.txt\", \"w\") as f:\n",
    "    f.write(\"Hello, Python!\")"
   ]
  },
  {
   "cell_type": "code",
   "execution_count": 20,
   "metadata": {},
   "outputs": [
    {
     "name": "stdout",
     "output_type": "stream",
     "text": [
      "1번째 데이터입니다.\n",
      "2번째 데이터입니다.\n",
      "3번째 데이터입니다.\n",
      "4번째 데이터입니다.\n",
      "5번째 데이터입니다.\n",
      "6번째 데이터입니다.\n",
      "7번째 데이터입니다.\n",
      "8번째 데이터입니다.\n",
      "9번째 데이터입니다.\n",
      "10번째 데이터입니다.\n",
      "0\n",
      "1번째 데이터입니다.\n",
      "\n"
     ]
    }
   ],
   "source": [
    "f = open(\"D:/python3/study/file3.txt\", \"r\")\n",
    "\n",
    "for line in f:\n",
    "    print(line, end = \"\")\n",
    "\n",
    "# 파일의 시작위치로 포인트를 이동하는 함수\n",
    "# seek(offset, from) from : 0(시작위치), 1(현재위치), 2(끝위치)\n",
    "\n",
    "f.seek(0, 0)\n",
    "print(f.tell()) # tell() 파일 포인터의 위치 출력\n",
    "# tell : 파일 객체의 위치를 확인하는 함수\n",
    "\n",
    "print(f.readline())\n",
    "f.close()"
   ]
  },
  {
   "cell_type": "code",
   "execution_count": 4,
   "metadata": {},
   "outputs": [
    {
     "name": "stdout",
     "output_type": "stream",
     "text": [
      "1번째 데이터입니다.\n",
      "2번째 데이터입니다.\n",
      "3번째 데이터입니다.\n",
      "4번째 데이터입니다.\n",
      "5번째 데이터입니다.\n",
      "6번째 데이터입니다.\n",
      "7번째 데이터입니다.\n",
      "8번째 데이터입니다.\n",
      "9번째 데이터입니다.\n",
      "10번째 데이터입니다.\n",
      "211\n",
      "파일 크기 : 211bytes\n",
      "다.\n",
      "\n"
     ]
    }
   ],
   "source": [
    "f = open(\"D:/python3/study/file3.txt\", \"r\")\n",
    "\n",
    "for line in f:\n",
    "    print(line, end = \"\")\n",
    "\n",
    "# tell() : 파일 객체의 위치를 확인하는 함수\n",
    "print(f.tell())\n",
    "size = f.tell()\n",
    "print(\"파일 크기 : \" + str(size) + \"bytes\")\n",
    "\n",
    "# seek(offset, from) : 파일 객체의 작업 위치를 변경하는 함수\n",
    "# from(기준위치) : 0 시작위치, 1 현재위치, 0 끝 위치\n",
    "f.seek(16, 0)\n",
    "data = f.readline()\n",
    "print(data)\n",
    "\n",
    "f.close()"
   ]
  },
  {
   "cell_type": "code",
   "execution_count": null,
   "metadata": {},
   "outputs": [],
   "source": [
    "with open(\"D:/python3/study/file3.txt\", \"r\") as f:\n",
    "\n",
    "    for line in f:\n",
    "        print(line, end = \"\")\n"
   ]
  }
 ],
 "metadata": {
  "kernelspec": {
   "display_name": "Python 3",
   "language": "python",
   "name": "python3"
  },
  "language_info": {
   "codemirror_mode": {
    "name": "ipython",
    "version": 3
   },
   "file_extension": ".py",
   "mimetype": "text/x-python",
   "name": "python",
   "nbconvert_exporter": "python",
   "pygments_lexer": "ipython3",
   "version": "3.7.3"
  }
 },
 "nbformat": 4,
 "nbformat_minor": 2
}
