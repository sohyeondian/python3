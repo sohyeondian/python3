{
 "cells": [
  {
   "cell_type": "code",
   "execution_count": 1,
   "metadata": {},
   "outputs": [
    {
     "name": "stdout",
     "output_type": "stream",
     "text": [
      "Hello World!\n"
     ]
    }
   ],
   "source": [
    "# 1\n",
    "print('Hello World!')"
   ]
  },
  {
   "cell_type": "code",
   "execution_count": 2,
   "metadata": {},
   "outputs": [
    {
     "name": "stdout",
     "output_type": "stream",
     "text": [
      "Mary's cosmetics\n"
     ]
    }
   ],
   "source": [
    "# 2\n",
    "print(\"Mary's cosmetics\")"
   ]
  },
  {
   "cell_type": "code",
   "execution_count": 4,
   "metadata": {},
   "outputs": [
    {
     "name": "stdout",
     "output_type": "stream",
     "text": [
      "3.14\n"
     ]
    }
   ],
   "source": [
    "# 3\n",
    "PI = 3.141592\n",
    "print(\"{:.2f}\".format(PI))"
   ]
  },
  {
   "cell_type": "code",
   "execution_count": null,
   "metadata": {},
   "outputs": [],
   "source": [
    "#"
   ]
  },
  {
   "cell_type": "code",
   "execution_count": 7,
   "metadata": {},
   "outputs": [
    {
     "name": "stdout",
     "output_type": "stream",
     "text": [
      "output = NAVER;KAKAO;SK;SAMSUNG\n"
     ]
    }
   ],
   "source": [
    "# 13\n",
    "companies = ['NAVER', 'KAKAO', 'SK', 'SAMSUNG']\n",
    "print('output = ', end = \"\")\n",
    "print(';'.join(companies))"
   ]
  },
  {
   "cell_type": "code",
   "execution_count": 11,
   "metadata": {},
   "outputs": [
    {
     "name": "stdout",
     "output_type": "stream",
     "text": [
      "url = https://wikidocs.net/3465\n",
      "domain = net\n"
     ]
    }
   ],
   "source": [
    "# 14 \n",
    "url = input(\"url = \").split('/')\n",
    "domain = url[2].split('.')\n",
    "print('domain =',domain[-1])"
   ]
  },
  {
   "cell_type": "code",
   "execution_count": 13,
   "metadata": {},
   "outputs": [
    {
     "name": "stdout",
     "output_type": "stream",
     "text": [
      "freq =  2\n"
     ]
    }
   ],
   "source": [
    "# 15\n",
    "introduce = \"python is widely used high-level language. python was conceived in the late 1980s\"\n",
    "print('freq = ',introduce.count('python'))"
   ]
  },
  {
   "cell_type": "code",
   "execution_count": 14,
   "metadata": {},
   "outputs": [
    {
     "name": "stdout",
     "output_type": "stream",
     "text": [
      "max = 9\n",
      "min = 1\n"
     ]
    }
   ],
   "source": [
    "# 16\n",
    "nums = [1, 2, 3, 4, 5, 6, 7, 8, 9]\n",
    "print('max =', max(nums))\n",
    "print('min =', min(nums))"
   ]
  },
  {
   "cell_type": "code",
   "execution_count": 16,
   "metadata": {},
   "outputs": [
    {
     "name": "stdout",
     "output_type": "stream",
     "text": [
      "[1, 2, 3, 4, 5, 7, 8, 10]\n"
     ]
    }
   ],
   "source": [
    "# 17\n",
    "nums = [2, 3, 1, 7, 10, 4, 5, 8]\n",
    "print(sorted(nums))"
   ]
  },
  {
   "cell_type": "code",
   "execution_count": 17,
   "metadata": {},
   "outputs": [
    {
     "name": "stdout",
     "output_type": "stream",
     "text": [
      "average = 10520.0\n"
     ]
    }
   ],
   "source": [
    "# 18\n",
    "values = [10000, 10500, 10300, 10700, 11100]\n",
    "print('average =', sum(values) / len(values))"
   ]
  },
  {
   "cell_type": "code",
   "execution_count": 19,
   "metadata": {},
   "outputs": [
    {
     "name": "stdout",
     "output_type": "stream",
     "text": [
      "<class 'tuple'>\n"
     ]
    }
   ],
   "source": [
    "# 19\n",
    "data = ['a', 'b', 'c', 'd', 'e']\n",
    "tuple_data = tuple(data)\n",
    "print(type(tuple_data))"
   ]
  },
  {
   "cell_type": "code",
   "execution_count": 20,
   "metadata": {},
   "outputs": [
    {
     "name": "stdout",
     "output_type": "stream",
     "text": [
      "2 4\n"
     ]
    }
   ],
   "source": [
    "# 20\n",
    "data = (1, 2, 3, 4, 5)\n",
    "print(data[1], data[3])"
   ]
  },
  {
   "cell_type": "code",
   "execution_count": 23,
   "metadata": {},
   "outputs": [
    {
     "name": "stdout",
     "output_type": "stream",
     "text": [
      "[('a', 1), ('b', 2), ('c', 3)]\n"
     ]
    }
   ],
   "source": [
    "# 21\n",
    "t = ['a', 'b', 'c']\n",
    "n = [1, 2, 3]\n",
    "plus = list(zip(t, n))\n",
    "print(plus)"
   ]
  },
  {
   "cell_type": "code",
   "execution_count": 24,
   "metadata": {},
   "outputs": [
    {
     "name": "stdout",
     "output_type": "stream",
     "text": [
      "{'Melona': 1000, 'Pollapo': 1200, 'Ppangppare': 1800, 'Tankboy': 1200, 'Heathunting': 1200, 'Worldcorn': 1500}\n"
     ]
    }
   ],
   "source": [
    "# 22\n",
    "names = ['Melona', 'Pollapo', 'Ppangppare', 'Tankboy', 'Heathunting', 'Worldcorn']\n",
    "prices = [1000, 1200, 1800, 1200, 1200, 1500]\n",
    "icecreams = dict(zip(names, prices))\n",
    "print(icecreams)"
   ]
  },
  {
   "cell_type": "code",
   "execution_count": 25,
   "metadata": {},
   "outputs": [
    {
     "name": "stdout",
     "output_type": "stream",
     "text": [
      "제품명 : Melona\n",
      "메로나 가격 = 1000\n"
     ]
    }
   ],
   "source": [
    "# 23\n",
    "print('제품명 : Melona')\n",
    "print('메로나 가격 =', icecreams['Melona'])"
   ]
  },
  {
   "cell_type": "code",
   "execution_count": 28,
   "metadata": {},
   "outputs": [],
   "source": [
    "# 24\n",
    "icecreams['Worldcorn'] = 2000"
   ]
  },
  {
   "cell_type": "code",
   "execution_count": 32,
   "metadata": {},
   "outputs": [
    {
     "name": "stdout",
     "output_type": "stream",
     "text": [
      "Melona\n"
     ]
    }
   ],
   "source": [
    "# 25\n",
    "min_price = min(icecreams.values())\n",
    "for name, price in icecreams.items():\n",
    "    if price == min_price:\n",
    "        print(name)\n"
   ]
  },
  {
   "cell_type": "code",
   "execution_count": 40,
   "metadata": {},
   "outputs": [
    {
     "name": "stdout",
     "output_type": "stream",
     "text": [
      "out : [1, 4, 9, 16, 25]\n"
     ]
    }
   ],
   "source": [
    "# 26\n",
    "nums = [1, 2, 3, 4, 5]\n",
    "out = [x ** 2 for x in nums]\n",
    "print('out :', out)"
   ]
  },
  {
   "cell_type": "code",
   "execution_count": 41,
   "metadata": {},
   "outputs": [
    {
     "name": "stdout",
     "output_type": "stream",
     "text": [
      "even : [2, 4, 6, 8, 10]\n",
      "odd : [1, 3, 5, 7, 9]\n"
     ]
    }
   ],
   "source": [
    "# 27\n",
    "nums = [1, 2, 3, 4, 5, 6, 7, 8, 9, 10]\n",
    "even = [x for x in nums if x % 2 == 0]\n",
    "odd = [x for x in nums if x % 2 != 0]\n",
    "print(\"even :\", even)\n",
    "print(\"odd :\", odd)"
   ]
  },
  {
   "cell_type": "code",
   "execution_count": 42,
   "metadata": {},
   "outputs": [
    {
     "name": "stdout",
     "output_type": "stream",
     "text": [
      "new_items =  [1, 2, 3, 4, 6, 7]\n"
     ]
    }
   ],
   "source": [
    "# 28\n",
    "items = [1, 6, 2, 3, 4, 4, 6, 6 ,7 ,2 ,7]\n",
    "new_items = list(set(items))\n",
    "print('new_items = ', new_items)"
   ]
  },
  {
   "cell_type": "code",
   "execution_count": 44,
   "metadata": {},
   "outputs": [
    {
     "name": "stdout",
     "output_type": "stream",
     "text": [
      "dic = {'09/05': 10500, '09/06': 10300, '09/07': 10100, '09/08': 10800, '09/09': 11000}\n"
     ]
    }
   ],
   "source": [
    "# 29\n",
    "data = ['09/05', '09/06', '09/07', '09/08', '09/09']\n",
    "price = [10500, 10300, 10100, 10800, 11000]\n",
    "dic = dict(zip(data, price))\n",
    "print('dic =', dic)"
   ]
  },
  {
   "cell_type": "code",
   "execution_count": 46,
   "metadata": {},
   "outputs": [
    {
     "name": "stdout",
     "output_type": "stream",
     "text": [
      "1번째 수 : 10\n",
      "2번째 수 : 30\n",
      "3번째 수 : 8\n",
      "최대값 : 30\n"
     ]
    }
   ],
   "source": [
    "# 30\n",
    "nums = []\n",
    "for i in range(3):\n",
    "    num = input('{}번째 수 : '.format(i + 1))\n",
    "    nums.append(int(num))\n",
    "\n",
    "print('최대값 :', max(nums))"
   ]
  },
  {
   "cell_type": "code",
   "execution_count": 48,
   "metadata": {},
   "outputs": [
    {
     "name": "stdout",
     "output_type": "stream",
     "text": [
      "0 입력시 종료\n",
      "num = 1\n",
      "num = 2\n",
      "num = 3\n",
      "num = 0\n",
      "sum = 6\n",
      "프로그램을 종료합니다.\n"
     ]
    }
   ],
   "source": [
    "# 31\n",
    "print('0 입력시 종료')\n",
    "nums = []\n",
    "while True:\n",
    "    num = input('num = ')\n",
    "    if num == '0':\n",
    "        break\n",
    "    nums.append(int(num))\n",
    "\n",
    "if len(nums) != 0: # 시작했을때부터 0이면 결과 값 출력하지 않음\n",
    "    print('sum =', sum(nums))\n",
    "print('프로그램을 종료합니다.')"
   ]
  },
  {
   "cell_type": "code",
   "execution_count": 61,
   "metadata": {},
   "outputs": [
    {
     "name": "stdout",
     "output_type": "stream",
     "text": [
      "첫 번째 수 = 1\n",
      "연산자(+, -, *, /) = d\n",
      "두 번째 수 = 30\n",
      "잘못 입력하셨습니다.\n"
     ]
    }
   ],
   "source": [
    "# 32\n",
    "num1 = input('첫 번째 수 = ')\n",
    "opp = input('연산자(+, -, *, /) = ')\n",
    "num2 = input('두 번째 수 = ')\n",
    "\n",
    "if num1.isdecimal() and num2.isdecimal() and opp == '/' and num2 != '0' or opp in ['+', '-', '*'] :\n",
    "    print(\"{} {} {} = {}\".format(num1, opp, num2, eval(num1+opp+num2)))\n",
    "else:\n",
    "    print('잘못 입력하셨습니다.')"
   ]
  },
  {
   "cell_type": "code",
   "execution_count": 65,
   "metadata": {},
   "outputs": [
    {
     "name": "stdout",
     "output_type": "stream",
     "text": [
      "국어 : 90\n",
      "영어 : 90\n",
      "수학 : 90\n",
      "총점 : 270, 평균 : 90.00, 학점 : A학점\n"
     ]
    }
   ],
   "source": [
    "# 33\n",
    "\n",
    "def grade(num):\n",
    "    if num >= 90:\n",
    "        return 'A'\n",
    "    elif num >= 80:\n",
    "        return 'B'\n",
    "    elif num >= 70:\n",
    "        return 'C'\n",
    "    elif num >= 60:\n",
    "        return 'D'\n",
    "    else:\n",
    "        return 'F'\n",
    "\n",
    "\n",
    "subjects = {'국어' : 0, '영어' : 0, '수학' : 0}\n",
    "\n",
    "for sub in subjects.keys(): \n",
    "    score = input('{} : '.format(sub))\n",
    "    subjects[sub] = int(score)\n",
    "    \n",
    "total = sum(subjects.values())\n",
    "avg = total / len(subjects)\n",
    "\n",
    "print('총점 : {}, 평균 : {:.2f}, 학점 : {}학점'.format(total, avg, grade(avg)))\n",
    "        "
   ]
  },
  {
   "cell_type": "code",
   "execution_count": 72,
   "metadata": {},
   "outputs": [
    {
     "name": "stdout",
     "output_type": "stream",
     "text": [
      "형식 = [금액] [화폐] *띄어쓰기로 구분\n",
      "입력 = 100 달러\n",
      "116700 원\n"
     ]
    }
   ],
   "source": [
    "# 34\n",
    "print('형식 = [금액] [화폐] *띄어쓰기로 구분')\n",
    "tmp = input('입력 = ').split(\" \")\n",
    "if len(tmp) == 2 and tmp[0].isdecimal():\n",
    "    if tmp[1] == '달러':\n",
    "        won = int(tmp[0]) * 1167\n",
    "    elif tmp[1] == '엔':\n",
    "        won = int(tmp[0]) * 1096\n",
    "    elif tmp[1] == '유로':\n",
    "        won = int(tmp[0]) * 1268\n",
    "    elif tmp[1] == '위안':\n",
    "        won = int(tmp[0]) * 171\n",
    "    else:\n",
    "        print(\"해당 화폐의 환율은 제공하지 않습니다.\")\n",
    "    \n",
    "    print(won,'원')\n",
    "else :\n",
    "    print('입력 형식이 잘못되었습니다.')"
   ]
  },
  {
   "cell_type": "code",
   "execution_count": 74,
   "metadata": {},
   "outputs": [
    {
     "name": "stdout",
     "output_type": "stream",
     "text": [
      "2단 -- \n",
      "2 x 1 = 2\n",
      "2 x 2 = 4\n",
      "2 x 3 = 6\n",
      "2 x 4 = 8\n",
      "2 x 5 = 10\n",
      "2 x 6 = 12\n",
      "2 x 7 = 14\n",
      "2 x 8 = 16\n",
      "2 x 9 = 18\n",
      "\n",
      "3단 -- \n",
      "3 x 1 = 3\n",
      "3 x 2 = 6\n",
      "3 x 3 = 9\n",
      "3 x 4 = 12\n",
      "3 x 5 = 15\n",
      "3 x 6 = 18\n",
      "3 x 7 = 21\n",
      "3 x 8 = 24\n",
      "3 x 9 = 27\n",
      "\n",
      "4단 -- \n",
      "4 x 1 = 4\n",
      "4 x 2 = 8\n",
      "4 x 3 = 12\n",
      "4 x 4 = 16\n",
      "4 x 5 = 20\n",
      "4 x 6 = 24\n",
      "4 x 7 = 28\n",
      "4 x 8 = 32\n",
      "4 x 9 = 36\n",
      "\n",
      "5단 -- \n",
      "5 x 1 = 5\n",
      "5 x 2 = 10\n",
      "5 x 3 = 15\n",
      "5 x 4 = 20\n",
      "5 x 5 = 25\n",
      "5 x 6 = 30\n",
      "5 x 7 = 35\n",
      "5 x 8 = 40\n",
      "5 x 9 = 45\n",
      "\n",
      "6단 -- \n",
      "6 x 1 = 6\n",
      "6 x 2 = 12\n",
      "6 x 3 = 18\n",
      "6 x 4 = 24\n",
      "6 x 5 = 30\n",
      "6 x 6 = 36\n",
      "6 x 7 = 42\n",
      "6 x 8 = 48\n",
      "6 x 9 = 54\n",
      "\n",
      "7단 -- \n",
      "7 x 1 = 7\n",
      "7 x 2 = 14\n",
      "7 x 3 = 21\n",
      "7 x 4 = 28\n",
      "7 x 5 = 35\n",
      "7 x 6 = 42\n",
      "7 x 7 = 49\n",
      "7 x 8 = 56\n",
      "7 x 9 = 63\n",
      "\n",
      "8단 -- \n",
      "8 x 1 = 8\n",
      "8 x 2 = 16\n",
      "8 x 3 = 24\n",
      "8 x 4 = 32\n",
      "8 x 5 = 40\n",
      "8 x 6 = 48\n",
      "8 x 7 = 56\n",
      "8 x 8 = 64\n",
      "8 x 9 = 72\n",
      "\n",
      "9단 -- \n",
      "9 x 1 = 9\n",
      "9 x 2 = 18\n",
      "9 x 3 = 27\n",
      "9 x 4 = 36\n",
      "9 x 5 = 45\n",
      "9 x 6 = 54\n",
      "9 x 7 = 63\n",
      "9 x 8 = 72\n",
      "9 x 9 = 81\n",
      "\n"
     ]
    }
   ],
   "source": [
    "# 35\n",
    "for i in range(2, 10):\n",
    "    print('{}단 -- '.format(i))\n",
    "    for j in range(1, 10):\n",
    "        print(\"{} x {} = {}\".format(i, j, i*j))\n",
    "    print()"
   ]
  },
  {
   "cell_type": "code",
   "execution_count": null,
   "metadata": {},
   "outputs": [
    {
     "name": "stdout",
     "output_type": "stream",
     "text": [
      "==== 은행계좌관리프로그램 ====\n",
      " == Bank Menu == \n",
      "[1. 계좌 개설]\n",
      "[2. 입금 처리]\n",
      "[3. 출금 처리]\n",
      "[4. 잔액 조회 - 계좌번호로 조회]\n",
      "[5. 작업 종료]\n",
      " ------------ \n",
      "메뉴 = 1\n",
      "[계좌 개설]\n",
      "이름 : abb\n",
      "계좌번호 : 1234\n",
      "1234\n",
      "계좌번호가 존재합니다.\n",
      " == Bank Menu == \n",
      "[1. 계좌 개설]\n",
      "[2. 입금 처리]\n",
      "[3. 출금 처리]\n",
      "[4. 잔액 조회 - 계좌번호로 조회]\n",
      "[5. 작업 종료]\n",
      " ------------ \n",
      "메뉴 = 1\n",
      "[계좌 개설]\n",
      "이름 : bbb\n",
      "계좌번호 : 2345\n",
      "2345\n",
      "초기 금액 : 300\n",
      " == Bank Menu == \n",
      "[1. 계좌 개설]\n",
      "[2. 입금 처리]\n",
      "[3. 출금 처리]\n",
      "[4. 잔액 조회 - 계좌번호로 조회]\n",
      "[5. 작업 종료]\n",
      " ------------ \n"
     ]
    }
   ],
   "source": [
    "# 36\n",
    "class Account:\n",
    "    \n",
    "    def __init__(self, name, num, money):\n",
    "        self.name = name\n",
    "        self.num = num\n",
    "        self.money = money\n",
    "        \n",
    "    def inMoney(self, money):\n",
    "        self.money += money\n",
    "        \n",
    "    def outMoney(self, money):\n",
    "        if self.money - money < 0:\n",
    "            print('잔액이 부족합니다.')\n",
    "            print('잔액 :',self.money)\n",
    "        else:\n",
    "            self.money -= money\n",
    "    \n",
    "    def disp(self):\n",
    "        print('이름 :', self.name, end = '   ')\n",
    "        print('계좌번호 :',self.num, end = '   ')\n",
    "        print('잔액 :', self.money)\n",
    "\n",
    "def mainMenu():\n",
    "    print(' == Bank Menu == ')\n",
    "    print('[1. 계좌 개설]')\n",
    "    print('[2. 입금 처리]')\n",
    "    print('[3. 출금 처리]')\n",
    "    print('[4. 잔액 조회 - 계좌번호로 조회]')\n",
    "    print('[5. 작업 종료]')\n",
    "    print(' ------------ ')\n",
    "    menu = input('메뉴 = ')\n",
    "    return menu\n",
    "\n",
    "\n",
    "def addMember():\n",
    "    print('[계좌 개설]')\n",
    "    name = input('이름 : ')\n",
    "    num = input('계좌번호 : ')\n",
    "    print(num)\n",
    "    if checkID(num) != -1:\n",
    "        print('계좌번호가 존재합니다.')\n",
    "        return\n",
    "    \n",
    "    money = int(input('초기 금액 : ')) \n",
    "    \n",
    "    bankList.append(Account(name, num, money))\n",
    "\n",
    "def checkID(number):\n",
    "    for i in range(len(bankList)):\n",
    "        if bankList[i].num == number:\n",
    "            return i\n",
    "    return -1\n",
    "\n",
    "def diposit():\n",
    "    print('[입금 처리]')\n",
    "    num = input('계좌번호 입력 : ')\n",
    "    index = checkID(num)\n",
    "    if index == -1:\n",
    "        print('계좌번호가 존재하지 않습니다.')\n",
    "        return\n",
    "        \n",
    "    money = int(input('입금 금액 입력 : '))\n",
    "    bankList[index].inMoney(money)\n",
    "    bankList[index].disp()\n",
    "\n",
    "def withdraw():\n",
    "    print('[출금 처리]')\n",
    "    num = input('계좌번호 입력 : ')\n",
    "    index = checkID(num)\n",
    "    if index == -1:\n",
    "        print('계좌번호가 존재하지 않습니다.')\n",
    "        return\n",
    "        \n",
    "    money = int(input('출금 금액 입력 : '))\n",
    "    bankList[index].outMoney(money)\n",
    "\n",
    "def viewPrice():\n",
    "    print('[계좌 잔액 조회]')\n",
    "    num = input('계좌번호 입력 : ')\n",
    "    index = checkID(num)\n",
    "    if index == -1:\n",
    "        print('계좌번호가 존재하지 않습니다.')\n",
    "        return\n",
    "    bankList[index].disp()\n",
    "\n",
    "\n",
    "bankList = [Account('aaa','1234', 500)]\n",
    "\n",
    "print('==== 은행계좌관리프로그램 ====')\n",
    "\n",
    "while True:\n",
    "    menu = mainMenu()\n",
    "    if menu == '1':\n",
    "        addMember()\n",
    "    elif menu == '2':\n",
    "        diposit()\n",
    "    elif menu == '3':\n",
    "        withdraw()\n",
    "    elif menu == '4':\n",
    "        viewPrice()\n",
    "    elif menu == '5':\n",
    "        break\n",
    "    else:\n",
    "        print('보기에 없는 번호입니다.')\n",
    "        \n",
    "print('프로그램을 종료합니다.')"
   ]
  },
  {
   "cell_type": "code",
   "execution_count": 2,
   "metadata": {},
   "outputs": [
    {
     "name": "stdout",
     "output_type": "stream",
     "text": [
      "==== 은행계좌관리프로그램 ====\n",
      " == Bank Menu == \n",
      "[1. 계좌 개설]\n",
      "[2. 입금 처리]\n",
      "[3. 출금 처리]\n",
      "[4. 잔액 조회 - 계좌번호로 조회]\n",
      "[5. 작업 종료]\n",
      " ------------ \n",
      "메뉴 = 5\n",
      "프로그램을 종료합니다.\n"
     ]
    }
   ],
   "source": [
    "# 37\n",
    "class Account:\n",
    "    \n",
    "    def __init__(self, name, num, money):\n",
    "        self.name = name\n",
    "        self.num = num\n",
    "        self.money = money\n",
    "        self.check = 1\n",
    "        \n",
    "    def inMoney(self, money):\n",
    "        if self.check == 5:\n",
    "            self.money += self.money * 0.01\n",
    "            self.check = 0 # 다시 5회를 세기 위함\n",
    "        \n",
    "        self.money += money\n",
    "        self.check += 1\n",
    "        \n",
    "        \n",
    "    def outMoney(self, money):\n",
    "        if self.money - money < 0:\n",
    "            print('잔액이 부족합니다.')\n",
    "            print('잔액 :',self.money)\n",
    "        else:\n",
    "            self.money -= money\n",
    "    \n",
    "    def disp(self):\n",
    "        print('이름 :', self.name, end = '   ')\n",
    "        print('계좌번호 :',self.num, end = '   ')\n",
    "        print('잔액 :', self.money)\n",
    "\n",
    "def mainMenu():\n",
    "    print(' == Bank Menu == ')\n",
    "    print('[1. 계좌 개설]')\n",
    "    print('[2. 입금 처리]')\n",
    "    print('[3. 출금 처리]')\n",
    "    print('[4. 잔액 조회 - 계좌번호로 조회]')\n",
    "    print('[5. 작업 종료]')\n",
    "    print(' ------------ ')\n",
    "    menu = input('메뉴 = ')\n",
    "    return menu\n",
    "\n",
    "\n",
    "def addMember():\n",
    "    print('[계좌 개설]')\n",
    "    name = input('이름 : ')\n",
    "    num = input('계좌번호 : ')\n",
    "    print(num)\n",
    "    if checkID(num) != -1:\n",
    "        print('계좌번호가 존재합니다.')\n",
    "        return\n",
    "    \n",
    "    money = int(input('초기 금액 : ')) \n",
    "    \n",
    "    bankList.append(Account(name, num, money))\n",
    "\n",
    "def checkID(number):\n",
    "    for i in range(len(bankList)):\n",
    "        if bankList[i].num == number:\n",
    "            return i\n",
    "    return -1\n",
    "\n",
    "def diposit():\n",
    "    print('[입금 처리]')\n",
    "    num = input('계좌번호 입력 : ')\n",
    "    index = checkID(num)\n",
    "    if index == -1:\n",
    "        print('계좌번호가 존재하지 않습니다.')\n",
    "        return\n",
    "        \n",
    "    money = int(input('입금 금액 입력 : '))\n",
    "    bankList[index].inMoney(money)\n",
    "    bankList[index].disp()\n",
    "\n",
    "def withdraw():\n",
    "    print('[출금 처리]')\n",
    "    num = input('계좌번호 입력 : ')\n",
    "    index = checkID(num)\n",
    "    if index == -1:\n",
    "        print('계좌번호가 존재하지 않습니다.')\n",
    "        return\n",
    "        \n",
    "    money = int(input('출금 금액 입력 : '))\n",
    "    bankList[index].outMoney(money)\n",
    "\n",
    "def viewPrice():\n",
    "    print('[계좌 잔액 조회]')\n",
    "    num = input('계좌번호 입력 : ')\n",
    "    index = checkID(num)\n",
    "    if index == -1:\n",
    "        print('계좌번호가 존재하지 않습니다.')\n",
    "        return\n",
    "    bankList[index].disp()\n",
    "\n",
    "\n",
    "bankList = [Account('aaa','1234', 500), Account('bbb','2345', 200)] # 테스트용\n",
    "\n",
    "print('==== 은행계좌관리프로그램 ====')\n",
    "\n",
    "while True:\n",
    "    menu = mainMenu()\n",
    "    if menu == '1':\n",
    "        addMember()\n",
    "    elif menu == '2':\n",
    "        diposit()\n",
    "    elif menu == '3':\n",
    "        withdraw()\n",
    "    elif menu == '4':\n",
    "        viewPrice()\n",
    "    elif menu == '5':\n",
    "        break\n",
    "    else:\n",
    "        print('보기에 없는 번호입니다.')\n",
    "        \n",
    "print('프로그램을 종료합니다.')"
   ]
  },
  {
   "cell_type": "code",
   "execution_count": 4,
   "metadata": {},
   "outputs": [
    {
     "name": "stdout",
     "output_type": "stream",
     "text": [
      "잔액 100만원 이상 고객\n",
      "이름 : bbb   계좌번호 : 2345   잔액 : 1000000\n",
      "이름 : ccc   계좌번호 : 2345   잔액 : 2000000\n"
     ]
    }
   ],
   "source": [
    "# 38\n",
    "bankList = [Account('aaa','1234', 500), Account('bbb','2345', 1000000), Account('ccc','2345', 2000000)]\n",
    "\n",
    "def upper100members():\n",
    "    print('잔액 100만원 이상 고객')\n",
    "    for account in bankList:\n",
    "        if account.money >= 1000000:\n",
    "            account.disp()\n",
    "            \n",
    "upper100members()"
   ]
  },
  {
   "cell_type": "code",
   "execution_count": 6,
   "metadata": {},
   "outputs": [
    {
     "name": "stdout",
     "output_type": "stream",
     "text": [
      "분자 입력 : 2\n",
      "분모 입력 : 0\n",
      "분모에는 0을 입력할 수 없습니다.\n",
      "ErrorMessage : division by zero\n"
     ]
    }
   ],
   "source": [
    "su1 = input('분자 입력 : ')\n",
    "su2 = input('분모 입력 : ')\n",
    "    \n",
    "try:\n",
    "    result = int(su1) / int(su2)\n",
    "    print('{} / {} = {}'.format(su1, su2, result))\n",
    "except Exception as e:\n",
    "    print('분모에는 0을 입력할 수 없습니다.')\n",
    "    print('ErrorMessage :',e)"
   ]
  },
  {
   "cell_type": "code",
   "execution_count": 9,
   "metadata": {},
   "outputs": [],
   "source": [
    "with open(\"C:/Users/PC-03/Desktop/수강과목.txt\", \"w\") as f:\n",
    "    f.write(\"\"\"JAVA\n",
    "Python\n",
    "R\n",
    "C++\n",
    "Oracle\"\"\")"
   ]
  },
  {
   "cell_type": "code",
   "execution_count": null,
   "metadata": {},
   "outputs": [],
   "source": []
  }
 ],
 "metadata": {
  "kernelspec": {
   "display_name": "Python 3",
   "language": "python",
   "name": "python3"
  },
  "language_info": {
   "codemirror_mode": {
    "name": "ipython",
    "version": 3
   },
   "file_extension": ".py",
   "mimetype": "text/x-python",
   "name": "python",
   "nbconvert_exporter": "python",
   "pygments_lexer": "ipython3",
   "version": "3.7.3"
  }
 },
 "nbformat": 4,
 "nbformat_minor": 2
}
