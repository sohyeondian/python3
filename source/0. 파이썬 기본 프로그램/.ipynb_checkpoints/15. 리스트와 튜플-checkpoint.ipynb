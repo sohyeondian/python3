{
 "cells": [
  {
   "cell_type": "code",
   "execution_count": 1,
   "metadata": {},
   "outputs": [],
   "source": [
    "# list(리스트) : 여러 개의 데이터를 묶어 처리하는 순차적 자료형\n",
    "# 시퀀스 자료형(sequence) : 인덱스를 이용해서 접근 허용\n",
    "# 대괄호로 묶어준다 []\n",
    "# 각 요소마다 ,로 구분"
   ]
  },
  {
   "cell_type": "code",
   "execution_count": 2,
   "metadata": {},
   "outputs": [
    {
     "data": {
      "text/plain": [
       "[38, 21, 53, 62, 19]"
      ]
     },
     "execution_count": 2,
     "metadata": {},
     "output_type": "execute_result"
    }
   ],
   "source": [
    "a = [38, 21, 53, 62, 19]\n",
    "a"
   ]
  },
  {
   "cell_type": "code",
   "execution_count": null,
   "metadata": {},
   "outputs": [],
   "source": [
    "# [조건식], 인덱스값, 슬라이싱값(:)"
   ]
  },
  {
   "cell_type": "code",
   "execution_count": 3,
   "metadata": {},
   "outputs": [
    {
     "name": "stdout",
     "output_type": "stream",
     "text": [
      "10 20\n"
     ]
    }
   ],
   "source": [
    " x = input().split()"
   ]
  },
  {
   "cell_type": "code",
   "execution_count": null,
   "metadata": {},
   "outputs": [],
   "source": [
    "a, b = x\n",
    "print(a, b)"
   ]
  },
  {
   "cell_type": "markdown",
   "metadata": {},
   "source": [
    "- 가로크기가 저장된 리스트를 이용하여 2차원 리스트를 생성하시오\n",
    "- 리스트의 요소값는 모두 0으로 설정할것"
   ]
  },
  {
   "cell_type": "code",
   "execution_count": 22,
   "metadata": {},
   "outputs": [
    {
     "name": "stdout",
     "output_type": "stream",
     "text": [
      "[[0, 0, 0], [0], [0, 0, 0], [0, 0], [0, 0, 0, 0, 0]]\n"
     ]
    }
   ],
   "source": [
    "a = [3, 1, 3, 2, 5] # 가로크기를 저장한 리스트\n",
    "result = []\n",
    "for i in a:\n",
    "    item = []\n",
    "    for j in range(i):\n",
    "        item.append(0)\n",
    "    result.append(item)\n",
    "\n",
    "print(result)"
   ]
  },
  {
   "cell_type": "code",
   "execution_count": 17,
   "metadata": {},
   "outputs": [
    {
     "name": "stdout",
     "output_type": "stream",
     "text": [
      "[[0, 0, 0], [0], [0, 0, 0], [0, 0], [0, 0, 0, 0, 0]]\n"
     ]
    }
   ],
   "source": [
    "a = [3, 1, 3, 2, 5] # 가로크기를 저장한 리스트\n",
    "result = []\n",
    "\n",
    "for i in range(len(a)):\n",
    "    result.append([0] * a[i])\n",
    "    \n",
    "print(result)"
   ]
  },
  {
   "cell_type": "code",
   "execution_count": 18,
   "metadata": {},
   "outputs": [],
   "source": [
    "result = [[0] * i for i in a]"
   ]
  },
  {
   "cell_type": "code",
   "execution_count": 19,
   "metadata": {},
   "outputs": [
    {
     "name": "stdout",
     "output_type": "stream",
     "text": [
      "[[0, 0, 0], [0], [0, 0, 0], [0, 0], [0, 0, 0, 0, 0]]\n"
     ]
    }
   ],
   "source": [
    "print(result)"
   ]
  },
  {
   "cell_type": "code",
   "execution_count": 26,
   "metadata": {},
   "outputs": [
    {
     "name": "stdout",
     "output_type": "stream",
     "text": [
      "[['kim', 'A', 25], ['park', 'B', 7], ['lee', 'C', 19]]\n",
      "[['kim', 'A', 25], ['lee', 'C', 19], ['park', 'B', 7]]\n"
     ]
    }
   ],
   "source": [
    "# 2차원 리스트 정렬\n",
    "# sorted (반복가능한 객체, key = 정렬함수, reverse = True or False)\n",
    "\n",
    "students = [['lee', 'C', 19],\n",
    "            ['kim', 'A', 25],\n",
    "            ['park', 'B', 7]]\n",
    "\n",
    "print(sorted(students, key = lambda student:student[1]))\n",
    "print(sorted(students, key = lambda student:student[2], reverse=True))"
   ]
  },
  {
   "cell_type": "code",
   "execution_count": 27,
   "metadata": {},
   "outputs": [
    {
     "name": "stdout",
     "output_type": "stream",
     "text": [
      "[6, 7, 5, 10, 1]\n",
      "[1, 5, 6, 7, 10]\n",
      "[1, 10, 5, 7, 6]\n",
      "[10, 7, 6, 5, 1]\n"
     ]
    }
   ],
   "source": [
    "# reverse : 리스트를 거꾸로 뒤집는다.\n",
    "a = [1, 10, 5, 7, 6]\n",
    "a.reverse()\n",
    "print(a)\n",
    "\n",
    "\n",
    "# sort : 기본값 오름차순, reverse=True 내림차순\n",
    "a.sort()\n",
    "print(a)\n",
    "\n",
    "a = [1, 10, 5, 7, 6]\n",
    "print(a)\n",
    "a.sort(reverse=True)\n",
    "print(a)"
   ]
  },
  {
   "cell_type": "code",
   "execution_count": 28,
   "metadata": {},
   "outputs": [
    {
     "name": "stdout",
     "output_type": "stream",
     "text": [
      "['나는', '파이썬을', '잘하고', '싶다.']\n",
      "['나는', '잘하고', '싶다.', '파이썬을']\n"
     ]
    }
   ],
   "source": [
    "string = '나는 파이썬을 잘하고 싶다.'\n",
    "string = string.split()\n",
    "print(string)\n",
    "\n",
    "string.sort(key=len)\n",
    "print(string)"
   ]
  },
  {
   "cell_type": "code",
   "execution_count": 29,
   "metadata": {},
   "outputs": [
    {
     "name": "stdout",
     "output_type": "stream",
     "text": [
      "[1, 11, 2, 33]\n",
      "[1, 2, 11, 33]\n"
     ]
    }
   ],
   "source": [
    "# 정렬된 결과를 반환하는 함수는 원본이 변하지 않는다.\n",
    "# sorted : 순서대로 정렬, 정렬된 결과가 리스트로 반환\n",
    "\n",
    "x = [1, 11, 2, 33]\n",
    "y = sorted(x)\n",
    "\n",
    "print(x)\n",
    "print(y)"
   ]
  },
  {
   "cell_type": "code",
   "execution_count": null,
   "metadata": {},
   "outputs": [],
   "source": []
  }
 ],
 "metadata": {
  "kernelspec": {
   "display_name": "Python 3",
   "language": "python",
   "name": "python3"
  },
  "language_info": {
   "codemirror_mode": {
    "name": "ipython",
    "version": 3
   },
   "file_extension": ".py",
   "mimetype": "text/x-python",
   "name": "python",
   "nbconvert_exporter": "python",
   "pygments_lexer": "ipython3",
   "version": "3.7.3"
  }
 },
 "nbformat": 4,
 "nbformat_minor": 2
}
