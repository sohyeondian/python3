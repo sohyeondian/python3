{
 "cells": [
  {
   "cell_type": "markdown",
   "metadata": {},
   "source": [
    "#### 0. 들여쓰기와 제어문\n",
    "- 파이썬은 들여쓰기를 강제하여 코드의 가독성을 높인다.\n",
    "- 블록({}) 내부에 있는 문장들은 반드시 들여쓰기가 일치해야한다.\n",
    "- 블록의 시작은 콜론(:), 블록의 끝은 들여쓰기가 끝나는 부분이다."
   ]
  },
  {
   "cell_type": "markdown",
   "metadata": {},
   "source": [
    "#### 1. 조건문 or 선택문 or 비교판단문\n",
    "- 조건식을 가지고 있는 문장\n",
    "- 주어진 조건식이 참일때만 해당 문장을 수행한다.\n",
    "- if문 : 만약 ~라면\n",
    "- if 논리조건식:"
   ]
  },
  {
   "cell_type": "code",
   "execution_count": 1,
   "metadata": {},
   "outputs": [
    {
     "name": "stdout",
     "output_type": "stream",
     "text": [
      "숫자 입력 : -5\n",
      "프로그램을 종료합니다.\n"
     ]
    }
   ],
   "source": [
    "# 하나의 숫자를 입력받아 양수인지를 판단하는 문장\n",
    "# 해당 숫자가 양수라면 '양수'라는 문구가 출력\n",
    "\n",
    "num = int(input('숫자 입력 : '))\n",
    "\n",
    "if num > 0:\n",
    "    print(\"양수\")\n",
    "\n",
    "print(\"프로그램을 종료합니다.\")"
   ]
  },
  {
   "cell_type": "code",
   "execution_count": 2,
   "metadata": {},
   "outputs": [
    {
     "name": "stdout",
     "output_type": "stream",
     "text": [
      "숫자 입력 : 5\n",
      "양수입니다.\n",
      "프로그램을 종료합니다.\n"
     ]
    }
   ],
   "source": [
    "# 양수와 음수를 판정하는 프로그램\n",
    "num = int(input('숫자 입력 : '))\n",
    "if num > 0:\n",
    "    print(\"양수입니다.\")\n",
    "else:\n",
    "    print(\"음수입니다.\")\n",
    "print(\"프로그램을 종료합니다.\")"
   ]
  },
  {
   "cell_type": "code",
   "execution_count": 3,
   "metadata": {},
   "outputs": [
    {
     "name": "stdout",
     "output_type": "stream",
     "text": [
      "숫자 입력 : 0\n",
      "0\n"
     ]
    }
   ],
   "source": [
    "num = int(input('숫자 입력 : '))\n",
    "if num > 0:\n",
    "    print(\"양수\")\n",
    "elif num < 0:\n",
    "    print(\"음수\")\n",
    "else:\n",
    "    print(\"0\")"
   ]
  },
  {
   "cell_type": "code",
   "execution_count": 4,
   "metadata": {},
   "outputs": [
    {
     "name": "stdout",
     "output_type": "stream",
     "text": [
      "숫자 입력 : 3\n",
      "홀수\n"
     ]
    }
   ],
   "source": [
    "# 하나의 숫자를 입력받아 짝수인지 홀수인지 판단\n",
    "num = int(input('숫자 입력 : '))\n",
    "if num % 2 == 0:\n",
    "    print(\"짝수\")\n",
    "else:\n",
    "    print(\"홀수\")"
   ]
  },
  {
   "cell_type": "code",
   "execution_count": 1,
   "metadata": {},
   "outputs": [
    {
     "name": "stdout",
     "output_type": "stream",
     "text": [
      "True\n",
      "False\n"
     ]
    }
   ],
   "source": [
    "# bool 자료형 : True 와 False를 처리하는 자료형\n",
    "print(3 > 2)\n",
    "\n",
    "# 논리연산자 : 하나 이상의 대소관계를 묶어 연산\n",
    "# 논리값을 처리하기 위한 연산자\n",
    "# 논리값(and, or, not)\n",
    "# not - 논리부정\n",
    "print(not True)"
   ]
  },
  {
   "cell_type": "code",
   "execution_count": 2,
   "metadata": {
    "scrolled": true
   },
   "outputs": [
    {
     "data": {
      "text/plain": [
       "False"
      ]
     },
     "execution_count": 2,
     "metadata": {},
     "output_type": "execute_result"
    }
   ],
   "source": [
    "not -1"
   ]
  },
  {
   "cell_type": "code",
   "execution_count": 3,
   "metadata": {},
   "outputs": [
    {
     "data": {
      "text/plain": [
       "True"
      ]
     },
     "execution_count": 3,
     "metadata": {},
     "output_type": "execute_result"
    }
   ],
   "source": [
    "not None # None은 거짓(False)"
   ]
  },
  {
   "cell_type": "code",
   "execution_count": 4,
   "metadata": {},
   "outputs": [
    {
     "data": {
      "text/plain": [
       "False"
      ]
     },
     "execution_count": 4,
     "metadata": {},
     "output_type": "execute_result"
    }
   ],
   "source": [
    "#tuple, list, dic, 문자열을 만났을 때 not 연산자\n",
    "not 'ABC'"
   ]
  },
  {
   "cell_type": "code",
   "execution_count": 5,
   "metadata": {},
   "outputs": [
    {
     "data": {
      "text/plain": [
       "True"
      ]
     },
     "execution_count": 5,
     "metadata": {},
     "output_type": "execute_result"
    }
   ],
   "source": [
    "not '' #빈 문자열 False 간주"
   ]
  },
  {
   "cell_type": "code",
   "execution_count": 6,
   "metadata": {},
   "outputs": [
    {
     "data": {
      "text/plain": [
       "False"
      ]
     },
     "execution_count": 6,
     "metadata": {},
     "output_type": "execute_result"
    }
   ],
   "source": [
    "not (1, 2, 3) #tuple"
   ]
  },
  {
   "cell_type": "code",
   "execution_count": 8,
   "metadata": {},
   "outputs": [
    {
     "data": {
      "text/plain": [
       "True"
      ]
     },
     "execution_count": 8,
     "metadata": {},
     "output_type": "execute_result"
    }
   ],
   "source": [
    "not () # 비어있는 tuple은 False 간주"
   ]
  },
  {
   "cell_type": "code",
   "execution_count": 9,
   "metadata": {},
   "outputs": [
    {
     "data": {
      "text/plain": [
       "True"
      ]
     },
     "execution_count": 9,
     "metadata": {},
     "output_type": "execute_result"
    }
   ],
   "source": [
    "not [] # 비어있는 list = False"
   ]
  },
  {
   "cell_type": "code",
   "execution_count": 7,
   "metadata": {},
   "outputs": [
    {
     "data": {
      "text/plain": [
       "False"
      ]
     },
     "execution_count": 7,
     "metadata": {},
     "output_type": "execute_result"
    }
   ],
   "source": [
    "# 관계연산자 or 비교연산자\n",
    "# 연산자 : >, >=, <, <=, ==, !=\n",
    "# 10 > 2 and 100 < 10\n",
    "True and False"
   ]
  },
  {
   "cell_type": "markdown",
   "metadata": {},
   "source": [
    "#### 2. 반복문(for, while)\n",
    "- 동일하거나 유사한 성격을 가지고 있는 문장\n",
    "- 조건이 참일때 반복을 수행\n",
    "- 반복 횟수를 제어할 때 사용\n",
    "- 형식\n",
    "  for 개별변수 in 집합변수:\n",
    "  while 논리조건식:"
   ]
  },
  {
   "cell_type": "code",
   "execution_count": 5,
   "metadata": {},
   "outputs": [
    {
     "name": "stdout",
     "output_type": "stream",
     "text": [
      "1\n",
      "1\n",
      "1\n",
      "1\n",
      "1\n"
     ]
    }
   ],
   "source": [
    "for i in range(5):\n",
    "    print(1)"
   ]
  },
  {
   "cell_type": "code",
   "execution_count": 10,
   "metadata": {},
   "outputs": [
    {
     "name": "stdout",
     "output_type": "stream",
     "text": [
      "1\n",
      "2\n",
      "3\n",
      "4\n",
      "5\n"
     ]
    }
   ],
   "source": [
    "for i in range(1, 6):\n",
    "    print(i)"
   ]
  },
  {
   "cell_type": "code",
   "execution_count": 12,
   "metadata": {},
   "outputs": [
    {
     "name": "stdout",
     "output_type": "stream",
     "text": [
      "1\n",
      "2\n",
      "3\n",
      "4\n",
      "5\n"
     ]
    }
   ],
   "source": [
    "i = 1\n",
    "while i < 6:\n",
    "    print(i)\n",
    "    i += 1"
   ]
  },
  {
   "cell_type": "code",
   "execution_count": 13,
   "metadata": {},
   "outputs": [
    {
     "name": "stdout",
     "output_type": "stream",
     "text": [
      "1\n",
      "2\n",
      "3\n",
      "4\n",
      "5\n"
     ]
    }
   ],
   "source": [
    "i = 1\n",
    "while True:\n",
    "    print(i)\n",
    "    i = i + 1\n",
    "    if i == 6:\n",
    "        break"
   ]
  },
  {
   "cell_type": "code",
   "execution_count": 15,
   "metadata": {},
   "outputs": [
    {
     "name": "stdout",
     "output_type": "stream",
     "text": [
      "색상 입력(red or blue) : red\n",
      "기다리세요\n"
     ]
    }
   ],
   "source": [
    "color = input(\"색상 입력(red or blue) : \")\n",
    "\n",
    "if color == \"blue\":\n",
    "    print(\"건너가세요.\")\n",
    "elif color == \"red\":\n",
    "    print(\"기다리세요.\")\n",
    "else:\n",
    "    print(\"잘못입력하셨습니다.\")"
   ]
  },
  {
   "cell_type": "code",
   "execution_count": null,
   "metadata": {},
   "outputs": [],
   "source": [
    "# for 개별변수 in 집합변수:\n",
    "# 집합변수(collections) : list, tuple, set, dictionary\n",
    "for i in [1, 2, 3, 4, 5]:\n",
    "    print(i)"
   ]
  },
  {
   "cell_type": "code",
   "execution_count": 16,
   "metadata": {},
   "outputs": [
    {
     "name": "stdout",
     "output_type": "stream",
     "text": [
      "1 2 3 4 5 "
     ]
    }
   ],
   "source": [
    "numbers = [1, 2, 3, 4, 5]\n",
    "for i in numbers:\n",
    "    print(i, end = ' ')"
   ]
  },
  {
   "cell_type": "code",
   "execution_count": 19,
   "metadata": {},
   "outputs": [
    {
     "name": "stdout",
     "output_type": "stream",
     "text": [
      "range(0, 10)\n",
      "[0, 1, 2, 3, 4, 5, 6, 7, 8, 9]\n",
      "[1, 2, 3, 4, 5, 6, 7, 8, 9, 10]\n",
      "[1, 3, 5, 7, 9]\n"
     ]
    }
   ],
   "source": [
    "a = range(10)\n",
    "print(a)\n",
    "a = list(range(10))\n",
    "print(a)\n",
    "b = list(range(1, 11)) # range(start,end), end-1\n",
    "print(b) # 결과: [1, 2, 3, 4, 5, 6, 7, 8, 9, 10]\n",
    "c = list(range(1, 11, 2))\n",
    "print(c)"
   ]
  },
  {
   "cell_type": "code",
   "execution_count": 21,
   "metadata": {},
   "outputs": [
    {
     "name": "stdout",
     "output_type": "stream",
     "text": [
      "55\n"
     ]
    }
   ],
   "source": [
    "sum = 0\n",
    "for i in range(1,11):\n",
    "    sum += i\n",
    "print(sum)"
   ]
  },
  {
   "cell_type": "code",
   "execution_count": 23,
   "metadata": {},
   "outputs": [
    {
     "name": "stdout",
     "output_type": "stream",
     "text": [
      "숫자를 입력하세요: 100\n",
      "5050\n"
     ]
    }
   ],
   "source": [
    "num = int(input('숫자를 입력하세요: '))\n",
    "result = 0\n",
    "for i in range(1, num + 1):\n",
    "    result += i\n",
    "print(result)"
   ]
  },
  {
   "cell_type": "code",
   "execution_count": 26,
   "metadata": {},
   "outputs": [
    {
     "name": "stdout",
     "output_type": "stream",
     "text": [
      "=====2단=====\n",
      "2 x 1 =   2\n",
      "2 x 2 =   4\n",
      "2 x 3 =   6\n",
      "2 x 4 =   8\n",
      "2 x 5 =  10\n",
      "2 x 6 =  12\n",
      "2 x 7 =  14\n",
      "2 x 8 =  16\n",
      "2 x 9 =  18\n",
      "\n",
      "=====3단=====\n",
      "3 x 1 =   3\n",
      "3 x 2 =   6\n",
      "3 x 3 =   9\n",
      "3 x 4 =  12\n",
      "3 x 5 =  15\n",
      "3 x 6 =  18\n",
      "3 x 7 =  21\n",
      "3 x 8 =  24\n",
      "3 x 9 =  27\n",
      "\n",
      "=====4단=====\n",
      "4 x 1 =   4\n",
      "4 x 2 =   8\n",
      "4 x 3 =  12\n",
      "4 x 4 =  16\n",
      "4 x 5 =  20\n",
      "4 x 6 =  24\n",
      "4 x 7 =  28\n",
      "4 x 8 =  32\n",
      "4 x 9 =  36\n",
      "\n",
      "=====5단=====\n",
      "5 x 1 =   5\n",
      "5 x 2 =  10\n",
      "5 x 3 =  15\n",
      "5 x 4 =  20\n",
      "5 x 5 =  25\n",
      "5 x 6 =  30\n",
      "5 x 7 =  35\n",
      "5 x 8 =  40\n",
      "5 x 9 =  45\n",
      "\n",
      "=====6단=====\n",
      "6 x 1 =   6\n",
      "6 x 2 =  12\n",
      "6 x 3 =  18\n",
      "6 x 4 =  24\n",
      "6 x 5 =  30\n",
      "6 x 6 =  36\n",
      "6 x 7 =  42\n",
      "6 x 8 =  48\n",
      "6 x 9 =  54\n",
      "\n",
      "=====7단=====\n",
      "7 x 1 =   7\n",
      "7 x 2 =  14\n",
      "7 x 3 =  21\n",
      "7 x 4 =  28\n",
      "7 x 5 =  35\n",
      "7 x 6 =  42\n",
      "7 x 7 =  49\n",
      "7 x 8 =  56\n",
      "7 x 9 =  63\n",
      "\n",
      "=====8단=====\n",
      "8 x 1 =   8\n",
      "8 x 2 =  16\n",
      "8 x 3 =  24\n",
      "8 x 4 =  32\n",
      "8 x 5 =  40\n",
      "8 x 6 =  48\n",
      "8 x 7 =  56\n",
      "8 x 8 =  64\n",
      "8 x 9 =  72\n",
      "\n",
      "=====9단=====\n",
      "9 x 1 =   9\n",
      "9 x 2 =  18\n",
      "9 x 3 =  27\n",
      "9 x 4 =  36\n",
      "9 x 5 =  45\n",
      "9 x 6 =  54\n",
      "9 x 7 =  63\n",
      "9 x 8 =  72\n",
      "9 x 9 =  81\n",
      "\n"
     ]
    }
   ],
   "source": [
    "# 구구단 출력 : 단(2 ~ 9) * 자연수(1 ~ 9)\n",
    "for x in range(2, 10):\n",
    "    print(f\"====={x}단=====\")\n",
    "    for y in range(1, 10):\n",
    "        print(f\"{x} x {y} = {x * y:3d}\")\n",
    "    print() # 개행의 의미"
   ]
  },
  {
   "cell_type": "code",
   "execution_count": 29,
   "metadata": {},
   "outputs": [
    {
     "name": "stdout",
     "output_type": "stream",
     "text": [
      "1\n",
      "2\n",
      "3\n",
      "\n",
      "(1, 2) 1 2\n",
      "(3, 4) 3 4\n",
      "(5, 6) 5 6\n",
      "\n",
      "1 + 2 = 3\n",
      "3 + 4 = 7\n",
      "5 + 6 = 11\n"
     ]
    }
   ],
   "source": [
    "a = [(1, 2), (3, 4), (5, 6)]\n",
    "b = [1, 2, 3]\n",
    "\n",
    "for i in b:\n",
    "    print(i)\n",
    "    \n",
    "print()\n",
    "\n",
    "for aa in a:\n",
    "    a1 = aa[0]\n",
    "    a2 = aa[1]\n",
    "    print(aa, a1, a2)\n",
    "\n",
    "print()\n",
    "\n",
    "for first, second in a:\n",
    "    print(f\"{first} + {second} = {first + second}\")"
   ]
  },
  {
   "cell_type": "code",
   "execution_count": 31,
   "metadata": {},
   "outputs": [
    {
     "name": "stdout",
     "output_type": "stream",
     "text": [
      "1번 학생: 90점, 합격입니다.\n",
      "2번 학생: 25점, 불합격입니다.\n",
      "3번 학생: 67점, 합격입니다.\n",
      "4번 학생: 45점, 불합격입니다.\n",
      "5번 학생: 80점, 합격입니다.\n"
     ]
    }
   ],
   "source": [
    "# 5명의 점수\n",
    "points = [90, 25, 67, 45, 80]\n",
    "\n",
    "#각 학생의 점수를 이용하여 합격을 판정하는 작업\n",
    "#점수가 60점 이상이면 \"합격\", 그렇지 않으면 \"불합격\"\n",
    "number = 0\n",
    "for point in points:\n",
    "    number += 1\n",
    "    result = ''\n",
    "    if point >= 60:\n",
    "        result = \"합격\"\n",
    "    else:\n",
    "        result = \"불합격\"\n",
    "    print(\"%d번 학생: %d점, %s입니다.\" %(number, point, result))"
   ]
  },
  {
   "cell_type": "code",
   "execution_count": 33,
   "metadata": {},
   "outputs": [
    {
     "name": "stdout",
     "output_type": "stream",
     "text": [
      "숫자 입력(0이면 작업종료): 1\n",
      "숫자 입력(0이면 작업종료): 2\n",
      "숫자 입력(0이면 작업종료): 3\n",
      "숫자 입력(0이면 작업종료): 0\n",
      "총 합: 6\n",
      "프로그램을 종료합니다.\n"
     ]
    }
   ],
   "source": [
    "# 숫자를 입력받아 누적 합을 계산하는 프로그램\n",
    "# 단, 입력받는 수가 0이면 프로그램을 종료합니다.\n",
    "\n",
    "#누적변수는 초기화를 주고 시작한다.\n",
    "tot = 0\n",
    "while True: #무한Loop(사용자에 의해 반복을 제어)\n",
    "    number = int(input(\"숫자 입력(0이면 작업종료): \"))\n",
    "    if number == 0:\n",
    "        print(\"총 합: {}\".format(tot))\n",
    "        print(\"프로그램을 종료합니다.\")\n",
    "        break\n",
    "    tot += number\n"
   ]
  },
  {
   "cell_type": "code",
   "execution_count": 49,
   "metadata": {},
   "outputs": [
    {
     "name": "stdout",
     "output_type": "stream",
     "text": [
      "투입 금액 : 10000\n",
      "금액이 부족합니다.\n",
      "\n",
      "커피를 드립니다.\n",
      "남은 커피 7잔, 잔액 1000원 입니다.\n"
     ]
    }
   ],
   "source": [
    "coffee = 10\n",
    "money = int(input('투입 금액 : '))\n",
    "\n",
    "count = 0\n",
    "price = 0\n",
    "\n",
    "while True:\n",
    "    if count + 1 > coffee:\n",
    "        print('커피가 부족합니다.\\n')\n",
    "        break\n",
    "    if price + 3000 > money: \n",
    "        print('금액이 부족합니다.\\n')\n",
    "        break\n",
    "    count += 1\n",
    "    price += 3000\n",
    "\n",
    "print('커피를 드립니다.')\n",
    "print(f'남은 커피 {coffee - count}잔, 잔액 {money - price}원 입니다.')"
   ]
  },
  {
   "cell_type": "code",
   "execution_count": 53,
   "metadata": {},
   "outputs": [
    {
     "name": "stdout",
     "output_type": "stream",
     "text": [
      "2\n",
      "4\n",
      "6\n",
      "8\n",
      "10\n"
     ]
    }
   ],
   "source": [
    "# 기타 제어문 : break와 continue\n",
    "\n",
    "a = 0\n",
    "\n",
    "while a < 10:\n",
    "    a += 1\n",
    "    if a % 2 != 0:\n",
    "        continue #skip\n",
    "    print(a)"
   ]
  },
  {
   "cell_type": "code",
   "execution_count": 3,
   "metadata": {},
   "outputs": [
    {
     "name": "stdout",
     "output_type": "stream",
     "text": [
      "연도 입력(0 입력시 종료) : 2000\n",
      "2000년도는 윤년입니다.\n",
      "연도 입력(0 입력시 종료) : 1900\n",
      "1900년도는 평년입니다.\n",
      "연도 입력(0 입력시 종료) : 0\n",
      "프로그램을 종료합니다\n"
     ]
    }
   ],
   "source": [
    "while True:\n",
    "    year = int(input('연도 입력(0 입력시 종료) : '))\n",
    "    if year == 0: \n",
    "        print('프로그램을 종료합니다.')\n",
    "        break\n",
    "    \n",
    "    if (year % 4 == 0) and (year % 100 != 0) or (year % 400 == 0):\n",
    "        print(f\"{year}년도는 윤년입니다.\")\n",
    "    else:\n",
    "        print(f'{year}년도는 평년입니다.')"
   ]
  },
  {
   "cell_type": "code",
   "execution_count": null,
   "metadata": {},
   "outputs": [],
   "source": [
    "# pass, 추후에 기술하는 영역으로 설정할 때 사용한다.\n",
    "score = 65\n",
    "result = '불합격'\n",
    "\n",
    "if score >= 60:\n",
    "    pass\n",
    "\n",
    "print('결과: ' + result)"
   ]
  }
 ],
 "metadata": {
  "kernelspec": {
   "display_name": "Python 3",
   "language": "python",
   "name": "python3"
  },
  "language_info": {
   "codemirror_mode": {
    "name": "ipython",
    "version": 3
   },
   "file_extension": ".py",
   "mimetype": "text/x-python",
   "name": "python",
   "nbconvert_exporter": "python",
   "pygments_lexer": "ipython3",
   "version": "3.7.3"
  }
 },
 "nbformat": 4,
 "nbformat_minor": 2
}
