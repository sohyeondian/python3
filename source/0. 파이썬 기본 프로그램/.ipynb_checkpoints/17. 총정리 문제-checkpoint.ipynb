{
 "cells": [
  {
   "cell_type": "markdown",
   "metadata": {},
   "source": [
    "#### 0. 표준입출력함수(print, input)"
   ]
  },
  {
   "cell_type": "code",
   "execution_count": 1,
   "metadata": {},
   "outputs": [
    {
     "name": "stdout",
     "output_type": "stream",
     "text": [
      "Hello, Python\n",
      "Helly, Python\n"
     ]
    }
   ],
   "source": [
    "# 화면에 'Hello, Python'이라는 문자열을 출력하시오.\n",
    "print(\"Hello, Python\")\n",
    "print('Helly, Python')"
   ]
  },
  {
   "cell_type": "code",
   "execution_count": 2,
   "metadata": {},
   "outputs": [
    {
     "name": "stdout",
     "output_type": "stream",
     "text": [
      "Mary's cosmetics\n"
     ]
    }
   ],
   "source": [
    "# 화면에 \"Mary's cosmetics\"라는 문자열을 출력하시오.\n",
    "print(\"Mary's cosmetics\")"
   ]
  },
  {
   "cell_type": "code",
   "execution_count": 3,
   "metadata": {},
   "outputs": [
    {
     "name": "stdout",
     "output_type": "stream",
     "text": [
      "신씨가 소리를 질렀다. \"도둑이야!\"\n"
     ]
    }
   ],
   "source": [
    "# '신씨가 소리를 질렀다. \"도둑이야!\"' 를 화면에 출력하시오\n",
    "print('신씨가 소리를 질렀다. \"도둑이야!\"')"
   ]
  },
  {
   "cell_type": "code",
   "execution_count": 6,
   "metadata": {},
   "outputs": [
    {
     "name": "stdout",
     "output_type": "stream",
     "text": [
      "c:\\windows\n"
     ]
    }
   ],
   "source": [
    "# \"c:\\windows\"를 화면에 출력하시오.\n",
    "print(\"c:\\windows\")"
   ]
  },
  {
   "cell_type": "code",
   "execution_count": 7,
   "metadata": {},
   "outputs": [
    {
     "name": "stdout",
     "output_type": "stream",
     "text": [
      "안녕하세요\n",
      "만나서\t반갑습니다.\n"
     ]
    }
   ],
   "source": [
    "# 제어문자 , \\n \\t\n",
    "\n",
    "print('안녕하세요\\n만나서\\t반갑습니다.')"
   ]
  },
  {
   "cell_type": "code",
   "execution_count": 8,
   "metadata": {},
   "outputs": [
    {
     "name": "stdout",
     "output_type": "stream",
     "text": [
      "오늘은 월요일 비온대\n"
     ]
    }
   ],
   "source": [
    "# 열거 연산자 ,(쉼표)\n",
    "print('오늘은','월요일','비온대')"
   ]
  },
  {
   "cell_type": "code",
   "execution_count": 9,
   "metadata": {},
   "outputs": [
    {
     "name": "stdout",
     "output_type": "stream",
     "text": [
      "naver:kakao:samsung\n"
     ]
    }
   ],
   "source": [
    "# sep : 구분자\n",
    "print('naver','kakao','samsung', sep = ':')"
   ]
  },
  {
   "cell_type": "code",
   "execution_count": 10,
   "metadata": {},
   "outputs": [
    {
     "name": "stdout",
     "output_type": "stream",
     "text": [
      "naver/kakao/samsung\n"
     ]
    }
   ],
   "source": [
    "print('naver','kakao','samsung', sep = '/')"
   ]
  },
  {
   "cell_type": "code",
   "execution_count": 11,
   "metadata": {},
   "outputs": [
    {
     "name": "stdout",
     "output_type": "stream",
     "text": [
      "first\n",
      "second\n"
     ]
    }
   ],
   "source": [
    "# 종결문자(;)\n",
    "print('first');print('second')"
   ]
  },
  {
   "cell_type": "code",
   "execution_count": 12,
   "metadata": {},
   "outputs": [
    {
     "name": "stdout",
     "output_type": "stream",
     "text": [
      "first second\n"
     ]
    }
   ],
   "source": [
    "print('first', end = \" \");print('second')"
   ]
  },
  {
   "cell_type": "code",
   "execution_count": 13,
   "metadata": {},
   "outputs": [
    {
     "name": "stdout",
     "output_type": "stream",
     "text": [
      "1.6666666666666667\n"
     ]
    }
   ],
   "source": [
    "print(5/3)"
   ]
  },
  {
   "cell_type": "markdown",
   "metadata": {},
   "source": [
    "#### 1. 할당, 대입연산자(*), 변수에 값을 대입하는 작업 => 바인딩"
   ]
  },
  {
   "cell_type": "code",
   "execution_count": 14,
   "metadata": {},
   "outputs": [
    {
     "name": "stdout",
     "output_type": "stream",
     "text": [
      "500000\n"
     ]
    }
   ],
   "source": [
    "# 삼성전자라는 변수에 50000원을 바인딩한 후 주식 10주를 보유하고 있을 때\n",
    "# 총평가금액을 출력하시오\n",
    "삼성전자 = 50000\n",
    "총평가금액 = 삼성전자 * 10\n",
    "print(총평가금액)"
   ]
  },
  {
   "cell_type": "code",
   "execution_count": 15,
   "metadata": {},
   "outputs": [
    {
     "name": "stdout",
     "output_type": "stream",
     "text": [
      "<class 'int'>\n"
     ]
    }
   ],
   "source": [
    "# type() 자료형을 확인하는 함수\n",
    "a = 123\n",
    "print(type(a))"
   ]
  },
  {
   "cell_type": "code",
   "execution_count": 16,
   "metadata": {},
   "outputs": [
    {
     "name": "stdout",
     "output_type": "stream",
     "text": [
      "2018\n",
      "2019\n",
      "2020\n"
     ]
    }
   ],
   "source": [
    "# 문자열을 정수로 변환 : int()\n",
    "# 정수를 문자열로 변환 : str()\n",
    "# 문자열을 실수로 변환 : float()\n",
    "# year라는 변수에 현재 년도를 문자열로 바인딩 하고 정수로 변환한 후\n",
    "# 최근 3년의 연도를 화면에 출력하시오\n",
    "\n",
    "year = '2021'\n",
    "print(int(year) - 3)\n",
    "print(int(year) - 2)\n",
    "print(int(year) - 1)"
   ]
  },
  {
   "cell_type": "code",
   "execution_count": 18,
   "metadata": {},
   "outputs": [
    {
     "name": "stdout",
     "output_type": "stream",
     "text": [
      "1749024\n"
     ]
    }
   ],
   "source": [
    "# 에어컨이 월 48,584원 무이자 36개월의 조건으로 홈쇼핑에서 판매\n",
    "# 총 금액을 계산하는 프로그램 구현\n",
    "\n",
    "month = 48584\n",
    "total = month * 36\n",
    "print(total)"
   ]
  },
  {
   "cell_type": "markdown",
   "metadata": {},
   "source": [
    "#### 2. 문자열"
   ]
  },
  {
   "cell_type": "code",
   "execution_count": 19,
   "metadata": {},
   "outputs": [
    {
     "name": "stdout",
     "output_type": "stream",
     "text": [
      "p y\n"
     ]
    }
   ],
   "source": [
    "# 문자열 인덱싱(Indexing) : Index is started from 0 [number]\n",
    "letters = 'python'\n",
    "print(letters[0], letters[1])"
   ]
  },
  {
   "cell_type": "code",
   "execution_count": 20,
   "metadata": {},
   "outputs": [
    {
     "name": "stdout",
     "output_type": "stream",
     "text": [
      "1234\n"
     ]
    }
   ],
   "source": [
    "# Slicing str : [start:end]\n",
    "car_num = '24가 1234'\n",
    "print(car_num[-4:])\n"
   ]
  },
  {
   "cell_type": "code",
   "execution_count": 21,
   "metadata": {},
   "outputs": [
    {
     "name": "stdout",
     "output_type": "stream",
     "text": [
      "홀홀홀\n"
     ]
    }
   ],
   "source": [
    "# '홀짝홀짝홀짝' 문자열을 변수에 바인딩 한 후 '홀'만 출력하는 프로그램\n",
    "# 슬라이싱 [start:end:offset]\n",
    "string = '홀짝홀짝홀짝'\n",
    "print(string[::2])\n"
   ]
  },
  {
   "cell_type": "code",
   "execution_count": 22,
   "metadata": {},
   "outputs": [
    {
     "name": "stdout",
     "output_type": "stream",
     "text": [
      "nohtyp\n"
     ]
    }
   ],
   "source": [
    "# 문자열을 거꾸로 뒤집어 출력\n",
    "string = 'python'\n",
    "print(string[::-1])"
   ]
  },
  {
   "cell_type": "code",
   "execution_count": 24,
   "metadata": {},
   "outputs": [
    {
     "name": "stdout",
     "output_type": "stream",
     "text": [
      "010 1234 5678\n"
     ]
    }
   ],
   "source": [
    "# 문자열 치환\n",
    "phone_number = '010-1234-5678'\n",
    "phone_number = phone_number.replace(\"-\", \" \")\n",
    "print(phone_number)"
   ]
  },
  {
   "cell_type": "code",
   "execution_count": 25,
   "metadata": {},
   "outputs": [
    {
     "name": "stdout",
     "output_type": "stream",
     "text": [
      "01012345678\n"
     ]
    }
   ],
   "source": [
    "phone_number = phone_number.replace(\" \", \"\")\n",
    "print(phone_number)"
   ]
  },
  {
   "cell_type": "code",
   "execution_count": 27,
   "metadata": {},
   "outputs": [
    {
     "name": "stdout",
     "output_type": "stream",
     "text": [
      "com\n"
     ]
    }
   ],
   "source": [
    "# 웹사이트의 URL에서 도메인만 출력하는 프로그램\n",
    "# 도메인 : com, net, org, kr\n",
    "url = 'http://www.naver.com'\n",
    "print(url.split('.')[-1])"
   ]
  },
  {
   "cell_type": "code",
   "execution_count": 28,
   "metadata": {},
   "outputs": [
    {
     "ename": "TypeError",
     "evalue": "'str' object does not support item assignment",
     "output_type": "error",
     "traceback": [
      "\u001b[1;31m---------------------------------------------------------------------------\u001b[0m",
      "\u001b[1;31mTypeError\u001b[0m                                 Traceback (most recent call last)",
      "\u001b[1;32m<ipython-input-28-41d99ca37fad>\u001b[0m in \u001b[0;36m<module>\u001b[1;34m\u001b[0m\n\u001b[0;32m      1\u001b[0m \u001b[0mlang\u001b[0m \u001b[1;33m=\u001b[0m \u001b[1;34m'python'\u001b[0m\u001b[1;33m\u001b[0m\u001b[1;33m\u001b[0m\u001b[0m\n\u001b[1;32m----> 2\u001b[1;33m \u001b[0mlang\u001b[0m\u001b[1;33m[\u001b[0m\u001b[1;36m0\u001b[0m\u001b[1;33m]\u001b[0m \u001b[1;33m=\u001b[0m \u001b[1;34m'P'\u001b[0m\u001b[1;33m\u001b[0m\u001b[1;33m\u001b[0m\u001b[0m\n\u001b[0m\u001b[0;32m      3\u001b[0m \u001b[0mprint\u001b[0m\u001b[1;33m(\u001b[0m\u001b[0mlang\u001b[0m\u001b[1;33m)\u001b[0m \u001b[1;31m# 문자열 수정 불가\u001b[0m\u001b[1;33m\u001b[0m\u001b[1;33m\u001b[0m\u001b[0m\n",
      "\u001b[1;31mTypeError\u001b[0m: 'str' object does not support item assignment"
     ]
    }
   ],
   "source": [
    "lang = 'python'\n",
    "lang[0] = 'P'\n",
    "print(lang) # 문자열 수정 불가"
   ]
  },
  {
   "cell_type": "code",
   "execution_count": 30,
   "metadata": {},
   "outputs": [
    {
     "name": "stdout",
     "output_type": "stream",
     "text": [
      "Abcdefdjifhwuei4d2341Af\n",
      "abcdefdjifhwuei4d2341af\n"
     ]
    }
   ],
   "source": [
    "# replace() : 치환\n",
    "\n",
    "string = 'abcdefdjifhwuei4d2341af'\n",
    "\n",
    "# 소문자 'a'를 대문자 'A'\n",
    "print(string.replace('a', 'A'))"
   ]
  },
  {
   "cell_type": "code",
   "execution_count": 31,
   "metadata": {},
   "outputs": [
    {
     "name": "stdout",
     "output_type": "stream",
     "text": [
      "abcd\n"
     ]
    }
   ],
   "source": [
    "string = 'abcd'\n",
    "string.replace('b', 'B')\n",
    "print(string)"
   ]
  },
  {
   "cell_type": "code",
   "execution_count": 33,
   "metadata": {},
   "outputs": [
    {
     "name": "stdout",
     "output_type": "stream",
     "text": [
      "   삼성전자 LG  \n",
      "삼성전자 LG\n"
     ]
    }
   ],
   "source": [
    "# 좌우 공백을 제거하는 메서드 strip\n",
    "data = '   삼성전자 LG  '\n",
    "print(data)\n",
    "print(data.strip())"
   ]
  },
  {
   "cell_type": "code",
   "execution_count": 34,
   "metadata": {},
   "outputs": [
    {
     "name": "stdout",
     "output_type": "stream",
     "text": [
      "BTC_KRW\n",
      "btc_krw\n"
     ]
    }
   ],
   "source": [
    "# upper, lower, capitalize\n",
    "ticker = 'btc_krw'\n",
    "ticker1 = ticker.upper()\n",
    "print(ticker1)\n",
    "ticker2 = ticker1.lower()\n",
    "print(ticker2)"
   ]
  },
  {
   "cell_type": "code",
   "execution_count": 35,
   "metadata": {},
   "outputs": [
    {
     "name": "stdout",
     "output_type": "stream",
     "text": [
      "Hello\n"
     ]
    }
   ],
   "source": [
    "a = 'hello'\n",
    "print(a.capitalize())"
   ]
  },
  {
   "cell_type": "code",
   "execution_count": 37,
   "metadata": {},
   "outputs": [
    {
     "data": {
      "text/plain": [
       "True"
      ]
     },
     "execution_count": 37,
     "metadata": {},
     "output_type": "execute_result"
    }
   ],
   "source": [
    "# endswith\n",
    "file_name = '보고서.xlsx'\n",
    "file_name.endswith('xlsx' or 'xls')"
   ]
  },
  {
   "cell_type": "code",
   "execution_count": 39,
   "metadata": {},
   "outputs": [
    {
     "data": {
      "text/plain": [
       "True"
      ]
     },
     "execution_count": 39,
     "metadata": {},
     "output_type": "execute_result"
    }
   ],
   "source": [
    "# startswith\n",
    "file_name = '2021_보고서.xlsx'\n",
    "file_name.startswith('2021')"
   ]
  },
  {
   "cell_type": "code",
   "execution_count": 40,
   "metadata": {},
   "outputs": [
    {
     "data": {
      "text/plain": [
       "['2021', '04', '12']"
      ]
     },
     "execution_count": 40,
     "metadata": {},
     "output_type": "execute_result"
    }
   ],
   "source": [
    "date = '2021-04-12'\n",
    "date.split('-')"
   ]
  },
  {
   "cell_type": "code",
   "execution_count": 41,
   "metadata": {},
   "outputs": [],
   "source": [
    "# 시퀀스 자료형, 인덱스, 순서가 있고 ..."
   ]
  },
  {
   "cell_type": "code",
   "execution_count": 42,
   "metadata": {},
   "outputs": [
    {
     "name": "stdout",
     "output_type": "stream",
     "text": [
      "<class 'tuple'>\n"
     ]
    }
   ],
   "source": [
    "mydata = ()\n",
    "print(type(mydata))"
   ]
  },
  {
   "cell_type": "code",
   "execution_count": 43,
   "metadata": {},
   "outputs": [
    {
     "name": "stdout",
     "output_type": "stream",
     "text": [
      "[8.8, 8.9, 8.7, 9.2, 9.3, 9.7, 9.9]\n"
     ]
    }
   ],
   "source": [
    "scores = [8.8, 8.9, 8.7, 9.2, 9.3, 9.7, 9.9, 7.8, 9.4]\n",
    "# 좌측 8개의 값은 val 변수로 바인딩하여 출력하는 프로그램\n",
    "# 무시 : _\n",
    "*val, _, _ = scores\n",
    "print(val)"
   ]
  },
  {
   "cell_type": "code",
   "execution_count": 45,
   "metadata": {},
   "outputs": [
    {
     "name": "stdout",
     "output_type": "stream",
     "text": [
      "Hi\n",
      "Hi\n",
      "Hi\n",
      "Hi\n",
      "Hi\n"
     ]
    }
   ],
   "source": [
    "for _ in range(5):\n",
    "    print('Hi')"
   ]
  },
  {
   "cell_type": "code",
   "execution_count": 46,
   "metadata": {},
   "outputs": [
    {
     "name": "stdout",
     "output_type": "stream",
     "text": [
      "{'메로나': [300, 20], '비비빅': [400, 3], '죠스바': [250, 10]}\n"
     ]
    }
   ],
   "source": [
    "products = {'메로나':[300, 20], '비비빅' : [400, 3], '죠스바':[250, 10]}\n",
    "\n",
    "print(products)"
   ]
  },
  {
   "cell_type": "code",
   "execution_count": 47,
   "metadata": {},
   "outputs": [
    {
     "name": "stdout",
     "output_type": "stream",
     "text": [
      "300\n"
     ]
    }
   ],
   "source": [
    "# 메로나 가격 추출\n",
    "print(products['메로나'][0])"
   ]
  },
  {
   "cell_type": "code",
   "execution_count": 48,
   "metadata": {},
   "outputs": [],
   "source": [
    "# keys()\n",
    "product = products.keys()\n",
    "\n",
    "# values()\n",
    "product = products.values()"
   ]
  },
  {
   "cell_type": "code",
   "execution_count": 49,
   "metadata": {},
   "outputs": [
    {
     "name": "stdout",
     "output_type": "stream",
     "text": [
      "5700\n"
     ]
    }
   ],
   "source": [
    "# 등록된 아이스트림 가격의 총합\n",
    "icecream = {'탱크보이':1200, '폴라포':1200, '빵빠레':1800, '월드콘':1500}\n",
    "print(sum(icecream.values()))"
   ]
  },
  {
   "cell_type": "code",
   "execution_count": 50,
   "metadata": {},
   "outputs": [
    {
     "name": "stdout",
     "output_type": "stream",
     "text": [
      "{'apple': 300, 'pear': 250, 'peach': 40}\n"
     ]
    }
   ],
   "source": [
    "# zip\n",
    "keys = ('apple', 'pear', 'peach')\n",
    "vals = (300, 250, 40)\n",
    "result = dict(zip(keys, vals))\n",
    "print(result)"
   ]
  },
  {
   "cell_type": "code",
   "execution_count": 51,
   "metadata": {},
   "outputs": [
    {
     "name": "stdout",
     "output_type": "stream",
     "text": [
      "intro.h\n",
      "define.h\n",
      "run.py\n",
      "demo.h\n"
     ]
    }
   ],
   "source": [
    "file2 = ['intro.h', 'test.c', 'define.h', 'run.py', 'demo.h']\n",
    "\n",
    "for i in file2:\n",
    "    split = i.split(\".\")\n",
    "    if split[1] == 'h' or split[1] == 'py':\n",
    "        print(i)"
   ]
  },
  {
   "cell_type": "markdown",
   "metadata": {},
   "source": [
    "#### 7. 함수(Fuction)"
   ]
  },
  {
   "cell_type": "code",
   "execution_count": 52,
   "metadata": {},
   "outputs": [],
   "source": [
    "def adder(a,b):\n",
    "    return a + b"
   ]
  },
  {
   "cell_type": "code",
   "execution_count": 53,
   "metadata": {},
   "outputs": [],
   "source": [
    "# 하나의 문자열을 입력받아 문자열 끝에 \":D\"를 붙여 출력\n",
    "# print_str\n",
    "\n",
    "def print_str(string):\n",
    "    print(string + ':D')"
   ]
  },
  {
   "cell_type": "code",
   "execution_count": 54,
   "metadata": {},
   "outputs": [
    {
     "name": "stdout",
     "output_type": "stream",
     "text": [
      "안녕하세요:D\n",
      "None\n"
     ]
    }
   ],
   "source": [
    "print_str('안녕하세요')"
   ]
  },
  {
   "cell_type": "code",
   "execution_count": 56,
   "metadata": {},
   "outputs": [
    {
     "name": "stdout",
     "output_type": "stream",
     "text": [
      "6\n"
     ]
    }
   ],
   "source": [
    "print(sum([1, 2, 3]))"
   ]
  },
  {
   "cell_type": "code",
   "execution_count": 57,
   "metadata": {},
   "outputs": [],
   "source": [
    "def print_score(lists):\n",
    "    print(sum(lists))"
   ]
  },
  {
   "cell_type": "code",
   "execution_count": 58,
   "metadata": {},
   "outputs": [
    {
     "name": "stdout",
     "output_type": "stream",
     "text": [
      "6\n"
     ]
    }
   ],
   "source": [
    "print_score([1, 2, 3])"
   ]
  },
  {
   "cell_type": "code",
   "execution_count": 60,
   "metadata": {},
   "outputs": [],
   "source": [
    "# 리스트를 입력받아 짝수만 출력하는 print_even 함수를 정의\n",
    "def print_even(my_list):\n",
    "    for item in my_list:\n",
    "        if item % 2 == 0:\n",
    "            print(item)"
   ]
  },
  {
   "cell_type": "code",
   "execution_count": 61,
   "metadata": {},
   "outputs": [
    {
     "name": "stdout",
     "output_type": "stream",
     "text": [
      "0\n",
      "6\n",
      "2\n"
     ]
    }
   ],
   "source": [
    "print_even([1, 3, 5, 7, 0, 6, 2, 7])"
   ]
  },
  {
   "cell_type": "code",
   "execution_count": 62,
   "metadata": {},
   "outputs": [],
   "source": [
    "# 하나의 딕셔너리를 입력받아 key값을 화면에 출력하는 함수\n",
    "def print_keys(dic):\n",
    "    for key in dic:\n",
    "        print(key)"
   ]
  },
  {
   "cell_type": "code",
   "execution_count": 65,
   "metadata": {},
   "outputs": [
    {
     "name": "stdout",
     "output_type": "stream",
     "text": [
      "aaa\n",
      "dgueh\n",
      "eiux\n"
     ]
    }
   ],
   "source": [
    "print_keys({'aaa':1210, 'dgueh':2122, 'eiux':222})"
   ]
  },
  {
   "cell_type": "code",
   "execution_count": 70,
   "metadata": {},
   "outputs": [],
   "source": [
    "# 입력 문자열을 한 줄에 다섯 글자 씩만 출력하는 함수\n",
    "def print_5times(string):\n",
    "    for i in range(len(string)):\n",
    "        if i % 5 == 0:\n",
    "            print()\n",
    "        print(string[i], end = \"\")"
   ]
  },
  {
   "cell_type": "code",
   "execution_count": 71,
   "metadata": {},
   "outputs": [
    {
     "name": "stdout",
     "output_type": "stream",
     "text": [
      "\n",
      "가나다라마\n",
      "바사아자차\n",
      "카타파하이\n",
      "히하호후헤"
     ]
    }
   ],
   "source": [
    "print_5times('가나다라마바사아자차카타파하이히하호후헤')"
   ]
  },
  {
   "cell_type": "code",
   "execution_count": 72,
   "metadata": {},
   "outputs": [],
   "source": [
    "# 문자열과 한 줄에 출력될 글자 수를 입력받아 처리하는 함수\n",
    "def print_mxn(string, num):\n",
    "    count = int(len(string)/num)\n",
    "    for x in range(count+1):\n",
    "        print(string[x*num:x*num+num])\n",
    "    "
   ]
  },
  {
   "cell_type": "code",
   "execution_count": 73,
   "metadata": {},
   "outputs": [
    {
     "name": "stdout",
     "output_type": "stream",
     "text": [
      "가나다\n",
      "라마바\n",
      "사아자\n",
      "차카타\n",
      "파하이\n",
      "히하호\n",
      "후헤\n"
     ]
    }
   ],
   "source": [
    "print_mxn('가나다라마바사아자차카타파하이히하호후헤', 3)"
   ]
  },
  {
   "cell_type": "code",
   "execution_count": 75,
   "metadata": {},
   "outputs": [
    {
     "name": "stdout",
     "output_type": "stream",
     "text": [
      "좌측 : 200\n",
      "우측 : 100\n"
     ]
    }
   ],
   "source": [
    "def my_print(a, b):\n",
    "    print('좌측 :', a)\n",
    "    print('우측 :', b)\n",
    "    \n",
    "my_print(b=100, a=200)"
   ]
  },
  {
   "cell_type": "code",
   "execution_count": 76,
   "metadata": {},
   "outputs": [],
   "source": [
    "# 문자열을 비어있는 리스트에 추가한 후 리스트 반환\n",
    "# 문자열을 입력받아 출력하는 작업을 수행한다. \n",
    "# 이 때, 입력받은 문자열이 quit이면 작업을 종료한다.\n",
    "def make_list(string):\n",
    "    return list(stirng)"
   ]
  },
  {
   "cell_type": "markdown",
   "metadata": {},
   "source": [
    "#### 8. 클래스(Class)"
   ]
  },
  {
   "cell_type": "code",
   "execution_count": 77,
   "metadata": {},
   "outputs": [],
   "source": [
    "# OOP\n",
    "# Object(객체)\n",
    "# Instance(객체) - 인스턴스 객체\n",
    "# self - 인스턴스 자신의 주소, 자기자신을 가르키는 포인터"
   ]
  },
  {
   "cell_type": "code",
   "execution_count": 80,
   "metadata": {},
   "outputs": [],
   "source": [
    "class FruitSeller:\n",
    "    apples = 100   # 판매할 과일의 개수\n",
    "    price = 1000 # 판매할 과일의 금액\n",
    "    money = 0    # 판매금액을 누적할 변수\n",
    "    \n",
    "    def sal(self, don): # 과일을 판매하는 행위를 기술한 메서드\n",
    "        apple = don // self.price\n",
    "        self.apples -= apple\n",
    "        self.money += don\n",
    "        return apple\n",
    "    \n",
    "    def bal(self): # 과일을 판매하여 얻어지는 판매수익을 처리\n",
    "        pass\n",
    "    \n",
    "    def disp(self): # 현재 과일장수의 상태를 기술\n",
    "        print('과일재고 :', self.apples)\n",
    "        print('과일금액 :', self.price)\n",
    "        print('매출현황 :', self.money)"
   ]
  },
  {
   "cell_type": "code",
   "execution_count": 81,
   "metadata": {},
   "outputs": [
    {
     "name": "stdout",
     "output_type": "stream",
     "text": [
      "과일재고 : 100\n",
      "과일금액 : 1000\n",
      "매출현황 : 0\n"
     ]
    }
   ],
   "source": [
    "seller = FruitSeller()\n",
    "seller.disp()"
   ]
  },
  {
   "cell_type": "code",
   "execution_count": 82,
   "metadata": {},
   "outputs": [
    {
     "name": "stdout",
     "output_type": "stream",
     "text": [
      "과일재고 : 95\n",
      "과일금액 : 1000\n",
      "매출현황 : 5000\n"
     ]
    }
   ],
   "source": [
    "seller.sal(5000)\n",
    "seller.disp()"
   ]
  },
  {
   "cell_type": "code",
   "execution_count": 83,
   "metadata": {},
   "outputs": [
    {
     "name": "stdout",
     "output_type": "stream",
     "text": [
      "과일재고 : 10\n",
      "과일금액 : 500\n",
      "매출현황 : 0\n"
     ]
    }
   ],
   "source": [
    "seller2 = FruitSeller()\n",
    "seller2.apples = 10\n",
    "seller2.price = 500\n",
    "seller2.disp()"
   ]
  },
  {
   "cell_type": "code",
   "execution_count": 87,
   "metadata": {},
   "outputs": [],
   "source": [
    "class FruitSeller:\n",
    "    \n",
    "    def __init__(self, apples, price, money):\n",
    "        self.apples = apples\n",
    "        self.price = price\n",
    "        self.money = money\n",
    "    \n",
    "    def sal(self, don): # 과일을 판매하는 행위를 기술한 메서드\n",
    "        apple = don // self.price\n",
    "        self.apples -= apple\n",
    "        self.money += don\n",
    "        return apple\n",
    "    \n",
    "    def bal(self): # 과일을 판매하여 얻어지는 판매수익을 처리\n",
    "        pass\n",
    "    \n",
    "    def disp(self): # 현재 과일장수의 상태를 기술\n",
    "        print('과일재고 :', self.apples)\n",
    "        print('과일금액 :', self.price)\n",
    "        print('매출현황 :', self.money)"
   ]
  },
  {
   "cell_type": "code",
   "execution_count": 88,
   "metadata": {},
   "outputs": [
    {
     "name": "stdout",
     "output_type": "stream",
     "text": [
      "과일재고 : 50\n",
      "과일금액 : 1000\n",
      "매출현황 : 0\n",
      "과일재고 : 100\n",
      "과일금액 : 800\n",
      "매출현황 : 0\n"
     ]
    }
   ],
   "source": [
    "aaa = FruitSeller(50, 1000, 0)\n",
    "bbb = FruitSeller(100, 800, 0)\n",
    "\n",
    "aaa.disp()\n",
    "bbb.disp()"
   ]
  },
  {
   "cell_type": "code",
   "execution_count": 97,
   "metadata": {},
   "outputs": [],
   "source": [
    "import random\n",
    "\n",
    "class Account:\n",
    "    # 클래스 변수 : 생성된 계좌 객체의 수를 저장하는 변수\n",
    "    account_count = 0\n",
    "    \n",
    "    def __init__(self, name, balance):\n",
    "        self.name = name\n",
    "        self.balance = balance\n",
    "        self.bank = '파이썬은행'\n",
    "        \n",
    "        num1 = random.randint(0, 999)\n",
    "        num2 = random.randint(0, 99)\n",
    "        num3 = random.randint(0, 999999)\n",
    "        \n",
    "        num1 = str(num1).zfill(3)\n",
    "        num2 = str(num2).zfill(2)\n",
    "        num3 = str(num3).zfill(6)\n",
    "        \n",
    "        self.account_number = num1 + '-' + num2 + '-' + num3\n",
    "        \n",
    "        Account.account_count += 1\n",
    "    \n",
    "    def disp(self):\n",
    "        print('이름 :', self.name)\n",
    "        print('잔액 :', self.balance)\n",
    "        print('은행 :', self.bank)\n",
    "        print('계좌번호 :', self.account_number)"
   ]
  },
  {
   "cell_type": "code",
   "execution_count": 98,
   "metadata": {},
   "outputs": [],
   "source": [
    "kim = Account('김유신', 100000)"
   ]
  },
  {
   "cell_type": "code",
   "execution_count": 95,
   "metadata": {},
   "outputs": [
    {
     "name": "stdout",
     "output_type": "stream",
     "text": [
      "이름 : 김유신\n",
      "잔액 : 100000\n",
      "은행 : 파이썬은행\n",
      "계좌번호 : 228-35-067955\n"
     ]
    }
   ],
   "source": [
    "kim.disp()"
   ]
  },
  {
   "cell_type": "code",
   "execution_count": 99,
   "metadata": {},
   "outputs": [
    {
     "name": "stdout",
     "output_type": "stream",
     "text": [
      "이름 : 이순신\n",
      "잔액 : 250000\n",
      "은행 : 파이썬은행\n",
      "계좌번호 : 908-24-688670\n"
     ]
    }
   ],
   "source": [
    "lee = Account('이순신', 250000)\n",
    "lee.disp()"
   ]
  },
  {
   "cell_type": "code",
   "execution_count": 100,
   "metadata": {},
   "outputs": [
    {
     "name": "stdout",
     "output_type": "stream",
     "text": [
      "2\n"
     ]
    }
   ],
   "source": [
    "print(Account.account_count)"
   ]
  },
  {
   "cell_type": "code",
   "execution_count": 101,
   "metadata": {},
   "outputs": [
    {
     "name": "stdout",
     "output_type": "stream",
     "text": [
      "이름 : 박문수\n",
      "잔액 : 50000\n",
      "은행 : 파이썬은행\n",
      "계좌번호 : 462-55-619911\n",
      "3\n"
     ]
    }
   ],
   "source": [
    "park = Account('박문수', 50000)\n",
    "park.disp()\n",
    "print(Account.account_count)"
   ]
  },
  {
   "cell_type": "code",
   "execution_count": null,
   "metadata": {},
   "outputs": [],
   "source": []
  }
 ],
 "metadata": {
  "kernelspec": {
   "display_name": "Python 3",
   "language": "python",
   "name": "python3"
  },
  "language_info": {
   "codemirror_mode": {
    "name": "ipython",
    "version": 3
   },
   "file_extension": ".py",
   "mimetype": "text/x-python",
   "name": "python",
   "nbconvert_exporter": "python",
   "pygments_lexer": "ipython3",
   "version": "3.7.3"
  }
 },
 "nbformat": 4,
 "nbformat_minor": 2
}
