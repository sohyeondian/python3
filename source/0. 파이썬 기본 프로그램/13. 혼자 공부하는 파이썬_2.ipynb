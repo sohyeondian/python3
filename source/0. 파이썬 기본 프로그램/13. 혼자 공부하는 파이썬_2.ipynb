{
 "cells": [
  {
   "cell_type": "code",
   "execution_count": 1,
   "metadata": {},
   "outputs": [
    {
     "name": "stdout",
     "output_type": "stream",
     "text": [
      "55\n"
     ]
    }
   ],
   "source": [
    "# 하나의 정수를 입력받아 1부터 입력받은 수까지의 자연수들의 합 계산 후 반환\n",
    "def sumcount(n):\n",
    "    total = 0\n",
    "    \n",
    "    while n > 0:\n",
    "        total += n\n",
    "        n -= 1\n",
    "    \n",
    "    return total"
   ]
  },
  {
   "cell_type": "code",
   "execution_count": 2,
   "metadata": {},
   "outputs": [
    {
     "name": "stdout",
     "output_type": "stream",
     "text": [
      "5050\n"
     ]
    }
   ],
   "source": [
    "# 함수 호출\n",
    "a = sumcount(100)\n",
    "print(a)"
   ]
  },
  {
   "cell_type": "code",
   "execution_count": 3,
   "metadata": {},
   "outputs": [
    {
     "name": "stdout",
     "output_type": "stream",
     "text": [
      "3.1622776601683795\n"
     ]
    }
   ],
   "source": [
    "import math\n",
    "\n",
    "# 모듈명.변수 or 모듈명.함수()\n",
    "x = math.sqrt(10)\n",
    "print(x)"
   ]
  },
  {
   "cell_type": "code",
   "execution_count": 10,
   "metadata": {},
   "outputs": [
    {
     "name": "stdout",
     "output_type": "stream",
     "text": [
      "[1. 정수합  2.사이합  3. 최대값  4. 계산기  5. 종료]\n",
      "숫자를 입력하시오 : 4\n",
      "[두 정수 사칙연산]\n",
      "숫자1 입력 : 3\n",
      "연산자 입력 [+, -, *, /] : +\n",
      "숫자2 입력 : 5\n",
      "3 + 5 = 8\n",
      "[1. 정수합  2.사이합  3. 최대값  4. 계산기  5. 종료]\n",
      "숫자를 입력하시오 : 4\n",
      "[두 정수 사칙연산]\n",
      "숫자1 입력 : 3\n",
      "연산자 입력 [+, -, *, /] : *\n",
      "숫자2 입력 : 5\n",
      "3 * 5 = 15\n",
      "[1. 정수합  2.사이합  3. 최대값  4. 계산기  5. 종료]\n",
      "숫자를 입력하시오 : 4\n",
      "[두 정수 사칙연산]\n",
      "숫자1 입력 : 3\n",
      "연산자 입력 [+, -, *, /] : /\n",
      "숫자2 입력 : 5\n",
      "3 / 5 = 0.6\n",
      "[1. 정수합  2.사이합  3. 최대값  4. 계산기  5. 종료]\n",
      "숫자를 입력하시오 : 5\n",
      "프로그램을 종료합니다.\n"
     ]
    }
   ],
   "source": [
    "# 다양한 기능을 수행하는 프로그램을 구현하시오.\n",
    "# 계산기, 사이 합, 최대값, 정수합을 수행하는 프로그램을 구현하시오.\n",
    "# 단, 사용할 기능을 사용자가 선택하여 수행할 수 있도록 구현하시오.\n",
    "# 각 프로그램은 언제든지 종료될 수 있도록 구현하시오.\n",
    "# 각 기능은 별도의 함수로 구현하시오.\n",
    "\"\"\"\n",
    "[입출력 형식]\n",
    "[1. 정수합  2.사이합  3. 최대값  4. 계산기  5. 종료]\n",
    "\n",
    "정수합은 하나의 정수를 입력받아 1부터 해당 정수까지의 합\n",
    "사이합은 두 개의 정수를 입력받아 두 수 사이의 자연수의 합\n",
    "최대값은 세 개의 정수를 입력받아 큰 수를 추출\n",
    "계산기는 두개의 정수와 하나의 연산자를 입력받아 계산 결과를 추출\n",
    "\"\"\"\n",
    "\n",
    "\n",
    "def sum_from_one():\n",
    "    print('[0부터 n까지 정수 합]')\n",
    "    n = int(input('숫자 입력 : '))\n",
    "    total = 0\n",
    "    for i in range(1, n + 1):\n",
    "        total += i\n",
    "    print('1부터 {0}까지의 합 : {1}'.format(n, total))\n",
    "    \n",
    "def sum_between_nums():\n",
    "    print('[두 정수 사이합]')\n",
    "    n1 = int(input('숫자1 입력 : '))\n",
    "    n2 = int(input('숫자2 입력 : '))\n",
    "    \n",
    "    if n1 > n2:\n",
    "        n1, n2 = n2, n1\n",
    "    \n",
    "    total = 0\n",
    "    for i in range(n1, n2 + 1):\n",
    "        total += i\n",
    "    print('{0}부터 {1}까지의 합 : {2}'.format(n1, n2, total))\n",
    "    \n",
    "def maximum():\n",
    "    print('[세 개의 정수 중 최대값]')\n",
    "    nums = []\n",
    "    for i in range(3):\n",
    "        n = input('숫자{0} 입력 : '.format(i + 1))\n",
    "        nums.append(int(n))\n",
    "    \n",
    "    print('최대 값 : {0}'.format(max(nums)))\n",
    "\n",
    "def calculator():\n",
    "    print('[두 정수 사칙연산]')\n",
    "    n1 = int(input('숫자1 입력 : '))\n",
    "    op = input('연산자 입력 [+, -, *, /] : ')\n",
    "    n2 = int(input('숫자2 입력 : '))\n",
    "    \n",
    "    if op == '+':\n",
    "        print('{0} {1} {2} = {3}'.format(n1, op, n2, n1 + n2))\n",
    "    elif op == '-':\n",
    "        print('{0} {1} {2} = {3}'.format(n1, op, n2, n1 - n2))\n",
    "    elif op == '*':\n",
    "        print('{0} {1} {2} = {3}'.format(n1, op, n2, n1 * n2))\n",
    "    elif op == '/':\n",
    "        if n2 == 0:\n",
    "            print('분모는 0이 될 수 없습니다.')\n",
    "            return\n",
    "        print('{0} {1} {2} = {3}'.format(n1, op, n2, n1 / n2))\n",
    "    else:\n",
    "        print('연산자를 잘못입력하셨습니다.')\n",
    "        print('프로그램을 종료합니다.')\n",
    "    \n",
    "    \n",
    "\n",
    "while True:\n",
    "    \n",
    "    print('[1. 정수합  2. 사이합  3. 최대값  4. 계산기  5. 종료]')\n",
    "    num = input('숫자를 입력하시오 : ')\n",
    "    \n",
    "    if num == '1':\n",
    "        sum_from_one()\n",
    "    elif num == '2':\n",
    "        sum_between_nums()\n",
    "    elif num == '3':\n",
    "        maximum()\n",
    "    elif num == '4':\n",
    "        calculator()\n",
    "    elif num == '5':\n",
    "        print('프로그램을 종료합니다.')\n",
    "        break\n",
    "    else:\n",
    "        print('보기에 있는 문자를 입력해주세요.')"
   ]
  },
  {
   "cell_type": "code",
   "execution_count": 4,
   "metadata": {},
   "outputs": [
    {
     "name": "stdout",
     "output_type": "stream",
     "text": [
      "[1. 정수합  2. 사이합  3. 최대값  4. 계산기  5. 종료]\n",
      "숫자를 입력하시오 : 4\n",
      "[두 정수 사칙연산]\n",
      "숫자1 입력 : 3\n",
      "연산자 입력 [+, -, *, /] : /\n",
      "숫자2 입력 : 0\n",
      "3 / 0\n",
      "분모는 0이 될 수 없습니다.\n",
      "\n",
      "[1. 정수합  2. 사이합  3. 최대값  4. 계산기  5. 종료]\n",
      "숫자를 입력하시오 : 5\n",
      "프로그램을 종료합니다.\n"
     ]
    }
   ],
   "source": [
    "def sum_from_one(n):        \n",
    "    return sum(n)\n",
    "    \n",
    "def sum_between_nums(n1, n2):    \n",
    "    if n1 > n2:\n",
    "        n1, n2 = n2, n1\n",
    "\n",
    "    return sum(range(n1, n2 + 1))\n",
    "    \n",
    "def maximum(nums):\n",
    "    return max(nums)\n",
    "\n",
    "def calculator(n1, op, n2):\n",
    "    if op == '/' and n2 == '0':\n",
    "        print('분모는 0이 될 수 없습니다.')\n",
    "        return\n",
    "    return eval(n1 + op + n2)\n",
    "\n",
    "def numcheck(*nums):\n",
    "    for num in nums:\n",
    "        if not num.isdecimal():\n",
    "            return\n",
    "    return True\n",
    "    \n",
    "while True:\n",
    "    \n",
    "    print('[1. 정수합  2. 사이합  3. 최대값  4. 계산기  5. 종료]')\n",
    "    num = input('숫자를 입력하시오 : ')\n",
    "    \n",
    "    if num == '1':\n",
    "        print('[0부터 n까지 정수 합]')\n",
    "        num = input('숫자 입력 : ')\n",
    "        if not num.isdecimal():\n",
    "            print(\"숫자가 아닙니다. 보기로 돌아갑니다.\")\n",
    "            continue\n",
    "        print('1부터 {0}까지의 합 : {1}'.format(num, sum_from_one(int(num))))\n",
    "            \n",
    "        \n",
    "    elif num == '2':\n",
    "        print('[두 정수 사이합]')\n",
    "        num1 = input('숫자1 입력 : ')\n",
    "        num2 = input('숫자2 입력 : ')\n",
    "        if not numcheck(num1, num2):\n",
    "            print(\"숫자가 아닙니다. 보기로 돌아갑니다.\")\n",
    "            continue\n",
    "        print('{0}부터 {1}까지의 합 : {2}'.format(num1, num2, sum_between_nums(int(num1),int(num2))))\n",
    "    elif num == '3':\n",
    "        print('[세 정수 중 최대값]')\n",
    "        nums = []\n",
    "        for i in range(3):\n",
    "            n = input('숫자{0} 입력 : '.format(i + 1))\n",
    "            if n.isdecimal():\n",
    "                nums.append(int(n))\n",
    "            else:\n",
    "                print(\"숫자가 아닙니다.\")\n",
    "        if len(nums):\n",
    "            print('최대값 : {0}'.format(maximum(nums)))\n",
    "    elif num == '4':\n",
    "        print('[두 정수 사칙연산]')\n",
    "        n1 = input('숫자1 입력 : ')\n",
    "        op = input('연산자 입력 [+, -, *, /] : ')\n",
    "        n2 = input('숫자2 입력 : ')\n",
    "        if numcheck(n1, n2) and op in ['+', '-', '*', '/']:\n",
    "            result = calculator(n1, op, n2)\n",
    "            if result:\n",
    "                print(\"{0} {1} {2} = {3}\".format(n1, op, n2, result))\n",
    "        else:\n",
    "            print('잘못된 값이 입력되었습니다. 보기로 돌아갑니다.')\n",
    "\n",
    "    elif num == '5':\n",
    "        print('프로그램을 종료합니다.')\n",
    "        break\n",
    "    else:\n",
    "        print('보기에 있는 문자를 입력해주세요.')\n",
    "    print()"
   ]
  },
  {
   "cell_type": "code",
   "execution_count": 6,
   "metadata": {},
   "outputs": [],
   "source": [
    "def hello():\n",
    "    print('Hello')"
   ]
  },
  {
   "cell_type": "code",
   "execution_count": 7,
   "metadata": {},
   "outputs": [
    {
     "name": "stdout",
     "output_type": "stream",
     "text": [
      "2188855924664\n"
     ]
    }
   ],
   "source": [
    "# id() : 객체의 주소를 반환\n",
    "print(id(hello))"
   ]
  },
  {
   "cell_type": "code",
   "execution_count": 8,
   "metadata": {},
   "outputs": [
    {
     "name": "stdout",
     "output_type": "stream",
     "text": [
      "Hello\n"
     ]
    }
   ],
   "source": [
    "f = hello # 바인딩\n",
    "f()"
   ]
  },
  {
   "cell_type": "code",
   "execution_count": 14,
   "metadata": {},
   "outputs": [],
   "source": [
    "class Func:\n",
    "    def __init__(self):\n",
    "        print('생성됨')\n",
    "    def __call__(self):\n",
    "        print('호출됨')"
   ]
  },
  {
   "cell_type": "code",
   "execution_count": 15,
   "metadata": {},
   "outputs": [
    {
     "name": "stdout",
     "output_type": "stream",
     "text": [
      "생성됨\n"
     ]
    }
   ],
   "source": [
    "f = Func()"
   ]
  },
  {
   "cell_type": "code",
   "execution_count": 16,
   "metadata": {},
   "outputs": [
    {
     "name": "stdout",
     "output_type": "stream",
     "text": [
      "호출됨\n"
     ]
    }
   ],
   "source": [
    "f()"
   ]
  },
  {
   "cell_type": "code",
   "execution_count": 18,
   "metadata": {},
   "outputs": [
    {
     "name": "stdout",
     "output_type": "stream",
     "text": [
      "(1,)\n",
      "(1, 2)\n",
      "(1, 2, 3)\n"
     ]
    }
   ],
   "source": [
    "## 가변길이 매개변수 : *args, *변수, 튜플에 저장된 후 반환\n",
    "\n",
    "def aaa(*args):\n",
    "    print(args)\n",
    "    \n",
    "aaa(1)\n",
    "aaa(1, 2)\n",
    "aaa(1, 2, 3)"
   ]
  },
  {
   "cell_type": "code",
   "execution_count": 19,
   "metadata": {},
   "outputs": [
    {
     "name": "stdout",
     "output_type": "stream",
     "text": [
      "{'a': 1}\n",
      "{'a': 1, 'b': 2}\n",
      "{'a': 1, 'b': 2, 'c': 3}\n"
     ]
    }
   ],
   "source": [
    "## 키워드 가변길이 매개변수\n",
    "def bbb(**kwargs):\n",
    "    print(kwargs)\n",
    "\n",
    "bbb(a=1)\n",
    "bbb(a=1, b=2)\n",
    "bbb(a=1, b=2, c=3)"
   ]
  },
  {
   "cell_type": "code",
   "execution_count": 20,
   "metadata": {},
   "outputs": [
    {
     "name": "stdout",
     "output_type": "stream",
     "text": [
      "(1, 2, 3)\n",
      "{'a': 1, 'b': 2, 'c': 3}\n"
     ]
    }
   ],
   "source": [
    "def ccc(*a, **b):\n",
    "    print(a)\n",
    "    print(b)\n",
    "\n",
    "ccc(1, 2, 3, a=1, b=2, c=3)"
   ]
  },
  {
   "cell_type": "code",
   "execution_count": 6,
   "metadata": {},
   "outputs": [
    {
     "name": "stdout",
     "output_type": "stream",
     "text": [
      "15\n",
      "10\n"
     ]
    }
   ],
   "source": [
    "# lambda\n",
    "def mul5(x):\n",
    "    return 5 * x\n",
    "\n",
    "a = mul5(3)\n",
    "print(a)\n",
    "\n",
    "# lambda 입력값:출력값\n",
    "mul5 = lambda x : 5 * x\n",
    "print(mul5(2))"
   ]
  },
  {
   "cell_type": "code",
   "execution_count": 7,
   "metadata": {},
   "outputs": [
    {
     "name": "stdout",
     "output_type": "stream",
     "text": [
      "20\n",
      "20\n"
     ]
    }
   ],
   "source": [
    "# 지역변수 전역변수\n",
    "\n",
    "a = 10\n",
    "\n",
    "def test():\n",
    "    global a\n",
    "    a = 20\n",
    "    print(a)\n",
    "    \n",
    "test()\n",
    "print(a)"
   ]
  },
  {
   "cell_type": "code",
   "execution_count": 12,
   "metadata": {},
   "outputs": [
    {
     "name": "stdout",
     "output_type": "stream",
     "text": [
      "inner\n"
     ]
    }
   ],
   "source": [
    "# 함수 안에 함수\n",
    "def outer():\n",
    "    \n",
    "    def inner():\n",
    "        print('inner')\n",
    "    \n",
    "    return inner\n",
    "\n",
    "f = outer()\n",
    "f()"
   ]
  },
  {
   "cell_type": "code",
   "execution_count": 13,
   "metadata": {},
   "outputs": [
    {
     "name": "stdout",
     "output_type": "stream",
     "text": [
      "3\n"
     ]
    }
   ],
   "source": [
    "def outer():\n",
    "    num = 3\n",
    "    def inner():\n",
    "        print(num)\n",
    "    return inner\n",
    "\n",
    "f = outer()\n",
    "f()"
   ]
  },
  {
   "cell_type": "markdown",
   "metadata": {},
   "source": [
    "#### 재귀함수\n",
    "자기 안에서 자신을 호출하는 함수\n",
    "\n",
    "10! = 10 * 9 * 8 * 7 * 6 * 5 * 4 * 3 * 2 * 1\n",
    "\n",
    "= 10 * 9!\n",
    "\n",
    "= 10 * 9 * 8!\n",
    "\n",
    "n! = n * (n - 1)! "
   ]
  },
  {
   "cell_type": "code",
   "execution_count": 20,
   "metadata": {},
   "outputs": [
    {
     "name": "stdout",
     "output_type": "stream",
     "text": [
      "120 120\n"
     ]
    }
   ],
   "source": [
    "def fact1(x):\n",
    "    out = 1\n",
    "    while x > 0:\n",
    "        out *= x\n",
    "        x -= 1\n",
    "    return out\n",
    "\n",
    "def fact2(num):\n",
    "    if num == 1:\n",
    "        return 1\n",
    "    return num * fact2(num - 1)\n",
    "\n",
    "\n",
    "print(fact1(5), fact2(5))"
   ]
  },
  {
   "cell_type": "code",
   "execution_count": 21,
   "metadata": {},
   "outputs": [],
   "source": [
    "# 1부터 10까지의 합을 계산하는 프로그램\n",
    "# 재귀함수 이용\n",
    "\n",
    "def oneton(n):\n",
    "    if n == 1:\n",
    "        return 1\n",
    "    return n + oneton(n-1)"
   ]
  },
  {
   "cell_type": "code",
   "execution_count": 22,
   "metadata": {},
   "outputs": [
    {
     "name": "stdout",
     "output_type": "stream",
     "text": [
      "55\n"
     ]
    }
   ],
   "source": [
    "print(oneton(10))"
   ]
  },
  {
   "cell_type": "code",
   "execution_count": 24,
   "metadata": {},
   "outputs": [
    {
     "name": "stdout",
     "output_type": "stream",
     "text": [
      "r\n",
      "r a\n",
      "a = a\n"
     ]
    }
   ],
   "source": [
    "a = 'korea' #['k', 'o', 'r', 'e', 'a']\n",
    "print(a[2])\n",
    "print(a[2], a[4])\n",
    "print(a[4], '=', a[-1])"
   ]
  },
  {
   "cell_type": "code",
   "execution_count": 27,
   "metadata": {},
   "outputs": [
    {
     "name": "stdout",
     "output_type": "stream",
     "text": [
      "ore\n"
     ]
    }
   ],
   "source": [
    "# [start:end] end : end - 1번째까지\n",
    "print(a[1:4])\n",
    "print(a[:2])\n",
    "print(a[3:])"
   ]
  },
  {
   "cell_type": "code",
   "execution_count": 29,
   "metadata": {},
   "outputs": [
    {
     "name": "stdout",
     "output_type": "stream",
     "text": [
      "teamlab\n",
      "teamteamteam\n"
     ]
    }
   ],
   "source": [
    "# 문자열 연산 : +, *\n",
    "a = 'team'\n",
    "b = 'lab'\n",
    "print(a+b)\n",
    "print(a*3)"
   ]
  },
  {
   "cell_type": "code",
   "execution_count": 33,
   "metadata": {},
   "outputs": [],
   "source": [
    "# 단어 카운팅 문제 \n",
    "# Yesterday 라는 단어가 몇번 나오는 지 추출하는 프로그램\n",
    "# 단 파일을 통해 처리하시오"
   ]
  },
  {
   "cell_type": "code",
   "execution_count": 42,
   "metadata": {},
   "outputs": [
    {
     "name": "stdout",
     "output_type": "stream",
     "text": [
      "파일 내에 yesterday라는 단어는 9개 있습니다.\n"
     ]
    }
   ],
   "source": [
    "with open('D:/python3/study/yesterday.txt', 'r') as f:\n",
    "    \n",
    "    contents = f.readlines()\n",
    "    \n",
    "    howmany = 0\n",
    "    for line in contents:\n",
    "        howmany += line.lower().count('yesterday')\n",
    "        \n",
    "    print('파일 내에 yesterday라는 단어는 {}개 있습니다.'.format(howmany))"
   ]
  },
  {
   "cell_type": "code",
   "execution_count": 44,
   "metadata": {},
   "outputs": [
    {
     "name": "stdout",
     "output_type": "stream",
     "text": [
      "0 1\n",
      "1 2\n",
      "2 3\n",
      "3 4\n",
      "4 5\n"
     ]
    }
   ],
   "source": [
    "for index, value in enumerate([1, 2, 3, 4, 5]):\n",
    "    print(index, value)"
   ]
  },
  {
   "cell_type": "code",
   "execution_count": 21,
   "metadata": {},
   "outputs": [],
   "source": [
    "class Car: # 객체(Object)를 표현할 목적으로 구현하는 툴\n",
    "    # 멤버필드 : 속성이나 특성\n",
    "    # self.name = \"\"\n",
    "    # self.speed = 0\n",
    "    # self.fuel = 100\n",
    "    count = 0 # 클래스변수, 클래스명으로 접근하는 변수\n",
    "    \n",
    "    # 생성자 메서드 : 객체가 생성될 때 자동으로 호출, 멤버필드 초기화\n",
    "    def __init__(self, name, speed, fuel):\n",
    "        # self.* 인스턴스 변수\n",
    "        self.name = name\n",
    "        self.speed = speed\n",
    "        self.fuel = fuel\n",
    "        Car.count += 1\n",
    "        \n",
    "    # 멤버 메서드 : 행위나 동작\n",
    "    def carBreak(self):\n",
    "        self.speed -= 10\n",
    "        \n",
    "        if self.speed < 10:\n",
    "            self.speed = 0\n",
    "    \n",
    "    def carExcel(self):\n",
    "        if self.fuel < 5:\n",
    "            print('연료가 부족합니다.')\n",
    "        else:\n",
    "            if self.speed >= 200 :\n",
    "                print('최고 속도입니다.')\n",
    "                self.speed = 200\n",
    "            else:\n",
    "                self.fuel -= 5\n",
    "                self.speed += 10\n",
    "    \n",
    "    def carStatus(self):\n",
    "        print('사용자 :',self.name)\n",
    "        print('현재 속도 :', self.speed)\n",
    "        print('연료량 :', self.fuel)"
   ]
  },
  {
   "cell_type": "code",
   "execution_count": 8,
   "metadata": {},
   "outputs": [
    {
     "name": "stdout",
     "output_type": "stream",
     "text": [
      "사용자 : aaa\n",
      "현재 속도 : 0\n",
      "연료량 : 50\n"
     ]
    }
   ],
   "source": [
    "aaa = Car('aaa', 0, 50)\n",
    "# aaa.name = 'aaa'\n",
    "# aaa.speed = 0\n",
    "# aaa.fuel = 50\n",
    "aaa.carStatus()"
   ]
  },
  {
   "cell_type": "code",
   "execution_count": 14,
   "metadata": {},
   "outputs": [
    {
     "name": "stdout",
     "output_type": "stream",
     "text": [
      "사용자 : aaa\n",
      "현재 속도 : 0\n",
      "연료량 : 45\n",
      "사용자 : aaa\n",
      "현재 속도 : 10\n",
      "연료량 : 40\n"
     ]
    }
   ],
   "source": [
    "aaa.carBreak()\n",
    "aaa.carStatus()\n",
    "\n",
    "aaa.carExcel()\n",
    "aaa.carStatus()"
   ]
  },
  {
   "cell_type": "code",
   "execution_count": 22,
   "metadata": {},
   "outputs": [
    {
     "name": "stdout",
     "output_type": "stream",
     "text": [
      "사용자 : bbb\n",
      "현재 속도 : 170\n",
      "연료량 : 10\n",
      "사용자 : bbb\n",
      "현재 속도 : 180\n",
      "연료량 : 5\n",
      "사용자 : bbb\n",
      "현재 속도 : 190\n",
      "연료량 : 0\n",
      "연료가 부족합니다.\n",
      "사용자 : bbb\n",
      "현재 속도 : 190\n",
      "연료량 : 0\n",
      "사용자 : bbb\n",
      "현재 속도 : 200\n",
      "연료량 : 25\n",
      "최고 속도입니다.\n",
      "사용자 : bbb\n",
      "현재 속도 : 200\n",
      "연료량 : 25\n"
     ]
    }
   ],
   "source": [
    "bbb = Car('bbb', 180, 10)\n",
    "# bbb.name = 'bbb'\n",
    "# bbb.speed = 180\n",
    "# bbb.fuel = 10\n",
    "\n",
    "bbb.carBreak()\n",
    "bbb.carStatus()\n",
    "\n",
    "bbb.carExcel()\n",
    "bbb.carStatus()\n",
    "bbb.carExcel()\n",
    "bbb.carStatus()\n",
    "bbb.carExcel()\n",
    "bbb.carStatus()\n",
    "bbb.fuel = 30\n",
    "bbb.carExcel()\n",
    "bbb.carStatus()\n",
    "bbb.carExcel()\n",
    "bbb.carStatus()"
   ]
  },
  {
   "cell_type": "code",
   "execution_count": 16,
   "metadata": {},
   "outputs": [
    {
     "name": "stdout",
     "output_type": "stream",
     "text": [
      "사용자 : bbb\n",
      "현재 속도 : 190\n",
      "연료량 : 0\n",
      "사용자 : aaa\n",
      "현재 속도 : 10\n",
      "연료량 : 40\n"
     ]
    }
   ],
   "source": [
    "bbb.carStatus()\n",
    "aaa.carStatus()"
   ]
  },
  {
   "cell_type": "code",
   "execution_count": 22,
   "metadata": {},
   "outputs": [],
   "source": [
    "# 상속(Inheritance) : 부모클래스의 멤버를 자녀클래스가 물려받는것\n",
    "class Point:\n",
    "    \n",
    "    def __init__(self):\n",
    "        self.xpos = int(input('x = '))\n",
    "        self.ypos = int(input('y = '))\n",
    "    \n",
    "    def disp(self):\n",
    "        print('점 (x, y) = ({}, {})'.format(self.xpos, self.ypos),\n",
    "             end = \", \")\n",
    "        \n",
    "# 원이라는 객체를 디자인한 클래스\n",
    "class Circle(Point):\n",
    "    \n",
    "    def __init__(self):\n",
    "        Point.__init__(self)\n",
    "#         self.xpos = int(input('x = '))\n",
    "#         self.ypos = int(input('y = '))\n",
    "        self.r = int(input('r = '))\n",
    "        \n",
    "    def getArea(self):\n",
    "        return self.r * self.r * 3.14\n",
    "        \n",
    "    def disp(self): # 오버라이딩 (재정의)\n",
    "        print('원')\n",
    "        Point.disp(self)\n",
    "#         print('점 (x, y) = ({}, {})'.format(self.xpos, self.ypos))\n",
    "        print('반지름(r) = {}, 면적 = {}'.format(self.r, self.getArea()))"
   ]
  },
  {
   "cell_type": "code",
   "execution_count": 29,
   "metadata": {},
   "outputs": [
    {
     "name": "stdout",
     "output_type": "stream",
     "text": [
      "x = 3\n",
      "y = 3\n",
      "점 (x, y) = (3, 3)\n",
      "x = 5\n",
      "y = 6\n",
      "r = 7\n",
      "점 (x, y) = (5, 6)\n",
      "반지름(r) = 7\n",
      "면적 = 153.86\n"
     ]
    }
   ],
   "source": [
    "ap = Point()\n",
    "ap.disp()\n",
    "\n",
    "cp = Circle()\n",
    "cp.disp()"
   ]
  },
  {
   "cell_type": "code",
   "execution_count": 23,
   "metadata": {},
   "outputs": [],
   "source": [
    "# 사각형이라는 객체를 클래스로 구현하시오\n",
    "# 멤버필드는 좌표값(x, y)과 너비, 높이(width, height) 갖도록 구현\n",
    "# 생성자 메서드와 출력을 나타내는 disp메서드를 구현하시오\n",
    "\n",
    "class Square(Point):\n",
    "    def __init__(self):\n",
    "        Point.__init__(self)\n",
    "        self.width = int(input('너비 = '))\n",
    "        self.height = int(input('높이 = '))\n",
    "        \n",
    "    def getArea(self):\n",
    "        return self.width * self.height\n",
    "    \n",
    "    def disp(self):\n",
    "        print('사각형')\n",
    "        Point.disp(self)\n",
    "        print('너비 = {}, 높이 = {}, 넓이 = {}'.format(self.width, \n",
    "                                               self.height, \n",
    "                                               self.getArea()))"
   ]
  },
  {
   "cell_type": "code",
   "execution_count": 21,
   "metadata": {},
   "outputs": [
    {
     "name": "stdout",
     "output_type": "stream",
     "text": [
      "[1. 원  2. 사각형  3. 도형보기  4. 종료]\n",
      "번호 입력 : 1\n",
      "x = 1\n",
      "y = 1\n",
      "r = 2\n",
      "[1. 원  2. 사각형  3. 도형보기  4. 종료]\n",
      "번호 입력 : 2\n",
      "x = 2\n",
      "y = 2\n",
      "너비 = 5\n",
      "높이 = 3\n",
      "[1. 원  2. 사각형  3. 도형보기  4. 종료]\n",
      "번호 입력 : 3\n",
      "1번째  원\n",
      "점 (x, y) = (1, 1), 반지름(r) = 2 면적 = 12.56\n",
      "2번째  사각형\n",
      "점 (x, y) = (2, 2), 너비 = 5, 높이 = 3, 넓이 = 15\n",
      "[1. 원  2. 사각형  3. 도형보기  4. 종료]\n",
      "번호 입력 : 4\n",
      "프로그램을 종료합니다.\n"
     ]
    }
   ],
   "source": [
    "# 도형 생성하기\n",
    "# 사용자가 원하는 도형을 생성하도록 구현\n",
    "# 언제든 프로그램을 종료할 수 있도록 구현한다.\n",
    "# 사용자가 원하면 지금껏 생성한 도형을 볼 수 있도록 구현\n",
    "# 입출력 형식\n",
    "# 도형 [1. 원  2. 사각형  3. 도형보기  4. 종료] =\n",
    "# 원을 선택하면, 좌표값과 반지름을 입력받도록 구현\n",
    "# 사각형을 선택하면 좌표값과 너비, 높이를 입력받도록 구현\n",
    "# 도형보기 선택 시 입력했던 도형의 정보 출력\n",
    "# 종료는 프로그램 종료\n",
    "\n",
    "shapes = []\n",
    "while True:\n",
    "    print('[1. 원  2. 사각형  3. 도형보기  4. 종료]')\n",
    "    select = input('번호 입력 : ')\n",
    "    \n",
    "    \n",
    "    if select == '1':\n",
    "        shapes.append(Circle())\n",
    "    elif select == '2':\n",
    "        shapes.append(Square())\n",
    "    elif select == '3':\n",
    "        for index, shape in enumerate(shapes):\n",
    "            print(\"{}번째 \".format(index + 1), end = \" \")\n",
    "            shape.disp()\n",
    "    elif select == '4':\n",
    "        print('프로그램을 종료합니다.')\n",
    "        break\n",
    "    else:\n",
    "        print('다른 문자를 입력하셨습니다.')\n"
   ]
  },
  {
   "cell_type": "code",
   "execution_count": 15,
   "metadata": {},
   "outputs": [],
   "source": [
    "class Person:\n",
    "    def __init__(self, name, age, address, wallet):\n",
    "        self.greet = '안녕하세요'\n",
    "        self.name = name\n",
    "        self.age = age\n",
    "        self.address = address\n",
    "        self.__wallet = wallet # private 속성\n",
    "        \n",
    "    def pay(self, money):\n",
    "        self.__wallet -= money\n",
    "        print('잔액 : {}'.format(self.__wallet))"
   ]
  },
  {
   "cell_type": "code",
   "execution_count": 16,
   "metadata": {},
   "outputs": [
    {
     "name": "stdout",
     "output_type": "stream",
     "text": [
      "마리아\n"
     ]
    }
   ],
   "source": [
    "maria = Person('마리아', 11, '대전', 10000)\n",
    "print(maria.name)"
   ]
  },
  {
   "cell_type": "code",
   "execution_count": 17,
   "metadata": {},
   "outputs": [
    {
     "name": "stdout",
     "output_type": "stream",
     "text": [
      "잔액 : 7000\n"
     ]
    }
   ],
   "source": [
    "maria.pay(3000)"
   ]
  },
  {
   "cell_type": "markdown",
   "metadata": {},
   "source": [
    "#### 은행 계좌 관리 프로그램\n",
    "- 처리기능 : 고객등록, 입금처리, 출금처리, 잔액조회, 작업종료\n",
    "- 고객등록 : 고객이름, 계좌번호, 예금금액 입력\n",
    "- 입금처리 : 계좌번호가 일치할 때 해당 고객의 입금 금액 누적\n",
    "- 출금처리 : 계좌번호 일치할때 해당 고객의 금액에 출금금액 차감\n",
    "- 잔액조회는 해당고객의 현재 잔액 확인 or  전체 고객 잔액 확인\n",
    "- 사용자가 원하는 작업을 선택할 수 있도록 구현\n",
    "- 2명 이상의 고객에 대한 정보를 처리할 수 있도록 구현할 것\n",
    "- 주어진 클래스 기반"
   ]
  },
  {
   "cell_type": "code",
   "execution_count": 27,
   "metadata": {},
   "outputs": [],
   "source": [
    "class Account:\n",
    "    \n",
    "    def __init__(self, name, num, money):\n",
    "        self.name = name\n",
    "        self.num = num\n",
    "        self.money = money\n",
    "        \n",
    "    def inMoney(self, money):\n",
    "        # 계좌번호 일치 여부\n",
    "        self.money += money\n",
    "        \n",
    "    def outMoney(self, money):\n",
    "        # 계좌번호 일치 여부\n",
    "        # 예금 잔액의 존재 여부\n",
    "        self.money -= money\n",
    "    \n",
    "    def disp(self):\n",
    "        print('이름 :', self.name, end = '   ')\n",
    "        print('계좌번호 :',self.num, end = '   ')\n",
    "        print('잔액 :', self.money)"
   ]
  },
  {
   "cell_type": "code",
   "execution_count": 2,
   "metadata": {},
   "outputs": [],
   "source": [
    "def mainMenu():\n",
    "    print(' ------------ ')\n",
    "    print('[1. 계좌 개설]')\n",
    "    print('[2. 입금 처리]')\n",
    "    print('[3. 출금 처리]')\n",
    "    print('[4. 계좌 잔액]')\n",
    "    print('[5. 작업 종료]')\n",
    "    print(' ------------ ')\n",
    "    menu = input('메뉴 = ')\n",
    "    return menu"
   ]
  },
  {
   "cell_type": "code",
   "execution_count": 18,
   "metadata": {},
   "outputs": [],
   "source": [
    "def addMember():\n",
    "    print('[계좌 개설]')\n",
    "    name = input('이름 : ')\n",
    "    num = input('계좌번호 : ')\n",
    "    if checkID(num) != -1:\n",
    "        print('계좌번호가 존재합니다.')\n",
    "        return\n",
    "    \n",
    "    money = int(input('초기 금액 : ')) \n",
    "    \n",
    "    return Account(name, num, money)\n",
    "    "
   ]
  },
  {
   "cell_type": "code",
   "execution_count": 23,
   "metadata": {},
   "outputs": [],
   "source": [
    "def checkID(num):\n",
    "    for i in range(len(bankList)):\n",
    "        if bankList[i].num == num:\n",
    "            return i\n",
    "    return -1"
   ]
  },
  {
   "cell_type": "code",
   "execution_count": 24,
   "metadata": {},
   "outputs": [],
   "source": [
    "def diposit():\n",
    "    print('[입금 처리]')\n",
    "    num = input('계좌번호 입력 : ')\n",
    "    index = checkID(num)\n",
    "    if index == -1:\n",
    "        print('계좌번호가 존재하지 않습니다.')\n",
    "        return\n",
    "        \n",
    "    money = int(input('입금 금액 입력 : '))\n",
    "    bankList[index].inMoney(money)\n",
    "    bankList[index].disp()"
   ]
  },
  {
   "cell_type": "code",
   "execution_count": 25,
   "metadata": {},
   "outputs": [],
   "source": [
    "def withdraw():\n",
    "    print('[출금 처리]')\n",
    "    num = input('계좌번호 입력 : ')\n",
    "    index = checkID(num)\n",
    "    if index == -1:\n",
    "        print('계좌번호가 존재하지 않습니다.')\n",
    "        return\n",
    "        \n",
    "    money = int(input('출금 금액 입력 : '))\n",
    "    \n",
    "    if bankList[index].money - money < 0:\n",
    "        print('잔액이 부족합니다.')\n",
    "        print('잔액 :',bankList[index].money)\n",
    "        return\n",
    "    \n",
    "    bankList[index].outMoney(money)\n",
    "    bankList[index].disp()"
   ]
  },
  {
   "cell_type": "code",
   "execution_count": 15,
   "metadata": {},
   "outputs": [],
   "source": [
    "def viewAll():\n",
    "    print('[전체 고객 조회]')\n",
    "    for a in bankList:\n",
    "        a.disp()"
   ]
  },
  {
   "cell_type": "code",
   "execution_count": 28,
   "metadata": {},
   "outputs": [
    {
     "name": "stdout",
     "output_type": "stream",
     "text": [
      "==== 은행계좌관리프로그램 ====\n",
      " ------------ \n",
      "[1. 계좌 개설]\n",
      "[2. 입금 처리]\n",
      "[3. 출금 처리]\n",
      "[4. 계좌 잔액]\n",
      "[5. 작업 종료]\n",
      " ------------ \n",
      "메뉴 = 1\n",
      "[계좌 개설]\n",
      "이름 : aaa\n",
      "계좌번호 : 1234\n",
      "초기 금액 : 1000\n",
      " ------------ \n",
      "[1. 계좌 개설]\n",
      "[2. 입금 처리]\n",
      "[3. 출금 처리]\n",
      "[4. 계좌 잔액]\n",
      "[5. 작업 종료]\n",
      " ------------ \n",
      "메뉴 = 2\n",
      "[입금 처리]\n",
      "계좌번호 입력 : 1234\n",
      "입금 금액 입력 : 300\n",
      "이름 : aaa   계좌번호 : 1234   잔액 : 1300\n",
      " ------------ \n",
      "[1. 계좌 개설]\n",
      "[2. 입금 처리]\n",
      "[3. 출금 처리]\n",
      "[4. 계좌 잔액]\n",
      "[5. 작업 종료]\n",
      " ------------ \n",
      "메뉴 = 5\n",
      "프로그램을 종료합니다.\n"
     ]
    }
   ],
   "source": [
    "# 자료구조를 선언\n",
    "bankList = []\n",
    "\n",
    "print('==== 은행계좌관리프로그램 ====')\n",
    "\n",
    "while True:\n",
    "    menu = mainMenu()\n",
    "    if menu == '1':\n",
    "        bankList.append(addMember())\n",
    "    elif menu == '2':\n",
    "        diposit()\n",
    "    elif menu == '3':\n",
    "        withdraw()\n",
    "    elif menu == '4':\n",
    "        viewAll()\n",
    "    elif menu == '5':\n",
    "        break\n",
    "    else:\n",
    "        print('보기에 없는 번호입니다.')\n",
    "        \n",
    "print('프로그램을 종료합니다.')"
   ]
  },
  {
   "cell_type": "code",
   "execution_count": 70,
   "metadata": {},
   "outputs": [],
   "source": [
    "class AAA:\n",
    "    def __init__(self):\n",
    "        self.a = 0\n",
    "        self.__b = 0\n",
    "        \n",
    "    def getB(self):\n",
    "        return self.__b\n",
    "    \n",
    "    def setB(self, b):\n",
    "        self.__b = b"
   ]
  },
  {
   "cell_type": "code",
   "execution_count": 72,
   "metadata": {},
   "outputs": [
    {
     "name": "stdout",
     "output_type": "stream",
     "text": [
      "0\n",
      "10\n",
      "0\n",
      "100\n"
     ]
    }
   ],
   "source": [
    "ap = AAA()\n",
    "print(ap.a)\n",
    "ap.a = 10\n",
    "print(ap.a)\n",
    "print(ap.getB())\n",
    "ap.setB(100)\n",
    "print(ap.getB())"
   ]
  },
  {
   "cell_type": "code",
   "execution_count": 73,
   "metadata": {},
   "outputs": [
    {
     "name": "stdout",
     "output_type": "stream",
     "text": [
      "안녕하세요\n"
     ]
    }
   ],
   "source": [
    "class Person:\n",
    "    def greeting(self):\n",
    "        print('안녕하세요')\n",
    "    \n",
    "    def hello(self):\n",
    "        #self.메서드\n",
    "        self.greeting()\n",
    "        \n",
    "kkk = Person()\n",
    "kkk.hello()"
   ]
  },
  {
   "cell_type": "code",
   "execution_count": 74,
   "metadata": {},
   "outputs": [
    {
     "data": {
      "text/plain": [
       "True"
      ]
     },
     "execution_count": 74,
     "metadata": {},
     "output_type": "execute_result"
    }
   ],
   "source": [
    "# is~: ~입니까? True or False\n",
    "# isistance(인스턴스, 클래스)\n",
    "isinstance(kkk, Person)"
   ]
  },
  {
   "cell_type": "code",
   "execution_count": 81,
   "metadata": {},
   "outputs": [
    {
     "name": "stdout",
     "output_type": "stream",
     "text": [
      "['책']\n",
      "['열쇠']\n"
     ]
    }
   ],
   "source": [
    "# 클래스 변수와 정적(Static), 클래스 메서드\n",
    "class Person:\n",
    "    # class 변수 : 공통으로 갖는 값\n",
    "    bag = []\n",
    "    \n",
    "    def __init__(self):\n",
    "        self.bag = []\n",
    "    \n",
    "    def put_bag(self, stuff):\n",
    "        self.bag.append(stuff)\n",
    "        \n",
    "aaa = Person()\n",
    "aaa.put_bag('책')\n",
    "\n",
    "bbb = Person()\n",
    "bbb.put_bag('열쇠')\n",
    "\n",
    "print(aaa.bag)\n",
    "print(bbb.bag)"
   ]
  },
  {
   "cell_type": "code",
   "execution_count": 79,
   "metadata": {},
   "outputs": [],
   "source": [
    "class JBank:\n",
    "    rate = 0 # 클래스변수\n",
    "    def __init__(self, name, money, rate):\n",
    "        self.name = name\n",
    "        self.money = money\n",
    "        JBank.rate = rate\n",
    "        \n",
    "    def disp(self):\n",
    "        print(self.name, self.money, self.rate)"
   ]
  },
  {
   "cell_type": "code",
   "execution_count": 80,
   "metadata": {},
   "outputs": [
    {
     "name": "stdout",
     "output_type": "stream",
     "text": [
      "aa 10000 7\n",
      "==============================\n",
      "aa 10000 3\n",
      "bbb 10000 3\n",
      "------------------------------\n",
      "aa 10000 5\n",
      "bbb 10000 5\n",
      "ccc 10000 5\n"
     ]
    }
   ],
   "source": [
    "# 초기 은행 7%\n",
    "aaa = JBank('aa', 10000, 7)\n",
    "aaa.disp()\n",
    "\n",
    "print('==============================')\n",
    "\n",
    "# 중기 3%\n",
    "bbb = JBank('bbb', 10000, 3)\n",
    "aaa.disp()\n",
    "bbb.disp()\n",
    "\n",
    "print('------------------------------')\n",
    "\n",
    "#후기\n",
    "ccc = JBank('ccc', 10000, 5)\n",
    "aaa.disp()\n",
    "bbb.disp()\n",
    "ccc.disp()\n"
   ]
  },
  {
   "cell_type": "code",
   "execution_count": null,
   "metadata": {},
   "outputs": [],
   "source": []
  }
 ],
 "metadata": {
  "kernelspec": {
   "display_name": "Python 3",
   "language": "python",
   "name": "python3"
  },
  "language_info": {
   "codemirror_mode": {
    "name": "ipython",
    "version": 3
   },
   "file_extension": ".py",
   "mimetype": "text/x-python",
   "name": "python",
   "nbconvert_exporter": "python",
   "pygments_lexer": "ipython3",
   "version": "3.7.3"
  }
 },
 "nbformat": 4,
 "nbformat_minor": 2
}
