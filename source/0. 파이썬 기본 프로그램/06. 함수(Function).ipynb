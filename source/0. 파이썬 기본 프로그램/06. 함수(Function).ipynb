{
 "cells": [
  {
   "cell_type": "markdown",
   "metadata": {},
   "source": [
    "### 00. 함수(Function)\n",
    "- 일정한 작업을 수행하는 명령어들의 집합\n",
    "- 자주 빈번하게 사용되는 기능이나 명령어를 하나의 이름으로 묶어 처리\n",
    "- 형식 def(=define) 함수명(매개변수):\n",
    "- 수행할 문장들\n",
    "- return 리턴값"
   ]
  },
  {
   "cell_type": "code",
   "execution_count": 1,
   "metadata": {},
   "outputs": [],
   "source": [
    "def fuction():\n",
    "    pass\n",
    "    # return"
   ]
  },
  {
   "cell_type": "code",
   "execution_count": 2,
   "metadata": {},
   "outputs": [
    {
     "name": "stdout",
     "output_type": "stream",
     "text": [
      "12345\n",
      "===========\n",
      "안녕하세요\n",
      "===========\n",
      "오늘은 월요일입니다.\n",
      "오늘은 화요일입니다.\n",
      "===========\n"
     ]
    }
   ],
   "source": [
    "print(12345)\n",
    "print('===========')\n",
    "print('안녕하세요')\n",
    "print('===========')\n",
    "print('오늘은 월요일입니다.')\n",
    "print('오늘은 화요일입니다.')\n",
    "print('===========')"
   ]
  },
  {
   "cell_type": "code",
   "execution_count": 4,
   "metadata": {},
   "outputs": [],
   "source": [
    "# 반복문 : 동일하거나 유사한 성격을 가지고 있는 문장을 반복할 때\n",
    "# 유사한 문장 : 동일한 행위를 하되 일정한 규칙을 가지고 있는 문장\n",
    "\n",
    "def disp():\n",
    "    print('===========')\n",
    "    return"
   ]
  },
  {
   "cell_type": "code",
   "execution_count": 5,
   "metadata": {},
   "outputs": [
    {
     "name": "stdout",
     "output_type": "stream",
     "text": [
      "12345\n",
      "===========\n",
      "안녕하세요\n",
      "===========\n",
      "오늘은 월요일입니다.\n",
      "오늘은 화요일입니다.\n",
      "===========\n"
     ]
    }
   ],
   "source": [
    "print(12345)\n",
    "disp()\n",
    "print('안녕하세요')\n",
    "disp()\n",
    "print('오늘은 월요일입니다.')\n",
    "print('오늘은 화요일입니다.')\n",
    "disp()"
   ]
  },
  {
   "cell_type": "code",
   "execution_count": 7,
   "metadata": {
    "scrolled": true
   },
   "outputs": [
    {
     "name": "stdout",
     "output_type": "stream",
     "text": [
      "수1 = 10\n",
      "수2 = 3\n",
      "덧셈 : 13\n",
      "뺄셈 : 7\n",
      "곱셈 : 30\n",
      "나눗셈 : 3.3333333333333335\n"
     ]
    }
   ],
   "source": [
    "# 계산기 프로그램\n",
    "# 두 개의 정수를 입력받아 덧셈과 뺄셈 \n",
    "# 그리고 곱셉과 나눗셈의 결과를 출력하는 프로그램\n",
    "\n",
    "su1 = int(input('수1 = '))\n",
    "su2 = int(input('수2 = '))\n",
    "\n",
    "adder = su1 + su2\n",
    "sub = su1 - su2\n",
    "multi = su1 * su2\n",
    "div = su1 / su2\n",
    "\n",
    "print('덧셈 :', adder)\n",
    "print('뺄셈 :', sub)\n",
    "print('곱셈 :', multi)\n",
    "print('나눗셈 :', div)"
   ]
  },
  {
   "cell_type": "code",
   "execution_count": 10,
   "metadata": {},
   "outputs": [],
   "source": [
    "# 함수 정의\n",
    "def adder(x, y):\n",
    "    return x + y"
   ]
  },
  {
   "cell_type": "code",
   "execution_count": 11,
   "metadata": {},
   "outputs": [
    {
     "name": "stdout",
     "output_type": "stream",
     "text": [
      "수1 = 10\n",
      "수2 = 5\n",
      "1. 덧셈  2. 뺄셈  3. 곱셈  4. 나눗셈: 1\n",
      "결과:  15\n"
     ]
    }
   ],
   "source": [
    "su1 = int(input('수1 = '))\n",
    "su2 = int(input('수2 = '))\n",
    "oppr = input('1. 덧셈  2. 뺄셈  3. 곱셈  4. 나눗셈: ')\n",
    "\n",
    "result = 0 # 계산된 결과 저장\n",
    "\n",
    "if oppr == '1':\n",
    "    result = adder(su1, su2)\n",
    "elif oppr == '2':\n",
    "    result = su1 - su2\n",
    "elif oppr == '3':\n",
    "    result = su1 * su2\n",
    "elif oppr == '4':\n",
    "    result = su1 / su2\n",
    "else:\n",
    "    print('연산자가 올바르지 않습니다.')\n",
    "    \n",
    "print('결과: ', result)"
   ]
  },
  {
   "cell_type": "code",
   "execution_count": 12,
   "metadata": {},
   "outputs": [],
   "source": [
    "def twotimes(x):\n",
    "    y = 2 * x\n",
    "    return y"
   ]
  },
  {
   "cell_type": "code",
   "execution_count": 13,
   "metadata": {},
   "outputs": [
    {
     "data": {
      "text/plain": [
       "4"
      ]
     },
     "execution_count": 13,
     "metadata": {},
     "output_type": "execute_result"
    }
   ],
   "source": [
    "twotimes(2)"
   ]
  },
  {
   "cell_type": "code",
   "execution_count": 14,
   "metadata": {},
   "outputs": [
    {
     "name": "stdout",
     "output_type": "stream",
     "text": [
      "숫자 입력 : 3\n",
      "홀수\n"
     ]
    }
   ],
   "source": [
    "# 하나의 숫자를 입력받아 짝수인지 홀수 인지 판정하는 프로그램\n",
    "# 이때 , 짝수와 홀수를 판정하는 식을 함수로 구현할 것\n",
    "def check(number):\n",
    "    if number % 2 == 0:\n",
    "        return '짝수'\n",
    "    return '홀수'\n",
    "\n",
    "num = int(input('숫자 입력 : '))\n",
    "print(check(num))"
   ]
  },
  {
   "cell_type": "code",
   "execution_count": 15,
   "metadata": {},
   "outputs": [],
   "source": [
    "# 람다함수(lambda) : 함수의 이름을 주지 않거나 코드를 짧게 줄여서 쓸 때\n",
    "\n",
    "def f(x):\n",
    "    return 2 * x"
   ]
  },
  {
   "cell_type": "code",
   "execution_count": 16,
   "metadata": {},
   "outputs": [],
   "source": [
    "fin = lambda x: 2 * x"
   ]
  },
  {
   "cell_type": "code",
   "execution_count": 17,
   "metadata": {},
   "outputs": [
    {
     "data": {
      "text/plain": [
       "4"
      ]
     },
     "execution_count": 17,
     "metadata": {},
     "output_type": "execute_result"
    }
   ],
   "source": [
    "fin(2)"
   ]
  },
  {
   "cell_type": "code",
   "execution_count": null,
   "metadata": {},
   "outputs": [],
   "source": [
    "# 지역변수와 전역변수\n",
    "del a"
   ]
  },
  {
   "cell_type": "code",
   "execution_count": 20,
   "metadata": {},
   "outputs": [],
   "source": [
    "def func(x):\n",
    "    a = 10 * x\n",
    "    print(\"a =\",a)\n",
    "    return a"
   ]
  },
  {
   "cell_type": "code",
   "execution_count": 21,
   "metadata": {},
   "outputs": [
    {
     "name": "stdout",
     "output_type": "stream",
     "text": [
      "a = 100\n"
     ]
    },
    {
     "data": {
      "text/plain": [
       "100"
      ]
     },
     "execution_count": 21,
     "metadata": {},
     "output_type": "execute_result"
    }
   ],
   "source": [
    "func(10)"
   ]
  },
  {
   "cell_type": "code",
   "execution_count": 22,
   "metadata": {},
   "outputs": [],
   "source": [
    "def sub1(x, y):\n",
    "    return x + y\n",
    "\n",
    "def sub2(x, y):\n",
    "    print(x + y)\n",
    "    #return"
   ]
  },
  {
   "cell_type": "code",
   "execution_count": 23,
   "metadata": {},
   "outputs": [
    {
     "name": "stdout",
     "output_type": "stream",
     "text": [
      "30\n"
     ]
    }
   ],
   "source": [
    "print(sub1(10, 20)) # print(30)"
   ]
  },
  {
   "cell_type": "code",
   "execution_count": 24,
   "metadata": {},
   "outputs": [
    {
     "name": "stdout",
     "output_type": "stream",
     "text": [
      "30\n",
      "None\n"
     ]
    }
   ],
   "source": [
    "print(sub2(10, 20)) # print(print(30))"
   ]
  },
  {
   "cell_type": "code",
   "execution_count": 25,
   "metadata": {},
   "outputs": [
    {
     "data": {
      "text/plain": [
       "100"
      ]
     },
     "execution_count": 25,
     "metadata": {},
     "output_type": "execute_result"
    }
   ],
   "source": [
    "# 사용자 정의 함수와 내장 함수\n",
    "abs(-100)"
   ]
  },
  {
   "cell_type": "code",
   "execution_count": 26,
   "metadata": {},
   "outputs": [],
   "source": [
    "def my_abs(arg):\n",
    "    if arg < 0:\n",
    "        arg *= -1\n",
    "    return arg"
   ]
  },
  {
   "cell_type": "code",
   "execution_count": 28,
   "metadata": {},
   "outputs": [
    {
     "data": {
      "text/plain": [
       "100"
      ]
     },
     "execution_count": 28,
     "metadata": {},
     "output_type": "execute_result"
    }
   ],
   "source": [
    "my_abs(-100)"
   ]
  },
  {
   "cell_type": "code",
   "execution_count": 32,
   "metadata": {},
   "outputs": [],
   "source": [
    "def print_text(text, count = 1): # default parameter, 디폴트 매개변수, 매개변수 초기값\n",
    "    for i in range(count):\n",
    "        print(text)"
   ]
  },
  {
   "cell_type": "code",
   "execution_count": 30,
   "metadata": {},
   "outputs": [
    {
     "name": "stdout",
     "output_type": "stream",
     "text": [
      "안녕하세요\n",
      "안녕하세요\n",
      "안녕하세요\n"
     ]
    }
   ],
   "source": [
    "print_text('안녕하세요', 3)"
   ]
  },
  {
   "cell_type": "code",
   "execution_count": 33,
   "metadata": {},
   "outputs": [
    {
     "name": "stdout",
     "output_type": "stream",
     "text": [
      "안녕하세요\n"
     ]
    }
   ],
   "source": [
    "print_text('안녕하세요')"
   ]
  },
  {
   "cell_type": "code",
   "execution_count": 34,
   "metadata": {},
   "outputs": [
    {
     "name": "stdout",
     "output_type": "stream",
     "text": [
      "True\n",
      "False\n",
      "True\n",
      "False\n"
     ]
    }
   ],
   "source": [
    "# all() : 모든 값이 True인지 검사하는 함수\n",
    "# any() : 어느 것 하나라도 True인지 검사하는 함수\n",
    "print(all([1, 2, 3]))\n",
    "print(all([1, 2, 3, 0]))\n",
    "\n",
    "print(any([1, 2, 3]))\n",
    "print(any([0, 0, 0, 0]))"
   ]
  },
  {
   "cell_type": "code",
   "execution_count": 35,
   "metadata": {},
   "outputs": [
    {
     "name": "stdout",
     "output_type": "stream",
     "text": [
      "True\n"
     ]
    }
   ],
   "source": [
    "a = 'hello'\n",
    "\n",
    "if a:\n",
    "    print('True')\n",
    "else:\n",
    "    print('False')"
   ]
  },
  {
   "cell_type": "code",
   "execution_count": 37,
   "metadata": {},
   "outputs": [],
   "source": [
    "# 가변길이 매개변수\n",
    "def texts(*text):\n",
    "    result = '' # 누적변수\n",
    "    \n",
    "    for i in text:\n",
    "        result += i\n",
    "    \n",
    "    return result"
   ]
  },
  {
   "cell_type": "code",
   "execution_count": 39,
   "metadata": {},
   "outputs": [
    {
     "name": "stdout",
     "output_type": "stream",
     "text": [
      "아버지가방에들어가신다\n"
     ]
    }
   ],
   "source": [
    "print(texts('아버지가', '방에', '들어가신다'))"
   ]
  },
  {
   "cell_type": "code",
   "execution_count": 46,
   "metadata": {},
   "outputs": [],
   "source": [
    "def player(**players): # 딕셔너리 타입의 가변길이 \n",
    "    print(type(players))\n",
    "    for k in players.keys():\n",
    "        print(type(k))\n",
    "        print(f'{k} = {players[k]}')"
   ]
  },
  {
   "cell_type": "code",
   "execution_count": 52,
   "metadata": {},
   "outputs": [
    {
     "name": "stdout",
     "output_type": "stream",
     "text": [
      "<class 'dict'>\n",
      "<class 'str'>\n",
      "카시야스 = GK\n",
      "<class 'str'>\n",
      "호날두 = FW\n",
      "<class 'str'>\n",
      "손흥민 = MF\n"
     ]
    }
   ],
   "source": [
    "player(카시야스 = 'GK', 호날두 = 'FW', 손흥민 = 'MF')"
   ]
  },
  {
   "cell_type": "code",
   "execution_count": null,
   "metadata": {},
   "outputs": [],
   "source": [
    "def people(name, age, height):\n",
    "    print(f'{name}님 : {age}세, {height}cm')"
   ]
  },
  {
   "cell_type": "code",
   "execution_count": 53,
   "metadata": {},
   "outputs": [],
   "source": [
    "def add_sum(*x):\n",
    "    res = 0\n",
    "    for i in x:\n",
    "        res += i\n",
    "    return res"
   ]
  },
  {
   "cell_type": "code",
   "execution_count": 54,
   "metadata": {},
   "outputs": [
    {
     "name": "stdout",
     "output_type": "stream",
     "text": [
      "3\n",
      "6\n",
      "10\n",
      "15\n",
      "21\n",
      "28\n"
     ]
    }
   ],
   "source": [
    "print(add_sum(1, 2))\n",
    "print(add_sum(1, 2, 3))\n",
    "print(add_sum(1, 2, 3, 4))\n",
    "print(add_sum(1, 2, 3, 4, 5))\n",
    "print(add_sum(1, 2, 3, 4, 5, 6))\n",
    "print(add_sum(1, 2, 3, 4, 5, 6, 7))"
   ]
  },
  {
   "cell_type": "code",
   "execution_count": 55,
   "metadata": {},
   "outputs": [],
   "source": [
    "def add_mul(choice, *args):\n",
    "    if choice == \"add\":\n",
    "        res = 0\n",
    "        for i in args:\n",
    "            res += i\n",
    "    elif choice == \"mul\":\n",
    "        res = 1\n",
    "        for i in args:\n",
    "            res *= i\n",
    "            \n",
    "    return res"
   ]
  },
  {
   "cell_type": "code",
   "execution_count": 56,
   "metadata": {},
   "outputs": [],
   "source": [
    "result = add_mul('add', 1, 2, 3, 4, 5)"
   ]
  },
  {
   "cell_type": "code",
   "execution_count": 57,
   "metadata": {},
   "outputs": [
    {
     "name": "stdout",
     "output_type": "stream",
     "text": [
      "15\n"
     ]
    }
   ],
   "source": [
    "print(result)"
   ]
  },
  {
   "cell_type": "code",
   "execution_count": 58,
   "metadata": {},
   "outputs": [
    {
     "name": "stdout",
     "output_type": "stream",
     "text": [
      "120\n"
     ]
    }
   ],
   "source": [
    "result = add_mul('mul', 1, 2, 3, 4, 5)\n",
    "print(result)"
   ]
  },
  {
   "cell_type": "code",
   "execution_count": 71,
   "metadata": {},
   "outputs": [],
   "source": [
    "def gugudan(dan):\n",
    "    print(f'====={dan}단=====')\n",
    "    for i in range(1, 10):\n",
    "        print(\"{0} x {1} = {2}\".format(dan, i, dan * i))"
   ]
  },
  {
   "cell_type": "code",
   "execution_count": 72,
   "metadata": {},
   "outputs": [
    {
     "name": "stdout",
     "output_type": "stream",
     "text": [
      "출력할 단의 숫자를 입력하세요: 3\n",
      "=====3단=====\n",
      "3 x 1 = 3\n",
      "3 x 2 = 6\n",
      "3 x 3 = 9\n",
      "3 x 4 = 12\n",
      "3 x 5 = 15\n",
      "3 x 6 = 18\n",
      "3 x 7 = 21\n",
      "3 x 8 = 24\n",
      "3 x 9 = 27\n"
     ]
    }
   ],
   "source": [
    "num = int(input('출력할 단의 숫자를 입력하세요: '))\n",
    "gugudan(num)"
   ]
  },
  {
   "cell_type": "code",
   "execution_count": 73,
   "metadata": {},
   "outputs": [
    {
     "name": "stdout",
     "output_type": "stream",
     "text": [
      "Hello,  Lee\n",
      "이름을 입력하세요.\n"
     ]
    }
   ],
   "source": [
    "def hello(name = None):\n",
    "    if name == None:\n",
    "        print('이름을 입력하세요.')\n",
    "        return\n",
    "    print('Hello, ', name)\n",
    "\n",
    "hello('Lee')\n",
    "hello()"
   ]
  },
  {
   "cell_type": "code",
   "execution_count": 74,
   "metadata": {},
   "outputs": [
    {
     "name": "stdout",
     "output_type": "stream",
     "text": [
      "Hello, Kim\n",
      "Hello, Lee\n"
     ]
    }
   ],
   "source": [
    "def hello3(name = 'Kim'):\n",
    "    s = f\"Hello, {name}\"\n",
    "    print(s)\n",
    "    \n",
    "hello3()\n",
    "hello3('Lee')"
   ]
  },
  {
   "cell_type": "markdown",
   "metadata": {},
   "source": [
    "#### 함수의 유형\n",
    "- 매개변수도 없고 리턴값도 없는 형태\n",
    "- 매개변수는 없고 리턴값은 있는 형태\n",
    "- 매개변수가 있고 리턴값이 없는 형태\n",
    "- 매개변수가 있고 리턴값도 있는 형태"
   ]
  },
  {
   "cell_type": "code",
   "execution_count": 76,
   "metadata": {},
   "outputs": [
    {
     "name": "stdout",
     "output_type": "stream",
     "text": [
      "Hi\n"
     ]
    }
   ],
   "source": [
    "def hi():\n",
    "    print(\"Hi\")\n",
    "hi()"
   ]
  },
  {
   "cell_type": "code",
   "execution_count": 77,
   "metadata": {},
   "outputs": [
    {
     "name": "stdout",
     "output_type": "stream",
     "text": [
      "Hi\n"
     ]
    }
   ],
   "source": [
    "def hi2():\n",
    "    return \"Hi\"\n",
    "\n",
    "print(hi2())"
   ]
  },
  {
   "cell_type": "code",
   "execution_count": 78,
   "metadata": {},
   "outputs": [
    {
     "name": "stdout",
     "output_type": "stream",
     "text": [
      "10, 20\n"
     ]
    }
   ],
   "source": [
    "def add(x, y):\n",
    "    print(f\"{x}, {y}\")\n",
    "    \n",
    "add(10, 20)"
   ]
  },
  {
   "cell_type": "code",
   "execution_count": 79,
   "metadata": {},
   "outputs": [
    {
     "name": "stdout",
     "output_type": "stream",
     "text": [
      "10, 20\n"
     ]
    }
   ],
   "source": [
    "def add2(x, y):\n",
    "    return f\"{x}, {y}\"\n",
    "\n",
    "print(add2(10, 20))"
   ]
  },
  {
   "cell_type": "code",
   "execution_count": 80,
   "metadata": {},
   "outputs": [
    {
     "name": "stdout",
     "output_type": "stream",
     "text": [
      "a =  2\n",
      "2\n"
     ]
    }
   ],
   "source": [
    "a = 1\n",
    "def test():\n",
    "    global a\n",
    "    a = a + 1\n",
    "    print(\"a = \", a)\n",
    "test()\n",
    "print(a)"
   ]
  },
  {
   "cell_type": "code",
   "execution_count": null,
   "metadata": {},
   "outputs": [],
   "source": []
  }
 ],
 "metadata": {
  "kernelspec": {
   "display_name": "Python 3",
   "language": "python",
   "name": "python3"
  },
  "language_info": {
   "codemirror_mode": {
    "name": "ipython",
    "version": 3
   },
   "file_extension": ".py",
   "mimetype": "text/x-python",
   "name": "python",
   "nbconvert_exporter": "python",
   "pygments_lexer": "ipython3",
   "version": "3.7.3"
  }
 },
 "nbformat": 4,
 "nbformat_minor": 2
}
