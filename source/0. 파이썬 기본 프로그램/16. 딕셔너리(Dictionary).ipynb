{
 "cells": [
  {
   "cell_type": "code",
   "execution_count": 1,
   "metadata": {},
   "outputs": [
    {
     "data": {
      "text/plain": [
       "{'aaa': 5, 'bbb': 7}"
      ]
     },
     "execution_count": 1,
     "metadata": {},
     "output_type": "execute_result"
    }
   ],
   "source": [
    "list1 = [['aaa', 5], ['bbb', 7]]\n",
    "dict(list1)"
   ]
  },
  {
   "cell_type": "code",
   "execution_count": 2,
   "metadata": {},
   "outputs": [
    {
     "data": {
      "text/plain": [
       "{'aaa': 5, 'bbb': 7}"
      ]
     },
     "execution_count": 2,
     "metadata": {},
     "output_type": "execute_result"
    }
   ],
   "source": [
    "list2 = [('aaa', 5), ('bbb', 7)]\n",
    "dict(list2)"
   ]
  },
  {
   "cell_type": "code",
   "execution_count": 3,
   "metadata": {},
   "outputs": [
    {
     "data": {
      "text/plain": [
       "{'aaa': 5, 'bbb': 7}"
      ]
     },
     "execution_count": 3,
     "metadata": {},
     "output_type": "execute_result"
    }
   ],
   "source": [
    "list3 = (('aaa', 5), ('bbb', 7))\n",
    "dict(list3)"
   ]
  },
  {
   "cell_type": "code",
   "execution_count": 4,
   "metadata": {},
   "outputs": [
    {
     "name": "stdout",
     "output_type": "stream",
     "text": [
      "{'aaa': [1, 2, 3, 5], 'bbb': 20, 'ccc': 15, 'ddd': 30}\n",
      "{'aaa': [1, 2, 3, 5], 'bbb': 20, 'ccc': 15, 'ddd': 30}\n"
     ]
    }
   ],
   "source": [
    "a = {'aaa' : [1, 2, 3], 'bbb':20, 'ccc':15, 'ddd':30}\n",
    "\n",
    "# 얕은복사 : 같은 기억공간을 사용\n",
    "b = a.copy()\n",
    "b['aaa'].append(5)\n",
    "\n",
    "print(a)\n",
    "print(b)"
   ]
  },
  {
   "cell_type": "code",
   "execution_count": 5,
   "metadata": {},
   "outputs": [
    {
     "name": "stdout",
     "output_type": "stream",
     "text": [
      "{'aaa': [1, 2, 3, 5], 'bbb': 20, 'ccc': 15, 'ddd': 30}\n",
      "{'aaa': [1, 2, 3, 5], 'bbb': 20, 'ccc': 15, 'ddd': 30}\n"
     ]
    }
   ],
   "source": [
    "a = {'aaa' : [1, 2, 3], 'bbb':20, 'ccc':15, 'ddd':30}\n",
    "b = dict(a)\n",
    "\n",
    "b = a.copy()\n",
    "b['aaa'].append(5)\n",
    "\n",
    "print(a)\n",
    "print(b)"
   ]
  },
  {
   "cell_type": "code",
   "execution_count": 6,
   "metadata": {},
   "outputs": [
    {
     "name": "stdout",
     "output_type": "stream",
     "text": [
      "{'aaa': [1, 2, 3], 'bbb': 20, 'ccc': 15, 'ddd': 30}\n",
      "{'aaa': [1, 2, 3, 4], 'bbb': 20, 'ccc': 15, 'ddd': 30}\n",
      "2459736937600\n",
      "2459736937816\n"
     ]
    }
   ],
   "source": [
    "import copy\n",
    "\n",
    "a = {'aaa' : [1, 2, 3], 'bbb':20, 'ccc':15, 'ddd':30}\n",
    "b = copy.deepcopy(a)\n",
    "b['aaa'].append(4)\n",
    "\n",
    "print(a)\n",
    "print(b)\n",
    "\n",
    "print(id(a))\n",
    "print(id(b))"
   ]
  },
  {
   "cell_type": "code",
   "execution_count": 8,
   "metadata": {},
   "outputs": [
    {
     "name": "stdout",
     "output_type": "stream",
     "text": [
      "{'aaa': [1, 2, 3], 'bbb': 99, 'ccc': 10, 'ddd': 30, 'lee': 44}\n"
     ]
    }
   ],
   "source": [
    "# update() : 여러개의 값을 한번에 수정\n",
    "# key가 없는 값이 들어오면 추가\n",
    "\n",
    "a = {'aaa' : [1, 2, 3], 'bbb':20, 'ccc':15, 'ddd':30}\n",
    "a.update({'bbb':99, 'ccc':10, 'lee':44})\n",
    "\n",
    "print(a)"
   ]
  },
  {
   "cell_type": "code",
   "execution_count": null,
   "metadata": {},
   "outputs": [],
   "source": []
  }
 ],
 "metadata": {
  "kernelspec": {
   "display_name": "Python 3",
   "language": "python",
   "name": "python3"
  },
  "language_info": {
   "codemirror_mode": {
    "name": "ipython",
    "version": 3
   },
   "file_extension": ".py",
   "mimetype": "text/x-python",
   "name": "python",
   "nbconvert_exporter": "python",
   "pygments_lexer": "ipython3",
   "version": "3.7.3"
  }
 },
 "nbformat": 4,
 "nbformat_minor": 2
}
