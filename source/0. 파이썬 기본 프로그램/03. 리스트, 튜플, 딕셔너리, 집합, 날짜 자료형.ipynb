{
 "cells": [
  {
   "cell_type": "markdown",
   "metadata": {},
   "source": [
    "#### 0. 리스트(List)\n",
    "- 임의의 객체를 순차적으로 저장하는 자료형\n",
    "- Sequence DataType, 시퀀스 자료형\n",
    "- 변경 가능\n",
    "- 대괄호 []\n",
    "- 중요함수 : range()"
   ]
  },
  {
   "cell_type": "code",
   "execution_count": 1,
   "metadata": {},
   "outputs": [
    {
     "name": "stdout",
     "output_type": "stream",
     "text": [
      "['홍길동', '장보고', '이순신', '강감찬']\n"
     ]
    }
   ],
   "source": [
    "# 리스트 생성\n",
    "names = ['홍길동', '장보고', '이순신', '강감찬']\n",
    "print(names)"
   ]
  },
  {
   "cell_type": "code",
   "execution_count": 2,
   "metadata": {},
   "outputs": [
    {
     "name": "stdout",
     "output_type": "stream",
     "text": [
      "[12, 20, 33, '41']\n"
     ]
    }
   ],
   "source": [
    "ages = [12, 20, 33, '41']\n",
    "print(ages)"
   ]
  },
  {
   "cell_type": "code",
   "execution_count": 3,
   "metadata": {},
   "outputs": [
    {
     "name": "stdout",
     "output_type": "stream",
     "text": [
      "[1, 2, 3, 4, 5, 6, 7, 8, 9, 10]\n",
      "2\n"
     ]
    }
   ],
   "source": [
    "# 인덱싱[], 인덱스의 시작은 0부터\n",
    "a = [1, 2, 3, 4, 5, 6, 7, 8, 9, 10]\n",
    "print(a)\n",
    "print(a[1])"
   ]
  },
  {
   "cell_type": "code",
   "execution_count": 7,
   "metadata": {},
   "outputs": [
    {
     "name": "stdout",
     "output_type": "stream",
     "text": [
      "[1, 2, 3, 4, 5, 6, 7, 8, 9, 10]\n",
      "[1, 2, 3, 4, 5]\n",
      "[7, 8, 9, 10]\n"
     ]
    }
   ],
   "source": [
    "# 슬라이싱 : 리스트에서 한 번에 여러 개의 데이터 추출\n",
    "# [start:end-1]\n",
    "print(a)\n",
    "print(a[0:5])\n",
    "print(a[6:])\n",
    "print(a[:3])"
   ]
  },
  {
   "cell_type": "code",
   "execution_count": 8,
   "metadata": {},
   "outputs": [
    {
     "name": "stdout",
     "output_type": "stream",
     "text": [
      "[1, 2, 3, 4, 5, 6, 7]\n",
      "[5, 6, 7, 1, 2, 3, 4]\n"
     ]
    }
   ],
   "source": [
    "# '+' 연산자를 이용해서 리스트 결합이 가능하다.\n",
    "a = [1, 2, 3, 4]\n",
    "b = [5, 6, 7]\n",
    "print(a + b)\n",
    "print(b + a)"
   ]
  },
  {
   "cell_type": "code",
   "execution_count": 9,
   "metadata": {},
   "outputs": [
    {
     "name": "stdout",
     "output_type": "stream",
     "text": [
      "[1, 2, 3, 4, 5]\n",
      "[1, 2, 3, 30, 5]\n"
     ]
    }
   ],
   "source": [
    "# 리스트는 변경이 가능하다.\n",
    "# 리스트의 특정 위치의 값을 참조하고 변경\n",
    "a = [1, 2, 3, 4, 5]\n",
    "print(a)\n",
    "a[3] = 30\n",
    "print(a)"
   ]
  },
  {
   "cell_type": "code",
   "execution_count": 10,
   "metadata": {},
   "outputs": [
    {
     "name": "stdout",
     "output_type": "stream",
     "text": [
      "5\n",
      "[1, 2, 3]\n",
      "[1, 2, 3, 4]\n"
     ]
    }
   ],
   "source": [
    "# 리스트의 길이를 반환하는 함수 len()\n",
    "print(len(a))\n",
    "\n",
    "# append() : 리스트 끝에 추가하는 함수\n",
    "a = [1, 2, 3]\n",
    "print(a)\n",
    "a.append(4)\n",
    "print(a)"
   ]
  },
  {
   "cell_type": "code",
   "execution_count": 24,
   "metadata": {},
   "outputs": [
    {
     "name": "stdout",
     "output_type": "stream",
     "text": [
      "[1, 2, 3]\n",
      "[1, 2, 3, 1, 2, 3, 1, 2, 3]\n"
     ]
    }
   ],
   "source": [
    "# '*' 반복\n",
    "a = [1, 2, 3]\n",
    "print(a)\n",
    "print(a * 3)"
   ]
  },
  {
   "cell_type": "code",
   "execution_count": 11,
   "metadata": {},
   "outputs": [
    {
     "name": "stdout",
     "output_type": "stream",
     "text": [
      "[1, 2, 3]\n",
      "[1, 2, 3, 4, 5, 6]\n"
     ]
    }
   ],
   "source": [
    "# '+' 리스트간의 결합을 의미\n",
    "# extend()\n",
    "a = [1, 2, 3]\n",
    "print(a)\n",
    "a.extend([4, 5, 6])\n",
    "print(a)"
   ]
  },
  {
   "cell_type": "code",
   "execution_count": 12,
   "metadata": {},
   "outputs": [
    {
     "name": "stdout",
     "output_type": "stream",
     "text": [
      "[2, 4, 5]\n",
      "[1, 2, 3, 4, 5]\n"
     ]
    }
   ],
   "source": [
    "# insert(INDEX, DATA)\n",
    "a = [2, 4, 5]\n",
    "print(a)\n",
    "a.insert(0, 1)\n",
    "a.insert(2, 3)\n",
    "print(a)"
   ]
  },
  {
   "cell_type": "code",
   "execution_count": 13,
   "metadata": {},
   "outputs": [
    {
     "name": "stdout",
     "output_type": "stream",
     "text": [
      "['BMW', 'BENZ', 'AUDI', 'VOLKSWAGEN']\n",
      "['BMW', 'BENZ', 'AUDI']\n"
     ]
    }
   ],
   "source": [
    "# remove(DATA), 제거하는 함수\n",
    "a = ['BMW', 'BENZ', 'AUDI', 'VOLKSWAGEN']\n",
    "print(a)\n",
    "a.remove('VOLKSWAGEN')\n",
    "print(a)"
   ]
  },
  {
   "cell_type": "code",
   "execution_count": 16,
   "metadata": {},
   "outputs": [
    {
     "name": "stdout",
     "output_type": "stream",
     "text": [
      "[1, 2, 3, 4, 5]\n",
      "5\n",
      "[1, 2, 3, 4]\n",
      "[1, 2, 3]\n"
     ]
    }
   ],
   "source": [
    "# pop(), 마지막 위치에 있는 요소를 제거하는 함수\n",
    "a = [1, 2, 3, 4, 5]\n",
    "print(a)\n",
    "print(a.pop())\n",
    "print(a)\n",
    "a.pop()\n",
    "print(a)"
   ]
  },
  {
   "cell_type": "code",
   "execution_count": 17,
   "metadata": {},
   "outputs": [
    {
     "name": "stdout",
     "output_type": "stream",
     "text": [
      "3\n"
     ]
    }
   ],
   "source": [
    "# count(DATA), 입력된 매개변수와 일치하는 데이터 개수\n",
    "a = [1, 100, 2, 100, 3, 100]\n",
    "print(a.count(100))"
   ]
  },
  {
   "cell_type": "code",
   "execution_count": 18,
   "metadata": {},
   "outputs": [
    {
     "name": "stdout",
     "output_type": "stream",
     "text": [
      "[5, 6, 1, 7, 3, 2]\n",
      "[1, 2, 3, 5, 6, 7]\n",
      "[7, 6, 5, 3, 2, 1]\n"
     ]
    }
   ],
   "source": [
    "# sort(), 정렬 - 기본형 : 오름차순, reverse = True : 내림차순\n",
    "a = [5, 6, 1, 7, 3, 2]\n",
    "print(a)\n",
    "a.sort()\n",
    "print(a)\n",
    "a.sort(reverse = True)\n",
    "print(a)"
   ]
  },
  {
   "cell_type": "code",
   "execution_count": 19,
   "metadata": {},
   "outputs": [
    {
     "name": "stdout",
     "output_type": "stream",
     "text": [
      "[2, 3, 7, 1, 6, 5]\n"
     ]
    }
   ],
   "source": [
    "# 리스트 요소를 뒤집는 함수\n",
    "a = [5, 6, 1, 7, 3, 2]\n",
    "a.reverse()\n",
    "print(a)"
   ]
  },
  {
   "cell_type": "markdown",
   "metadata": {},
   "source": [
    "#### 1. 튜플(Tuple)\n",
    "- 리스트와 유사하지만 튜플 내의 값을 변경할 수 없다.\n",
    "- 읽기전용 데이터를 저장할 때 사용\n",
    "- 변경 불가능\n",
    "- 소괄호()"
   ]
  },
  {
   "cell_type": "code",
   "execution_count": 20,
   "metadata": {},
   "outputs": [
    {
     "name": "stdout",
     "output_type": "stream",
     "text": [
      "<class 'tuple'>\n"
     ]
    }
   ],
   "source": [
    "# 튜플 생성하기\n",
    "a = (1, 2, 3)\n",
    "print(type(a))"
   ]
  },
  {
   "cell_type": "code",
   "execution_count": 21,
   "metadata": {},
   "outputs": [
    {
     "name": "stdout",
     "output_type": "stream",
     "text": [
      "(1, 2, 3, 4, 5)\n",
      "<class 'tuple'>\n"
     ]
    }
   ],
   "source": [
    "a = 1, 2, 3, 4, 5 # Packing\n",
    "print(a)\n",
    "print(type(a))"
   ]
  },
  {
   "cell_type": "code",
   "execution_count": 22,
   "metadata": {},
   "outputs": [
    {
     "name": "stdout",
     "output_type": "stream",
     "text": [
      "(1, 2, 3, 4, 5, 6, 7, 8, 9, 10)\n",
      "4\n",
      "(1, 2, 3)\n",
      "(5, 6)\n"
     ]
    }
   ],
   "source": [
    "a = (1, 2, 3, 4, 5, 6, 7, 8, 9, 10)\n",
    "print(a)\n",
    "\n",
    "# Indexing & Slicing, [:] 조건식\n",
    "print(a[3])\n",
    "print(a[:3])\n",
    "print(a[4:6])"
   ]
  },
  {
   "cell_type": "code",
   "execution_count": null,
   "metadata": {},
   "outputs": [],
   "source": [
    "a = (1, 2, 3)\n",
    "a[0] = 7 # 값 변경 불가 오류"
   ]
  },
  {
   "cell_type": "code",
   "execution_count": 23,
   "metadata": {},
   "outputs": [
    {
     "name": "stdout",
     "output_type": "stream",
     "text": [
      "(1, 2, 'a', 'b') (3, 4)\n",
      "(1, 2, 'a', 'b', 3, 4)\n",
      "(3, 4, 1, 2, 'a', 'b')\n"
     ]
    }
   ],
   "source": [
    "t1 = (1, 2, 'a', 'b')\n",
    "t2 = (3, 4)\n",
    "print(t1, t2)\n",
    "print(t1 + t2)\n",
    "print(t2 + t1)"
   ]
  },
  {
   "cell_type": "code",
   "execution_count": 25,
   "metadata": {},
   "outputs": [
    {
     "name": "stdout",
     "output_type": "stream",
     "text": [
      "(1, 2, 3)\n",
      "(1, 2, 3, 1, 2, 3)\n"
     ]
    }
   ],
   "source": [
    "t1 = (1, 2, 3)\n",
    "print(t1)\n",
    "print(t1 * 2)"
   ]
  },
  {
   "cell_type": "code",
   "execution_count": 26,
   "metadata": {},
   "outputs": [
    {
     "name": "stdout",
     "output_type": "stream",
     "text": [
      "(1, 2, 3, 4, 5)\n",
      "5\n"
     ]
    }
   ],
   "source": [
    "t1 = (1, 2, 3, 4, 5)\n",
    "print(t1)\n",
    "print(len(t1)) #length 길이"
   ]
  },
  {
   "cell_type": "code",
   "execution_count": 27,
   "metadata": {},
   "outputs": [
    {
     "name": "stdout",
     "output_type": "stream",
     "text": [
      "(1, 2, 3)\n",
      "1\n"
     ]
    }
   ],
   "source": [
    "# Packing, Unpacking\n",
    "t1 = 1, 2, 3 #Packing\n",
    "print(t1)\n",
    "\n",
    "one, two, three = t1 #Unpacking\n",
    "print(one)\n",
    "\n",
    "#aa, bb = t1 # 요소의 개수가 달라 오류 발생"
   ]
  },
  {
   "cell_type": "code",
   "execution_count": 28,
   "metadata": {},
   "outputs": [
    {
     "name": "stdout",
     "output_type": "stream",
     "text": [
      "Seoul 37.541 126.986\n"
     ]
    }
   ],
   "source": [
    "city, latitude, longitude = 'Seoul', 37.541, 126.986\n",
    "print(city, latitude, longitude)"
   ]
  },
  {
   "cell_type": "code",
   "execution_count": 29,
   "metadata": {},
   "outputs": [
    {
     "name": "stdout",
     "output_type": "stream",
     "text": [
      "[1, 2, 3, 4]\n"
     ]
    }
   ],
   "source": [
    "# 리스트의 append(), 뒤에 추가한다.\n",
    "t1 = (1, 2, 3)\n",
    "t1.append(4)\n",
    "print(t1)"
   ]
  },
  {
   "cell_type": "code",
   "execution_count": null,
   "metadata": {},
   "outputs": [],
   "source": [
    "# 튜플에서 사용가능한 메서드 index(), count()\n",
    "t1 = ('abc', 'def', 'ghi')\n",
    "print(t1.index('def'))\n",
    "#print(t1.index('jkl')) #value error 발생 : 존재하지 않는 값"
   ]
  },
  {
   "cell_type": "code",
   "execution_count": 30,
   "metadata": {},
   "outputs": [
    {
     "name": "stdout",
     "output_type": "stream",
     "text": [
      "3\n",
      "0\n"
     ]
    }
   ],
   "source": [
    "t1 = (1, 100, 2, 100, 3, 100)\n",
    "print(t1.count(100))\n",
    "print(t1.count(200))"
   ]
  },
  {
   "cell_type": "markdown",
   "metadata": {},
   "source": [
    "#### 2. 딕셔너리(Dictionary)\n",
    "- 파이썬에서 가장 많이 사용하는 자료구조\n",
    "- 확장된 개념은 DataFrame(데이터프레임)이다.\n",
    "- 키(Key)와 값(Value)를 쌍으로 저장하고 관리한다.\n",
    "- 키는 중복을 허용하지 않고, 값은 중복이 허용된다.\n",
    "- 저장된 데이터의 순서는 의미가 없다.\n",
    "- 중괄호 {}\n",
    "- 아이템은 키와 값을 묶어서 부른다.\n",
    "- 쉼표(,)를 기준으로 아이템을 구분한다.\n",
    "- 중요함수 : 사전.keys(), 사전.values(), 사전.items()"
   ]
  },
  {
   "cell_type": "code",
   "execution_count": 41,
   "metadata": {},
   "outputs": [
    {
     "name": "stdout",
     "output_type": "stream",
     "text": [
      "{'파이썬': 'www.python.org', '애플': 'www.apple.com', '마이크로소프트': 'www.microsoft.com'}\n",
      "<class 'dict'>\n"
     ]
    }
   ],
   "source": [
    "# 딕셔너리 생성\n",
    "dic = {}\n",
    "dic['파이썬'] = 'www.python.org'\n",
    "dic['애플'] = 'www.apple.com'\n",
    "dic['마이크로소프트'] = 'www.microsoft.com'\n",
    "print(dic)\n",
    "print(type(dic))"
   ]
  },
  {
   "cell_type": "code",
   "execution_count": 33,
   "metadata": {},
   "outputs": [
    {
     "name": "stdout",
     "output_type": "stream",
     "text": [
      "dict_keys(['파이썬', '애플', '마이크로소프트'])\n",
      "dict_values(['www.python.org', 'www.apple.com', 'www.microsoft.com'])\n"
     ]
    }
   ],
   "source": [
    "print(dic.keys())\n",
    "print(dic.values()) # 리스트 형태"
   ]
  },
  {
   "cell_type": "code",
   "execution_count": 34,
   "metadata": {},
   "outputs": [
    {
     "name": "stdout",
     "output_type": "stream",
     "text": [
      "dict_items([('파이썬', 'www.python.org'), ('애플', 'www.apple.com'), ('마이크로소프트', 'www.microsoft.com')])\n"
     ]
    }
   ],
   "source": [
    "print(dic.items())"
   ]
  },
  {
   "cell_type": "code",
   "execution_count": 35,
   "metadata": {},
   "outputs": [
    {
     "data": {
      "text/plain": [
       "True"
      ]
     },
     "execution_count": 35,
     "metadata": {},
     "output_type": "execute_result"
    }
   ],
   "source": [
    "# in 연산자\n",
    "print('애플' in dic.keys())"
   ]
  },
  {
   "cell_type": "code",
   "execution_count": 36,
   "metadata": {},
   "outputs": [
    {
     "name": "stdout",
     "output_type": "stream",
     "text": [
      "False\n",
      "True\n"
     ]
    }
   ],
   "source": [
    "print('사과' in dic.keys())\n",
    "print('www.apple.com' in dic.values())"
   ]
  },
  {
   "cell_type": "code",
   "execution_count": 37,
   "metadata": {},
   "outputs": [
    {
     "name": "stdout",
     "output_type": "stream",
     "text": [
      "{'홍길동': '컴공과', '이순신': '해양과'}\n"
     ]
    }
   ],
   "source": [
    "students = {'홍길동':'컴공과', '이순신':'해양과'}\n",
    "print(students)"
   ]
  },
  {
   "cell_type": "code",
   "execution_count": 42,
   "metadata": {},
   "outputs": [
    {
     "name": "stdout",
     "output_type": "stream",
     "text": [
      "{'파이썬': 'www.python.org', '애플': 'www.apple.com', '마이크로소프트': 'www.microsoft.com'}\n",
      "{'파이썬': 'www.python.org', '마이크로소프트': 'www.microsoft.com'}\n"
     ]
    }
   ],
   "source": [
    "# 'pop' 키와 값을 쌍으로 제거하는 함수\n",
    "print(dic)\n",
    "dic.pop('애플')\n",
    "print(dic)"
   ]
  },
  {
   "cell_type": "code",
   "execution_count": 43,
   "metadata": {},
   "outputs": [
    {
     "name": "stdout",
     "output_type": "stream",
     "text": [
      "{'파이썬': 'www.python.org', '마이크로소프트': 'www.microsoft.com'}\n",
      "{}\n"
     ]
    }
   ],
   "source": [
    "# clear() 딕셔너리 요소를 모두 제거하는 함수\n",
    "print(dic)\n",
    "dic.clear()\n",
    "print(dic)"
   ]
  },
  {
   "cell_type": "code",
   "execution_count": 44,
   "metadata": {},
   "outputs": [
    {
     "name": "stdout",
     "output_type": "stream",
     "text": [
      "{'name': 'kim', 'phone': '010-1111-2222', 'birth': '1118'}\n",
      "kim\n"
     ]
    }
   ],
   "source": [
    "person = {'name':'kim', 'phone':'010-1111-2222', 'birth':'1118'}\n",
    "print(person)\n",
    "print(person['name'])"
   ]
  },
  {
   "cell_type": "code",
   "execution_count": null,
   "metadata": {},
   "outputs": [],
   "source": [
    "print(person.keys())"
   ]
  },
  {
   "cell_type": "code",
   "execution_count": 45,
   "metadata": {},
   "outputs": [
    {
     "data": {
      "text/plain": [
       "'010-1111-2222'"
      ]
     },
     "execution_count": 45,
     "metadata": {},
     "output_type": "execute_result"
    }
   ],
   "source": [
    "# get(KEY) 키를 통해 값을 얻어오는 함수\n",
    "person.get('phone')"
   ]
  },
  {
   "cell_type": "markdown",
   "metadata": {},
   "source": [
    "#### 3. 집합(Set)\n",
    "- 인덱스가 없고 값만 저장되는 자료구조\n",
    "- 순서는 의미가 없다.\n",
    "- 중괄호 {}\n",
    "- 쉼표(,)를 기준으로 아이템 구분\n",
    "- 중복을 허용하지 않는다."
   ]
  },
  {
   "cell_type": "code",
   "execution_count": 46,
   "metadata": {},
   "outputs": [
    {
     "name": "stdout",
     "output_type": "stream",
     "text": [
      "{1, 2, 3}\n",
      "{'l', 'H', 'o', 'e'}\n"
     ]
    }
   ],
   "source": [
    "# 집합 생성\n",
    "s1 = set([1, 2, 3])\n",
    "print(s1)\n",
    "s2 = set(\"Hello\")\n",
    "print(s2)"
   ]
  },
  {
   "cell_type": "code",
   "execution_count": 48,
   "metadata": {},
   "outputs": [
    {
     "name": "stdout",
     "output_type": "stream",
     "text": [
      "{1, 2, 3} [1, 2, 3]\n"
     ]
    }
   ],
   "source": [
    "s1 = set([1, 2, 3])\n",
    "l1 = list(s1)\n",
    "print(s1, l1)"
   ]
  },
  {
   "cell_type": "code",
   "execution_count": 49,
   "metadata": {},
   "outputs": [
    {
     "name": "stdout",
     "output_type": "stream",
     "text": [
      "(1, 2, 3)\n"
     ]
    }
   ],
   "source": [
    "t1 = tuple(s1)\n",
    "print(t1)"
   ]
  },
  {
   "cell_type": "code",
   "execution_count": 50,
   "metadata": {},
   "outputs": [
    {
     "name": "stdout",
     "output_type": "stream",
     "text": [
      "{1, 2, 3, 4, 5, 6}\n",
      "{4, 5, 6, 7, 8, 9}\n",
      "{4, 5, 6}\n",
      "{4, 5, 6}\n"
     ]
    }
   ],
   "source": [
    "# 교집합, 합집합, 차집합\n",
    "s1 = set([1, 2, 3, 4, 5, 6])\n",
    "s2 = set([4, 5, 6, 7, 8, 9])\n",
    "print(s1)\n",
    "print(s2)\n",
    "\n",
    "#교집합, &, intersection()\n",
    "print(s1 & s2)\n",
    "print(s1.intersection(s2))"
   ]
  },
  {
   "cell_type": "code",
   "execution_count": 51,
   "metadata": {},
   "outputs": [
    {
     "name": "stdout",
     "output_type": "stream",
     "text": [
      "{1, 2, 3, 4, 5, 6, 7, 8, 9}\n",
      "{1, 2, 3, 4, 5, 6, 7, 8, 9}\n"
     ]
    }
   ],
   "source": [
    "# 합집합, |, union()\n",
    "print(s1 | s2)\n",
    "print(s1.union(s2))"
   ]
  },
  {
   "cell_type": "code",
   "execution_count": 52,
   "metadata": {},
   "outputs": [
    {
     "name": "stdout",
     "output_type": "stream",
     "text": [
      "{1, 2, 3}\n",
      "{8, 9, 7}\n",
      "{1, 2, 3}\n",
      "{8, 9, 7}\n"
     ]
    }
   ],
   "source": [
    "# 차집합, -, difference()\n",
    "print(s1 - s2)\n",
    "print(s1.difference(s2))\n",
    "print(s2 - s1)\n",
    "print(s2.difference(s1))"
   ]
  },
  {
   "cell_type": "code",
   "execution_count": 55,
   "metadata": {},
   "outputs": [
    {
     "name": "stdout",
     "output_type": "stream",
     "text": [
      "{1, 2, 3, 4}\n",
      "{1, 2, 3, 4, 5, 6}\n"
     ]
    }
   ],
   "source": [
    "# add, 1개의 값을 추가하는 함수\n",
    "# update, 여러개의 값을 추가하는 함수\n",
    "\n",
    "s1 = set([1, 2, 3])\n",
    "s1.add(4)\n",
    "print(s1)\n",
    "s1.update([4, 5, 6])\n",
    "print(s1)"
   ]
  },
  {
   "cell_type": "code",
   "execution_count": 56,
   "metadata": {},
   "outputs": [
    {
     "name": "stdout",
     "output_type": "stream",
     "text": [
      "{1, 3, 4, 5, 6}\n"
     ]
    }
   ],
   "source": [
    "# remove 특정 값을 제거하는 함수\n",
    "s1.remove(2)\n",
    "print(s1)"
   ]
  },
  {
   "cell_type": "code",
   "execution_count": 58,
   "metadata": {},
   "outputs": [
    {
     "name": "stdout",
     "output_type": "stream",
     "text": [
      "[10, 2, 3, 4, 5]\n",
      "[10, 2, 3, 4, 5]\n"
     ]
    }
   ],
   "source": [
    "# 깊은 복사 얕은 복사\n",
    "a = [1, 2, 3, 4, 5]\n",
    "b = a # 주소값만 복사 (얕은 복사)\n",
    "b[0] = 10\n",
    "print(a)\n",
    "print(b)"
   ]
  },
  {
   "cell_type": "code",
   "execution_count": 59,
   "metadata": {},
   "outputs": [
    {
     "name": "stdout",
     "output_type": "stream",
     "text": [
      "[1, 2, 3, 4, 5]\n",
      "[10, 2, 3, 4, 5]\n"
     ]
    }
   ],
   "source": [
    "a = [1, 2, 3, 4, 5]\n",
    "b = a[:] # 데이터를 복사 (깊은 복사)\n",
    "b[0] = 10\n",
    "print(a)\n",
    "print(b)"
   ]
  },
  {
   "cell_type": "code",
   "execution_count": 60,
   "metadata": {},
   "outputs": [],
   "source": [
    "# 외부의 패키지나 모듈 또는 함수를 불러오는 작업\n",
    "# import 모듈 : 해당 모듈에 있는 모든 객체를 불러온다.\n",
    "# from 모듈 import 메서드나 함수 또는 변수\n",
    "# 날짜 자료형 처리\n",
    "from datetime import date, time, datetime, timedelta"
   ]
  },
  {
   "cell_type": "code",
   "execution_count": 63,
   "metadata": {},
   "outputs": [
    {
     "name": "stdout",
     "output_type": "stream",
     "text": [
      "오늘 : 2021-04-02\n",
      "2021년\n",
      "4월\n",
      "2일\n"
     ]
    }
   ],
   "source": [
    "# today() : 오늘 날짜를 반환하는 함수\n",
    "today = date.today()\n",
    "print(f\"오늘 : {today}\") # 년-월-일\n",
    "print(f\"{today.year}년\")\n",
    "print(f\"{today.month}월\")\n",
    "print(f\"{today.day}일\")"
   ]
  },
  {
   "cell_type": "code",
   "execution_count": 64,
   "metadata": {},
   "outputs": [
    {
     "name": "stdout",
     "output_type": "stream",
     "text": [
      "날짜와 시간 : 2021-04-02 12:27:48.187445\n"
     ]
    }
   ],
   "source": [
    "# 날짜와 시간을 한 번에 추출\n",
    "current_datetime = datetime.today()\n",
    "print(f\"날짜와 시간 : {current_datetime}\")"
   ]
  },
  {
   "cell_type": "code",
   "execution_count": 65,
   "metadata": {},
   "outputs": [
    {
     "name": "stdout",
     "output_type": "stream",
     "text": [
      "2021-04-02 12:29:52.367149\n",
      "<class 'datetime.datetime'>\n"
     ]
    }
   ],
   "source": [
    "# 형식화 된 날짜 출력\n",
    "today = datetime.today() #날짜와 시간을 반환\n",
    "print(today)\n",
    "print(type(today))"
   ]
  },
  {
   "cell_type": "code",
   "execution_count": 70,
   "metadata": {},
   "outputs": [
    {
     "name": "stdout",
     "output_type": "stream",
     "text": [
      "21-04-02 12:29:52\n"
     ]
    }
   ],
   "source": [
    "# 날짜를 문자열로 변환하여 서식을 이용\n",
    "# %y %m(month) %M(minute) %H %S : 대소문자 주의\n",
    "d = today.strftime(\"%y-%m-%d %H:%M:%S\") #string format time\n",
    "print(d)\n",
    "print(type(d))"
   ]
  },
  {
   "cell_type": "code",
   "execution_count": 71,
   "metadata": {},
   "outputs": [
    {
     "name": "stdout",
     "output_type": "stream",
     "text": [
      "2021-04-01 12:29:52.367149\n",
      "2021-03-26 12:29:52.367149\n",
      "2021-05-02 12:29:52.367149\n"
     ]
    }
   ],
   "source": [
    "days = timedelta(days = -1) # 하루 전 날(어제)\n",
    "print(today + days)\n",
    "\n",
    "days = timedelta(days = -7) # 7일 전(일주일 전)\n",
    "print(today + days)\n",
    "\n",
    "days = timedelta(days = 30) # 30일 후\n",
    "print(today + days)"
   ]
  },
  {
   "cell_type": "code",
   "execution_count": 73,
   "metadata": {},
   "outputs": [
    {
     "name": "stdout",
     "output_type": "stream",
     "text": [
      "2021-04-02 04:29:52.367149\n",
      "-1 57600\n"
     ]
    }
   ],
   "source": [
    "hours = timedelta(hours = -8) # 8시간 전\n",
    "print(today + hours)\n",
    "print(hours.days, hours.seconds)"
   ]
  },
  {
   "cell_type": "code",
   "execution_count": null,
   "metadata": {},
   "outputs": [],
   "source": []
  }
 ],
 "metadata": {
  "kernelspec": {
   "display_name": "Python 3",
   "language": "python",
   "name": "python3"
  },
  "language_info": {
   "codemirror_mode": {
    "name": "ipython",
    "version": 3
   },
   "file_extension": ".py",
   "mimetype": "text/x-python",
   "name": "python",
   "nbconvert_exporter": "python",
   "pygments_lexer": "ipython3",
   "version": "3.7.3"
  }
 },
 "nbformat": 4,
 "nbformat_minor": 2
}
