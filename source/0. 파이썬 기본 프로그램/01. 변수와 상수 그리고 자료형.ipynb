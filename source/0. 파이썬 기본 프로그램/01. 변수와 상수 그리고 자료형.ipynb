{
 "cells": [
  {
   "cell_type": "markdown",
   "metadata": {},
   "source": [
    "# 1. 변수(Variable)\n",
    "- 기억공간 또는 기억장소\n",
    "- 상수를 담기 위해 사용하는 공간을 의미한다.\n",
    "- 변할 수 있는 수\n",
    "\n",
    "# 2. 상수(Constant)\n",
    "- 값\n",
    "- 기억공간이 변수에 기억되는 값을 의미한다.\n",
    "- 변할 수 없다.\n",
    "\n",
    "# 3.자료형(Data Type)\n",
    "- 변수와 상수의 크기를 규정해놓은 키워드\n",
    "- 일반적으로 변수와 상수의 크기를 일치시킨다.(형의일치)\n",
    "- 동적 타이핑(Dynamic Typing) : 프로그램 실행 시 또는 실행 전에 자동으로 변수의 크기를 규정하는 것"
   ]
  },
  {
   "cell_type": "code",
   "execution_count": 3,
   "metadata": {},
   "outputs": [
    {
     "data": {
      "text/plain": [
       "'\\n이것은 여러 줄의 주석을 표현합니다.\\n여러 줄의 문자열을 표현할 때도 사용합니다.\\n'"
      ]
     },
     "execution_count": 3,
     "metadata": {},
     "output_type": "execute_result"
    }
   ],
   "source": [
    "# python 자료형\n",
    "# Number, String, list, tuple, dictionary 등\n",
    "\"\"\"\n",
    "이것은 여러 줄의 주석을 표현합니다.\n",
    "여러 줄의 문자열을 표현할 때도 사용합니다.\n",
    "\"\"\""
   ]
  },
  {
   "cell_type": "code",
   "execution_count": 2,
   "metadata": {},
   "outputs": [
    {
     "data": {
      "text/plain": [
       "'\\n쌍따옴표나 홑따옴표를 이용해서 문자열을 처리합니다.\\n위에 내용과 동일합니다.\\n'"
      ]
     },
     "execution_count": 2,
     "metadata": {},
     "output_type": "execute_result"
    }
   ],
   "source": [
    "'''\n",
    "쌍따옴표나 홑따옴표를 이용해서 문자열을 처리합니다.\n",
    "위에 내용과 동일합니다.\n",
    "'''"
   ]
  },
  {
   "cell_type": "markdown",
   "metadata": {},
   "source": [
    "### 변수작성규칙\n",
    "- 알파벳, 숫자, 밑줄(_)로 선언할 수 있다.\n",
    "- 첫글자는 영문자(대, 소문자), 밑줄(_)로 시작한다.\n",
    "- 변수명은 이미 용도가 정해진 키워드를 포함할 수 없다.\n",
    "- 길이 제한이 없다.\n",
    "- 영문자의 대소문자가 구분된다. 일반적으로 소문자 사용"
   ]
  },
  {
   "cell_type": "code",
   "execution_count": 4,
   "metadata": {},
   "outputs": [
    {
     "name": "stdout",
     "output_type": "stream",
     "text": [
      "11\n"
     ]
    }
   ],
   "source": [
    "a = 10\n",
    "a += 1 #배정대입연산자 a = a + 1\n",
    "#a++, a-- 증감연산자는 파이썬이 지원하지 않는다.\n",
    "print(a)"
   ]
  },
  {
   "cell_type": "code",
   "execution_count": 5,
   "metadata": {},
   "outputs": [
    {
     "data": {
      "text/plain": [
       "int"
      ]
     },
     "execution_count": 5,
     "metadata": {},
     "output_type": "execute_result"
    }
   ],
   "source": [
    "#자료형을 확인하는 함수 type()\n",
    "type(a)"
   ]
  },
  {
   "cell_type": "code",
   "execution_count": 6,
   "metadata": {},
   "outputs": [
    {
     "name": "stdout",
     "output_type": "stream",
     "text": [
      "python\n"
     ]
    }
   ],
   "source": [
    "a = \"python\"\n",
    "print(a)"
   ]
  },
  {
   "cell_type": "code",
   "execution_count": 7,
   "metadata": {},
   "outputs": [
    {
     "data": {
      "text/plain": [
       "str"
      ]
     },
     "execution_count": 7,
     "metadata": {},
     "output_type": "execute_result"
    }
   ],
   "source": [
    "type(a)"
   ]
  },
  {
   "cell_type": "code",
   "execution_count": 8,
   "metadata": {},
   "outputs": [
    {
     "name": "stdout",
     "output_type": "stream",
     "text": [
      "파이썬\n",
      "<class 'str'>\n"
     ]
    }
   ],
   "source": [
    "a = '파이썬'\n",
    "print(a)\n",
    "print(type(a))"
   ]
  },
  {
   "cell_type": "code",
   "execution_count": 9,
   "metadata": {},
   "outputs": [
    {
     "name": "stdout",
     "output_type": "stream",
     "text": [
      "1 1 1\n"
     ]
    }
   ],
   "source": [
    "# 대입연산자 or 치환연산자 or 할당연산자\n",
    "# packing과 unpacking\n",
    "i = j = k = 1\n",
    "print(i, j, k)"
   ]
  },
  {
   "cell_type": "code",
   "execution_count": 10,
   "metadata": {},
   "outputs": [
    {
     "name": "stdout",
     "output_type": "stream",
     "text": [
      "10 20\n"
     ]
    }
   ],
   "source": [
    "a, b = 10, 20 #Unpacking\n",
    "print(a, b)"
   ]
  },
  {
   "cell_type": "code",
   "execution_count": 11,
   "metadata": {},
   "outputs": [
    {
     "name": "stdout",
     "output_type": "stream",
     "text": [
      "20 10\n"
     ]
    }
   ],
   "source": [
    "a, b = b, a\n",
    "print(a, b)"
   ]
  },
  {
   "cell_type": "code",
   "execution_count": 12,
   "metadata": {},
   "outputs": [
    {
     "name": "stdout",
     "output_type": "stream",
     "text": [
      "1 2 3\n"
     ]
    }
   ],
   "source": [
    "t = [1, 2, 3] \n",
    "x, y, z = t #리스트 길이와 변수 개수 일치해야함\n",
    "print(x, y, z)"
   ]
  },
  {
   "cell_type": "code",
   "execution_count": 13,
   "metadata": {},
   "outputs": [
    {
     "name": "stdout",
     "output_type": "stream",
     "text": [
      "100\n"
     ]
    }
   ],
   "source": [
    "# 변수의 삭제 : del\n",
    "x = 100\n",
    "print(x)\n",
    "\n",
    "del x\n",
    "#print(x) #에러발생"
   ]
  },
  {
   "cell_type": "code",
   "execution_count": 14,
   "metadata": {},
   "outputs": [
    {
     "name": "stdout",
     "output_type": "stream",
     "text": [
      "파이썬은\n",
      "쉽고\n",
      "배우기 좋아요\n"
     ]
    }
   ],
   "source": [
    "# \\n(new line) \\t(tap key)\n",
    "print(\"파이썬은\")\n",
    "print(\"쉽고\")\n",
    "print(\"배우기 좋아요\")"
   ]
  },
  {
   "cell_type": "code",
   "execution_count": 15,
   "metadata": {},
   "outputs": [
    {
     "name": "stdout",
     "output_type": "stream",
     "text": [
      "파이썬은 쉽고 배우기 좋아요\n"
     ]
    }
   ],
   "source": [
    "print(\"파이썬은\",\"쉽고\",\"배우기 좋아요\")"
   ]
  },
  {
   "cell_type": "code",
   "execution_count": 16,
   "metadata": {},
   "outputs": [
    {
     "name": "stdout",
     "output_type": "stream",
     "text": [
      "파이썬은\n",
      "쉽고\n",
      "배우기 좋아요\n"
     ]
    }
   ],
   "source": [
    "print(\"파이썬은\\n쉽고\\n배우기 좋아요\")"
   ]
  },
  {
   "cell_type": "code",
   "execution_count": 17,
   "metadata": {},
   "outputs": [
    {
     "name": "stdout",
     "output_type": "stream",
     "text": [
      "30\n",
      "I likepython\n"
     ]
    }
   ],
   "source": [
    "a = 10\n",
    "b = 20\n",
    "c = \"python\"\n",
    "d = 'I like'\n",
    "print(a + b) #산술 연산자\n",
    "print(d + c) #연결 연산자"
   ]
  },
  {
   "cell_type": "code",
   "execution_count": null,
   "metadata": {},
   "outputs": [],
   "source": []
  }
 ],
 "metadata": {
  "kernelspec": {
   "display_name": "Python 3",
   "language": "python",
   "name": "python3"
  },
  "language_info": {
   "codemirror_mode": {
    "name": "ipython",
    "version": 3
   },
   "file_extension": ".py",
   "mimetype": "text/x-python",
   "name": "python",
   "nbconvert_exporter": "python",
   "pygments_lexer": "ipython3",
   "version": "3.7.3"
  }
 },
 "nbformat": 4,
 "nbformat_minor": 2
}
