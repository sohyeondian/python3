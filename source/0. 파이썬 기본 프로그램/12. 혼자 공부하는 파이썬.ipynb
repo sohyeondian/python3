{
 "cells": [
  {
   "cell_type": "markdown",
   "metadata": {},
   "source": [
    "#### 0. 표현식(v = c)\n",
    "- 생성규칙 : 명명법(변수명, 함수명, 클래스명, 모듈 ...)"
   ]
  },
  {
   "cell_type": "code",
   "execution_count": 1,
   "metadata": {},
   "outputs": [
    {
     "name": "stdout",
     "output_type": "stream",
     "text": [
      "['False', 'None', 'True', 'and', 'as', 'assert', 'async', 'await', 'break', 'class', 'continue', 'def', 'del', 'elif', 'else', 'except', 'finally', 'for', 'from', 'global', 'if', 'import', 'in', 'is', 'lambda', 'nonlocal', 'not', 'or', 'pass', 'raise', 'return', 'try', 'while', 'with', 'yield']\n",
      "35\n"
     ]
    }
   ],
   "source": [
    "import keyword\n",
    "\n",
    "# 모듈명.함수 or 모듈명. 변수\n",
    "print(keyword.kwlist)\n",
    "print(len(keyword.kwlist))"
   ]
  },
  {
   "cell_type": "code",
   "execution_count": 2,
   "metadata": {},
   "outputs": [],
   "source": [
    "# 다중 주석 :  영역지정 후 ctrl + /\n",
    "# print, printf, println == print\n",
    "# end = end of line"
   ]
  },
  {
   "cell_type": "code",
   "execution_count": 8,
   "metadata": {},
   "outputs": [
    {
     "name": "stdout",
     "output_type": "stream",
     "text": [
      "3\n",
      "123456789\n",
      "123456897946123467896453123487534564215978642516\n",
      "<class 'int'>\n"
     ]
    }
   ],
   "source": [
    "# 정수 : 양의 정수, 0, 음의 정수\n",
    "a = 3\n",
    "b = 123456789\n",
    "c = 123456897946123467896453123487534564215978642516\n",
    "print(a)\n",
    "print(b)\n",
    "print(c)\n",
    "print(type(c))"
   ]
  },
  {
   "cell_type": "code",
   "execution_count": 7,
   "metadata": {},
   "outputs": [
    {
     "data": {
      "text/plain": [
       "int"
      ]
     },
     "execution_count": 7,
     "metadata": {},
     "output_type": "execute_result"
    }
   ],
   "source": [
    "# 자료형 확인 : type\n",
    "f = -3\n",
    "type(f)"
   ]
  },
  {
   "cell_type": "code",
   "execution_count": null,
   "metadata": {},
   "outputs": [],
   "source": [
    "# [] 조건식, start:end"
   ]
  },
  {
   "cell_type": "code",
   "execution_count": null,
   "metadata": {},
   "outputs": [],
   "source": [
    "# 배정대입연산자\n",
    "a = 10\n",
    "a = a + 1 # a += 1\n",
    "a = a - 2 # a -= 2\n",
    "a = a * 3 # a *= 3\n",
    "a = a / 5 # a /= 5"
   ]
  },
  {
   "cell_type": "code",
   "execution_count": null,
   "metadata": {},
   "outputs": [],
   "source": [
    "# 계산기 프로그램\n",
    "# 두 개의 정수를 입력받아 사칙연산을 수행한 후 결과를 출력하는\n",
    "# 프로그램을 구현하시오.\n",
    "# 출력형식\n",
    "# 첫번째 수 = \n",
    "# 두번째 수 = \n",
    "\n",
    "first = int(input('첫번째 수 = '))\n",
    "second = int(input('두번째 수 = '))\n",
    "\n",
    "add = first + second\n",
    "sub = first - second\n",
    "mul = first * second\n",
    "div = first / second # // 정수몫, % 나머지, ** 거듭제곱\n"
   ]
  },
  {
   "cell_type": "code",
   "execution_count": 11,
   "metadata": {},
   "outputs": [
    {
     "name": "stdout",
     "output_type": "stream",
     "text": [
      "첫번째 수 = 2\n",
      "연산자 (+, -, *, /) = --\n",
      "두번째 수 = 2\n",
      "올바른 연산자가 아닙니다.\n",
      "프로그램을 종료합니다.\n"
     ]
    }
   ],
   "source": [
    "first = int(input('첫번째 수 = '))\n",
    "opper = input('연산자 (+, -, *, /) = ')\n",
    "second = int(input('두번째 수 = '))\n",
    "\n",
    "result = 0\n",
    "\n",
    "if opper == '+':\n",
    "    result = first + second\n",
    "elif opper == '-':\n",
    "    result = first - second\n",
    "elif opper == '*':\n",
    "    result = first * second\n",
    "elif opper == '/':\n",
    "    result = first / second\n",
    "else:\n",
    "    print('올바른 연산자가 아닙니다.')\n",
    "    print('프로그램을 종료합니다.')\n",
    "\n",
    "if opper in ['+', '-', '*', '/']:\n",
    "    print(f'{first} {opper} {second} = {result}')"
   ]
  },
  {
   "cell_type": "code",
   "execution_count": 29,
   "metadata": {},
   "outputs": [],
   "source": [
    "class Calculator:\n",
    "    # 프로퍼티 or 멤버필드 or 멤버변수\n",
    "    \n",
    "    # 생성자(Constructor) 메서드 : 객체 생성 시 자동 호출\n",
    "    def __init__(self):\n",
    "        self.a = int(input('첫번째 수 = '))\n",
    "        self.opper = input('연산자 (+, -, *, /) = ')\n",
    "        self.b = int(input('두번째 수 = '))\n",
    "        self.compute()\n",
    "        \n",
    "    # 멤버 메서드 or 멤버함수\n",
    "    def compute(self):\n",
    "        if self.opper == '+':\n",
    "            self.adder()\n",
    "        elif self.opper == '-':\n",
    "            self.substr()\n",
    "        elif self.opper == '*':\n",
    "            self.multi()\n",
    "        elif self.opper == '/':\n",
    "            self.divide()\n",
    "        else:\n",
    "            print('올바른 연산자가 아닙니다.')\n",
    "    \n",
    "    def adder(self):\n",
    "        self.result = self.a + self.b\n",
    "    \n",
    "    def substr(self):\n",
    "        self.result = self.a - self.b\n",
    "    \n",
    "    def multi(self):\n",
    "        self.result = self.a * self.b\n",
    "    \n",
    "    def devide(self):\n",
    "        self.result = self.a / self.b\n",
    "    \n",
    "    def disp(self):\n",
    "        if self.opper in ['+','-','*','/']:\n",
    "            print(f'{self.a} {self.opper} {self.b} = {self.result}')\n",
    "        else:\n",
    "            print('연산자 오류로 계산을 하지 않았습니다.')"
   ]
  },
  {
   "cell_type": "code",
   "execution_count": 30,
   "metadata": {},
   "outputs": [
    {
     "name": "stdout",
     "output_type": "stream",
     "text": [
      "첫번째 수 = 10\n",
      "연산자 (+, -, *, /) = ++\n",
      "두번째 수 = 3\n",
      "올바른 연산자가 아닙니다.\n",
      "연산자 오류로 계산을 하지 않았습니다.\n",
      "프로그램을 종료합니다.\n"
     ]
    }
   ],
   "source": [
    "\n",
    "cal = Calculator()\n",
    "cal.disp()\n",
    "\n",
    "print('프로그램을 종료합니다.')\n"
   ]
  },
  {
   "cell_type": "code",
   "execution_count": 31,
   "metadata": {},
   "outputs": [
    {
     "name": "stdout",
     "output_type": "stream",
     "text": [
      "['10', '20', '30', '40', '50', '60']\n"
     ]
    }
   ],
   "source": [
    "a = \"10 20 30 40 50 60\".split(\" \")\n",
    "print(a)"
   ]
  },
  {
   "cell_type": "code",
   "execution_count": 38,
   "metadata": {},
   "outputs": [
    {
     "name": "stdout",
     "output_type": "stream",
     "text": [
      "number 1 : 10\n",
      "number 2 : 10\n",
      "큰 수 : 10\n",
      "두 숫자의 값이 같습니다.\n"
     ]
    }
   ],
   "source": [
    "def large(a, b):\n",
    "    if a > b:\n",
    "        return a\n",
    "    elif a < b:\n",
    "        return b\n",
    "    else:\n",
    "        return str(a) + '\\n두 숫자의 값이 같습니다.'\n",
    "\n",
    "# 두 개의 정수를 입력받아 큰 수를 출력하는 프로그램을 구현하시오\n",
    "\n",
    "num1 = int(input('number 1 : '))\n",
    "num2 = int(input('number 2 : '))\n",
    "\n",
    "\n",
    "print('큰 수 : {}'.format(large(num1, num2)))"
   ]
  },
  {
   "cell_type": "code",
   "execution_count": 40,
   "metadata": {},
   "outputs": [
    {
     "name": "stdout",
     "output_type": "stream",
     "text": [
      "숫자 1 :10\n",
      "숫자 2 :20\n",
      "숫자 3 :30\n",
      "가장 큰 수 : 30\n"
     ]
    }
   ],
   "source": [
    "# 세 개의 수를 입력받아 큰 수를 출력하는 프로그램을 구현하시오.\n",
    "numbers = []\n",
    "for i in range(3):\n",
    "    number = int(input(f'숫자 {i + 1} :'))\n",
    "    numbers.append(number)\n",
    "    \n",
    "maxi = numbers[0]\n",
    "\n",
    "for i in range(1, 3):\n",
    "    if maxi < numbers[i]:\n",
    "        maxi = numbers[i]\n",
    "\n",
    "\n",
    "print(f'가장 큰 수 : {maxi}')"
   ]
  },
  {
   "cell_type": "code",
   "execution_count": 51,
   "metadata": {},
   "outputs": [
    {
     "name": "stdout",
     "output_type": "stream",
     "text": [
      "국어점수 입력 : 80\n",
      "영어점수 입력 : 95\n",
      "수학점수 입력 : 70\n",
      "국어 점수 : 80\t영어 점수 : 95\t수학 점수 : 70\t총점 : 245\n",
      "평균 : 81.67\n"
     ]
    }
   ],
   "source": [
    "# 성적 프로그램 1단계\n",
    "# 국어, 영어, 수학 점수를 입력받아 총점과 평균을 계산한 후 출력\n",
    "subjects = {'국어':0, '영어':0, '수학':0}\n",
    "total = 0\n",
    "for sub in subjects.keys():\n",
    "    score = input(f'{sub}점수 입력 : ')\n",
    "    subjects[sub] = int(score)\n",
    "    total += subjects[sub]\n",
    "\n",
    "for sub, score in subjects.items():\n",
    "    print(f'{sub}점수 : {score}', end = '\\t')\n",
    "    \n",
    "print('총점 :', total)\n",
    "\n",
    "avg = total / len(subjects)\n",
    "\n",
    "print(f'평균 : {avg:.2f}')\n"
   ]
  },
  {
   "cell_type": "code",
   "execution_count": 52,
   "metadata": {},
   "outputs": [
    {
     "name": "stdout",
     "output_type": "stream",
     "text": [
      "학점 : B\n"
     ]
    }
   ],
   "source": [
    "# 성적 프로그램 2단계\n",
    "# 평균을 이용하여 학점을 계산하여 출력하는 프로그램을 구현하시오\n",
    "# 학점은 A, B, C, D, F\n",
    "# 평균이 90점 이상이면 A, 80이상 B, 70이상 C, 60이상 D, 그 외 F\n",
    "\n",
    "def gpa(score):\n",
    "    if score >= 90:\n",
    "        return 'A'\n",
    "    elif score >= 80:\n",
    "        return 'B'\n",
    "    elif score >= 70:\n",
    "        return 'C'\n",
    "    elif score >= 60:\n",
    "        return 'D'\n",
    "    else:\n",
    "        return 'F'\n",
    "    \n",
    "print('학점 :', gpa(avg))"
   ]
  },
  {
   "cell_type": "code",
   "execution_count": 57,
   "metadata": {},
   "outputs": [
    {
     "name": "stdout",
     "output_type": "stream",
     "text": [
      "1 2 3 4 5 6 7 8 9 10 \n",
      "1 2 3 4 5 6 7 8 9 10 "
     ]
    }
   ],
   "source": [
    "# 1부터 10까지의 자연수를 출력하는 프로그램\n",
    "for i in range(1, 11):\n",
    "    print(i, end = \" \")\n",
    "print()\n",
    "\n",
    "\n",
    "i = 1\n",
    "while i < 11:\n",
    "    print(i, end = \" \")\n",
    "    i += 1"
   ]
  },
  {
   "cell_type": "code",
   "execution_count": 59,
   "metadata": {},
   "outputs": [
    {
     "name": "stdout",
     "output_type": "stream",
     "text": [
      "1 2 3 4 5 6 7 8 9 10 "
     ]
    }
   ],
   "source": [
    "i = 1\n",
    "\n",
    "while True:\n",
    "    print(i, end = ' ')\n",
    "    i += 1\n",
    "    if i > 10:\n",
    "        break"
   ]
  },
  {
   "cell_type": "code",
   "execution_count": 62,
   "metadata": {},
   "outputs": [
    {
     "name": "stdout",
     "output_type": "stream",
     "text": [
      "비밀번호를 입력하세요 : 23\n",
      "비밀번호가 일치하지 않습니다.\n",
      " 다시 입력하세요.\n",
      "비밀번호를 입력하세요 : 5786\n",
      "비밀번호가 일치하지 않습니다.\n",
      " 다시 입력하세요.\n",
      "비밀번호를 입력하세요 : python\n",
      "비밀번호가 일치합니다.\n"
     ]
    }
   ],
   "source": [
    "# 비밀번호가 일치하면 프로그램을 종료하도록 구현하시오\n",
    "\n",
    "pswd = \"python\"\n",
    "\n",
    "while True:\n",
    "    tmp = input('비밀번호를 입력하세요 : ')\n",
    "    if tmp.lower() == pswd: # lower() : 문자를 소문자로 변환\n",
    "        print('비밀번호가 일치합니다.')\n",
    "        print('프로그램을 종료합니다.')\n",
    "        break\n",
    "    print('비밀번호가 일치하지 않습니다.\\n다시 입력하세요.')"
   ]
  },
  {
   "cell_type": "code",
   "execution_count": null,
   "metadata": {},
   "outputs": [],
   "source": [
    "# 리스트의 요소로 튜플을 가지고 있을 때\n",
    "a = [(1, 2), (3, 4), (5, 6)]\n",
    "b = (1, 2, 3, 4, 5)\n",
    "\n",
    "for i in b:\n",
    "    print(i)\n",
    "\n",
    "for x, y in a:\n",
    "    print(a, b)"
   ]
  },
  {
   "cell_type": "code",
   "execution_count": 63,
   "metadata": {},
   "outputs": [
    {
     "name": "stdout",
     "output_type": "stream",
     "text": [
      "첫번째 수 = 5\n",
      "두번째 수 = 1\n",
      "사이 합 = 15\n"
     ]
    }
   ],
   "source": [
    "# 두 개의 정수를 입력받아 두 수 사이의 자연수 합을 누적해서 출력\n",
    "# 첫번째 수 = 1\n",
    "# 두번째 수 = 5\n",
    "# 사이합 = 15\n",
    "\n",
    "def total(a, b):\n",
    "    total = 0\n",
    "    for i in range(a, b + 1):\n",
    "        total += i\n",
    "    return total\n",
    "\n",
    "\n",
    "num1 = int(input('첫번째 수 = '))\n",
    "num2 = int(input('두번째 수 = '))\n",
    "\n",
    "\n",
    "if num1 > num2:\n",
    "    result = total(num2, num1)\n",
    "else:\n",
    "    result = total(num1, num2)\n",
    "    \n",
    "print('사이 합 =', result)"
   ]
  },
  {
   "cell_type": "code",
   "execution_count": 65,
   "metadata": {},
   "outputs": [
    {
     "name": "stdout",
     "output_type": "stream",
     "text": [
      "[3, 6, 9, 12, 15]\n"
     ]
    }
   ],
   "source": [
    "# 리스트 내포(List comporehension) : 리스트 내에 for문을 포함\n",
    "a = [1, 2, 3, 4, 5]\n",
    "\n",
    "result = [i * 3 for i in a]\n",
    "\n",
    "print(result)"
   ]
  },
  {
   "cell_type": "code",
   "execution_count": 66,
   "metadata": {},
   "outputs": [
    {
     "name": "stdout",
     "output_type": "stream",
     "text": [
      "[6, 12]\n"
     ]
    }
   ],
   "source": [
    "# 리스트 요소 중 짝수값만 3을 곱하여 리스트에 담아서 출력\n",
    "a = [1, 2, 3, 4, 5]\n",
    "\n",
    "result = [i * 3 for i in a if i % 2 == 0]\n",
    "\n",
    "print(result)"
   ]
  },
  {
   "cell_type": "code",
   "execution_count": 67,
   "metadata": {},
   "outputs": [],
   "source": [
    "result = [dan * num for dan in range(2, 10) for num in range(1, 10)]"
   ]
  },
  {
   "cell_type": "code",
   "execution_count": 68,
   "metadata": {},
   "outputs": [
    {
     "name": "stdout",
     "output_type": "stream",
     "text": [
      "[2, 4, 6, 8, 10, 12, 14, 16, 18, 3, 6, 9, 12, 15, 18, 21, 24, 27, 4, 8, 12, 16, 20, 24, 28, 32, 36, 5, 10, 15, 20, 25, 30, 35, 40, 45, 6, 12, 18, 24, 30, 36, 42, 48, 54, 7, 14, 21, 28, 35, 42, 49, 56, 63, 8, 16, 24, 32, 40, 48, 56, 64, 72, 9, 18, 27, 36, 45, 54, 63, 72, 81]\n"
     ]
    }
   ],
   "source": [
    "print(result)"
   ]
  },
  {
   "cell_type": "code",
   "execution_count": 69,
   "metadata": {},
   "outputs": [
    {
     "name": "stdout",
     "output_type": "stream",
     "text": [
      "[3, 5, 7, 9, 11, 13, 15, 17, 19, 4, 7, 10, 13, 16, 19, 22, 25, 28, 5, 9, 13, 17, 21, 25, 29, 33, 37, 6, 11, 16, 21, 26, 31, 36, 41, 46, 7, 13, 19, 25, 31, 37, 43, 49, 55, 8, 15, 22, 29, 36, 43, 50, 57, 64, 9, 17, 25, 33, 41, 49, 57, 65, 73, 10, 19, 28, 37, 46, 55, 64, 73, 82]\n"
     ]
    }
   ],
   "source": [
    "result = [i + 1 for i in result]\n",
    "print(result)"
   ]
  },
  {
   "cell_type": "code",
   "execution_count": 72,
   "metadata": {},
   "outputs": [
    {
     "name": "stdout",
     "output_type": "stream",
     "text": [
      "b\n"
     ]
    }
   ],
   "source": [
    "a = [1, 2, 3, 4, 5, ['a', 'b', 'c']]\n",
    "b = []\n",
    "\n",
    "# indexing : 요소 위치 값을 이용해서 특정 요소를 검색\n",
    "print(a[5][1])"
   ]
  },
  {
   "cell_type": "code",
   "execution_count": 79,
   "metadata": {},
   "outputs": [
    {
     "name": "stdout",
     "output_type": "stream",
     "text": [
      "{'name': '장보고', 'age': 33, 'hobby': '잠'}\n",
      "dict_keys(['name', 'age', 'hobby'])\n",
      "dict_values(['장보고', 33, '잠'])\n",
      "dict_items([('name', '장보고'), ('age', 33), ('hobby', '잠')])\n",
      "name 장보고\n",
      "age 33\n",
      "hobby 잠\n",
      "name 장보고\n",
      "age 33\n",
      "hobby 잠\n"
     ]
    }
   ],
   "source": [
    "people = {'name':'장보고'}\n",
    "\n",
    "people['age'] = 33\n",
    "people['hobby'] = '잠'\n",
    "\n",
    "print(people)\n",
    "print(people.keys())\n",
    "print(people.values())\n",
    "print(people.items())\n",
    "\n",
    "for key, value in people.items():\n",
    "    print(key, value)\n",
    "    \n",
    "for key in people:\n",
    "    print(key, people[key]) # people.get(key) -> value"
   ]
  },
  {
   "cell_type": "code",
   "execution_count": 80,
   "metadata": {},
   "outputs": [
    {
     "name": "stdout",
     "output_type": "stream",
     "text": [
      "{'name': '장보고', 'age': 33}\n"
     ]
    }
   ],
   "source": [
    "del people['hobby']\n",
    "print(people)"
   ]
  },
  {
   "cell_type": "code",
   "execution_count": 25,
   "metadata": {},
   "outputs": [],
   "source": [
    "# 성적 처리 프로그램 3단계\n",
    "# 3명의 국어, 영어, 수학점수를 입력받아 총점과 평균을 출력\n",
    "# 평균은 소숫점 이하 둘째짜리까지 추출\n",
    "\n",
    "class Person:\n",
    "    def __init__(self, num):\n",
    "        self.num = num\n",
    "        self.scores = {'국어' : 0, '영어' : 0, '수학' : 0}\n",
    "        for sub in self.scores:\n",
    "            score = input(f'{sub}점수 입력: ')\n",
    "            self.scores[sub] = int(score)\n",
    "    \n",
    "    def total(self):\n",
    "        self.result = 0\n",
    "        for score in self.scores.values():\n",
    "            self.result += score\n",
    "        return self.result\n",
    "    \n",
    "    def avg(self):\n",
    "        return self.result / len(self.scores)\n",
    "    \n",
    "    def disp(self):\n",
    "        print(self.num,'번')\n",
    "        for sub, score in self.scores.items():\n",
    "            print(f'{sub}점수 : {score}', end = \"\\t\")\n",
    "        print(f'\\n총점 : {self.total()}, 평균 : {self.avg():.2f}')"
   ]
  },
  {
   "cell_type": "code",
   "execution_count": 27,
   "metadata": {},
   "outputs": [
    {
     "name": "stdout",
     "output_type": "stream",
     "text": [
      "1 번째 사람\n",
      "국어점수 입력: 50\n",
      "영어점수 입력: 55\n",
      "수학점수 입력: 60\n",
      "2 번째 사람\n",
      "국어점수 입력: 20\n",
      "영어점수 입력: 90\n",
      "수학점수 입력: 60\n",
      "3 번째 사람\n",
      "국어점수 입력: 40\n",
      "영어점수 입력: 30\n",
      "수학점수 입력: 75\n",
      "1 번\n",
      "국어점수 : 50\t영어점수 : 55\t수학점수 : 60\t\n",
      "총점 : 165, 평균 : 55.00\n",
      "2 번\n",
      "국어점수 : 20\t영어점수 : 90\t수학점수 : 60\t\n",
      "총점 : 170, 평균 : 56.67\n",
      "3 번\n",
      "국어점수 : 40\t영어점수 : 30\t수학점수 : 75\t\n",
      "총점 : 145, 평균 : 48.33\n"
     ]
    }
   ],
   "source": [
    "people = []\n",
    "for i in range(3):\n",
    "    print(i + 1, '번째 사람')\n",
    "    people.append(Person(i + 1))\n",
    "\n",
    "\n",
    "for person in people:\n",
    "    person.disp()"
   ]
  },
  {
   "cell_type": "code",
   "execution_count": null,
   "metadata": {},
   "outputs": [],
   "source": []
  }
 ],
 "metadata": {
  "kernelspec": {
   "display_name": "Python 3",
   "language": "python",
   "name": "python3"
  },
  "language_info": {
   "codemirror_mode": {
    "name": "ipython",
    "version": 3
   },
   "file_extension": ".py",
   "mimetype": "text/x-python",
   "name": "python",
   "nbconvert_exporter": "python",
   "pygments_lexer": "ipython3",
   "version": "3.7.3"
  }
 },
 "nbformat": 4,
 "nbformat_minor": 2
}
