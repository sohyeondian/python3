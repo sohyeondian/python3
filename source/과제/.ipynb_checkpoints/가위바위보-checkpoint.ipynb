{
 "cells": [
  {
   "cell_type": "markdown",
   "metadata": {},
   "source": [
    "### 가위바위보\n",
    "- 가위 : 0\n",
    "- 바위 : 1\n",
    "- 보 : 2"
   ]
  },
  {
   "cell_type": "code",
   "execution_count": 1,
   "metadata": {},
   "outputs": [
    {
     "name": "stdout",
     "output_type": "stream",
     "text": [
      "입력(가위/바위/보) : 가위\n",
      "상대 - 가위 : draw\n",
      "입력(가위/바위/보) : 바위\n",
      "상대 - 가위 : win\n",
      "입력(가위/바위/보) : 보\n",
      "상대 - 보 : draw\n",
      "입력(가위/바위/보) : 바위\n",
      "상대 - 바위 : draw\n",
      "입력(가위/바위/보) : 가위\n",
      "상대 - 보 : win\n"
     ]
    }
   ],
   "source": [
    "import random\n",
    "\n",
    "def rsp(user, com):\n",
    "    if user == com:\n",
    "        return 'draw'\n",
    "    if (user == 2 and com == 0):\n",
    "        return 'lose'\n",
    "    if (user == 0 and com == 2):\n",
    "        return 'win'\n",
    "    if user > com:\n",
    "        return 'win'\n",
    "    return 'lose'\n",
    "\n",
    "\n",
    "rsp_dic = {'가위': 0, '바위': 1, '보': 2}\n",
    "rev_rsp_dic = {v: k for k, v in rsp_dic.items()}\n",
    "\n",
    "for _ in range(5):\n",
    "    user = input('입력(가위/바위/보) : ')\n",
    "    if user in rsp_dic.keys():\n",
    "        com = random.randint(0, 2)\n",
    "        result = rsp(rsp_dic[user], com)\n",
    "        print('상대 -', rev_rsp_dic[com], ':', result)\n",
    "    else:\n",
    "        print('잘못입력하셨습니다.')"
   ]
  }
 ],
 "metadata": {
  "kernelspec": {
   "display_name": "Python 3",
   "language": "python",
   "name": "python3"
  },
  "language_info": {
   "codemirror_mode": {
    "name": "ipython",
    "version": 3
   },
   "file_extension": ".py",
   "mimetype": "text/x-python",
   "name": "python",
   "nbconvert_exporter": "python",
   "pygments_lexer": "ipython3",
   "version": "3.7.3"
  }
 },
 "nbformat": 4,
 "nbformat_minor": 2
}
