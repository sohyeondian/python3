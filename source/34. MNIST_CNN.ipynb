{
 "cells": [
  {
   "cell_type": "code",
   "execution_count": 1,
   "metadata": {},
   "outputs": [],
   "source": [
    "from tensorflow import keras\n",
    "from sklearn.model_selection import train_test_split\n",
    "\n",
    "(train_input, train_target), (test_input, test_target) = keras.datasets.mnist.load_data()\n",
    "\n",
    "# 데이터 전처리\n",
    "train_scaled = train_input / 255.0\n",
    "train_scaled = train_scaled.reshape(-1, 28, 28, 1) / 255.0\n",
    "\n",
    "# 검증세트로 분리\n",
    "train_scaled, val_scaled, train_target, val_target = train_test_split(\n",
    "    train_scaled, train_target, test_size=0.2, random_state=42)"
   ]
  },
  {
   "cell_type": "code",
   "execution_count": 2,
   "metadata": {},
   "outputs": [],
   "source": [
    "# 모델 생성\n",
    "model = keras.Sequential()\n",
    "\n",
    "model.add(keras.layers.Conv2D(32, kernel_size=3,\n",
    "                              activation='relu', padding='same', \n",
    "                              input_shape=(28, 28, 1)))\n",
    "model.add(keras.layers.MaxPool2D(2))\n",
    "model.add(keras.layers.Conv2D(64, kernel_size=(3, 3),\n",
    "                              activation='relu', padding='same'))\n",
    "model.add(keras.layers.MaxPool2D(2))\n",
    "\n",
    "model.add(keras.layers.Flatten())\n",
    "model.add(keras.layers.Dense(100, activation='relu'))\n",
    "model.add(keras.layers.Dropout(.04))\n",
    "model.add(keras.layers.Dense(10, activation='softmax'))"
   ]
  },
  {
   "cell_type": "code",
   "execution_count": 3,
   "metadata": {
    "scrolled": true
   },
   "outputs": [
    {
     "name": "stdout",
     "output_type": "stream",
     "text": [
      "Train on 48000 samples\n",
      "Epoch 1/10\n",
      "48000/48000 [==============================] - 28s 579us/sample - loss: 2.3016 - accuracy: 0.1127\n",
      "Epoch 2/10\n",
      "48000/48000 [==============================] - 27s 559us/sample - loss: 2.3014 - accuracy: 0.1129\n",
      "Epoch 3/10\n",
      "48000/48000 [==============================] - 27s 555us/sample - loss: 2.3013 - accuracy: 0.1129\n",
      "Epoch 4/10\n",
      "48000/48000 [==============================] - 27s 556us/sample - loss: 2.3013 - accuracy: 0.1129\n",
      "Epoch 5/10\n",
      "48000/48000 [==============================] - 27s 560us/sample - loss: 2.3013 - accuracy: 0.1129\n",
      "Epoch 6/10\n",
      "48000/48000 [==============================] - 27s 562us/sample - loss: 2.3013 - accuracy: 0.1129\n",
      "Epoch 7/10\n",
      "48000/48000 [==============================] - 27s 563us/sample - loss: 2.3013 - accuracy: 0.1129\n",
      "Epoch 8/10\n",
      "48000/48000 [==============================] - 27s 561us/sample - loss: 2.3013 - accuracy: 0.1129\n",
      "Epoch 9/10\n",
      "48000/48000 [==============================] - 27s 563us/sample - loss: 2.3013 - accuracy: 0.1129\n",
      "Epoch 10/10\n",
      "48000/48000 [==============================] - 27s 567us/sample - loss: 2.3013 - accuracy: 0.1129\n"
     ]
    },
    {
     "data": {
      "text/plain": [
       "<tensorflow.python.keras.callbacks.History at 0x19ddef89f98>"
      ]
     },
     "execution_count": 3,
     "metadata": {},
     "output_type": "execute_result"
    }
   ],
   "source": [
    "model.compile(optimizer='adam', loss='sparse_categorical_crossentropy', \n",
    "              metrics=['accuracy'])\n",
    "model.fit(train_scaled, train_target, epochs=10)"
   ]
  },
  {
   "cell_type": "code",
   "execution_count": 26,
   "metadata": {},
   "outputs": [
    {
     "data": {
      "text/plain": [
       "<matplotlib.image.AxesImage at 0x19de16a7fd0>"
      ]
     },
     "execution_count": 26,
     "metadata": {},
     "output_type": "execute_result"
    },
    {
     "data": {
      "image/png": "[encoded data removed]",
      "text/plain": [
       "<Figure size 432x288 with 1 Axes>"
      ]
     },
     "metadata": {
      "needs_background": "light"
     },
     "output_type": "display_data"
    }
   ],
   "source": [
    "from PIL import Image\n",
    "import matplotlib.pyplot as plt\n",
    "%matplotlib inline\n",
    "\n",
    "img = Image.open(\"../data/two.png\")\n",
    "plt.imshow(img, cmap='gray_r')"
   ]
  },
  {
   "cell_type": "code",
   "execution_count": 13,
   "metadata": {},
   "outputs": [
    {
     "data": {
      "text/plain": [
       "(28, 28)"
      ]
     },
     "execution_count": 13,
     "metadata": {},
     "output_type": "execute_result"
    }
   ],
   "source": [
    "img.size"
   ]
  },
  {
   "cell_type": "code",
   "execution_count": 35,
   "metadata": {},
   "outputs": [
    {
     "data": {
      "text/plain": [
       "(1, 28, 28, 1)"
      ]
     },
     "execution_count": 35,
     "metadata": {},
     "output_type": "execute_result"
    }
   ],
   "source": [
    "import numpy as np\n",
    "img = np.resize(img, (28, 28))\n",
    "test_img = ((np.array(img) / 255.0) -1) * -1\n",
    "test_img = test_img.reshape(1, 28, 28, 1)\n",
    "test_img.shape"
   ]
  },
  {
   "cell_type": "code",
   "execution_count": 36,
   "metadata": {},
   "outputs": [
    {
     "data": {
      "text/plain": [
       "array([[0.08601665, 0.11503415, 0.1008739 , 0.11915256, 0.09166544,\n",
       "        0.07627501, 0.10602804, 0.12128069, 0.09181104, 0.09186252]],\n",
       "      dtype=float32)"
      ]
     },
     "execution_count": 36,
     "metadata": {},
     "output_type": "execute_result"
    }
   ],
   "source": [
    "#test_data = (np.array(test_img) / 255.0)\n",
    "pred = model.predict(test_img)\n",
    "pred"
   ]
  },
  {
   "cell_type": "code",
   "execution_count": 37,
   "metadata": {},
   "outputs": [
    {
     "data": {
      "text/plain": [
       "7"
      ]
     },
     "execution_count": 37,
     "metadata": {},
     "output_type": "execute_result"
    }
   ],
   "source": [
    "list(pred[0]).index(max(pred[0]))"
   ]
  },
  {
   "cell_type": "code",
   "execution_count": null,
   "metadata": {},
   "outputs": [],
   "source": []
  }
 ],
 "metadata": {
  "kernelspec": {
   "display_name": "Python 3",
   "language": "python",
   "name": "python3"
  },
  "language_info": {
   "codemirror_mode": {
    "name": "ipython",
    "version": 3
   },
   "file_extension": ".py",
   "mimetype": "text/x-python",
   "name": "python",
   "nbconvert_exporter": "python",
   "pygments_lexer": "ipython3",
   "version": "3.7.3"
  }
 },
 "nbformat": 4,
 "nbformat_minor": 2
}
