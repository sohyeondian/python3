{
 "cells": [
  {
   "cell_type": "code",
   "execution_count": 1,
   "metadata": {},
   "outputs": [],
   "source": [
    "import numpy as np\n",
    "import matplotlib.pyplot as plt\n",
    "%matplotlib inline"
   ]
  },
  {
   "cell_type": "code",
   "execution_count": 2,
   "metadata": {},
   "outputs": [],
   "source": [
    "# 데이터 준비\n",
    "# 농어의 길이와 무게 \n",
    "# 농어의 길이는 특성, 무게는 타겟 \n",
    "perch_length = np.array( [8.4, 13.7, 15.0, 16.2, 17.4, \n",
    "                          18.0, 18.7, 19.0, 19.6, 20.0, \n",
    "                          21.0, 21.0, 21.0, 21.3, 22.0, \n",
    "                          22.0, 22.0, 22.0, 22.0, 22.5, \n",
    "                          22.5, 22.7, 23.0, 23.5, 24.0, \n",
    "                          24.0, 24.6, 25.0, 25.6, 26.5, \n",
    "                          27.3, 27.5, 27.5, 27.5, 28.0, \n",
    "                          28.7, 30.0, 32.8, 34.5, 35.0, \n",
    "                          36.5, 36.0, 37.0, 37.0, 39.0, \n",
    "                          39.0, 39.0, 40.0, 40.0, 40.0, \n",
    "                          40.0, 42.0, 43.0, 43.0, 43.5, 44.0] )\n",
    "perch_weight = np.array( [5.9, 32.0, 40.0, 51.5, 70.0, \n",
    "                          100.0, 78.0, 80.0, 85.0, 85.0, \n",
    "                          110.0, 115.0, 125.0, 130.0, 120.0, \n",
    "                          120.0, 130.0, 135.0, 110.0, 130.0,\n",
    "                          150.0, 145.0, 150.0, 170.0, 225.0,\n",
    "                          145.0, 188.0, 180.0, 197.0, 218.0, \n",
    "                          300.0, 260.0, 265.0, 250.0, 250.0, \n",
    "                          300.0, 320.0, 514.0, 556.0, 840.0, \n",
    "                          685.0, 700.0, 700.0, 690.0, 900.0,\n",
    "                          650.0, 820.0, 850.0, 900.0, 1015.0,\n",
    "                          820.0, 1100.0, 1000.0, 1100.0, 1000.0, \n",
    "                          1000.0] )\n",
    "\n"
   ]
  },
  {
   "cell_type": "code",
   "execution_count": 3,
   "metadata": {},
   "outputs": [
    {
     "data": {
      "image/png": "[encoded data removed]",
      "text/plain": [
       "<Figure size 432x288 with 1 Axes>"
      ]
     },
     "metadata": {
      "needs_background": "light"
     },
     "output_type": "display_data"
    }
   ],
   "source": [
    "plt.scatter(perch_length, perch_weight)\n",
    "plt.xlabel('length')\n",
    "plt.ylabel('weight')\n",
    "plt.show()"
   ]
  },
  {
   "cell_type": "code",
   "execution_count": null,
   "metadata": {},
   "outputs": [],
   "source": [
    "from sklearn.model_selection import train_test_split\n",
    "\n",
    "train_input, test_input, train_target, test_target=train_test_split(perch_length, \n",
    "                                                                    perch_weight, random_state=42)\n"
   ]
  }
 ],
 "metadata": {
  "kernelspec": {
   "display_name": "Python 3",
   "language": "python",
   "name": "python3"
  },
  "language_info": {
   "codemirror_mode": {
    "name": "ipython",
    "version": 3
   },
   "file_extension": ".py",
   "mimetype": "text/x-python",
   "name": "python",
   "nbconvert_exporter": "python",
   "pygments_lexer": "ipython3",
   "version": "3.7.3"
  }
 },
 "nbformat": 4,
 "nbformat_minor": 2
}
